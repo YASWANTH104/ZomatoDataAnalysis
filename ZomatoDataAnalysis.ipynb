{
  "nbformat": 4,
  "nbformat_minor": 0,
  "metadata": {
    "colab": {
      "provenance": [],
      "authorship_tag": "ABX9TyO4czEZKFcx2GKOMR/gdRFC",
      "include_colab_link": true
    },
    "kernelspec": {
      "name": "python3",
      "display_name": "Python 3"
    },
    "language_info": {
      "name": "python"
    }
  },
  "cells": [
    {
      "cell_type": "markdown",
      "metadata": {
        "id": "view-in-github",
        "colab_type": "text"
      },
      "source": [
        "<a href=\"https://colab.research.google.com/github/YASWANTH104/ZomatoDataAnalysis/blob/main/ZomatoDataAnalysis.ipynb\" target=\"_parent\"><img src=\"https://colab.research.google.com/assets/colab-badge.svg\" alt=\"Open In Colab\"/></a>"
      ]
    },
    {
      "cell_type": "code",
      "execution_count": null,
      "metadata": {
        "id": "ddzJter6U-uK"
      },
      "outputs": [],
      "source": [
        "import numpy as np\n",
        "import pandas as pd\n",
        "import gdown"
      ]
    },
    {
      "cell_type": "code",
      "source": [
        "#read data\n",
        "gdown.download('https://drive.google.com/uc?id=14Eb7OJVX5bYdosmZJssm7K8GL3dyJrwR', 'zomato.csv', quiet=False)\n",
        "data = pd.read_csv('zomato.csv')\n",
        "data.head()"
      ],
      "metadata": {
        "colab": {
          "base_uri": "https://localhost:8080/",
          "height": 663
        },
        "id": "FJuBYuaMVdzj",
        "outputId": "c2be7f42-6b04-4a2a-8806-d0592941326d"
      },
      "execution_count": null,
      "outputs": [
        {
          "output_type": "stream",
          "name": "stderr",
          "text": [
            "Downloading...\n",
            "From (original): https://drive.google.com/uc?id=14Eb7OJVX5bYdosmZJssm7K8GL3dyJrwR\n",
            "From (redirected): https://drive.google.com/uc?id=14Eb7OJVX5bYdosmZJssm7K8GL3dyJrwR&confirm=t&uuid=d0e678aa-58ce-4a95-8ff7-8f4211ef499d\n",
            "To: /content/zomato.csv\n",
            "100%|██████████| 574M/574M [00:05<00:00, 97.6MB/s]\n"
          ]
        },
        {
          "output_type": "execute_result",
          "data": {
            "text/plain": [
              "                                                 url  \\\n",
              "0  https://www.zomato.com/bangalore/jalsa-banasha...   \n",
              "1  https://www.zomato.com/bangalore/spice-elephan...   \n",
              "2  https://www.zomato.com/SanchurroBangalore?cont...   \n",
              "3  https://www.zomato.com/bangalore/addhuri-udupi...   \n",
              "4  https://www.zomato.com/bangalore/grand-village...   \n",
              "\n",
              "                                             address                   name  \\\n",
              "0  942, 21st Main Road, 2nd Stage, Banashankari, ...                  Jalsa   \n",
              "1  2nd Floor, 80 Feet Road, Near Big Bazaar, 6th ...         Spice Elephant   \n",
              "2  1112, Next to KIMS Medical College, 17th Cross...        San Churro Cafe   \n",
              "3  1st Floor, Annakuteera, 3rd Stage, Banashankar...  Addhuri Udupi Bhojana   \n",
              "4  10, 3rd Floor, Lakshmi Associates, Gandhi Baza...          Grand Village   \n",
              "\n",
              "  online_order book_table   rate  votes                             phone  \\\n",
              "0          Yes        Yes  4.1/5    775    080 42297555\\r\\n+91 9743772233   \n",
              "1          Yes         No  4.1/5    787                      080 41714161   \n",
              "2          Yes         No  3.8/5    918                    +91 9663487993   \n",
              "3           No         No  3.7/5     88                    +91 9620009302   \n",
              "4           No         No  3.8/5    166  +91 8026612447\\r\\n+91 9901210005   \n",
              "\n",
              "       location            rest_type  \\\n",
              "0  Banashankari        Casual Dining   \n",
              "1  Banashankari        Casual Dining   \n",
              "2  Banashankari  Cafe, Casual Dining   \n",
              "3  Banashankari          Quick Bites   \n",
              "4  Basavanagudi        Casual Dining   \n",
              "\n",
              "                                          dish_liked  \\\n",
              "0  Pasta, Lunch Buffet, Masala Papad, Paneer Laja...   \n",
              "1  Momos, Lunch Buffet, Chocolate Nirvana, Thai G...   \n",
              "2  Churros, Cannelloni, Minestrone Soup, Hot Choc...   \n",
              "3                                        Masala Dosa   \n",
              "4                                Panipuri, Gol Gappe   \n",
              "\n",
              "                         cuisines approx_cost(for two people)  \\\n",
              "0  North Indian, Mughlai, Chinese                         800   \n",
              "1     Chinese, North Indian, Thai                         800   \n",
              "2          Cafe, Mexican, Italian                         800   \n",
              "3      South Indian, North Indian                         300   \n",
              "4        North Indian, Rajasthani                         600   \n",
              "\n",
              "                                        reviews_list menu_item  \\\n",
              "0  [('Rated 4.0', 'RATED\\n  A beautiful place to ...        []   \n",
              "1  [('Rated 4.0', 'RATED\\n  Had been here for din...        []   \n",
              "2  [('Rated 3.0', \"RATED\\n  Ambience is not that ...        []   \n",
              "3  [('Rated 4.0', \"RATED\\n  Great food and proper...        []   \n",
              "4  [('Rated 4.0', 'RATED\\n  Very good restaurant ...        []   \n",
              "\n",
              "  listed_in(type) listed_in(city)  \n",
              "0          Buffet    Banashankari  \n",
              "1          Buffet    Banashankari  \n",
              "2          Buffet    Banashankari  \n",
              "3          Buffet    Banashankari  \n",
              "4          Buffet    Banashankari  "
            ],
            "text/html": [
              "\n",
              "  <div id=\"df-b91ffb22-f801-4367-8a4b-555379bc5ea1\" class=\"colab-df-container\">\n",
              "    <div>\n",
              "<style scoped>\n",
              "    .dataframe tbody tr th:only-of-type {\n",
              "        vertical-align: middle;\n",
              "    }\n",
              "\n",
              "    .dataframe tbody tr th {\n",
              "        vertical-align: top;\n",
              "    }\n",
              "\n",
              "    .dataframe thead th {\n",
              "        text-align: right;\n",
              "    }\n",
              "</style>\n",
              "<table border=\"1\" class=\"dataframe\">\n",
              "  <thead>\n",
              "    <tr style=\"text-align: right;\">\n",
              "      <th></th>\n",
              "      <th>url</th>\n",
              "      <th>address</th>\n",
              "      <th>name</th>\n",
              "      <th>online_order</th>\n",
              "      <th>book_table</th>\n",
              "      <th>rate</th>\n",
              "      <th>votes</th>\n",
              "      <th>phone</th>\n",
              "      <th>location</th>\n",
              "      <th>rest_type</th>\n",
              "      <th>dish_liked</th>\n",
              "      <th>cuisines</th>\n",
              "      <th>approx_cost(for two people)</th>\n",
              "      <th>reviews_list</th>\n",
              "      <th>menu_item</th>\n",
              "      <th>listed_in(type)</th>\n",
              "      <th>listed_in(city)</th>\n",
              "    </tr>\n",
              "  </thead>\n",
              "  <tbody>\n",
              "    <tr>\n",
              "      <th>0</th>\n",
              "      <td>https://www.zomato.com/bangalore/jalsa-banasha...</td>\n",
              "      <td>942, 21st Main Road, 2nd Stage, Banashankari, ...</td>\n",
              "      <td>Jalsa</td>\n",
              "      <td>Yes</td>\n",
              "      <td>Yes</td>\n",
              "      <td>4.1/5</td>\n",
              "      <td>775</td>\n",
              "      <td>080 42297555\\r\\n+91 9743772233</td>\n",
              "      <td>Banashankari</td>\n",
              "      <td>Casual Dining</td>\n",
              "      <td>Pasta, Lunch Buffet, Masala Papad, Paneer Laja...</td>\n",
              "      <td>North Indian, Mughlai, Chinese</td>\n",
              "      <td>800</td>\n",
              "      <td>[('Rated 4.0', 'RATED\\n  A beautiful place to ...</td>\n",
              "      <td>[]</td>\n",
              "      <td>Buffet</td>\n",
              "      <td>Banashankari</td>\n",
              "    </tr>\n",
              "    <tr>\n",
              "      <th>1</th>\n",
              "      <td>https://www.zomato.com/bangalore/spice-elephan...</td>\n",
              "      <td>2nd Floor, 80 Feet Road, Near Big Bazaar, 6th ...</td>\n",
              "      <td>Spice Elephant</td>\n",
              "      <td>Yes</td>\n",
              "      <td>No</td>\n",
              "      <td>4.1/5</td>\n",
              "      <td>787</td>\n",
              "      <td>080 41714161</td>\n",
              "      <td>Banashankari</td>\n",
              "      <td>Casual Dining</td>\n",
              "      <td>Momos, Lunch Buffet, Chocolate Nirvana, Thai G...</td>\n",
              "      <td>Chinese, North Indian, Thai</td>\n",
              "      <td>800</td>\n",
              "      <td>[('Rated 4.0', 'RATED\\n  Had been here for din...</td>\n",
              "      <td>[]</td>\n",
              "      <td>Buffet</td>\n",
              "      <td>Banashankari</td>\n",
              "    </tr>\n",
              "    <tr>\n",
              "      <th>2</th>\n",
              "      <td>https://www.zomato.com/SanchurroBangalore?cont...</td>\n",
              "      <td>1112, Next to KIMS Medical College, 17th Cross...</td>\n",
              "      <td>San Churro Cafe</td>\n",
              "      <td>Yes</td>\n",
              "      <td>No</td>\n",
              "      <td>3.8/5</td>\n",
              "      <td>918</td>\n",
              "      <td>+91 9663487993</td>\n",
              "      <td>Banashankari</td>\n",
              "      <td>Cafe, Casual Dining</td>\n",
              "      <td>Churros, Cannelloni, Minestrone Soup, Hot Choc...</td>\n",
              "      <td>Cafe, Mexican, Italian</td>\n",
              "      <td>800</td>\n",
              "      <td>[('Rated 3.0', \"RATED\\n  Ambience is not that ...</td>\n",
              "      <td>[]</td>\n",
              "      <td>Buffet</td>\n",
              "      <td>Banashankari</td>\n",
              "    </tr>\n",
              "    <tr>\n",
              "      <th>3</th>\n",
              "      <td>https://www.zomato.com/bangalore/addhuri-udupi...</td>\n",
              "      <td>1st Floor, Annakuteera, 3rd Stage, Banashankar...</td>\n",
              "      <td>Addhuri Udupi Bhojana</td>\n",
              "      <td>No</td>\n",
              "      <td>No</td>\n",
              "      <td>3.7/5</td>\n",
              "      <td>88</td>\n",
              "      <td>+91 9620009302</td>\n",
              "      <td>Banashankari</td>\n",
              "      <td>Quick Bites</td>\n",
              "      <td>Masala Dosa</td>\n",
              "      <td>South Indian, North Indian</td>\n",
              "      <td>300</td>\n",
              "      <td>[('Rated 4.0', \"RATED\\n  Great food and proper...</td>\n",
              "      <td>[]</td>\n",
              "      <td>Buffet</td>\n",
              "      <td>Banashankari</td>\n",
              "    </tr>\n",
              "    <tr>\n",
              "      <th>4</th>\n",
              "      <td>https://www.zomato.com/bangalore/grand-village...</td>\n",
              "      <td>10, 3rd Floor, Lakshmi Associates, Gandhi Baza...</td>\n",
              "      <td>Grand Village</td>\n",
              "      <td>No</td>\n",
              "      <td>No</td>\n",
              "      <td>3.8/5</td>\n",
              "      <td>166</td>\n",
              "      <td>+91 8026612447\\r\\n+91 9901210005</td>\n",
              "      <td>Basavanagudi</td>\n",
              "      <td>Casual Dining</td>\n",
              "      <td>Panipuri, Gol Gappe</td>\n",
              "      <td>North Indian, Rajasthani</td>\n",
              "      <td>600</td>\n",
              "      <td>[('Rated 4.0', 'RATED\\n  Very good restaurant ...</td>\n",
              "      <td>[]</td>\n",
              "      <td>Buffet</td>\n",
              "      <td>Banashankari</td>\n",
              "    </tr>\n",
              "  </tbody>\n",
              "</table>\n",
              "</div>\n",
              "    <div class=\"colab-df-buttons\">\n",
              "\n",
              "  <div class=\"colab-df-container\">\n",
              "    <button class=\"colab-df-convert\" onclick=\"convertToInteractive('df-b91ffb22-f801-4367-8a4b-555379bc5ea1')\"\n",
              "            title=\"Convert this dataframe to an interactive table.\"\n",
              "            style=\"display:none;\">\n",
              "\n",
              "  <svg xmlns=\"http://www.w3.org/2000/svg\" height=\"24px\" viewBox=\"0 -960 960 960\">\n",
              "    <path d=\"M120-120v-720h720v720H120Zm60-500h600v-160H180v160Zm220 220h160v-160H400v160Zm0 220h160v-160H400v160ZM180-400h160v-160H180v160Zm440 0h160v-160H620v160ZM180-180h160v-160H180v160Zm440 0h160v-160H620v160Z\"/>\n",
              "  </svg>\n",
              "    </button>\n",
              "\n",
              "  <style>\n",
              "    .colab-df-container {\n",
              "      display:flex;\n",
              "      gap: 12px;\n",
              "    }\n",
              "\n",
              "    .colab-df-convert {\n",
              "      background-color: #E8F0FE;\n",
              "      border: none;\n",
              "      border-radius: 50%;\n",
              "      cursor: pointer;\n",
              "      display: none;\n",
              "      fill: #1967D2;\n",
              "      height: 32px;\n",
              "      padding: 0 0 0 0;\n",
              "      width: 32px;\n",
              "    }\n",
              "\n",
              "    .colab-df-convert:hover {\n",
              "      background-color: #E2EBFA;\n",
              "      box-shadow: 0px 1px 2px rgba(60, 64, 67, 0.3), 0px 1px 3px 1px rgba(60, 64, 67, 0.15);\n",
              "      fill: #174EA6;\n",
              "    }\n",
              "\n",
              "    .colab-df-buttons div {\n",
              "      margin-bottom: 4px;\n",
              "    }\n",
              "\n",
              "    [theme=dark] .colab-df-convert {\n",
              "      background-color: #3B4455;\n",
              "      fill: #D2E3FC;\n",
              "    }\n",
              "\n",
              "    [theme=dark] .colab-df-convert:hover {\n",
              "      background-color: #434B5C;\n",
              "      box-shadow: 0px 1px 3px 1px rgba(0, 0, 0, 0.15);\n",
              "      filter: drop-shadow(0px 1px 2px rgba(0, 0, 0, 0.3));\n",
              "      fill: #FFFFFF;\n",
              "    }\n",
              "  </style>\n",
              "\n",
              "    <script>\n",
              "      const buttonEl =\n",
              "        document.querySelector('#df-b91ffb22-f801-4367-8a4b-555379bc5ea1 button.colab-df-convert');\n",
              "      buttonEl.style.display =\n",
              "        google.colab.kernel.accessAllowed ? 'block' : 'none';\n",
              "\n",
              "      async function convertToInteractive(key) {\n",
              "        const element = document.querySelector('#df-b91ffb22-f801-4367-8a4b-555379bc5ea1');\n",
              "        const dataTable =\n",
              "          await google.colab.kernel.invokeFunction('convertToInteractive',\n",
              "                                                    [key], {});\n",
              "        if (!dataTable) return;\n",
              "\n",
              "        const docLinkHtml = 'Like what you see? Visit the ' +\n",
              "          '<a target=\"_blank\" href=https://colab.research.google.com/notebooks/data_table.ipynb>data table notebook</a>'\n",
              "          + ' to learn more about interactive tables.';\n",
              "        element.innerHTML = '';\n",
              "        dataTable['output_type'] = 'display_data';\n",
              "        await google.colab.output.renderOutput(dataTable, element);\n",
              "        const docLink = document.createElement('div');\n",
              "        docLink.innerHTML = docLinkHtml;\n",
              "        element.appendChild(docLink);\n",
              "      }\n",
              "    </script>\n",
              "  </div>\n",
              "\n",
              "\n",
              "    <div id=\"df-e9a59b62-7a12-4603-abd1-addab3da28f5\">\n",
              "      <button class=\"colab-df-quickchart\" onclick=\"quickchart('df-e9a59b62-7a12-4603-abd1-addab3da28f5')\"\n",
              "                title=\"Suggest charts\"\n",
              "                style=\"display:none;\">\n",
              "\n",
              "<svg xmlns=\"http://www.w3.org/2000/svg\" height=\"24px\"viewBox=\"0 0 24 24\"\n",
              "     width=\"24px\">\n",
              "    <g>\n",
              "        <path d=\"M19 3H5c-1.1 0-2 .9-2 2v14c0 1.1.9 2 2 2h14c1.1 0 2-.9 2-2V5c0-1.1-.9-2-2-2zM9 17H7v-7h2v7zm4 0h-2V7h2v10zm4 0h-2v-4h2v4z\"/>\n",
              "    </g>\n",
              "</svg>\n",
              "      </button>\n",
              "\n",
              "<style>\n",
              "  .colab-df-quickchart {\n",
              "      --bg-color: #E8F0FE;\n",
              "      --fill-color: #1967D2;\n",
              "      --hover-bg-color: #E2EBFA;\n",
              "      --hover-fill-color: #174EA6;\n",
              "      --disabled-fill-color: #AAA;\n",
              "      --disabled-bg-color: #DDD;\n",
              "  }\n",
              "\n",
              "  [theme=dark] .colab-df-quickchart {\n",
              "      --bg-color: #3B4455;\n",
              "      --fill-color: #D2E3FC;\n",
              "      --hover-bg-color: #434B5C;\n",
              "      --hover-fill-color: #FFFFFF;\n",
              "      --disabled-bg-color: #3B4455;\n",
              "      --disabled-fill-color: #666;\n",
              "  }\n",
              "\n",
              "  .colab-df-quickchart {\n",
              "    background-color: var(--bg-color);\n",
              "    border: none;\n",
              "    border-radius: 50%;\n",
              "    cursor: pointer;\n",
              "    display: none;\n",
              "    fill: var(--fill-color);\n",
              "    height: 32px;\n",
              "    padding: 0;\n",
              "    width: 32px;\n",
              "  }\n",
              "\n",
              "  .colab-df-quickchart:hover {\n",
              "    background-color: var(--hover-bg-color);\n",
              "    box-shadow: 0 1px 2px rgba(60, 64, 67, 0.3), 0 1px 3px 1px rgba(60, 64, 67, 0.15);\n",
              "    fill: var(--button-hover-fill-color);\n",
              "  }\n",
              "\n",
              "  .colab-df-quickchart-complete:disabled,\n",
              "  .colab-df-quickchart-complete:disabled:hover {\n",
              "    background-color: var(--disabled-bg-color);\n",
              "    fill: var(--disabled-fill-color);\n",
              "    box-shadow: none;\n",
              "  }\n",
              "\n",
              "  .colab-df-spinner {\n",
              "    border: 2px solid var(--fill-color);\n",
              "    border-color: transparent;\n",
              "    border-bottom-color: var(--fill-color);\n",
              "    animation:\n",
              "      spin 1s steps(1) infinite;\n",
              "  }\n",
              "\n",
              "  @keyframes spin {\n",
              "    0% {\n",
              "      border-color: transparent;\n",
              "      border-bottom-color: var(--fill-color);\n",
              "      border-left-color: var(--fill-color);\n",
              "    }\n",
              "    20% {\n",
              "      border-color: transparent;\n",
              "      border-left-color: var(--fill-color);\n",
              "      border-top-color: var(--fill-color);\n",
              "    }\n",
              "    30% {\n",
              "      border-color: transparent;\n",
              "      border-left-color: var(--fill-color);\n",
              "      border-top-color: var(--fill-color);\n",
              "      border-right-color: var(--fill-color);\n",
              "    }\n",
              "    40% {\n",
              "      border-color: transparent;\n",
              "      border-right-color: var(--fill-color);\n",
              "      border-top-color: var(--fill-color);\n",
              "    }\n",
              "    60% {\n",
              "      border-color: transparent;\n",
              "      border-right-color: var(--fill-color);\n",
              "    }\n",
              "    80% {\n",
              "      border-color: transparent;\n",
              "      border-right-color: var(--fill-color);\n",
              "      border-bottom-color: var(--fill-color);\n",
              "    }\n",
              "    90% {\n",
              "      border-color: transparent;\n",
              "      border-bottom-color: var(--fill-color);\n",
              "    }\n",
              "  }\n",
              "</style>\n",
              "\n",
              "      <script>\n",
              "        async function quickchart(key) {\n",
              "          const quickchartButtonEl =\n",
              "            document.querySelector('#' + key + ' button');\n",
              "          quickchartButtonEl.disabled = true;  // To prevent multiple clicks.\n",
              "          quickchartButtonEl.classList.add('colab-df-spinner');\n",
              "          try {\n",
              "            const charts = await google.colab.kernel.invokeFunction(\n",
              "                'suggestCharts', [key], {});\n",
              "          } catch (error) {\n",
              "            console.error('Error during call to suggestCharts:', error);\n",
              "          }\n",
              "          quickchartButtonEl.classList.remove('colab-df-spinner');\n",
              "          quickchartButtonEl.classList.add('colab-df-quickchart-complete');\n",
              "        }\n",
              "        (() => {\n",
              "          let quickchartButtonEl =\n",
              "            document.querySelector('#df-e9a59b62-7a12-4603-abd1-addab3da28f5 button');\n",
              "          quickchartButtonEl.style.display =\n",
              "            google.colab.kernel.accessAllowed ? 'block' : 'none';\n",
              "        })();\n",
              "      </script>\n",
              "    </div>\n",
              "\n",
              "    </div>\n",
              "  </div>\n"
            ],
            "application/vnd.google.colaboratory.intrinsic+json": {
              "type": "dataframe",
              "variable_name": "data",
              "summary": "{\n  \"name\": \"data\",\n  \"rows\": 51717,\n  \"fields\": [\n    {\n      \"column\": \"url\",\n      \"properties\": {\n        \"dtype\": \"string\",\n        \"num_unique_values\": 51717,\n        \"samples\": [\n          \"https://www.zomato.com/bangalore/kalingas-btm?context=eyJzZSI6eyJlIjpbIjE4NzY5Njc1IiwiMTg4MDE0MTUiLCI1MzAxNSIsIjE4Nzk3OTMyIiw1ODgyOCwiMTg4NDgyOTUiLCI2MTM4MSIsIjE4NzE0NTMzIiwiNTE4MjgiLCIxODkxOTQzNiIsIjE4MzQ2MzQxIiwiMTgyNTQ1NjgiLCIxODI5ODIzOCIsIjUwMDMxIiwiMTg1MjI3MDQiLCIxODcxODM4NyIsIjE4NDc2NDUxIiwiNjAxMjQiXSwidCI6IkRlbGl2ZXJ5IFJlc3RhdXJhbnRzIGluIEJUTSJ9fQ==\",\n          \"https://www.zomato.com/bangalore/angel-restaurant-bannerghatta-road?context=eyJzZSI6eyJlIjpbIjE4ODgzNjIwIiwiMTg2MjI0MTYiLCIxODcyNzQxOCIsIjU4NjA0IiwxODYwNDY4OCwiMTg2NDM3OTYiLCIxODY5MzMxNCIsIjE4NjU0Mzc2IiwiMTg2NjIyNzEiLCIxODY1NDY5NSIsIjE4NjYzNjk4IiwiMTg2NTE4NDUiLCIxODk2MzUxMCIsIjE4OTY1MjEzIiwiMTg5NjI3OTkiLCIxODk2NTg0NiJdLCJ0IjoiRGluZS1PdXQgUmVzdGF1cmFudHMgaW4gSlAgTmFnYXIifX0=\",\n          \"https://www.zomato.com/bangalore/cafe-talkhouse-hsr-bangalore?context=eyJzZSI6eyJlIjpbIjE4ODA2NzczIiwiMTg4MDY4NDEiLCIxODgwNjgwOCIsIjE4ODA3OTQ3IiwxODc5MzM1OSwiMTg3OTM0MDIiLCIxODgwMTQ0NiIsIjE4ODAyODI0IiwiMTg4MDEwMzgiLCIxODc4NTQ1NyIsIjE4ODg0MTUyIiwiMTg4NzQzMDMiLCIxODg4MTMxNSIsIjE4ODc3NzU4IiwiMTg4ODUxNTAiXSwidCI6IkRlbGl2ZXJ5IFJlc3RhdXJhbnRzIGluIEhTUiJ9fQ==\"\n        ],\n        \"semantic_type\": \"\",\n        \"description\": \"\"\n      }\n    },\n    {\n      \"column\": \"address\",\n      \"properties\": {\n        \"dtype\": \"category\",\n        \"num_unique_values\": 11495,\n        \"samples\": [\n          \"Sampige Nagar Bus Stop, Huskur Gate, Electronic City, Bangalore\",\n          \"12th Main, Koramangala 4th Block, Bangalore\",\n          \"30, 2nd Main Road, Jai Bheema Nagar, Sheshadripuram, Bangalore\"\n        ],\n        \"semantic_type\": \"\",\n        \"description\": \"\"\n      }\n    },\n    {\n      \"column\": \"name\",\n      \"properties\": {\n        \"dtype\": \"category\",\n        \"num_unique_values\": 8792,\n        \"samples\": [\n          \"Calcutta North Indian Meals\",\n          \"Parinitha Biryani Corner\",\n          \"Tiwari's\"\n        ],\n        \"semantic_type\": \"\",\n        \"description\": \"\"\n      }\n    },\n    {\n      \"column\": \"online_order\",\n      \"properties\": {\n        \"dtype\": \"category\",\n        \"num_unique_values\": 2,\n        \"samples\": [\n          \"No\",\n          \"Yes\"\n        ],\n        \"semantic_type\": \"\",\n        \"description\": \"\"\n      }\n    },\n    {\n      \"column\": \"book_table\",\n      \"properties\": {\n        \"dtype\": \"category\",\n        \"num_unique_values\": 2,\n        \"samples\": [\n          \"No\",\n          \"Yes\"\n        ],\n        \"semantic_type\": \"\",\n        \"description\": \"\"\n      }\n    },\n    {\n      \"column\": \"rate\",\n      \"properties\": {\n        \"dtype\": \"category\",\n        \"num_unique_values\": 64,\n        \"samples\": [\n          \"1.8/5\",\n          \"4.7 /5\"\n        ],\n        \"semantic_type\": \"\",\n        \"description\": \"\"\n      }\n    },\n    {\n      \"column\": \"votes\",\n      \"properties\": {\n        \"dtype\": \"number\",\n        \"std\": 803,\n        \"min\": 0,\n        \"max\": 16832,\n        \"num_unique_values\": 2328,\n        \"samples\": [\n          1807,\n          2392\n        ],\n        \"semantic_type\": \"\",\n        \"description\": \"\"\n      }\n    },\n    {\n      \"column\": \"phone\",\n      \"properties\": {\n        \"dtype\": \"category\",\n        \"num_unique_values\": 14926,\n        \"samples\": [\n          \"+91 8147721407\\n+91 9008485177\",\n          \"+91 8040982050\"\n        ],\n        \"semantic_type\": \"\",\n        \"description\": \"\"\n      }\n    },\n    {\n      \"column\": \"location\",\n      \"properties\": {\n        \"dtype\": \"category\",\n        \"num_unique_values\": 93,\n        \"samples\": [\n          \"Church Street\",\n          \"Shanti Nagar\"\n        ],\n        \"semantic_type\": \"\",\n        \"description\": \"\"\n      }\n    },\n    {\n      \"column\": \"rest_type\",\n      \"properties\": {\n        \"dtype\": \"category\",\n        \"num_unique_values\": 93,\n        \"samples\": [\n          \"Quick Bites, Sweet Shop\",\n          \"Bakery, Quick Bites\"\n        ],\n        \"semantic_type\": \"\",\n        \"description\": \"\"\n      }\n    },\n    {\n      \"column\": \"dish_liked\",\n      \"properties\": {\n        \"dtype\": \"category\",\n        \"num_unique_values\": 5271,\n        \"samples\": [\n          \"Waffles, Pasta, Coleslaw Sandwich, Choco Waffle, Tacos, Momos, Cheese Nachos\",\n          \"Pasta, Garlic Bread, Wedges, Veg Supreme Pizza, Pane Pizza, Masala Lemonade, Salads\"\n        ],\n        \"semantic_type\": \"\",\n        \"description\": \"\"\n      }\n    },\n    {\n      \"column\": \"cuisines\",\n      \"properties\": {\n        \"dtype\": \"category\",\n        \"num_unique_values\": 2723,\n        \"samples\": [\n          \"North Indian, Chinese, Andhra, Biryani\",\n          \"Biryani, Chinese\"\n        ],\n        \"semantic_type\": \"\",\n        \"description\": \"\"\n      }\n    },\n    {\n      \"column\": \"approx_cost(for two people)\",\n      \"properties\": {\n        \"dtype\": \"category\",\n        \"num_unique_values\": 70,\n        \"samples\": [\n          \"199\",\n          \"800\"\n        ],\n        \"semantic_type\": \"\",\n        \"description\": \"\"\n      }\n    },\n    {\n      \"column\": \"reviews_list\",\n      \"properties\": {\n        \"dtype\": \"category\",\n        \"num_unique_values\": 22513,\n        \"samples\": [\n          \"[('Rated 2.0', 'RATED\\\\n  A small tiny place where the manager and the Stuarts are not aware of what is available in the kitchen. They keep checking with the chefs. Was disappointed so had to leave the place.'), ('Rated 3.0', \\\"RATED\\\\n  Would rate this place a 3.5.\\\\nThis place is not difficult to find. Our craving to have sizzlers, & thanks to zomato gold, we landed here.\\\\nAmbience is decent. Staff is polite.\\\\nWe ordered Triple Berry Mocktail , Tex Mex Chicken Sizzler & Mixed Grill Sizzler.\\\\nTriple Berry was way too sweet.\\\\nTex Mex came with BBQ sauce that was supposed to be tangy but was kind of sweet. This was the recommended dish by the staff, hence we were bit disappointed.\\\\nThe only dish which was satisfying was the mix grill which had lamb, chicken, egg & fish.\\\\n\\\\nLastly they do put an extra service charge on top of GST. However they don't mention this when giving the bill. When we checked the bill & asked them, they told it's not mandatory to pay the Service Charge, its up to the customer. Personally, I don't think it's fair to sneak in the service charge & not inform the customer in the first place.\\\\nAnyways, overall a decent experience but unlikely to visit again.\\\"), ('Rated 3.0', 'RATED\\\\n  Cozy place but highly short on staff. Service is slow. Sizzler was decent. Decent experience but disappointed in terms of serving time.\\\\nAmbience-2.5/5\\\\nFood-3/5\\\\nService-2.5/5'), ('Rated 3.0', 'RATED\\\\n  This place has a great ambience, but the food is average. The food they served us became cold real soon, but the staff were courteous Enough to replace it.'), ('Rated 1.0', 'RATED\\\\n  I was a regular customer but this very recent time, I had gone there for dinner - they had nothing only soups, desserts, drinks and a very few starters.\\\\nWe took the tomato basil soup which was like tomato puree which came with the tomato peel.\\\\nAnd we ordered garlic bread since nothing was available, and it was very okayish about 3/5. So overall a very very bad recent experience as the service also has become extremely slow. They took 40 mins to get the garlic bread.'), ('Rated 2.0', 'RATED\\\\n  Surprisingly as the name suggests, Sizzlers were not upto the mark. We\\\\'ve ordered Classic Beef Sizzler and Pesto Pasta Sizzler out of which none was that delicious. We\\\\'ve also ordered BBQ Chicken Steak and a beef steak, totally delicious and enjoyed well. Also a \\\"Pink Floyd\\\" which was watermelon based drink was also delightful to drink, rather expensive. Ambience was okay but the service was utterly late (~40 mins) which totally kills out everything.'), ('Rated 3.0', 'RATED\\\\n  took wayyyyyyy to long for food to come.. took precisely 45mins for one order and 55 mins for 2nd order to be served... whoever want to visit here pls have atleast 60mins time in hand so that u dnt sit there feeling hungry. the food is good. We took a tex mex sizzler and a bbq chicken sizzler ... both tasted yumm... but the long wait was too much. we saw people going up to the waiters like 3-4 time to know about time for their order to be served. I dunno if I would want to visit this place again...'), ('Rated 5.0', \\\"RATED\\\\n  I have been to this place a couple of times and this is my favourite sizzler place in Bangalore! I've tried most of the items on their menu, appetizers, sizzlers, and drinks. I love the Frachos and the Manchurian sizzler in particular. The sizzling brownie is definitely my all time favourite dessert. The staff has been courteous on all occasions and the service has been fast. The quality of food has remained the same through last couple of years. Definitely check this place out if a good sizzler is what you're looking for!\\\"), ('Rated 3.0', 'RATED\\\\n  A nice place for some simple Sizzlers. Mr Pemba, who attended us was v courteous n helpful. Good work. The place was pretty hot inside. May be they could work on the ventilation.'), ('Rated 4.0', 'RATED\\\\n  As the name says the place was filled with smoke the moment we entered.... Food was tasty and a lot of options to choose from... Quality was perfect neither less nor too heavy... Staff was helpful in making choice... Happy enjoying smoke sizzler...'), ('Rated 1.0', 'RATED\\\\n  One of the worst experience. Visited with 3 of my friends late night around 9.30pm staff took my gold id after 20 mins comes and says we can\\\\'t serve you as \\\"Chef is not in the mood to cook\\\" this was the sentence used.\\\\n\\\\n45 mins later they served worst uncooked items and we saw 3 tables completing on the service and worst food.\\\\n\\\\nNever ever go this place'), ('Rated 1.0', \\\"RATED\\\\n  Well few reasons why I didn't like the place.\\\\n\\\\n1)Food took a long time to come, almost half an hour in a fairly empty restaurant.\\\\n\\\\n2) We ordered barbeque stuffed chicken and Mac and cheese chicken sizzler. The barbeque sauce was too sweet. The sizzler was not that great.\\\\n\\\\n3) A simple lime soda costs 200 bucks! That was not even soda,that was water.\\\\n\\\\n4) Nothing to boast about the ambience as well.\\\"), ('Rated 5.0', \\\"RATED\\\\n  If you're willing to stuff yourself upto the point where you can't walk, Go to smoke!\\\\nBecause the food tastes so good you wouldn't want to leave behind even the last bite!\\\\nDo try the Sizzling Mexicana, Shashlik Sizzler if you love spice. The sizzling mexicana comes with a cheese patty is the most right combination that makes you doubt you're own marriage. However, if you don't mind something sweet, the barbecue sizzler with paneer can add sweetness to your life with every bite. I'd suggest you to split this with a pal.\\\\nThe calfornian pizza is one of the best pizza's I've had honestly. It's rich in flavor and brings happiness to your heart. I wouldn't recommend the cheesecake, that is something they have to improve on.\\\\nIt's Affordable and for 3 sizzlers, one pizza, 2 zomato gold the bill came upto just 600. A good, stuffing and easy on the pocket meal is all I want every day!\\\"), ('Rated 4.0', 'RATED\\\\n  Need to wine and dine ? Head to smoke to satisfy both with delicious sizzlers to munch on.\\\\n\\\\nQuantity of the sizzlers are good and they taste good too. 1 sizzler is good enough for one person.\\\\n\\\\nThe staff is really nice and they offer twists on the wines.\\\\n\\\\nAmbience is a mildly authentic and has a very lit up feel.\\\\n\\\\nYou might have a little bit of wait time on the sizzlers but the rest of the food comes pretty quick.\\\\n\\\\nMust visit if you are craving for some sizzlers!'), ('Rated 5.0', \\\"RATED\\\\n  The food is really good and tasty.....The service is really impressive plus the way they represent the food. Should try out Buffalo Wings and Sizzler's. The cost is reasonable not that expensive. Recommend place for Steaks.\\\"), ('Rated 3.0', 'RATED\\\\n  Went their for Zomato gold. Tried Manchurian sizzler with rice and cheese garlic bread. Loved the cheese garlic bread which is served with salsa which tasted good. But the sizzler wasn\\u00c3\\u0083\\\\x83\\u00c3\\u0082\\\\x83\\u00c3\\u0083\\\\x82\\u00c3\\u0082\\\\x83\\u00c3\\u0083\\\\x83\\u00c3\\u0082\\\\x82\\u00c3\\u0083\\\\x82\\u00c3\\u0082\\u00c2\\u00a2\\u00c3\\u0083\\\\x83\\u00c3\\u0082\\\\x83\\u00c3\\u0083\\\\x82\\u00c3\\u0082\\\\x82\\u00c3\\u0083\\\\x83\\u00c3\\u0082\\\\x82\\u00c3\\u0083\\\\x82\\u00c3\\u0082\\\\x80\\u00c3\\u0083\\\\x83\\u00c3\\u0082\\\\x83\\u00c3\\u0083\\\\x82\\u00c3\\u0082\\\\x82\\u00c3\\u0083\\\\x83\\u00c3\\u0082\\\\x82\\u00c3\\u0083\\\\x82\\u00c3\\u0082\\\\x99t that great. Service and ambience was good. Can Visit once.'), ('Rated 3.0', \\\"RATED\\\\n  They have a wide range of vegetarian sizzlers, so, in case you are a vegetarian, do not be upset. We tried Manchurian and Schezwan Sizzlers. Both were cooked but I must point out that the Manchurian balls needed a little more cooking as they were gooey inside and tasted weird. Service is prompt and the place is great, if you want to hang out with friends.\\\\n\\\\nFood (taste) - 3/5\\\\nValue for money - 3/5\\\\nService- 3/5\\\\nAmbiance - 3/5\\\\nOn my 'Visit Again' list - Maybe\\\"), ('Rated 4.0', \\\"RATED\\\\n  Quietly surprised by the service and the taste...if u are bored by visiting Kobe sizzler..I mean the same place...u can definitely give this play a try...food is at par with Kobe's...ove the shashilk and the pasta sizzlers...overall will do come 2 this place again\\\"), ('Rated 4.0', 'RATED\\\\n  Need to wine and dine ? Head to smoke to satisfy both with delicious sizzlers to munch on.\\\\n\\\\nQuantity of the sizzlers are good and they taste good too. 1 sizzler is good enough for one person.\\\\n\\\\nThe staff is really nice and they offer twists on the wines.\\\\n\\\\nAmbience is a mildly authentic and has a very lit up feel.\\\\n\\\\nYou might have a little bit of wait time on the sizzlers but the rest of the food comes pretty quick.\\\\n\\\\nMust visit if you are craving for some sizzlers!'), ('Rated 5.0', \\\"RATED\\\\n  The food is really good and tasty.....The service is really impressive plus the way they represent the food. Should try out Buffalo Wings and Sizzler's. The cost is reasonable not that expensive. Recommend place for Steaks.\\\"), ('Rated 3.0', 'RATED\\\\n  Went their for Zomato gold. Tried Manchurian sizzler with rice and cheese garlic bread. Loved the cheese garlic bread which is served with salsa which tasted good. But the sizzler wasn\\u00c3\\u0083\\\\x83\\u00c3\\u0082\\\\x83\\u00c3\\u0083\\\\x82\\u00c3\\u0082\\\\x83\\u00c3\\u0083\\\\x83\\u00c3\\u0082\\\\x82\\u00c3\\u0083\\\\x82\\u00c3\\u0082\\u00c2\\u00a2\\u00c3\\u0083\\\\x83\\u00c3\\u0082\\\\x83\\u00c3\\u0083\\\\x82\\u00c3\\u0082\\\\x82\\u00c3\\u0083\\\\x83\\u00c3\\u0082\\\\x82\\u00c3\\u0083\\\\x82\\u00c3\\u0082\\\\x80\\u00c3\\u0083\\\\x83\\u00c3\\u0082\\\\x83\\u00c3\\u0083\\\\x82\\u00c3\\u0082\\\\x82\\u00c3\\u0083\\\\x83\\u00c3\\u0082\\\\x82\\u00c3\\u0083\\\\x82\\u00c3\\u0082\\\\x99t that great. Service and ambience was good. Can Visit once.'), ('Rated 3.0', \\\"RATED\\\\n  They have a wide range of vegetarian sizzlers, so, in case you are a vegetarian, do not be upset. We tried Manchurian and Schezwan Sizzlers. Both were cooked but I must point out that the Manchurian balls needed a little more cooking as they were gooey inside and tasted weird. Service is prompt and the place is great, if you want to hang out with friends.\\\\n\\\\nFood (taste) - 3/5\\\\nValue for money - 3/5\\\\nService- 3/5\\\\nAmbiance - 3/5\\\\nOn my 'Visit Again' list - Maybe\\\"), ('Rated 4.0', \\\"RATED\\\\n  Quietly surprised by the service and the taste...if u are bored by visiting Kobe sizzler..I mean the same place...u can definitely give this play a try...food is at par with Kobe's...ove the shashilk and the pasta sizzlers...overall will do come 2 this place again\\\"), ('Rated 4.0', 'RATED\\\\n  Need to wine and dine ? Head to smoke to satisfy both with delicious sizzlers to munch on.\\\\n\\\\nQuantity of the sizzlers are good and they taste good too. 1 sizzler is good enough for one person.\\\\n\\\\nThe staff is really nice and they offer twists on the wines.\\\\n\\\\nAmbience is a mildly authentic and has a very lit up feel.\\\\n\\\\nYou might have a little bit of wait time on the sizzlers but the rest of the food comes pretty quick.\\\\n\\\\nMust visit if you are craving for some sizzlers!'), ('Rated 5.0', \\\"RATED\\\\n  The food is really good and tasty.....The service is really impressive plus the way they represent the food. Should try out Buffalo Wings and Sizzler's. The cost is reasonable not that expensive. Recommend place for Steaks.\\\"), ('Rated 3.0', 'RATED\\\\n  Went their for Zomato gold. Tried Manchurian sizzler with rice and cheese garlic bread. Loved the cheese garlic bread which is served with salsa which tasted good. But the sizzler wasn\\u00c3\\u0083\\\\x83\\u00c3\\u0082\\\\x83\\u00c3\\u0083\\\\x82\\u00c3\\u0082\\\\x83\\u00c3\\u0083\\\\x83\\u00c3\\u0082\\\\x82\\u00c3\\u0083\\\\x82\\u00c3\\u0082\\u00c2\\u00a2\\u00c3\\u0083\\\\x83\\u00c3\\u0082\\\\x83\\u00c3\\u0083\\\\x82\\u00c3\\u0082\\\\x82\\u00c3\\u0083\\\\x83\\u00c3\\u0082\\\\x82\\u00c3\\u0083\\\\x82\\u00c3\\u0082\\\\x80\\u00c3\\u0083\\\\x83\\u00c3\\u0082\\\\x83\\u00c3\\u0083\\\\x82\\u00c3\\u0082\\\\x82\\u00c3\\u0083\\\\x83\\u00c3\\u0082\\\\x82\\u00c3\\u0083\\\\x82\\u00c3\\u0082\\\\x99t that great. Service and ambience was good. Can Visit once.'), ('Rated 3.0', \\\"RATED\\\\n  They have a wide range of vegetarian sizzlers, so, in case you are a vegetarian, do not be upset. We tried Manchurian and Schezwan Sizzlers. Both were cooked but I must point out that the Manchurian balls needed a little more cooking as they were gooey inside and tasted weird. Service is prompt and the place is great, if you want to hang out with friends.\\\\n\\\\nFood (taste) - 3/5\\\\nValue for money - 3/5\\\\nService- 3/5\\\\nAmbiance - 3/5\\\\nOn my 'Visit Again' list - Maybe\\\"), ('Rated 4.0', \\\"RATED\\\\n  Quietly surprised by the service and the taste...if u are bored by visiting Kobe sizzler..I mean the same place...u can definitely give this play a try...food is at par with Kobe's...ove the shashilk and the pasta sizzlers...overall will do come 2 this place again\\\"), ('Rated 4.0', 'RATED\\\\n  Need to wine and dine ? Head to smoke to satisfy both with delicious sizzlers to munch on.\\\\n\\\\nQuantity of the sizzlers are good and they taste good too. 1 sizzler is good enough for one person.\\\\n\\\\nThe staff is really nice and they offer twists on the wines.\\\\n\\\\nAmbience is a mildly authentic and has a very lit up feel.\\\\n\\\\nYou might have a little bit of wait time on the sizzlers but the rest of the food comes pretty quick.\\\\n\\\\nMust visit if you are craving for some sizzlers!'), ('Rated 5.0', \\\"RATED\\\\n  The food is really good and tasty.....The service is really impressive plus the way they represent the food. Should try out Buffalo Wings and Sizzler's. The cost is reasonable not that expensive. Recommend place for Steaks.\\\"), ('Rated 3.0', 'RATED\\\\n  Went their for Zomato gold. Tried Manchurian sizzler with rice and cheese garlic bread. Loved the cheese garlic bread which is served with salsa which tasted good. But the sizzler wasn\\u00c3\\u0083\\\\x83\\u00c3\\u0082\\\\x83\\u00c3\\u0083\\\\x82\\u00c3\\u0082\\\\x83\\u00c3\\u0083\\\\x83\\u00c3\\u0082\\\\x82\\u00c3\\u0083\\\\x82\\u00c3\\u0082\\u00c2\\u00a2\\u00c3\\u0083\\\\x83\\u00c3\\u0082\\\\x83\\u00c3\\u0083\\\\x82\\u00c3\\u0082\\\\x82\\u00c3\\u0083\\\\x83\\u00c3\\u0082\\\\x82\\u00c3\\u0083\\\\x82\\u00c3\\u0082\\\\x80\\u00c3\\u0083\\\\x83\\u00c3\\u0082\\\\x83\\u00c3\\u0083\\\\x82\\u00c3\\u0082\\\\x82\\u00c3\\u0083\\\\x83\\u00c3\\u0082\\\\x82\\u00c3\\u0083\\\\x82\\u00c3\\u0082\\\\x99t that great. Service and ambience was good. Can Visit once.'), ('Rated 3.0', \\\"RATED\\\\n  They have a wide range of vegetarian sizzlers, so, in case you are a vegetarian, do not be upset. We tried Manchurian and Schezwan Sizzlers. Both were cooked but I must point out that the Manchurian balls needed a little more cooking as they were gooey inside and tasted weird. Service is prompt and the place is great, if you want to hang out with friends.\\\\n\\\\nFood (taste) - 3/5\\\\nValue for money - 3/5\\\\nService- 3/5\\\\nAmbiance - 3/5\\\\nOn my 'Visit Again' list - Maybe\\\"), ('Rated 4.0', \\\"RATED\\\\n  Quietly surprised by the service and the taste...if u are bored by visiting Kobe sizzler..I mean the same place...u can definitely give this play a try...food is at par with Kobe's...ove the shashilk and the pasta sizzlers...overall will do come 2 this place again\\\"), ('Rated 4.0', 'RATED\\\\n  Need to wine and dine ? Head to smoke to satisfy both with delicious sizzlers to munch on.\\\\n\\\\nQuantity of the sizzlers are good and they taste good too. 1 sizzler is good enough for one person.\\\\n\\\\nThe staff is really nice and they offer twists on the wines.\\\\n\\\\nAmbience is a mildly authentic and has a very lit up feel.\\\\n\\\\nYou might have a little bit of wait time on the sizzlers but the rest of the food comes pretty quick.\\\\n\\\\nMust visit if you are craving for some sizzlers!'), ('Rated 5.0', \\\"RATED\\\\n  The food is really good and tasty.....The service is really impressive plus the way they represent the food. Should try out Buffalo Wings and Sizzler's. The cost is reasonable not that expensive. Recommend place for Steaks.\\\"), ('Rated 3.0', 'RATED\\\\n  Went their for Zomato gold. Tried Manchurian sizzler with rice and cheese garlic bread. Loved the cheese garlic bread which is served with salsa which tasted good. But the sizzler wasn\\u00c3\\u0083\\\\x83\\u00c3\\u0082\\\\x83\\u00c3\\u0083\\\\x82\\u00c3\\u0082\\\\x83\\u00c3\\u0083\\\\x83\\u00c3\\u0082\\\\x82\\u00c3\\u0083\\\\x82\\u00c3\\u0082\\u00c2\\u00a2\\u00c3\\u0083\\\\x83\\u00c3\\u0082\\\\x83\\u00c3\\u0083\\\\x82\\u00c3\\u0082\\\\x82\\u00c3\\u0083\\\\x83\\u00c3\\u0082\\\\x82\\u00c3\\u0083\\\\x82\\u00c3\\u0082\\\\x80\\u00c3\\u0083\\\\x83\\u00c3\\u0082\\\\x83\\u00c3\\u0083\\\\x82\\u00c3\\u0082\\\\x82\\u00c3\\u0083\\\\x83\\u00c3\\u0082\\\\x82\\u00c3\\u0083\\\\x82\\u00c3\\u0082\\\\x99t that great. Service and ambience was good. Can Visit once.'), ('Rated 3.0', \\\"RATED\\\\n  They have a wide range of vegetarian sizzlers, so, in case you are a vegetarian, do not be upset. We tried Manchurian and Schezwan Sizzlers. Both were cooked but I must point out that the Manchurian balls needed a little more cooking as they were gooey inside and tasted weird. Service is prompt and the place is great, if you want to hang out with friends.\\\\n\\\\nFood (taste) - 3/5\\\\nValue for money - 3/5\\\\nService- 3/5\\\\nAmbiance - 3/5\\\\nOn my 'Visit Again' list - Maybe\\\"), ('Rated 4.0', \\\"RATED\\\\n  Quietly surprised by the service and the taste...if u are bored by visiting Kobe sizzler..I mean the same place...u can definitely give this play a try...food is at par with Kobe's...ove the shashilk and the pasta sizzlers...overall will do come 2 this place again\\\"), ('Rated 4.0', \\\"RATED\\\\n  It's always been my favorite place for sizzler. Cheese macroni sizzler was amazing. Btw everything they serve was worth trying (sizzlers) .\\\\nDidn't like the pasta tho.\\\\n\\\\nFood- 4.5/5\\\\nAmbience- 4/5\\\\nService- 2.5/5 (it's very slow)\\\"), ('Rated 5.0', 'RATED\\\\n  I have not had such a nice food in a really long time. Their butter garlic prawns were the best I have had till date. Please try it if you visit the place. Also the pasta sizzler and fish steak both were delicious. I will certainly visit this place again and again. They are light on pocket also because of zomato gold. However the service could be fast. The food they offer is absolutely amazing.'), ('Rated 3.0', 'RATED\\\\n  The food is average and the prices are high. We order fish finger and it was disappointing to see that the fish content was really less, however the batter was so thick that there was hardly any taste of the fish in a bite. Similarly the flavours in the sizzlers were just okay and tasted more ketchupy'), ('Rated 4.0', 'RATED\\\\n  \\u00c3\\u0083\\\\x83\\u00c3\\u0082\\\\x83\\u00c3\\u0083\\\\x82\\u00c3\\u0082\\\\x83\\u00c3\\u0083\\\\x83\\u00c3\\u0082\\\\x82\\u00c3\\u0083\\\\x82\\u00c3\\u0082\\\\x82\\u00c3\\u0083\\\\x83\\u00c3\\u0082\\\\x83\\u00c3\\u0083\\\\x82\\u00c3\\u0082\\\\x82\\u00c3\\u0083\\\\x83\\u00c3\\u0082\\\\x82\\u00c3\\u0083\\\\x82\\u00c3\\u0082\\u00c2\\u00b0Ambience:\\\\n- Comfortable couches and chairs for seating\\\\n- Warm Woodsy decor\\\\n- Well lit \\u00c3\\u0083\\\\x83\\u00c3\\u0082\\\\x83\\u00c3\\u0083\\\\x82\\u00c3\\u0082\\\\x83\\u00c3\\u0083\\\\x83\\u00c3\\u0082\\\\x82\\u00c3\\u0083\\\\x82\\u00c3\\u0082\\u00c2\\u00a2\\u00c3\\u0083\\\\x83\\u00c3\\u0082\\\\x83\\u00c3\\u0083\\\\x82\\u00c3\\u0082\\\\x82\\u00c3\\u0083\\\\x83\\u00c3\\u0082\\\\x82\\u00c3\\u0083\\\\x82\\u00c3\\u0082\\\\x9c\\u00c3\\u0083\\\\x83\\u00c3\\u0082\\\\x83\\u00c3\\u0083\\\\x82\\u00c3\\u0082\\\\x82\\u00c3\\u0083\\\\x83\\u00c3\\u0082\\\\x82\\u00c3\\u0083\\\\x82\\u00c3\\u0082\\u00c2\\u00a8\\\\n- Good music\\\\n\\\\n\\u00c3\\u0083\\\\x83\\u00c3\\u0082\\\\x83\\u00c3\\u0083\\\\x82\\u00c3\\u0082\\\\x83\\u00c3\\u0083\\\\x83\\u00c3\\u0082\\\\x82\\u00c3\\u0083\\\\x82\\u00c3\\u0082\\\\x82\\u00c3\\u0083\\\\x83\\u00c3\\u0082\\\\x83\\u00c3\\u0083\\\\x82\\u00c3\\u0082\\\\x82\\u00c3\\u0083\\\\x83\\u00c3\\u0082\\\\x82\\u00c3\\u0083\\\\x82\\u00c3\\u0082\\u00c2\\u00b0Food:\\\\n- Very yummy food!\\\\n- Sizzlers, burgers and sandwiches available\\\\n- Recommend :\\\\n~ Butter garlic prawn, corn cheese bombs \\u00c3\\u0083\\\\x83\\u00c3\\u0082\\\\x83\\u00c3\\u0083\\\\x82\\u00c3\\u0082\\\\x83\\u00c3\\u0083\\\\x83\\u00c3\\u0082\\\\x82\\u00c3\\u0083\\\\x82\\u00c3\\u0082\\u00c2\\u00a2\\u00c3\\u0083\\\\x83\\u00c3\\u0082\\\\x83\\u00c3\\u0083\\\\x82\\u00c3\\u0082\\\\x82\\u00c3\\u0083\\\\x83\\u00c3\\u0082\\\\x82\\u00c3\\u0083\\\\x82\\u00c3\\u0082\\\\x9d\\u00c3\\u0083\\\\x83\\u00c3\\u0082\\\\x83\\u00c3\\u0083\\\\x82\\u00c3\\u0082\\\\x82\\u00c3\\u0083\\\\x83\\u00c3\\u0082\\\\x82\\u00c3\\u0083\\\\x82\\u00c3\\u0082\\u00c2\\u00a4\\\\n~ Pasta sizzlers is a good option for pasta lovers.\\\\n\\\\n\\u00c3\\u0083\\\\x83\\u00c3\\u0082\\\\x83\\u00c3\\u0083\\\\x82\\u00c3\\u0082\\\\x83\\u00c3\\u0083\\\\x83\\u00c3\\u0082\\\\x82\\u00c3\\u0083\\\\x82\\u00c3\\u0082\\\\x82\\u00c3\\u0083\\\\x83\\u00c3\\u0082\\\\x83\\u00c3\\u0083\\\\x82\\u00c3\\u0082\\\\x82\\u00c3\\u0083\\\\x83\\u00c3\\u0082\\\\x82\\u00c3\\u0083\\\\x82\\u00c3\\u0082\\u00c2\\u00b0Drinks :\\\\n- Wine\\\\n- Mocktails\\\\n\\\\n\\u00c3\\u0083\\\\x83\\u00c3\\u0082\\\\x83\\u00c3\\u0083\\\\x82\\u00c3\\u0082\\\\x83\\u00c3\\u0083\\\\x83\\u00c3\\u0082\\\\x82\\u00c3\\u0083\\\\x82\\u00c3\\u0082\\\\x82\\u00c3\\u0083\\\\x83\\u00c3\\u0082\\\\x83\\u00c3\\u0083\\\\x82\\u00c3\\u0082\\\\x82\\u00c3\\u0083\\\\x83\\u00c3\\u0082\\\\x82\\u00c3\\u0083\\\\x82\\u00c3\\u0082\\u00c2\\u00b0Desserts:\\\\n- Can be improved \\u00c3\\u0083\\\\x83\\u00c3\\u0082\\\\x83\\u00c3\\u0083\\\\x82\\u00c3\\u0082\\\\x83\\u00c3\\u0083\\\\x83\\u00c3\\u0082\\\\x82\\u00c3\\u0083\\\\x82\\u00c3\\u0082\\u00c2\\u00a2\\u00c3\\u0083\\\\x83\\u00c3\\u0082\\\\x83\\u00c3\\u0083\\\\x82\\u00c3\\u0082\\\\x82\\u00c3\\u0083\\\\x83\\u00c3\\u0082\\\\x82\\u00c3\\u0083\\\\x82\\u00c3\\u0082\\\\x9a\\u00c3\\u0083\\\\x83\\u00c3\\u0082\\\\x83\\u00c3\\u0083\\\\x82\\u00c3\\u0082\\\\x82\\u00c3\\u0083\\\\x83\\u00c3\\u0082\\\\x82\\u00c3\\u0083\\\\x82\\u00c3\\u0082\\\\xa0\\u00c3\\u0083\\\\x83\\u00c3\\u0082\\\\x83\\u00c3\\u0083\\\\x82\\u00c3\\u0082\\\\x83\\u00c3\\u0083\\\\x83\\u00c3\\u0082\\\\x82\\u00c3\\u0083\\\\x82\\u00c3\\u0082\\u00c2\\u00af\\u00c3\\u0083\\\\x83\\u00c3\\u0082\\\\x83\\u00c3\\u0083\\\\x82\\u00c3\\u0082\\\\x82\\u00c3\\u0083\\\\x83\\u00c3\\u0082\\\\x82\\u00c3\\u0083\\\\x82\\u00c3\\u0082\\u00c2\\u00b8\\u00c3\\u0083\\\\x83\\u00c3\\u0082\\\\x83\\u00c3\\u0083\\\\x82\\u00c3\\u0082\\\\x82\\u00c3\\u0083\\\\x83\\u00c3\\u0082\\\\x82\\u00c3\\u0083\\\\x82\\u00c3\\u0082\\\\x8f\\\\nNew York cheese cake was warm \\u00c3\\u0083\\\\x83\\u00c3\\u0082\\\\x83\\u00c3\\u0083\\\\x82\\u00c3\\u0082\\\\x83\\u00c3\\u0083\\\\x83\\u00c3\\u0082\\\\x82\\u00c3\\u0083\\\\x82\\u00c3\\u0082\\u00c2\\u00b0\\u00c3\\u0083\\\\x83\\u00c3\\u0082\\\\x83\\u00c3\\u0083\\\\x82\\u00c3\\u0082\\\\x82\\u00c3\\u0083\\\\x83\\u00c3\\u0082\\\\x82\\u00c3\\u0083\\\\x82\\u00c3\\u0082\\\\x9f\\u00c3\\u0083\\\\x83\\u00c3\\u0082\\\\x83\\u00c3\\u0083\\\\x82\\u00c3\\u0082\\\\x82\\u00c3\\u0083\\\\x83\\u00c3\\u0082\\\\x82\\u00c3\\u0083\\\\x82\\u00c3\\u0082\\\\x8d\\u00c3\\u0083\\\\x83\\u00c3\\u0082\\\\x83\\u00c3\\u0083\\\\x82\\u00c3\\u0082\\\\x82\\u00c3\\u0083\\\\x83\\u00c3\\u0082\\\\x82\\u00c3\\u0083\\\\x82\\u00c3\\u0082\\u00c2\\u00b0\\u00c3\\u0083\\\\x83\\u00c3\\u0082\\\\x83\\u00c3\\u0083\\\\x82\\u00c3\\u0082\\\\x83\\u00c3\\u0083\\\\x83\\u00c3\\u0082\\\\x82\\u00c3\\u0083\\\\x82\\u00c3\\u0082\\u00c2\\u00b0\\u00c3\\u0083\\\\x83\\u00c3\\u0082\\\\x83\\u00c3\\u0083\\\\x82\\u00c3\\u0082\\\\x82\\u00c3\\u0083\\\\x83\\u00c3\\u0082\\\\x82\\u00c3\\u0083\\\\x82\\u00c3\\u0082\\\\x9f\\u00c3\\u0083\\\\x83\\u00c3\\u0082\\\\x83\\u00c3\\u0083\\\\x82\\u00c3\\u0082\\\\x82\\u00c3\\u0083\\\\x83\\u00c3\\u0082\\\\x82\\u00c3\\u0083\\\\x82\\u00c3\\u0082\\\\x91\\u00c3\\u0083\\\\x83\\u00c3\\u0082\\\\x83\\u00c3\\u0083\\\\x82\\u00c3\\u0082\\\\x82\\u00c3\\u0083\\\\x83\\u00c3\\u0082\\\\x82\\u00c3\\u0083\\\\x82\\u00c3\\u0082\\\\x8e\\u00c3\\u0083\\\\x83\\u00c3\\u0082\\\\x83\\u00c3\\u0083\\\\x82\\u00c3\\u0082\\\\x83\\u00c3\\u0083\\\\x83\\u00c3\\u0082\\\\x82\\u00c3\\u0083\\\\x82\\u00c3\\u0082\\u00c2\\u00b0\\u00c3\\u0083\\\\x83\\u00c3\\u0082\\\\x83\\u00c3\\u0083\\\\x82\\u00c3\\u0082\\\\x82\\u00c3\\u0083\\\\x83\\u00c3\\u0082\\\\x82\\u00c3\\u0083\\\\x82\\u00c3\\u0082\\\\x9f\\u00c3\\u0083\\\\x83\\u00c3\\u0082\\\\x83\\u00c3\\u0083\\\\x82\\u00c3\\u0082\\\\x82\\u00c3\\u0083\\\\x83\\u00c3\\u0082\\\\x82\\u00c3\\u0083\\\\x82\\u00c3\\u0082\\\\x8f\\u00c3\\u0083\\\\x83\\u00c3\\u0082\\\\x83\\u00c3\\u0083\\\\x82\\u00c3\\u0082\\\\x82\\u00c3\\u0083\\\\x83\\u00c3\\u0082\\\\x82\\u00c3\\u0083\\\\x82\\u00c3\\u0082\\u00c2\\u00bc\\\\nSizzling brownie - the brownie was good but the chocolate sauce had a burnt taste as the sizzlers was too hot than it should have been. \\u00c3\\u0083\\\\x83\\u00c3\\u0082\\\\x83\\u00c3\\u0083\\\\x82\\u00c3\\u0082\\\\x83\\u00c3\\u0083\\\\x83\\u00c3\\u0082\\\\x82\\u00c3\\u0083\\\\x82\\u00c3\\u0082\\u00c2\\u00b0\\u00c3\\u0083\\\\x83\\u00c3\\u0082\\\\x83\\u00c3\\u0083\\\\x82\\u00c3\\u0082\\\\x82\\u00c3\\u0083\\\\x83\\u00c3\\u0082\\\\x82\\u00c3\\u0083\\\\x82\\u00c3\\u0082\\\\x9f\\u00c3\\u0083\\\\x83\\u00c3\\u0082\\\\x83\\u00c3\\u0083\\\\x82\\u00c3\\u0082\\\\x82\\u00c3\\u0083\\\\x83\\u00c3\\u0082\\\\x82\\u00c3\\u0083\\\\x82\\u00c3\\u0082\\\\x91\\u00c3\\u0083\\\\x83\\u00c3\\u0082\\\\x83\\u00c3\\u0083\\\\x82\\u00c3\\u0082\\\\x82\\u00c3\\u0083\\\\x83\\u00c3\\u0082\\\\x82\\u00c3\\u0083\\\\x82\\u00c3\\u0082\\\\x8e\\u00c3\\u0083\\\\x83\\u00c3\\u0082\\\\x83\\u00c3\\u0083\\\\x82\\u00c3\\u0082\\\\x83\\u00c3\\u0083\\\\x83\\u00c3\\u0082\\\\x82\\u00c3\\u0083\\\\x82\\u00c3\\u0082\\u00c2\\u00b0\\u00c3\\u0083\\\\x83\\u00c3\\u0082\\\\x83\\u00c3\\u0083\\\\x82\\u00c3\\u0082\\\\x82\\u00c3\\u0083\\\\x83\\u00c3\\u0082\\\\x82\\u00c3\\u0083\\\\x82\\u00c3\\u0082\\\\x9f\\u00c3\\u0083\\\\x83\\u00c3\\u0082\\\\x83\\u00c3\\u0083\\\\x82\\u00c3\\u0082\\\\x82\\u00c3\\u0083\\\\x83\\u00c3\\u0082\\\\x82\\u00c3\\u0083\\\\x82\\u00c3\\u0082\\\\x8f\\u00c3\\u0083\\\\x83\\u00c3\\u0082\\\\x83\\u00c3\\u0083\\\\x82\\u00c3\\u0082\\\\x82\\u00c3\\u0083\\\\x83\\u00c3\\u0082\\\\x82\\u00c3\\u0083\\\\x82\\u00c3\\u0082\\u00c2\\u00bc\\\\n\\\\n\\u00c3\\u0083\\\\x83\\u00c3\\u0082\\\\x83\\u00c3\\u0083\\\\x82\\u00c3\\u0082\\\\x83\\u00c3\\u0083\\\\x83\\u00c3\\u0082\\\\x82\\u00c3\\u0083\\\\x82\\u00c3\\u0082\\\\x82\\u00c3\\u0083\\\\x83\\u00c3\\u0082\\\\x83\\u00c3\\u0083\\\\x82\\u00c3\\u0082\\\\x82\\u00c3\\u0083\\\\x83\\u00c3\\u0082\\\\x82\\u00c3\\u0083\\\\x82\\u00c3\\u0082\\u00c2\\u00b0Menu:\\\\n- Veg and Non veg dishes available\\\\n- Decent portions \\u00c3\\u0083\\\\x83\\u00c3\\u0082\\\\x83\\u00c3\\u0083\\\\x82\\u00c3\\u0082\\\\x83\\u00c3\\u0083\\\\x83\\u00c3\\u0082\\\\x82\\u00c3\\u0083\\\\x82\\u00c3\\u0082\\u00c2\\u00a2\\u00c3\\u0083\\\\x83\\u00c3\\u0082\\\\x83\\u00c3\\u0083\\\\x82\\u00c3\\u0082\\\\x82\\u00c3\\u0083\\\\x83\\u00c3\\u0082\\\\x82\\u00c3\\u0083\\\\x82\\u00c3\\u0082\\\\xad\\u00c3\\u0083\\\\x83\\u00c3\\u0082\\\\x83\\u00c3\\u0083\\\\x82\\u00c3\\u0082\\\\x82\\u00c3\\u0083\\\\x83\\u00c3\\u0082\\\\x82\\u00c3\\u0083\\\\x82\\u00c3\\u0082\\\\x90\\\\n\\\\n\\u00c3\\u0083\\\\x83\\u00c3\\u0082\\\\x83\\u00c3\\u0083\\\\x82\\u00c3\\u0082\\\\x83\\u00c3\\u0083\\\\x83\\u00c3\\u0082\\\\x82\\u00c3\\u0083\\\\x82\\u00c3\\u0082\\\\x82\\u00c3\\u0083\\\\x83\\u00c3\\u0082\\\\x83\\u00c3\\u0083\\\\x82\\u00c3\\u0082\\\\x82\\u00c3\\u0083\\\\x83\\u00c3\\u0082\\\\x82\\u00c3\\u0083\\\\x82\\u00c3\\u0082\\u00c2\\u00b0Service :\\\\n- No complaints.\\\\n\\\\nHead to the place for a really good meal \\\\U0001f929\\u00c3\\u0083\\\\x83\\u00c3\\u0082\\\\x83\\u00c3\\u0083\\\\x82\\u00c3\\u0082\\\\x83\\u00c3\\u0083\\\\x83\\u00c3\\u0082\\\\x82\\u00c3\\u0083\\\\x82\\u00c3\\u0082\\u00c2\\u00b0\\u00c3\\u0083\\\\x83\\u00c3\\u0082\\\\x83\\u00c3\\u0083\\\\x82\\u00c3\\u0082\\\\x82\\u00c3\\u0083\\\\x83\\u00c3\\u0082\\\\x82\\u00c3\\u0083\\\\x82\\u00c3\\u0082\\\\x9f\\u00c3\\u0083\\\\x83\\u00c3\\u0082\\\\x83\\u00c3\\u0083\\\\x82\\u00c3\\u0082\\\\x82\\u00c3\\u0083\\\\x83\\u00c3\\u0082\\\\x82\\u00c3\\u0083\\\\x82\\u00c3\\u0082\\\\x91\\u00c3\\u0083\\\\x83\\u00c3\\u0082\\\\x83\\u00c3\\u0083\\\\x82\\u00c3\\u0082\\\\x82\\u00c3\\u0083\\\\x83\\u00c3\\u0082\\\\x82\\u00c3\\u0083\\\\x82\\u00c3\\u0082\\\\x8d\\u00c3\\u0083\\\\x83\\u00c3\\u0082\\\\x83\\u00c3\\u0083\\\\x82\\u00c3\\u0082\\\\x83\\u00c3\\u0083\\\\x83\\u00c3\\u0082\\\\x82\\u00c3\\u0083\\\\x82\\u00c3\\u0082\\u00c2\\u00b0\\u00c3\\u0083\\\\x83\\u00c3\\u0082\\\\x83\\u00c3\\u0083\\\\x82\\u00c3\\u0082\\\\x82\\u00c3\\u0083\\\\x83\\u00c3\\u0082\\\\x82\\u00c3\\u0083\\\\x82\\u00c3\\u0082\\\\x9f\\u00c3\\u0083\\\\x83\\u00c3\\u0082\\\\x83\\u00c3\\u0083\\\\x82\\u00c3\\u0082\\\\x82\\u00c3\\u0083\\\\x83\\u00c3\\u0082\\\\x82\\u00c3\\u0083\\\\x82\\u00c3\\u0082\\\\x8f\\u00c3\\u0083\\\\x83\\u00c3\\u0082\\\\x83\\u00c3\\u0083\\\\x82\\u00c3\\u0082\\\\x82\\u00c3\\u0083\\\\x83\\u00c3\\u0082\\\\x82\\u00c3\\u0083\\\\x82\\u00c3\\u0082\\u00c2\\u00bc'), ('Rated 4.0', \\\"RATED\\\\n  It's always been my favorite place for sizzler. Cheese macroni sizzler was amazing. Btw everything they serve was worth trying (sizzlers) .\\\\nDidn't like the pasta tho.\\\\n\\\\nFood- 4.5/5\\\\nAmbience- 4/5\\\\nService- 2.5/5 (it's very slow)\\\"), ('Rated 5.0', 'RATED\\\\n  I have not had such a nice food in a really long time. Their butter garlic prawns were the best I have had till date. Please try it if you visit the place. Also the pasta sizzler and fish steak both were delicious. I will certainly visit this place again and again. They are light on pocket also because of zomato gold. However the service could be fast. The food they offer is absolutely amazing.'), ('Rated 3.0', 'RATED\\\\n  The food is average and the prices are high. We order fish finger and it was disappointing to see that the fish content was really less, however the batter was so thick that there was hardly any taste of the fish in a bite. Similarly the flavours in the sizzlers were just okay and tasted more ketchupy'), ('Rated 4.0', 'RATED\\\\n  \\u00c3\\u0083\\\\x83\\u00c3\\u0082\\\\x83\\u00c3\\u0083\\\\x82\\u00c3\\u0082\\\\x83\\u00c3\\u0083\\\\x83\\u00c3\\u0082\\\\x82\\u00c3\\u0083\\\\x82\\u00c3\\u0082\\\\x82\\u00c3\\u0083\\\\x83\\u00c3\\u0082\\\\x83\\u00c3\\u0083\\\\x82\\u00c3\\u0082\\\\x82\\u00c3\\u0083\\\\x83\\u00c3\\u0082\\\\x82\\u00c3\\u0083\\\\x82\\u00c3\\u0082\\u00c2\\u00b0Ambience:\\\\n- Comfortable couches and chairs for seating\\\\n- Warm Woodsy decor\\\\n- Well lit \\u00c3\\u0083\\\\x83\\u00c3\\u0082\\\\x83\\u00c3\\u0083\\\\x82\\u00c3\\u0082\\\\x83\\u00c3\\u0083\\\\x83\\u00c3\\u0082\\\\x82\\u00c3\\u0083\\\\x82\\u00c3\\u0082\\u00c2\\u00a2\\u00c3\\u0083\\\\x83\\u00c3\\u0082\\\\x83\\u00c3\\u0083\\\\x82\\u00c3\\u0082\\\\x82\\u00c3\\u0083\\\\x83\\u00c3\\u0082\\\\x82\\u00c3\\u0083\\\\x82\\u00c3\\u0082\\\\x9c\\u00c3\\u0083\\\\x83\\u00c3\\u0082\\\\x83\\u00c3\\u0083\\\\x82\\u00c3\\u0082\\\\x82\\u00c3\\u0083\\\\x83\\u00c3\\u0082\\\\x82\\u00c3\\u0083\\\\x82\\u00c3\\u0082\\u00c2\\u00a8\\\\n- Good music\\\\n\\\\n\\u00c3\\u0083\\\\x83\\u00c3\\u0082\\\\x83\\u00c3\\u0083\\\\x82\\u00c3\\u0082\\\\x83\\u00c3\\u0083\\\\x83\\u00c3\\u0082\\\\x82\\u00c3\\u0083\\\\x82\\u00c3\\u0082\\\\x82\\u00c3\\u0083\\\\x83\\u00c3\\u0082\\\\x83\\u00c3\\u0083\\\\x82\\u00c3\\u0082\\\\x82\\u00c3\\u0083\\\\x83\\u00c3\\u0082\\\\x82\\u00c3\\u0083\\\\x82\\u00c3\\u0082\\u00c2\\u00b0Food:\\\\n- Very yummy food!\\\\n- Sizzlers, burgers and sandwiches available\\\\n- Recommend :\\\\n~ Butter garlic prawn, corn cheese bombs \\u00c3\\u0083\\\\x83\\u00c3\\u0082\\\\x83\\u00c3\\u0083\\\\x82\\u00c3\\u0082\\\\x83\\u00c3\\u0083\\\\x83\\u00c3\\u0082\\\\x82\\u00c3\\u0083\\\\x82\\u00c3\\u0082\\u00c2\\u00a2\\u00c3\\u0083\\\\x83\\u00c3\\u0082\\\\x83\\u00c3\\u0083\\\\x82\\u00c3\\u0082\\\\x82\\u00c3\\u0083\\\\x83\\u00c3\\u0082\\\\x82\\u00c3\\u0083\\\\x82\\u00c3\\u0082\\\\x9d\\u00c3\\u0083\\\\x83\\u00c3\\u0082\\\\x83\\u00c3\\u0083\\\\x82\\u00c3\\u0082\\\\x82\\u00c3\\u0083\\\\x83\\u00c3\\u0082\\\\x82\\u00c3\\u0083\\\\x82\\u00c3\\u0082\\u00c2\\u00a4\\\\n~ Pasta sizzlers is a good option for pasta lovers.\\\\n\\\\n\\u00c3\\u0083\\\\x83\\u00c3\\u0082\\\\x83\\u00c3\\u0083\\\\x82\\u00c3\\u0082\\\\x83\\u00c3\\u0083\\\\x83\\u00c3\\u0082\\\\x82\\u00c3\\u0083\\\\x82\\u00c3\\u0082\\\\x82\\u00c3\\u0083\\\\x83\\u00c3\\u0082\\\\x83\\u00c3\\u0083\\\\x82\\u00c3\\u0082\\\\x82\\u00c3\\u0083\\\\x83\\u00c3\\u0082\\\\x82\\u00c3\\u0083\\\\x82\\u00c3\\u0082\\u00c2\\u00b0Drinks :\\\\n- Wine\\\\n- Mocktails\\\\n\\\\n\\u00c3\\u0083\\\\x83\\u00c3\\u0082\\\\x83\\u00c3\\u0083\\\\x82\\u00c3\\u0082\\\\x83\\u00c3\\u0083\\\\x83\\u00c3\\u0082\\\\x82\\u00c3\\u0083\\\\x82\\u00c3\\u0082\\\\x82\\u00c3\\u0083\\\\x83\\u00c3\\u0082\\\\x83\\u00c3\\u0083\\\\x82\\u00c3\\u0082\\\\x82\\u00c3\\u0083\\\\x83\\u00c3\\u0082\\\\x82\\u00c3\\u0083\\\\x82\\u00c3\\u0082\\u00c2\\u00b0Desserts:\\\\n- Can be improved \\u00c3\\u0083\\\\x83\\u00c3\\u0082\\\\x83\\u00c3\\u0083\\\\x82\\u00c3\\u0082\\\\x83\\u00c3\\u0083\\\\x83\\u00c3\\u0082\\\\x82\\u00c3\\u0083\\\\x82\\u00c3\\u0082\\u00c2\\u00a2\\u00c3\\u0083\\\\x83\\u00c3\\u0082\\\\x83\\u00c3\\u0083\\\\x82\\u00c3\\u0082\\\\x82\\u00c3\\u0083\\\\x83\\u00c3\\u0082\\\\x82\\u00c3\\u0083\\\\x82\\u00c3\\u0082\\\\x9a\\u00c3\\u0083\\\\x83\\u00c3\\u0082\\\\x83\\u00c3\\u0083\\\\x82\\u00c3\\u0082\\\\x82\\u00c3\\u0083\\\\x83\\u00c3\\u0082\\\\x82\\u00c3\\u0083\\\\x82\\u00c3\\u0082\\\\xa0\\u00c3\\u0083\\\\x83\\u00c3\\u0082\\\\x83\\u00c3\\u0083\\\\x82\\u00c3\\u0082\\\\x83\\u00c3\\u0083\\\\x83\\u00c3\\u0082\\\\x82\\u00c3\\u0083\\\\x82\\u00c3\\u0082\\u00c2\\u00af\\u00c3\\u0083\\\\x83\\u00c3\\u0082\\\\x83\\u00c3\\u0083\\\\x82\\u00c3\\u0082\\\\x82\\u00c3\\u0083\\\\x83\\u00c3\\u0082\\\\x82\\u00c3\\u0083\\\\x82\\u00c3\\u0082\\u00c2\\u00b8\\u00c3\\u0083\\\\x83\\u00c3\\u0082\\\\x83\\u00c3\\u0083\\\\x82\\u00c3\\u0082\\\\x82\\u00c3\\u0083\\\\x83\\u00c3\\u0082\\\\x82\\u00c3\\u0083\\\\x82\\u00c3\\u0082\\\\x8f\\\\nNew York cheese cake was warm \\u00c3\\u0083\\\\x83\\u00c3\\u0082\\\\x83\\u00c3\\u0083\\\\x82\\u00c3\\u0082\\\\x83\\u00c3\\u0083\\\\x83\\u00c3\\u0082\\\\x82\\u00c3\\u0083\\\\x82\\u00c3\\u0082\\u00c2\\u00b0\\u00c3\\u0083\\\\x83\\u00c3\\u0082\\\\x83\\u00c3\\u0083\\\\x82\\u00c3\\u0082\\\\x82\\u00c3\\u0083\\\\x83\\u00c3\\u0082\\\\x82\\u00c3\\u0083\\\\x82\\u00c3\\u0082\\\\x9f\\u00c3\\u0083\\\\x83\\u00c3\\u0082\\\\x83\\u00c3\\u0083\\\\x82\\u00c3\\u0082\\\\x82\\u00c3\\u0083\\\\x83\\u00c3\\u0082\\\\x82\\u00c3\\u0083\\\\x82\\u00c3\\u0082\\\\x8d\\u00c3\\u0083\\\\x83\\u00c3\\u0082\\\\x83\\u00c3\\u0083\\\\x82\\u00c3\\u0082\\\\x82\\u00c3\\u0083\\\\x83\\u00c3\\u0082\\\\x82\\u00c3\\u0083\\\\x82\\u00c3\\u0082\\u00c2\\u00b0\\u00c3\\u0083\\\\x83\\u00c3\\u0082\\\\x83\\u00c3\\u0083\\\\x82\\u00c3\\u0082\\\\x83\\u00c3\\u0083\\\\x83\\u00c3\\u0082\\\\x82\\u00c3\\u0083\\\\x82\\u00c3\\u0082\\u00c2\\u00b0\\u00c3\\u0083\\\\x83\\u00c3\\u0082\\\\x83\\u00c3\\u0083\\\\x82\\u00c3\\u0082\\\\x82\\u00c3\\u0083\\\\x83\\u00c3\\u0082\\\\x82\\u00c3\\u0083\\\\x82\\u00c3\\u0082\\\\x9f\\u00c3\\u0083\\\\x83\\u00c3\\u0082\\\\x83\\u00c3\\u0083\\\\x82\\u00c3\\u0082\\\\x82\\u00c3\\u0083\\\\x83\\u00c3\\u0082\\\\x82\\u00c3\\u0083\\\\x82\\u00c3\\u0082\\\\x91\\u00c3\\u0083\\\\x83\\u00c3\\u0082\\\\x83\\u00c3\\u0083\\\\x82\\u00c3\\u0082\\\\x82\\u00c3\\u0083\\\\x83\\u00c3\\u0082\\\\x82\\u00c3\\u0083\\\\x82\\u00c3\\u0082\\\\x8e\\u00c3\\u0083\\\\x83\\u00c3\\u0082\\\\x83\\u00c3\\u0083\\\\x82\\u00c3\\u0082\\\\x83\\u00c3\\u0083\\\\x83\\u00c3\\u0082\\\\x82\\u00c3\\u0083\\\\x82\\u00c3\\u0082\\u00c2\\u00b0\\u00c3\\u0083\\\\x83\\u00c3\\u0082\\\\x83\\u00c3\\u0083\\\\x82\\u00c3\\u0082\\\\x82\\u00c3\\u0083\\\\x83\\u00c3\\u0082\\\\x82\\u00c3\\u0083\\\\x82\\u00c3\\u0082\\\\x9f\\u00c3\\u0083\\\\x83\\u00c3\\u0082\\\\x83\\u00c3\\u0083\\\\x82\\u00c3\\u0082\\\\x82\\u00c3\\u0083\\\\x83\\u00c3\\u0082\\\\x82\\u00c3\\u0083\\\\x82\\u00c3\\u0082\\\\x8f\\u00c3\\u0083\\\\x83\\u00c3\\u0082\\\\x83\\u00c3\\u0083\\\\x82\\u00c3\\u0082\\\\x82\\u00c3\\u0083\\\\x83\\u00c3\\u0082\\\\x82\\u00c3\\u0083\\\\x82\\u00c3\\u0082\\u00c2\\u00bc\\\\nSizzling brownie - the brownie was good but the chocolate sauce had a burnt taste as the sizzlers was too hot than it should have been. \\u00c3\\u0083\\\\x83\\u00c3\\u0082\\\\x83\\u00c3\\u0083\\\\x82\\u00c3\\u0082\\\\x83\\u00c3\\u0083\\\\x83\\u00c3\\u0082\\\\x82\\u00c3\\u0083\\\\x82\\u00c3\\u0082\\u00c2\\u00b0\\u00c3\\u0083\\\\x83\\u00c3\\u0082\\\\x83\\u00c3\\u0083\\\\x82\\u00c3\\u0082\\\\x82\\u00c3\\u0083\\\\x83\\u00c3\\u0082\\\\x82\\u00c3\\u0083\\\\x82\\u00c3\\u0082\\\\x9f\\u00c3\\u0083\\\\x83\\u00c3\\u0082\\\\x83\\u00c3\\u0083\\\\x82\\u00c3\\u0082\\\\x82\\u00c3\\u0083\\\\x83\\u00c3\\u0082\\\\x82\\u00c3\\u0083\\\\x82\\u00c3\\u0082\\\\x91\\u00c3\\u0083\\\\x83\\u00c3\\u0082\\\\x83\\u00c3\\u0083\\\\x82\\u00c3\\u0082\\\\x82\\u00c3\\u0083\\\\x83\\u00c3\\u0082\\\\x82\\u00c3\\u0083\\\\x82\\u00c3\\u0082\\\\x8e\\u00c3\\u0083\\\\x83\\u00c3\\u0082\\\\x83\\u00c3\\u0083\\\\x82\\u00c3\\u0082\\\\x83\\u00c3\\u0083\\\\x83\\u00c3\\u0082\\\\x82\\u00c3\\u0083\\\\x82\\u00c3\\u0082\\u00c2\\u00b0\\u00c3\\u0083\\\\x83\\u00c3\\u0082\\\\x83\\u00c3\\u0083\\\\x82\\u00c3\\u0082\\\\x82\\u00c3\\u0083\\\\x83\\u00c3\\u0082\\\\x82\\u00c3\\u0083\\\\x82\\u00c3\\u0082\\\\x9f\\u00c3\\u0083\\\\x83\\u00c3\\u0082\\\\x83\\u00c3\\u0083\\\\x82\\u00c3\\u0082\\\\x82\\u00c3\\u0083\\\\x83\\u00c3\\u0082\\\\x82\\u00c3\\u0083\\\\x82\\u00c3\\u0082\\\\x8f\\u00c3\\u0083\\\\x83\\u00c3\\u0082\\\\x83\\u00c3\\u0083\\\\x82\\u00c3\\u0082\\\\x82\\u00c3\\u0083\\\\x83\\u00c3\\u0082\\\\x82\\u00c3\\u0083\\\\x82\\u00c3\\u0082\\u00c2\\u00bc\\\\n\\\\n\\u00c3\\u0083\\\\x83\\u00c3\\u0082\\\\x83\\u00c3\\u0083\\\\x82\\u00c3\\u0082\\\\x83\\u00c3\\u0083\\\\x83\\u00c3\\u0082\\\\x82\\u00c3\\u0083\\\\x82\\u00c3\\u0082\\\\x82\\u00c3\\u0083\\\\x83\\u00c3\\u0082\\\\x83\\u00c3\\u0083\\\\x82\\u00c3\\u0082\\\\x82\\u00c3\\u0083\\\\x83\\u00c3\\u0082\\\\x82\\u00c3\\u0083\\\\x82\\u00c3\\u0082\\u00c2\\u00b0Menu:\\\\n- Veg and Non veg dishes available\\\\n- Decent portions \\u00c3\\u0083\\\\x83\\u00c3\\u0082\\\\x83\\u00c3\\u0083\\\\x82\\u00c3\\u0082\\\\x83\\u00c3\\u0083\\\\x83\\u00c3\\u0082\\\\x82\\u00c3\\u0083\\\\x82\\u00c3\\u0082\\u00c2\\u00a2\\u00c3\\u0083\\\\x83\\u00c3\\u0082\\\\x83\\u00c3\\u0083\\\\x82\\u00c3\\u0082\\\\x82\\u00c3\\u0083\\\\x83\\u00c3\\u0082\\\\x82\\u00c3\\u0083\\\\x82\\u00c3\\u0082\\\\xad\\u00c3\\u0083\\\\x83\\u00c3\\u0082\\\\x83\\u00c3\\u0083\\\\x82\\u00c3\\u0082\\\\x82\\u00c3\\u0083\\\\x83\\u00c3\\u0082\\\\x82\\u00c3\\u0083\\\\x82\\u00c3\\u0082\\\\x90\\\\n\\\\n\\u00c3\\u0083\\\\x83\\u00c3\\u0082\\\\x83\\u00c3\\u0083\\\\x82\\u00c3\\u0082\\\\x83\\u00c3\\u0083\\\\x83\\u00c3\\u0082\\\\x82\\u00c3\\u0083\\\\x82\\u00c3\\u0082\\\\x82\\u00c3\\u0083\\\\x83\\u00c3\\u0082\\\\x83\\u00c3\\u0083\\\\x82\\u00c3\\u0082\\\\x82\\u00c3\\u0083\\\\x83\\u00c3\\u0082\\\\x82\\u00c3\\u0083\\\\x82\\u00c3\\u0082\\u00c2\\u00b0Service :\\\\n- No complaints.\\\\n\\\\nHead to the place for a really good meal \\\\U0001f929\\u00c3\\u0083\\\\x83\\u00c3\\u0082\\\\x83\\u00c3\\u0083\\\\x82\\u00c3\\u0082\\\\x83\\u00c3\\u0083\\\\x83\\u00c3\\u0082\\\\x82\\u00c3\\u0083\\\\x82\\u00c3\\u0082\\u00c2\\u00b0\\u00c3\\u0083\\\\x83\\u00c3\\u0082\\\\x83\\u00c3\\u0083\\\\x82\\u00c3\\u0082\\\\x82\\u00c3\\u0083\\\\x83\\u00c3\\u0082\\\\x82\\u00c3\\u0083\\\\x82\\u00c3\\u0082\\\\x9f\\u00c3\\u0083\\\\x83\\u00c3\\u0082\\\\x83\\u00c3\\u0083\\\\x82\\u00c3\\u0082\\\\x82\\u00c3\\u0083\\\\x83\\u00c3\\u0082\\\\x82\\u00c3\\u0083\\\\x82\\u00c3\\u0082\\\\x91\\u00c3\\u0083\\\\x83\\u00c3\\u0082\\\\x83\\u00c3\\u0083\\\\x82\\u00c3\\u0082\\\\x82\\u00c3\\u0083\\\\x83\\u00c3\\u0082\\\\x82\\u00c3\\u0083\\\\x82\\u00c3\\u0082\\\\x8d\\u00c3\\u0083\\\\x83\\u00c3\\u0082\\\\x83\\u00c3\\u0083\\\\x82\\u00c3\\u0082\\\\x83\\u00c3\\u0083\\\\x83\\u00c3\\u0082\\\\x82\\u00c3\\u0083\\\\x82\\u00c3\\u0082\\u00c2\\u00b0\\u00c3\\u0083\\\\x83\\u00c3\\u0082\\\\x83\\u00c3\\u0083\\\\x82\\u00c3\\u0082\\\\x82\\u00c3\\u0083\\\\x83\\u00c3\\u0082\\\\x82\\u00c3\\u0083\\\\x82\\u00c3\\u0082\\\\x9f\\u00c3\\u0083\\\\x83\\u00c3\\u0082\\\\x83\\u00c3\\u0083\\\\x82\\u00c3\\u0082\\\\x82\\u00c3\\u0083\\\\x83\\u00c3\\u0082\\\\x82\\u00c3\\u0083\\\\x82\\u00c3\\u0082\\\\x8f\\u00c3\\u0083\\\\x83\\u00c3\\u0082\\\\x83\\u00c3\\u0083\\\\x82\\u00c3\\u0082\\\\x82\\u00c3\\u0083\\\\x83\\u00c3\\u0082\\\\x82\\u00c3\\u0083\\\\x82\\u00c3\\u0082\\u00c2\\u00bc'), ('Rated 4.0', \\\"RATED\\\\n  It's always been my favorite place for sizzler. Cheese macroni sizzler was amazing. Btw everything they serve was worth trying (sizzlers) .\\\\nDidn't like the pasta tho.\\\\n\\\\nFood- 4.5/5\\\\nAmbience- 4/5\\\\nService- 2.5/5 (it's very slow)\\\"), ('Rated 5.0', 'RATED\\\\n  I have not had such a nice food in a really long time. Their butter garlic prawns were the best I have had till date. Please try it if you visit the place. Also the pasta sizzler and fish steak both were delicious. I will certainly visit this place again and again. They are light on pocket also because of zomato gold. However the service could be fast. The food they offer is absolutely amazing.'), ('Rated 3.0', 'RATED\\\\n  The food is average and the prices are high. We order fish finger and it was disappointing to see that the fish content was really less, however the batter was so thick that there was hardly any taste of the fish in a bite. Similarly the flavours in the sizzlers were just okay and tasted more ketchupy'), ('Rated 4.0', 'RATED\\\\n  \\u00c3\\u0083\\\\x83\\u00c3\\u0082\\\\x83\\u00c3\\u0083\\\\x82\\u00c3\\u0082\\\\x83\\u00c3\\u0083\\\\x83\\u00c3\\u0082\\\\x82\\u00c3\\u0083\\\\x82\\u00c3\\u0082\\\\x82\\u00c3\\u0083\\\\x83\\u00c3\\u0082\\\\x83\\u00c3\\u0083\\\\x82\\u00c3\\u0082\\\\x82\\u00c3\\u0083\\\\x83\\u00c3\\u0082\\\\x82\\u00c3\\u0083\\\\x82\\u00c3\\u0082\\u00c2\\u00b0Ambience:\\\\n- Comfortable couches and chairs for seating\\\\n- Warm Woodsy decor\\\\n- Well lit \\u00c3\\u0083\\\\x83\\u00c3\\u0082\\\\x83\\u00c3\\u0083\\\\x82\\u00c3\\u0082\\\\x83\\u00c3\\u0083\\\\x83\\u00c3\\u0082\\\\x82\\u00c3\\u0083\\\\x82\\u00c3\\u0082\\u00c2\\u00a2\\u00c3\\u0083\\\\x83\\u00c3\\u0082\\\\x83\\u00c3\\u0083\\\\x82\\u00c3\\u0082\\\\x82\\u00c3\\u0083\\\\x83\\u00c3\\u0082\\\\x82\\u00c3\\u0083\\\\x82\\u00c3\\u0082\\\\x9c\\u00c3\\u0083\\\\x83\\u00c3\\u0082\\\\x83\\u00c3\\u0083\\\\x82\\u00c3\\u0082\\\\x82\\u00c3\\u0083\\\\x83\\u00c3\\u0082\\\\x82\\u00c3\\u0083\\\\x82\\u00c3\\u0082\\u00c2\\u00a8\\\\n- Good music\\\\n\\\\n\\u00c3\\u0083\\\\x83\\u00c3\\u0082\\\\x83\\u00c3\\u0083\\\\x82\\u00c3\\u0082\\\\x83\\u00c3\\u0083\\\\x83\\u00c3\\u0082\\\\x82\\u00c3\\u0083\\\\x82\\u00c3\\u0082\\\\x82\\u00c3\\u0083\\\\x83\\u00c3\\u0082\\\\x83\\u00c3\\u0083\\\\x82\\u00c3\\u0082\\\\x82\\u00c3\\u0083\\\\x83\\u00c3\\u0082\\\\x82\\u00c3\\u0083\\\\x82\\u00c3\\u0082\\u00c2\\u00b0Food:\\\\n- Very yummy food!\\\\n- Sizzlers, burgers and sandwiches available\\\\n- Recommend :\\\\n~ Butter garlic prawn, corn cheese bombs \\u00c3\\u0083\\\\x83\\u00c3\\u0082\\\\x83\\u00c3\\u0083\\\\x82\\u00c3\\u0082\\\\x83\\u00c3\\u0083\\\\x83\\u00c3\\u0082\\\\x82\\u00c3\\u0083\\\\x82\\u00c3\\u0082\\u00c2\\u00a2\\u00c3\\u0083\\\\x83\\u00c3\\u0082\\\\x83\\u00c3\\u0083\\\\x82\\u00c3\\u0082\\\\x82\\u00c3\\u0083\\\\x83\\u00c3\\u0082\\\\x82\\u00c3\\u0083\\\\x82\\u00c3\\u0082\\\\x9d\\u00c3\\u0083\\\\x83\\u00c3\\u0082\\\\x83\\u00c3\\u0083\\\\x82\\u00c3\\u0082\\\\x82\\u00c3\\u0083\\\\x83\\u00c3\\u0082\\\\x82\\u00c3\\u0083\\\\x82\\u00c3\\u0082\\u00c2\\u00a4\\\\n~ Pasta sizzlers is a good option for pasta lovers.\\\\n\\\\n\\u00c3\\u0083\\\\x83\\u00c3\\u0082\\\\x83\\u00c3\\u0083\\\\x82\\u00c3\\u0082\\\\x83\\u00c3\\u0083\\\\x83\\u00c3\\u0082\\\\x82\\u00c3\\u0083\\\\x82\\u00c3\\u0082\\\\x82\\u00c3\\u0083\\\\x83\\u00c3\\u0082\\\\x83\\u00c3\\u0083\\\\x82\\u00c3\\u0082\\\\x82\\u00c3\\u0083\\\\x83\\u00c3\\u0082\\\\x82\\u00c3\\u0083\\\\x82\\u00c3\\u0082\\u00c2\\u00b0Drinks :\\\\n- Wine\\\\n- Mocktails\\\\n\\\\n\\u00c3\\u0083\\\\x83\\u00c3\\u0082\\\\x83\\u00c3\\u0083\\\\x82\\u00c3\\u0082\\\\x83\\u00c3\\u0083\\\\x83\\u00c3\\u0082\\\\x82\\u00c3\\u0083\\\\x82\\u00c3\\u0082\\\\x82\\u00c3\\u0083\\\\x83\\u00c3\\u0082\\\\x83\\u00c3\\u0083\\\\x82\\u00c3\\u0082\\\\x82\\u00c3\\u0083\\\\x83\\u00c3\\u0082\\\\x82\\u00c3\\u0083\\\\x82\\u00c3\\u0082\\u00c2\\u00b0Desserts:\\\\n- Can be improved \\u00c3\\u0083\\\\x83\\u00c3\\u0082\\\\x83\\u00c3\\u0083\\\\x82\\u00c3\\u0082\\\\x83\\u00c3\\u0083\\\\x83\\u00c3\\u0082\\\\x82\\u00c3\\u0083\\\\x82\\u00c3\\u0082\\u00c2\\u00a2\\u00c3\\u0083\\\\x83\\u00c3\\u0082\\\\x83\\u00c3\\u0083\\\\x82\\u00c3\\u0082\\\\x82\\u00c3\\u0083\\\\x83\\u00c3\\u0082\\\\x82\\u00c3\\u0083\\\\x82\\u00c3\\u0082\\\\x9a\\u00c3\\u0083\\\\x83\\u00c3\\u0082\\\\x83\\u00c3\\u0083\\\\x82\\u00c3\\u0082\\\\x82\\u00c3\\u0083\\\\x83\\u00c3\\u0082\\\\x82\\u00c3\\u0083\\\\x82\\u00c3\\u0082\\\\xa0\\u00c3\\u0083\\\\x83\\u00c3\\u0082\\\\x83\\u00c3\\u0083\\\\x82\\u00c3\\u0082\\\\x83\\u00c3\\u0083\\\\x83\\u00c3\\u0082\\\\x82\\u00c3\\u0083\\\\x82\\u00c3\\u0082\\u00c2\\u00af\\u00c3\\u0083\\\\x83\\u00c3\\u0082\\\\x83\\u00c3\\u0083\\\\x82\\u00c3\\u0082\\\\x82\\u00c3\\u0083\\\\x83\\u00c3\\u0082\\\\x82\\u00c3\\u0083\\\\x82\\u00c3\\u0082\\u00c2\\u00b8\\u00c3\\u0083\\\\x83\\u00c3\\u0082\\\\x83\\u00c3\\u0083\\\\x82\\u00c3\\u0082\\\\x82\\u00c3\\u0083\\\\x83\\u00c3\\u0082\\\\x82\\u00c3\\u0083\\\\x82\\u00c3\\u0082\\\\x8f\\\\nNew York cheese cake was warm \\u00c3\\u0083\\\\x83\\u00c3\\u0082\\\\x83\\u00c3\\u0083\\\\x82\\u00c3\\u0082\\\\x83\\u00c3\\u0083\\\\x83\\u00c3\\u0082\\\\x82\\u00c3\\u0083\\\\x82\\u00c3\\u0082\\u00c2\\u00b0\\u00c3\\u0083\\\\x83\\u00c3\\u0082\\\\x83\\u00c3\\u0083\\\\x82\\u00c3\\u0082\\\\x82\\u00c3\\u0083\\\\x83\\u00c3\\u0082\\\\x82\\u00c3\\u0083\\\\x82\\u00c3\\u0082\\\\x9f\\u00c3\\u0083\\\\x83\\u00c3\\u0082\\\\x83\\u00c3\\u0083\\\\x82\\u00c3\\u0082\\\\x82\\u00c3\\u0083\\\\x83\\u00c3\\u0082\\\\x82\\u00c3\\u0083\\\\x82\\u00c3\\u0082\\\\x8d\\u00c3\\u0083\\\\x83\\u00c3\\u0082\\\\x83\\u00c3\\u0083\\\\x82\\u00c3\\u0082\\\\x82\\u00c3\\u0083\\\\x83\\u00c3\\u0082\\\\x82\\u00c3\\u0083\\\\x82\\u00c3\\u0082\\u00c2\\u00b0\\u00c3\\u0083\\\\x83\\u00c3\\u0082\\\\x83\\u00c3\\u0083\\\\x82\\u00c3\\u0082\\\\x83\\u00c3\\u0083\\\\x83\\u00c3\\u0082\\\\x82\\u00c3\\u0083\\\\x82\\u00c3\\u0082\\u00c2\\u00b0\\u00c3\\u0083\\\\x83\\u00c3\\u0082\\\\x83\\u00c3\\u0083\\\\x82\\u00c3\\u0082\\\\x82\\u00c3\\u0083\\\\x83\\u00c3\\u0082\\\\x82\\u00c3\\u0083\\\\x82\\u00c3\\u0082\\\\x9f\\u00c3\\u0083\\\\x83\\u00c3\\u0082\\\\x83\\u00c3\\u0083\\\\x82\\u00c3\\u0082\\\\x82\\u00c3\\u0083\\\\x83\\u00c3\\u0082\\\\x82\\u00c3\\u0083\\\\x82\\u00c3\\u0082\\\\x91\\u00c3\\u0083\\\\x83\\u00c3\\u0082\\\\x83\\u00c3\\u0083\\\\x82\\u00c3\\u0082\\\\x82\\u00c3\\u0083\\\\x83\\u00c3\\u0082\\\\x82\\u00c3\\u0083\\\\x82\\u00c3\\u0082\\\\x8e\\u00c3\\u0083\\\\x83\\u00c3\\u0082\\\\x83\\u00c3\\u0083\\\\x82\\u00c3\\u0082\\\\x83\\u00c3\\u0083\\\\x83\\u00c3\\u0082\\\\x82\\u00c3\\u0083\\\\x82\\u00c3\\u0082\\u00c2\\u00b0\\u00c3\\u0083\\\\x83\\u00c3\\u0082\\\\x83\\u00c3\\u0083\\\\x82\\u00c3\\u0082\\\\x82\\u00c3\\u0083\\\\x83\\u00c3\\u0082\\\\x82\\u00c3\\u0083\\\\x82\\u00c3\\u0082\\\\x9f\\u00c3\\u0083\\\\x83\\u00c3\\u0082\\\\x83\\u00c3\\u0083\\\\x82\\u00c3\\u0082\\\\x82\\u00c3\\u0083\\\\x83\\u00c3\\u0082\\\\x82\\u00c3\\u0083\\\\x82\\u00c3\\u0082\\\\x8f\\u00c3\\u0083\\\\x83\\u00c3\\u0082\\\\x83\\u00c3\\u0083\\\\x82\\u00c3\\u0082\\\\x82\\u00c3\\u0083\\\\x83\\u00c3\\u0082\\\\x82\\u00c3\\u0083\\\\x82\\u00c3\\u0082\\u00c2\\u00bc\\\\nSizzling brownie - the brownie was good but the chocolate sauce had a burnt taste as the sizzlers was too hot than it should have been. \\u00c3\\u0083\\\\x83\\u00c3\\u0082\\\\x83\\u00c3\\u0083\\\\x82\\u00c3\\u0082\\\\x83\\u00c3\\u0083\\\\x83\\u00c3\\u0082\\\\x82\\u00c3\\u0083\\\\x82\\u00c3\\u0082\\u00c2\\u00b0\\u00c3\\u0083\\\\x83\\u00c3\\u0082\\\\x83\\u00c3\\u0083\\\\x82\\u00c3\\u0082\\\\x82\\u00c3\\u0083\\\\x83\\u00c3\\u0082\\\\x82\\u00c3\\u0083\\\\x82\\u00c3\\u0082\\\\x9f\\u00c3\\u0083\\\\x83\\u00c3\\u0082\\\\x83\\u00c3\\u0083\\\\x82\\u00c3\\u0082\\\\x82\\u00c3\\u0083\\\\x83\\u00c3\\u0082\\\\x82\\u00c3\\u0083\\\\x82\\u00c3\\u0082\\\\x91\\u00c3\\u0083\\\\x83\\u00c3\\u0082\\\\x83\\u00c3\\u0083\\\\x82\\u00c3\\u0082\\\\x82\\u00c3\\u0083\\\\x83\\u00c3\\u0082\\\\x82\\u00c3\\u0083\\\\x82\\u00c3\\u0082\\\\x8e\\u00c3\\u0083\\\\x83\\u00c3\\u0082\\\\x83\\u00c3\\u0083\\\\x82\\u00c3\\u0082\\\\x83\\u00c3\\u0083\\\\x83\\u00c3\\u0082\\\\x82\\u00c3\\u0083\\\\x82\\u00c3\\u0082\\u00c2\\u00b0\\u00c3\\u0083\\\\x83\\u00c3\\u0082\\\\x83\\u00c3\\u0083\\\\x82\\u00c3\\u0082\\\\x82\\u00c3\\u0083\\\\x83\\u00c3\\u0082\\\\x82\\u00c3\\u0083\\\\x82\\u00c3\\u0082\\\\x9f\\u00c3\\u0083\\\\x83\\u00c3\\u0082\\\\x83\\u00c3\\u0083\\\\x82\\u00c3\\u0082\\\\x82\\u00c3\\u0083\\\\x83\\u00c3\\u0082\\\\x82\\u00c3\\u0083\\\\x82\\u00c3\\u0082\\\\x8f\\u00c3\\u0083\\\\x83\\u00c3\\u0082\\\\x83\\u00c3\\u0083\\\\x82\\u00c3\\u0082\\\\x82\\u00c3\\u0083\\\\x83\\u00c3\\u0082\\\\x82\\u00c3\\u0083\\\\x82\\u00c3\\u0082\\u00c2\\u00bc\\\\n\\\\n\\u00c3\\u0083\\\\x83\\u00c3\\u0082\\\\x83\\u00c3\\u0083\\\\x82\\u00c3\\u0082\\\\x83\\u00c3\\u0083\\\\x83\\u00c3\\u0082\\\\x82\\u00c3\\u0083\\\\x82\\u00c3\\u0082\\\\x82\\u00c3\\u0083\\\\x83\\u00c3\\u0082\\\\x83\\u00c3\\u0083\\\\x82\\u00c3\\u0082\\\\x82\\u00c3\\u0083\\\\x83\\u00c3\\u0082\\\\x82\\u00c3\\u0083\\\\x82\\u00c3\\u0082\\u00c2\\u00b0Menu:\\\\n- Veg and Non veg dishes available\\\\n- Decent portions \\u00c3\\u0083\\\\x83\\u00c3\\u0082\\\\x83\\u00c3\\u0083\\\\x82\\u00c3\\u0082\\\\x83\\u00c3\\u0083\\\\x83\\u00c3\\u0082\\\\x82\\u00c3\\u0083\\\\x82\\u00c3\\u0082\\u00c2\\u00a2\\u00c3\\u0083\\\\x83\\u00c3\\u0082\\\\x83\\u00c3\\u0083\\\\x82\\u00c3\\u0082\\\\x82\\u00c3\\u0083\\\\x83\\u00c3\\u0082\\\\x82\\u00c3\\u0083\\\\x82\\u00c3\\u0082\\\\xad\\u00c3\\u0083\\\\x83\\u00c3\\u0082\\\\x83\\u00c3\\u0083\\\\x82\\u00c3\\u0082\\\\x82\\u00c3\\u0083\\\\x83\\u00c3\\u0082\\\\x82\\u00c3\\u0083\\\\x82\\u00c3\\u0082\\\\x90\\\\n\\\\n\\u00c3\\u0083\\\\x83\\u00c3\\u0082\\\\x83\\u00c3\\u0083\\\\x82\\u00c3\\u0082\\\\x83\\u00c3\\u0083\\\\x83\\u00c3\\u0082\\\\x82\\u00c3\\u0083\\\\x82\\u00c3\\u0082\\\\x82\\u00c3\\u0083\\\\x83\\u00c3\\u0082\\\\x83\\u00c3\\u0083\\\\x82\\u00c3\\u0082\\\\x82\\u00c3\\u0083\\\\x83\\u00c3\\u0082\\\\x82\\u00c3\\u0083\\\\x82\\u00c3\\u0082\\u00c2\\u00b0Service :\\\\n- No complaints.\\\\n\\\\nHead to the place for a really good meal \\\\U0001f929\\u00c3\\u0083\\\\x83\\u00c3\\u0082\\\\x83\\u00c3\\u0083\\\\x82\\u00c3\\u0082\\\\x83\\u00c3\\u0083\\\\x83\\u00c3\\u0082\\\\x82\\u00c3\\u0083\\\\x82\\u00c3\\u0082\\u00c2\\u00b0\\u00c3\\u0083\\\\x83\\u00c3\\u0082\\\\x83\\u00c3\\u0083\\\\x82\\u00c3\\u0082\\\\x82\\u00c3\\u0083\\\\x83\\u00c3\\u0082\\\\x82\\u00c3\\u0083\\\\x82\\u00c3\\u0082\\\\x9f\\u00c3\\u0083\\\\x83\\u00c3\\u0082\\\\x83\\u00c3\\u0083\\\\x82\\u00c3\\u0082\\\\x82\\u00c3\\u0083\\\\x83\\u00c3\\u0082\\\\x82\\u00c3\\u0083\\\\x82\\u00c3\\u0082\\\\x91\\u00c3\\u0083\\\\x83\\u00c3\\u0082\\\\x83\\u00c3\\u0083\\\\x82\\u00c3\\u0082\\\\x82\\u00c3\\u0083\\\\x83\\u00c3\\u0082\\\\x82\\u00c3\\u0083\\\\x82\\u00c3\\u0082\\\\x8d\\u00c3\\u0083\\\\x83\\u00c3\\u0082\\\\x83\\u00c3\\u0083\\\\x82\\u00c3\\u0082\\\\x83\\u00c3\\u0083\\\\x83\\u00c3\\u0082\\\\x82\\u00c3\\u0083\\\\x82\\u00c3\\u0082\\u00c2\\u00b0\\u00c3\\u0083\\\\x83\\u00c3\\u0082\\\\x83\\u00c3\\u0083\\\\x82\\u00c3\\u0082\\\\x82\\u00c3\\u0083\\\\x83\\u00c3\\u0082\\\\x82\\u00c3\\u0083\\\\x82\\u00c3\\u0082\\\\x9f\\u00c3\\u0083\\\\x83\\u00c3\\u0082\\\\x83\\u00c3\\u0083\\\\x82\\u00c3\\u0082\\\\x82\\u00c3\\u0083\\\\x83\\u00c3\\u0082\\\\x82\\u00c3\\u0083\\\\x82\\u00c3\\u0082\\\\x8f\\u00c3\\u0083\\\\x83\\u00c3\\u0082\\\\x83\\u00c3\\u0083\\\\x82\\u00c3\\u0082\\\\x82\\u00c3\\u0083\\\\x83\\u00c3\\u0082\\\\x82\\u00c3\\u0083\\\\x82\\u00c3\\u0082\\u00c2\\u00bc'), ('Rated 4.0', \\\"RATED\\\\n  It's always been my favorite place for sizzler. Cheese macroni sizzler was amazing. Btw everything they serve was worth trying (sizzlers) .\\\\nDidn't like the pasta tho.\\\\n\\\\nFood- 4.5/5\\\\nAmbience- 4/5\\\\nService- 2.5/5 (it's very slow)\\\"), ('Rated 5.0', 'RATED\\\\n  I have not had such a nice food in a really long time. Their butter garlic prawns were the best I have had till date. Please try it if you visit the place. Also the pasta sizzler and fish steak both were delicious. I will certainly visit this place again and again. They are light on pocket also because of zomato gold. However the service could be fast. The food they offer is absolutely amazing.'), ('Rated 3.0', 'RATED\\\\n  The food is average and the prices are high. We order fish finger and it was disappointing to see that the fish content was really less, however the batter was so thick that there was hardly any taste of the fish in a bite. Similarly the flavours in the sizzlers were just okay and tasted more ketchupy'), ('Rated 4.0', 'RATED\\\\n  \\u00c3\\u0083\\\\x83\\u00c3\\u0082\\\\x83\\u00c3\\u0083\\\\x82\\u00c3\\u0082\\\\x83\\u00c3\\u0083\\\\x83\\u00c3\\u0082\\\\x82\\u00c3\\u0083\\\\x82\\u00c3\\u0082\\\\x82\\u00c3\\u0083\\\\x83\\u00c3\\u0082\\\\x83\\u00c3\\u0083\\\\x82\\u00c3\\u0082\\\\x82\\u00c3\\u0083\\\\x83\\u00c3\\u0082\\\\x82\\u00c3\\u0083\\\\x82\\u00c3\\u0082\\u00c2\\u00b0Ambience:\\\\n- Comfortable couches and chairs for seating\\\\n- Warm Woodsy decor\\\\n- Well lit \\u00c3\\u0083\\\\x83\\u00c3\\u0082\\\\x83\\u00c3\\u0083\\\\x82\\u00c3\\u0082\\\\x83\\u00c3\\u0083\\\\x83\\u00c3\\u0082\\\\x82\\u00c3\\u0083\\\\x82\\u00c3\\u0082\\u00c2\\u00a2\\u00c3\\u0083\\\\x83\\u00c3\\u0082\\\\x83\\u00c3\\u0083\\\\x82\\u00c3\\u0082\\\\x82\\u00c3\\u0083\\\\x83\\u00c3\\u0082\\\\x82\\u00c3\\u0083\\\\x82\\u00c3\\u0082\\\\x9c\\u00c3\\u0083\\\\x83\\u00c3\\u0082\\\\x83\\u00c3\\u0083\\\\x82\\u00c3\\u0082\\\\x82\\u00c3\\u0083\\\\x83\\u00c3\\u0082\\\\x82\\u00c3\\u0083\\\\x82\\u00c3\\u0082\\u00c2\\u00a8\\\\n- Good music\\\\n\\\\n\\u00c3\\u0083\\\\x83\\u00c3\\u0082\\\\x83\\u00c3\\u0083\\\\x82\\u00c3\\u0082\\\\x83\\u00c3\\u0083\\\\x83\\u00c3\\u0082\\\\x82\\u00c3\\u0083\\\\x82\\u00c3\\u0082\\\\x82\\u00c3\\u0083\\\\x83\\u00c3\\u0082\\\\x83\\u00c3\\u0083\\\\x82\\u00c3\\u0082\\\\x82\\u00c3\\u0083\\\\x83\\u00c3\\u0082\\\\x82\\u00c3\\u0083\\\\x82\\u00c3\\u0082\\u00c2\\u00b0Food:\\\\n- Very yummy food!\\\\n- Sizzlers, burgers and sandwiches available\\\\n- Recommend :\\\\n~ Butter garlic prawn, corn cheese bombs \\u00c3\\u0083\\\\x83\\u00c3\\u0082\\\\x83\\u00c3\\u0083\\\\x82\\u00c3\\u0082\\\\x83\\u00c3\\u0083\\\\x83\\u00c3\\u0082\\\\x82\\u00c3\\u0083\\\\x82\\u00c3\\u0082\\u00c2\\u00a2\\u00c3\\u0083\\\\x83\\u00c3\\u0082\\\\x83\\u00c3\\u0083\\\\x82\\u00c3\\u0082\\\\x82\\u00c3\\u0083\\\\x83\\u00c3\\u0082\\\\x82\\u00c3\\u0083\\\\x82\\u00c3\\u0082\\\\x9d\\u00c3\\u0083\\\\x83\\u00c3\\u0082\\\\x83\\u00c3\\u0083\\\\x82\\u00c3\\u0082\\\\x82\\u00c3\\u0083\\\\x83\\u00c3\\u0082\\\\x82\\u00c3\\u0083\\\\x82\\u00c3\\u0082\\u00c2\\u00a4\\\\n~ Pasta sizzlers is a good option for pasta lovers.\\\\n\\\\n\\u00c3\\u0083\\\\x83\\u00c3\\u0082\\\\x83\\u00c3\\u0083\\\\x82\\u00c3\\u0082\\\\x83\\u00c3\\u0083\\\\x83\\u00c3\\u0082\\\\x82\\u00c3\\u0083\\\\x82\\u00c3\\u0082\\\\x82\\u00c3\\u0083\\\\x83\\u00c3\\u0082\\\\x83\\u00c3\\u0083\\\\x82\\u00c3\\u0082\\\\x82\\u00c3\\u0083\\\\x83\\u00c3\\u0082\\\\x82\\u00c3\\u0083\\\\x82\\u00c3\\u0082\\u00c2\\u00b0Drinks :\\\\n- Wine\\\\n- Mocktails\\\\n\\\\n\\u00c3\\u0083\\\\x83\\u00c3\\u0082\\\\x83\\u00c3\\u0083\\\\x82\\u00c3\\u0082\\\\x83\\u00c3\\u0083\\\\x83\\u00c3\\u0082\\\\x82\\u00c3\\u0083\\\\x82\\u00c3\\u0082\\\\x82\\u00c3\\u0083\\\\x83\\u00c3\\u0082\\\\x83\\u00c3\\u0083\\\\x82\\u00c3\\u0082\\\\x82\\u00c3\\u0083\\\\x83\\u00c3\\u0082\\\\x82\\u00c3\\u0083\\\\x82\\u00c3\\u0082\\u00c2\\u00b0Desserts:\\\\n- Can be improved \\u00c3\\u0083\\\\x83\\u00c3\\u0082\\\\x83\\u00c3\\u0083\\\\x82\\u00c3\\u0082\\\\x83\\u00c3\\u0083\\\\x83\\u00c3\\u0082\\\\x82\\u00c3\\u0083\\\\x82\\u00c3\\u0082\\u00c2\\u00a2\\u00c3\\u0083\\\\x83\\u00c3\\u0082\\\\x83\\u00c3\\u0083\\\\x82\\u00c3\\u0082\\\\x82\\u00c3\\u0083\\\\x83\\u00c3\\u0082\\\\x82\\u00c3\\u0083\\\\x82\\u00c3\\u0082\\\\x9a\\u00c3\\u0083\\\\x83\\u00c3\\u0082\\\\x83\\u00c3\\u0083\\\\x82\\u00c3\\u0082\\\\x82\\u00c3\\u0083\\\\x83\\u00c3\\u0082\\\\x82\\u00c3\\u0083\\\\x82\\u00c3\\u0082\\\\xa0\\u00c3\\u0083\\\\x83\\u00c3\\u0082\\\\x83\\u00c3\\u0083\\\\x82\\u00c3\\u0082\\\\x83\\u00c3\\u0083\\\\x83\\u00c3\\u0082\\\\x82\\u00c3\\u0083\\\\x82\\u00c3\\u0082\\u00c2\\u00af\\u00c3\\u0083\\\\x83\\u00c3\\u0082\\\\x83\\u00c3\\u0083\\\\x82\\u00c3\\u0082\\\\x82\\u00c3\\u0083\\\\x83\\u00c3\\u0082\\\\x82\\u00c3\\u0083\\\\x82\\u00c3\\u0082\\u00c2\\u00b8\\u00c3\\u0083\\\\x83\\u00c3\\u0082\\\\x83\\u00c3\\u0083\\\\x82\\u00c3\\u0082\\\\x82\\u00c3\\u0083\\\\x83\\u00c3\\u0082\\\\x82\\u00c3\\u0083\\\\x82\\u00c3\\u0082\\\\x8f\\\\nNew York cheese cake was warm \\u00c3\\u0083\\\\x83\\u00c3\\u0082\\\\x83\\u00c3\\u0083\\\\x82\\u00c3\\u0082\\\\x83\\u00c3\\u0083\\\\x83\\u00c3\\u0082\\\\x82\\u00c3\\u0083\\\\x82\\u00c3\\u0082\\u00c2\\u00b0\\u00c3\\u0083\\\\x83\\u00c3\\u0082\\\\x83\\u00c3\\u0083\\\\x82\\u00c3\\u0082\\\\x82\\u00c3\\u0083\\\\x83\\u00c3\\u0082\\\\x82\\u00c3\\u0083\\\\x82\\u00c3\\u0082\\\\x9f\\u00c3\\u0083\\\\x83\\u00c3\\u0082\\\\x83\\u00c3\\u0083\\\\x82\\u00c3\\u0082\\\\x82\\u00c3\\u0083\\\\x83\\u00c3\\u0082\\\\x82\\u00c3\\u0083\\\\x82\\u00c3\\u0082\\\\x8d\\u00c3\\u0083\\\\x83\\u00c3\\u0082\\\\x83\\u00c3\\u0083\\\\x82\\u00c3\\u0082\\\\x82\\u00c3\\u0083\\\\x83\\u00c3\\u0082\\\\x82\\u00c3\\u0083\\\\x82\\u00c3\\u0082\\u00c2\\u00b0\\u00c3\\u0083\\\\x83\\u00c3\\u0082\\\\x83\\u00c3\\u0083\\\\x82\\u00c3\\u0082\\\\x83\\u00c3\\u0083\\\\x83\\u00c3\\u0082\\\\x82\\u00c3\\u0083\\\\x82\\u00c3\\u0082\\u00c2\\u00b0\\u00c3\\u0083\\\\x83\\u00c3\\u0082\\\\x83\\u00c3\\u0083\\\\x82\\u00c3\\u0082\\\\x82\\u00c3\\u0083\\\\x83\\u00c3\\u0082\\\\x82\\u00c3\\u0083\\\\x82\\u00c3\\u0082\\\\x9f\\u00c3\\u0083\\\\x83\\u00c3\\u0082\\\\x83\\u00c3\\u0083\\\\x82\\u00c3\\u0082\\\\x82\\u00c3\\u0083\\\\x83\\u00c3\\u0082\\\\x82\\u00c3\\u0083\\\\x82\\u00c3\\u0082\\\\x91\\u00c3\\u0083\\\\x83\\u00c3\\u0082\\\\x83\\u00c3\\u0083\\\\x82\\u00c3\\u0082\\\\x82\\u00c3\\u0083\\\\x83\\u00c3\\u0082\\\\x82\\u00c3\\u0083\\\\x82\\u00c3\\u0082\\\\x8e\\u00c3\\u0083\\\\x83\\u00c3\\u0082\\\\x83\\u00c3\\u0083\\\\x82\\u00c3\\u0082\\\\x83\\u00c3\\u0083\\\\x83\\u00c3\\u0082\\\\x82\\u00c3\\u0083\\\\x82\\u00c3\\u0082\\u00c2\\u00b0\\u00c3\\u0083\\\\x83\\u00c3\\u0082\\\\x83\\u00c3\\u0083\\\\x82\\u00c3\\u0082\\\\x82\\u00c3\\u0083\\\\x83\\u00c3\\u0082\\\\x82\\u00c3\\u0083\\\\x82\\u00c3\\u0082\\\\x9f\\u00c3\\u0083\\\\x83\\u00c3\\u0082\\\\x83\\u00c3\\u0083\\\\x82\\u00c3\\u0082\\\\x82\\u00c3\\u0083\\\\x83\\u00c3\\u0082\\\\x82\\u00c3\\u0083\\\\x82\\u00c3\\u0082\\\\x8f\\u00c3\\u0083\\\\x83\\u00c3\\u0082\\\\x83\\u00c3\\u0083\\\\x82\\u00c3\\u0082\\\\x82\\u00c3\\u0083\\\\x83\\u00c3\\u0082\\\\x82\\u00c3\\u0083\\\\x82\\u00c3\\u0082\\u00c2\\u00bc\\\\nSizzling brownie - the brownie was good but the chocolate sauce had a burnt taste as the sizzlers was too hot than it should have been. \\u00c3\\u0083\\\\x83\\u00c3\\u0082\\\\x83\\u00c3\\u0083\\\\x82\\u00c3\\u0082\\\\x83\\u00c3\\u0083\\\\x83\\u00c3\\u0082\\\\x82\\u00c3\\u0083\\\\x82\\u00c3\\u0082\\u00c2\\u00b0\\u00c3\\u0083\\\\x83\\u00c3\\u0082\\\\x83\\u00c3\\u0083\\\\x82\\u00c3\\u0082\\\\x82\\u00c3\\u0083\\\\x83\\u00c3\\u0082\\\\x82\\u00c3\\u0083\\\\x82\\u00c3\\u0082\\\\x9f\\u00c3\\u0083\\\\x83\\u00c3\\u0082\\\\x83\\u00c3\\u0083\\\\x82\\u00c3\\u0082\\\\x82\\u00c3\\u0083\\\\x83\\u00c3\\u0082\\\\x82\\u00c3\\u0083\\\\x82\\u00c3\\u0082\\\\x91\\u00c3\\u0083\\\\x83\\u00c3\\u0082\\\\x83\\u00c3\\u0083\\\\x82\\u00c3\\u0082\\\\x82\\u00c3\\u0083\\\\x83\\u00c3\\u0082\\\\x82\\u00c3\\u0083\\\\x82\\u00c3\\u0082\\\\x8e\\u00c3\\u0083\\\\x83\\u00c3\\u0082\\\\x83\\u00c3\\u0083\\\\x82\\u00c3\\u0082\\\\x83\\u00c3\\u0083\\\\x83\\u00c3\\u0082\\\\x82\\u00c3\\u0083\\\\x82\\u00c3\\u0082\\u00c2\\u00b0\\u00c3\\u0083\\\\x83\\u00c3\\u0082\\\\x83\\u00c3\\u0083\\\\x82\\u00c3\\u0082\\\\x82\\u00c3\\u0083\\\\x83\\u00c3\\u0082\\\\x82\\u00c3\\u0083\\\\x82\\u00c3\\u0082\\\\x9f\\u00c3\\u0083\\\\x83\\u00c3\\u0082\\\\x83\\u00c3\\u0083\\\\x82\\u00c3\\u0082\\\\x82\\u00c3\\u0083\\\\x83\\u00c3\\u0082\\\\x82\\u00c3\\u0083\\\\x82\\u00c3\\u0082\\\\x8f\\u00c3\\u0083\\\\x83\\u00c3\\u0082\\\\x83\\u00c3\\u0083\\\\x82\\u00c3\\u0082\\\\x82\\u00c3\\u0083\\\\x83\\u00c3\\u0082\\\\x82\\u00c3\\u0083\\\\x82\\u00c3\\u0082\\u00c2\\u00bc\\\\n\\\\n\\u00c3\\u0083\\\\x83\\u00c3\\u0082\\\\x83\\u00c3\\u0083\\\\x82\\u00c3\\u0082\\\\x83\\u00c3\\u0083\\\\x83\\u00c3\\u0082\\\\x82\\u00c3\\u0083\\\\x82\\u00c3\\u0082\\\\x82\\u00c3\\u0083\\\\x83\\u00c3\\u0082\\\\x83\\u00c3\\u0083\\\\x82\\u00c3\\u0082\\\\x82\\u00c3\\u0083\\\\x83\\u00c3\\u0082\\\\x82\\u00c3\\u0083\\\\x82\\u00c3\\u0082\\u00c2\\u00b0Menu:\\\\n- Veg and Non veg dishes available\\\\n- Decent portions \\u00c3\\u0083\\\\x83\\u00c3\\u0082\\\\x83\\u00c3\\u0083\\\\x82\\u00c3\\u0082\\\\x83\\u00c3\\u0083\\\\x83\\u00c3\\u0082\\\\x82\\u00c3\\u0083\\\\x82\\u00c3\\u0082\\u00c2\\u00a2\\u00c3\\u0083\\\\x83\\u00c3\\u0082\\\\x83\\u00c3\\u0083\\\\x82\\u00c3\\u0082\\\\x82\\u00c3\\u0083\\\\x83\\u00c3\\u0082\\\\x82\\u00c3\\u0083\\\\x82\\u00c3\\u0082\\\\xad\\u00c3\\u0083\\\\x83\\u00c3\\u0082\\\\x83\\u00c3\\u0083\\\\x82\\u00c3\\u0082\\\\x82\\u00c3\\u0083\\\\x83\\u00c3\\u0082\\\\x82\\u00c3\\u0083\\\\x82\\u00c3\\u0082\\\\x90\\\\n\\\\n\\u00c3\\u0083\\\\x83\\u00c3\\u0082\\\\x83\\u00c3\\u0083\\\\x82\\u00c3\\u0082\\\\x83\\u00c3\\u0083\\\\x83\\u00c3\\u0082\\\\x82\\u00c3\\u0083\\\\x82\\u00c3\\u0082\\\\x82\\u00c3\\u0083\\\\x83\\u00c3\\u0082\\\\x83\\u00c3\\u0083\\\\x82\\u00c3\\u0082\\\\x82\\u00c3\\u0083\\\\x83\\u00c3\\u0082\\\\x82\\u00c3\\u0083\\\\x82\\u00c3\\u0082\\u00c2\\u00b0Service :\\\\n- No complaints.\\\\n\\\\nHead to the place for a really good meal \\\\U0001f929\\u00c3\\u0083\\\\x83\\u00c3\\u0082\\\\x83\\u00c3\\u0083\\\\x82\\u00c3\\u0082\\\\x83\\u00c3\\u0083\\\\x83\\u00c3\\u0082\\\\x82\\u00c3\\u0083\\\\x82\\u00c3\\u0082\\u00c2\\u00b0\\u00c3\\u0083\\\\x83\\u00c3\\u0082\\\\x83\\u00c3\\u0083\\\\x82\\u00c3\\u0082\\\\x82\\u00c3\\u0083\\\\x83\\u00c3\\u0082\\\\x82\\u00c3\\u0083\\\\x82\\u00c3\\u0082\\\\x9f\\u00c3\\u0083\\\\x83\\u00c3\\u0082\\\\x83\\u00c3\\u0083\\\\x82\\u00c3\\u0082\\\\x82\\u00c3\\u0083\\\\x83\\u00c3\\u0082\\\\x82\\u00c3\\u0083\\\\x82\\u00c3\\u0082\\\\x91\\u00c3\\u0083\\\\x83\\u00c3\\u0082\\\\x83\\u00c3\\u0083\\\\x82\\u00c3\\u0082\\\\x82\\u00c3\\u0083\\\\x83\\u00c3\\u0082\\\\x82\\u00c3\\u0083\\\\x82\\u00c3\\u0082\\\\x8d\\u00c3\\u0083\\\\x83\\u00c3\\u0082\\\\x83\\u00c3\\u0083\\\\x82\\u00c3\\u0082\\\\x83\\u00c3\\u0083\\\\x83\\u00c3\\u0082\\\\x82\\u00c3\\u0083\\\\x82\\u00c3\\u0082\\u00c2\\u00b0\\u00c3\\u0083\\\\x83\\u00c3\\u0082\\\\x83\\u00c3\\u0083\\\\x82\\u00c3\\u0082\\\\x82\\u00c3\\u0083\\\\x83\\u00c3\\u0082\\\\x82\\u00c3\\u0083\\\\x82\\u00c3\\u0082\\\\x9f\\u00c3\\u0083\\\\x83\\u00c3\\u0082\\\\x83\\u00c3\\u0083\\\\x82\\u00c3\\u0082\\\\x82\\u00c3\\u0083\\\\x83\\u00c3\\u0082\\\\x82\\u00c3\\u0083\\\\x82\\u00c3\\u0082\\\\x8f\\u00c3\\u0083\\\\x83\\u00c3\\u0082\\\\x83\\u00c3\\u0083\\\\x82\\u00c3\\u0082\\\\x82\\u00c3\\u0083\\\\x83\\u00c3\\u0082\\\\x82\\u00c3\\u0083\\\\x82\\u00c3\\u0082\\u00c2\\u00bc'), ('Rated 4.0', 'RATED\\\\n  Perfect place to have smoke, smoking sizzler. Good combination of spices every time. Must visit place for sizzler lover from Bangalore. We reached there around 7:45 on Saturday restaurant was half full. Food took longer time, but it\\u00c3\\u0083\\\\x83\\u00c3\\u0082\\\\x83\\u00c3\\u0083\\\\x82\\u00c3\\u0082\\\\x83\\u00c3\\u0083\\\\x83\\u00c3\\u0082\\\\x82\\u00c3\\u0083\\\\x82\\u00c3\\u0082\\u00c2\\u00a2\\u00c3\\u0083\\\\x83\\u00c3\\u0082\\\\x83\\u00c3\\u0083\\\\x82\\u00c3\\u0082\\\\x82\\u00c3\\u0083\\\\x83\\u00c3\\u0082\\\\x82\\u00c3\\u0083\\\\x82\\u00c3\\u0082\\\\x80\\u00c3\\u0083\\\\x83\\u00c3\\u0082\\\\x83\\u00c3\\u0083\\\\x82\\u00c3\\u0082\\\\x82\\u00c3\\u0083\\\\x83\\u00c3\\u0082\\\\x82\\u00c3\\u0083\\\\x82\\u00c3\\u0082\\\\x99s worth waiting for mouthwatering food. And yeah Zomato gold makes it perfect.'), ('Rated 5.0', 'RATED\\\\n  Awesome food and very good ambience.Even the service is also very good......Especially the sizzlers is amazing and worth for the money.......'), ('Rated 4.0', 'RATED\\\\n  Awesome ambience! Loved it. Food was equally delicious. We ordered cheesy macaroni sizzler and paneer charmouli sizzler. Both was up to the mark. Would like to visit again for trying out other dishes.'), ('Rated 3.0', 'RATED\\\\n  A decent place for sizzlers, they have got a nice ambience and music selection is good! My first visit was delightful, we ordered the chicken stroganoff sizzler and the malai tikka sizzler. Both were pretty great, wasn\\u00c3\\u0083\\\\x83\\u00c3\\u0082\\\\x83\\u00c3\\u0083\\\\x82\\u00c3\\u0082\\\\x83\\u00c3\\u0083\\\\x83\\u00c3\\u0082\\\\x82\\u00c3\\u0083\\\\x82\\u00c3\\u0082\\u00c2\\u00a2\\u00c3\\u0083\\\\x83\\u00c3\\u0082\\\\x83\\u00c3\\u0083\\\\x82\\u00c3\\u0082\\\\x82\\u00c3\\u0083\\\\x83\\u00c3\\u0082\\\\x82\\u00c3\\u0083\\\\x82\\u00c3\\u0082\\\\x80\\u00c3\\u0083\\\\x83\\u00c3\\u0082\\\\x83\\u00c3\\u0083\\\\x82\\u00c3\\u0082\\\\x82\\u00c3\\u0083\\\\x83\\u00c3\\u0082\\\\x82\\u00c3\\u0083\\\\x82\\u00c3\\u0082\\\\x99t a big fan of the veggies though. Another day, I ordered the grilled fish sizzler and didn\\u00c3\\u0083\\\\x83\\u00c3\\u0082\\\\x83\\u00c3\\u0083\\\\x82\\u00c3\\u0082\\\\x83\\u00c3\\u0083\\\\x83\\u00c3\\u0082\\\\x82\\u00c3\\u0083\\\\x82\\u00c3\\u0082\\u00c2\\u00a2\\u00c3\\u0083\\\\x83\\u00c3\\u0082\\\\x83\\u00c3\\u0083\\\\x82\\u00c3\\u0082\\\\x82\\u00c3\\u0083\\\\x83\\u00c3\\u0082\\\\x82\\u00c3\\u0083\\\\x82\\u00c3\\u0082\\\\x80\\u00c3\\u0083\\\\x83\\u00c3\\u0082\\\\x83\\u00c3\\u0083\\\\x82\\u00c3\\u0082\\\\x82\\u00c3\\u0083\\\\x83\\u00c3\\u0082\\\\x82\\u00c3\\u0083\\\\x82\\u00c3\\u0082\\\\x99t really like it. The fish didn\\u00c3\\u0083\\\\x83\\u00c3\\u0082\\\\x83\\u00c3\\u0083\\\\x82\\u00c3\\u0082\\\\x83\\u00c3\\u0083\\\\x83\\u00c3\\u0082\\\\x82\\u00c3\\u0083\\\\x82\\u00c3\\u0082\\u00c2\\u00a2\\u00c3\\u0083\\\\x83\\u00c3\\u0082\\\\x83\\u00c3\\u0083\\\\x82\\u00c3\\u0082\\\\x82\\u00c3\\u0083\\\\x83\\u00c3\\u0082\\\\x82\\u00c3\\u0083\\\\x82\\u00c3\\u0082\\\\x80\\u00c3\\u0083\\\\x83\\u00c3\\u0082\\\\x83\\u00c3\\u0083\\\\x82\\u00c3\\u0082\\\\x82\\u00c3\\u0083\\\\x83\\u00c3\\u0082\\\\x82\\u00c3\\u0083\\\\x82\\u00c3\\u0082\\\\x99t seem to be very fresh and that affected the whole meal. Overall, I\\u00c3\\u0083\\\\x83\\u00c3\\u0082\\\\x83\\u00c3\\u0083\\\\x82\\u00c3\\u0082\\\\x83\\u00c3\\u0083\\\\x83\\u00c3\\u0082\\\\x82\\u00c3\\u0083\\\\x82\\u00c3\\u0082\\u00c2\\u00a2\\u00c3\\u0083\\\\x83\\u00c3\\u0082\\\\x83\\u00c3\\u0083\\\\x82\\u00c3\\u0082\\\\x82\\u00c3\\u0083\\\\x83\\u00c3\\u0082\\\\x82\\u00c3\\u0083\\\\x82\\u00c3\\u0082\\\\x80\\u00c3\\u0083\\\\x83\\u00c3\\u0082\\\\x83\\u00c3\\u0083\\\\x82\\u00c3\\u0082\\\\x82\\u00c3\\u0083\\\\x83\\u00c3\\u0082\\\\x82\\u00c3\\u0083\\\\x82\\u00c3\\u0082\\\\x99d say this place is good.'), ('Rated 2.0', \\\"RATED\\\\n  Was here on my birthday with a bunch of friends.\\\\nNow I didn't like this place as much, neither did my friends. In all honesty the place was very good with it's decor and the layout - beautiful architecture! Points for that.\\\\nFood - okay. Nothing to die for. I liked one of the starter, Cajun cheese fingers, but that's it. They did get the basic buffalo wings terribly wrong though. I mean, how did that happen!? The price too is a little high for the satisfaction that is missing from their food.\\\\nI will probably give it another shot but only after a really long while.\\\\nAlthough if you want a quiet place to have drinks with your friends, you can go here.\\\"), ('Rated 4.0', 'RATED\\\\n  Perfect place to have smoke, smoking sizzler. Good combination of spices every time. Must visit place for sizzler lover from Bangalore. We reached there around 7:45 on Saturday restaurant was half full. Food took longer time, but it\\u00c3\\u0083\\\\x83\\u00c3\\u0082\\\\x83\\u00c3\\u0083\\\\x82\\u00c3\\u0082\\\\x83\\u00c3\\u0083\\\\x83\\u00c3\\u0082\\\\x82\\u00c3\\u0083\\\\x82\\u00c3\\u0082\\u00c2\\u00a2\\u00c3\\u0083\\\\x83\\u00c3\\u0082\\\\x83\\u00c3\\u0083\\\\x82\\u00c3\\u0082\\\\x82\\u00c3\\u0083\\\\x83\\u00c3\\u0082\\\\x82\\u00c3\\u0083\\\\x82\\u00c3\\u0082\\\\x80\\u00c3\\u0083\\\\x83\\u00c3\\u0082\\\\x83\\u00c3\\u0083\\\\x82\\u00c3\\u0082\\\\x82\\u00c3\\u0083\\\\x83\\u00c3\\u0082\\\\x82\\u00c3\\u0083\\\\x82\\u00c3\\u0082\\\\x99s worth waiting for mouthwatering food. And yeah Zomato gold makes it perfect.'), ('Rated 5.0', 'RATED\\\\n  Awesome food and very good ambience.Even the service is also very good......Especially the sizzlers is amazing and worth for the money.......'), ('Rated 4.0', 'RATED\\\\n  Awesome ambience! Loved it. Food was equally delicious. We ordered cheesy macaroni sizzler and paneer charmouli sizzler. Both was up to the mark. Would like to visit again for trying out other dishes.'), ('Rated 3.0', 'RATED\\\\n  A decent place for sizzlers, they have got a nice ambience and music selection is good! My first visit was delightful, we ordered the chicken stroganoff sizzler and the malai tikka sizzler. Both were pretty great, wasn\\u00c3\\u0083\\\\x83\\u00c3\\u0082\\\\x83\\u00c3\\u0083\\\\x82\\u00c3\\u0082\\\\x83\\u00c3\\u0083\\\\x83\\u00c3\\u0082\\\\x82\\u00c3\\u0083\\\\x82\\u00c3\\u0082\\u00c2\\u00a2\\u00c3\\u0083\\\\x83\\u00c3\\u0082\\\\x83\\u00c3\\u0083\\\\x82\\u00c3\\u0082\\\\x82\\u00c3\\u0083\\\\x83\\u00c3\\u0082\\\\x82\\u00c3\\u0083\\\\x82\\u00c3\\u0082\\\\x80\\u00c3\\u0083\\\\x83\\u00c3\\u0082\\\\x83\\u00c3\\u0083\\\\x82\\u00c3\\u0082\\\\x82\\u00c3\\u0083\\\\x83\\u00c3\\u0082\\\\x82\\u00c3\\u0083\\\\x82\\u00c3\\u0082\\\\x99t a big fan of the veggies though. Another day, I ordered the grilled fish sizzler and didn\\u00c3\\u0083\\\\x83\\u00c3\\u0082\\\\x83\\u00c3\\u0083\\\\x82\\u00c3\\u0082\\\\x83\\u00c3\\u0083\\\\x83\\u00c3\\u0082\\\\x82\\u00c3\\u0083\\\\x82\\u00c3\\u0082\\u00c2\\u00a2\\u00c3\\u0083\\\\x83\\u00c3\\u0082\\\\x83\\u00c3\\u0083\\\\x82\\u00c3\\u0082\\\\x82\\u00c3\\u0083\\\\x83\\u00c3\\u0082\\\\x82\\u00c3\\u0083\\\\x82\\u00c3\\u0082\\\\x80\\u00c3\\u0083\\\\x83\\u00c3\\u0082\\\\x83\\u00c3\\u0083\\\\x82\\u00c3\\u0082\\\\x82\\u00c3\\u0083\\\\x83\\u00c3\\u0082\\\\x82\\u00c3\\u0083\\\\x82\\u00c3\\u0082\\\\x99t really like it. The fish didn\\u00c3\\u0083\\\\x83\\u00c3\\u0082\\\\x83\\u00c3\\u0083\\\\x82\\u00c3\\u0082\\\\x83\\u00c3\\u0083\\\\x83\\u00c3\\u0082\\\\x82\\u00c3\\u0083\\\\x82\\u00c3\\u0082\\u00c2\\u00a2\\u00c3\\u0083\\\\x83\\u00c3\\u0082\\\\x83\\u00c3\\u0083\\\\x82\\u00c3\\u0082\\\\x82\\u00c3\\u0083\\\\x83\\u00c3\\u0082\\\\x82\\u00c3\\u0083\\\\x82\\u00c3\\u0082\\\\x80\\u00c3\\u0083\\\\x83\\u00c3\\u0082\\\\x83\\u00c3\\u0083\\\\x82\\u00c3\\u0082\\\\x82\\u00c3\\u0083\\\\x83\\u00c3\\u0082\\\\x82\\u00c3\\u0083\\\\x82\\u00c3\\u0082\\\\x99t seem to be very fresh and that affected the whole meal. Overall, I\\u00c3\\u0083\\\\x83\\u00c3\\u0082\\\\x83\\u00c3\\u0083\\\\x82\\u00c3\\u0082\\\\x83\\u00c3\\u0083\\\\x83\\u00c3\\u0082\\\\x82\\u00c3\\u0083\\\\x82\\u00c3\\u0082\\u00c2\\u00a2\\u00c3\\u0083\\\\x83\\u00c3\\u0082\\\\x83\\u00c3\\u0083\\\\x82\\u00c3\\u0082\\\\x82\\u00c3\\u0083\\\\x83\\u00c3\\u0082\\\\x82\\u00c3\\u0083\\\\x82\\u00c3\\u0082\\\\x80\\u00c3\\u0083\\\\x83\\u00c3\\u0082\\\\x83\\u00c3\\u0083\\\\x82\\u00c3\\u0082\\\\x82\\u00c3\\u0083\\\\x83\\u00c3\\u0082\\\\x82\\u00c3\\u0083\\\\x82\\u00c3\\u0082\\\\x99d say this place is good.'), ('Rated 2.0', \\\"RATED\\\\n  Was here on my birthday with a bunch of friends.\\\\nNow I didn't like this place as much, neither did my friends. In all honesty the place was very good with it's decor and the layout - beautiful architecture! Points for that.\\\\nFood - okay. Nothing to die for. I liked one of the starter, Cajun cheese fingers, but that's it. They did get the basic buffalo wings terribly wrong though. I mean, how did that happen!? The price too is a little high for the satisfaction that is missing from their food.\\\\nI will probably give it another shot but only after a really long while.\\\\nAlthough if you want a quiet place to have drinks with your friends, you can go here.\\\"), ('Rated 4.0', 'RATED\\\\n  Perfect place to have smoke, smoking sizzler. Good combination of spices every time. Must visit place for sizzler lover from Bangalore. We reached there around 7:45 on Saturday restaurant was half full. Food took longer time, but it\\u00c3\\u0083\\\\x83\\u00c3\\u0082\\\\x83\\u00c3\\u0083\\\\x82\\u00c3\\u0082\\\\x83\\u00c3\\u0083\\\\x83\\u00c3\\u0082\\\\x82\\u00c3\\u0083\\\\x82\\u00c3\\u0082\\u00c2\\u00a2\\u00c3\\u0083\\\\x83\\u00c3\\u0082\\\\x83\\u00c3\\u0083\\\\x82\\u00c3\\u0082\\\\x82\\u00c3\\u0083\\\\x83\\u00c3\\u0082\\\\x82\\u00c3\\u0083\\\\x82\\u00c3\\u0082\\\\x80\\u00c3\\u0083\\\\x83\\u00c3\\u0082\\\\x83\\u00c3\\u0083\\\\x82\\u00c3\\u0082\\\\x82\\u00c3\\u0083\\\\x83\\u00c3\\u0082\\\\x82\\u00c3\\u0083\\\\x82\\u00c3\\u0082\\\\x99s worth waiting for mouthwatering food. And yeah Zomato gold makes it perfect.'), ('Rated 5.0', 'RATED\\\\n  Awesome food and very good ambience.Even the service is also very good......Especially the sizzlers is amazing and worth for the money.......'), ('Rated 4.0', 'RATED\\\\n  Awesome ambience! Loved it. Food was equally delicious. We ordered cheesy macaroni sizzler and paneer charmouli sizzler. Both was up to the mark. Would like to visit again for trying out other dishes.'), ('Rated 3.0', 'RATED\\\\n  A decent place for sizzlers, they have got a nice ambience and music selection is good! My first visit was delightful, we ordered the chicken stroganoff sizzler and the malai tikka sizzler. Both were pretty great, wasn\\u00c3\\u0083\\\\x83\\u00c3\\u0082\\\\x83\\u00c3\\u0083\\\\x82\\u00c3\\u0082\\\\x83\\u00c3\\u0083\\\\x83\\u00c3\\u0082\\\\x82\\u00c3\\u0083\\\\x82\\u00c3\\u0082\\u00c2\\u00a2\\u00c3\\u0083\\\\x83\\u00c3\\u0082\\\\x83\\u00c3\\u0083\\\\x82\\u00c3\\u0082\\\\x82\\u00c3\\u0083\\\\x83\\u00c3\\u0082\\\\x82\\u00c3\\u0083\\\\x82\\u00c3\\u0082\\\\x80\\u00c3\\u0083\\\\x83\\u00c3\\u0082\\\\x83\\u00c3\\u0083\\\\x82\\u00c3\\u0082\\\\x82\\u00c3\\u0083\\\\x83\\u00c3\\u0082\\\\x82\\u00c3\\u0083\\\\x82\\u00c3\\u0082\\\\x99t a big fan of the veggies though. Another day, I ordered the grilled fish sizzler and didn\\u00c3\\u0083\\\\x83\\u00c3\\u0082\\\\x83\\u00c3\\u0083\\\\x82\\u00c3\\u0082\\\\x83\\u00c3\\u0083\\\\x83\\u00c3\\u0082\\\\x82\\u00c3\\u0083\\\\x82\\u00c3\\u0082\\u00c2\\u00a2\\u00c3\\u0083\\\\x83\\u00c3\\u0082\\\\x83\\u00c3\\u0083\\\\x82\\u00c3\\u0082\\\\x82\\u00c3\\u0083\\\\x83\\u00c3\\u0082\\\\x82\\u00c3\\u0083\\\\x82\\u00c3\\u0082\\\\x80\\u00c3\\u0083\\\\x83\\u00c3\\u0082\\\\x83\\u00c3\\u0083\\\\x82\\u00c3\\u0082\\\\x82\\u00c3\\u0083\\\\x83\\u00c3\\u0082\\\\x82\\u00c3\\u0083\\\\x82\\u00c3\\u0082\\\\x99t really like it. The fish didn\\u00c3\\u0083\\\\x83\\u00c3\\u0082\\\\x83\\u00c3\\u0083\\\\x82\\u00c3\\u0082\\\\x83\\u00c3\\u0083\\\\x83\\u00c3\\u0082\\\\x82\\u00c3\\u0083\\\\x82\\u00c3\\u0082\\u00c2\\u00a2\\u00c3\\u0083\\\\x83\\u00c3\\u0082\\\\x83\\u00c3\\u0083\\\\x82\\u00c3\\u0082\\\\x82\\u00c3\\u0083\\\\x83\\u00c3\\u0082\\\\x82\\u00c3\\u0083\\\\x82\\u00c3\\u0082\\\\x80\\u00c3\\u0083\\\\x83\\u00c3\\u0082\\\\x83\\u00c3\\u0083\\\\x82\\u00c3\\u0082\\\\x82\\u00c3\\u0083\\\\x83\\u00c3\\u0082\\\\x82\\u00c3\\u0083\\\\x82\\u00c3\\u0082\\\\x99t seem to be very fresh and that affected the whole meal. Overall, I\\u00c3\\u0083\\\\x83\\u00c3\\u0082\\\\x83\\u00c3\\u0083\\\\x82\\u00c3\\u0082\\\\x83\\u00c3\\u0083\\\\x83\\u00c3\\u0082\\\\x82\\u00c3\\u0083\\\\x82\\u00c3\\u0082\\u00c2\\u00a2\\u00c3\\u0083\\\\x83\\u00c3\\u0082\\\\x83\\u00c3\\u0083\\\\x82\\u00c3\\u0082\\\\x82\\u00c3\\u0083\\\\x83\\u00c3\\u0082\\\\x82\\u00c3\\u0083\\\\x82\\u00c3\\u0082\\\\x80\\u00c3\\u0083\\\\x83\\u00c3\\u0082\\\\x83\\u00c3\\u0083\\\\x82\\u00c3\\u0082\\\\x82\\u00c3\\u0083\\\\x83\\u00c3\\u0082\\\\x82\\u00c3\\u0083\\\\x82\\u00c3\\u0082\\\\x99d say this place is good.'), ('Rated 2.0', \\\"RATED\\\\n  Was here on my birthday with a bunch of friends.\\\\nNow I didn't like this place as much, neither did my friends. In all honesty the place was very good with it's decor and the layout - beautiful architecture! Points for that.\\\\nFood - okay. Nothing to die for. I liked one of the starter, Cajun cheese fingers, but that's it. They did get the basic buffalo wings terribly wrong though. I mean, how did that happen!? The price too is a little high for the satisfaction that is missing from their food.\\\\nI will probably give it another shot but only after a really long while.\\\\nAlthough if you want a quiet place to have drinks with your friends, you can go here.\\\"), ('Rated 4.0', 'RATED\\\\n  Perfect place to have smoke, smoking sizzler. Good combination of spices every time. Must visit place for sizzler lover from Bangalore. We reached there around 7:45 on Saturday restaurant was half full. Food took longer time, but it\\u00c3\\u0083\\\\x83\\u00c3\\u0082\\\\x83\\u00c3\\u0083\\\\x82\\u00c3\\u0082\\\\x83\\u00c3\\u0083\\\\x83\\u00c3\\u0082\\\\x82\\u00c3\\u0083\\\\x82\\u00c3\\u0082\\u00c2\\u00a2\\u00c3\\u0083\\\\x83\\u00c3\\u0082\\\\x83\\u00c3\\u0083\\\\x82\\u00c3\\u0082\\\\x82\\u00c3\\u0083\\\\x83\\u00c3\\u0082\\\\x82\\u00c3\\u0083\\\\x82\\u00c3\\u0082\\\\x80\\u00c3\\u0083\\\\x83\\u00c3\\u0082\\\\x83\\u00c3\\u0083\\\\x82\\u00c3\\u0082\\\\x82\\u00c3\\u0083\\\\x83\\u00c3\\u0082\\\\x82\\u00c3\\u0083\\\\x82\\u00c3\\u0082\\\\x99s worth waiting for mouthwatering food. And yeah Zomato gold makes it perfect.'), ('Rated 5.0', 'RATED\\\\n  Awesome food and very good ambience.Even the service is also very good......Especially the sizzlers is amazing and worth for the money.......'), ('Rated 4.0', 'RATED\\\\n  Awesome ambience! Loved it. Food was equally delicious. We ordered cheesy macaroni sizzler and paneer charmouli sizzler. Both was up to the mark. Would like to visit again for trying out other dishes.'), ('Rated 3.0', 'RATED\\\\n  A decent place for sizzlers, they have got a nice ambience and music selection is good! My first visit was delightful, we ordered the chicken stroganoff sizzler and the malai tikka sizzler. Both were pretty great, wasn\\u00c3\\u0083\\\\x83\\u00c3\\u0082\\\\x83\\u00c3\\u0083\\\\x82\\u00c3\\u0082\\\\x83\\u00c3\\u0083\\\\x83\\u00c3\\u0082\\\\x82\\u00c3\\u0083\\\\x82\\u00c3\\u0082\\u00c2\\u00a2\\u00c3\\u0083\\\\x83\\u00c3\\u0082\\\\x83\\u00c3\\u0083\\\\x82\\u00c3\\u0082\\\\x82\\u00c3\\u0083\\\\x83\\u00c3\\u0082\\\\x82\\u00c3\\u0083\\\\x82\\u00c3\\u0082\\\\x80\\u00c3\\u0083\\\\x83\\u00c3\\u0082\\\\x83\\u00c3\\u0083\\\\x82\\u00c3\\u0082\\\\x82\\u00c3\\u0083\\\\x83\\u00c3\\u0082\\\\x82\\u00c3\\u0083\\\\x82\\u00c3\\u0082\\\\x99t a big fan of the veggies though. Another day, I ordered the grilled fish sizzler and didn\\u00c3\\u0083\\\\x83\\u00c3\\u0082\\\\x83\\u00c3\\u0083\\\\x82\\u00c3\\u0082\\\\x83\\u00c3\\u0083\\\\x83\\u00c3\\u0082\\\\x82\\u00c3\\u0083\\\\x82\\u00c3\\u0082\\u00c2\\u00a2\\u00c3\\u0083\\\\x83\\u00c3\\u0082\\\\x83\\u00c3\\u0083\\\\x82\\u00c3\\u0082\\\\x82\\u00c3\\u0083\\\\x83\\u00c3\\u0082\\\\x82\\u00c3\\u0083\\\\x82\\u00c3\\u0082\\\\x80\\u00c3\\u0083\\\\x83\\u00c3\\u0082\\\\x83\\u00c3\\u0083\\\\x82\\u00c3\\u0082\\\\x82\\u00c3\\u0083\\\\x83\\u00c3\\u0082\\\\x82\\u00c3\\u0083\\\\x82\\u00c3\\u0082\\\\x99t really like it. The fish didn\\u00c3\\u0083\\\\x83\\u00c3\\u0082\\\\x83\\u00c3\\u0083\\\\x82\\u00c3\\u0082\\\\x83\\u00c3\\u0083\\\\x83\\u00c3\\u0082\\\\x82\\u00c3\\u0083\\\\x82\\u00c3\\u0082\\u00c2\\u00a2\\u00c3\\u0083\\\\x83\\u00c3\\u0082\\\\x83\\u00c3\\u0083\\\\x82\\u00c3\\u0082\\\\x82\\u00c3\\u0083\\\\x83\\u00c3\\u0082\\\\x82\\u00c3\\u0083\\\\x82\\u00c3\\u0082\\\\x80\\u00c3\\u0083\\\\x83\\u00c3\\u0082\\\\x83\\u00c3\\u0083\\\\x82\\u00c3\\u0082\\\\x82\\u00c3\\u0083\\\\x83\\u00c3\\u0082\\\\x82\\u00c3\\u0083\\\\x82\\u00c3\\u0082\\\\x99t seem to be very fresh and that affected the whole meal. Overall, I\\u00c3\\u0083\\\\x83\\u00c3\\u0082\\\\x83\\u00c3\\u0083\\\\x82\\u00c3\\u0082\\\\x83\\u00c3\\u0083\\\\x83\\u00c3\\u0082\\\\x82\\u00c3\\u0083\\\\x82\\u00c3\\u0082\\u00c2\\u00a2\\u00c3\\u0083\\\\x83\\u00c3\\u0082\\\\x83\\u00c3\\u0083\\\\x82\\u00c3\\u0082\\\\x82\\u00c3\\u0083\\\\x83\\u00c3\\u0082\\\\x82\\u00c3\\u0083\\\\x82\\u00c3\\u0082\\\\x80\\u00c3\\u0083\\\\x83\\u00c3\\u0082\\\\x83\\u00c3\\u0083\\\\x82\\u00c3\\u0082\\\\x82\\u00c3\\u0083\\\\x83\\u00c3\\u0082\\\\x82\\u00c3\\u0083\\\\x82\\u00c3\\u0082\\\\x99d say this place is good.'), ('Rated 2.0', \\\"RATED\\\\n  Was here on my birthday with a bunch of friends.\\\\nNow I didn't like this place as much, neither did my friends. In all honesty the place was very good with it's decor and the layout - beautiful architecture! Points for that.\\\\nFood - okay. Nothing to die for. I liked one of the starter, Cajun cheese fingers, but that's it. They did get the basic buffalo wings terribly wrong though. I mean, how did that happen!? The price too is a little high for the satisfaction that is missing from their food.\\\\nI will probably give it another shot but only after a really long while.\\\\nAlthough if you want a quiet place to have drinks with your friends, you can go here.\\\"), ('Rated 3.0', 'RATED\\\\n  Had been to this place on sunday night and it was not that crowded. Ambience was okay nothing special.We ordered Schezwan Chicken, Schezwan veg, Veg Manchurian and Fusion chilli chicken sizzlers.All the sizzlers were good though we felt they were bit salty. Coming to their service it was big let down as it was too damn slow.It took exactly 1 hour for our orders to arrive.They will have to work extensively in improving their services.\\\\n\\\\nFood 3/5\\\\nAmbience 3/5\\\\nService 0.5/5'), ('Rated 5.0', 'RATED\\\\n  Extremely good place for having sizzlers in Bangalore. Ordered a virgin Mary and a grilled fish sizzler along with chefs special mushrooms.\\\\n\\\\nThe place is extremely economical. All the dishes were very good. The sauce with grilled fish sizzler was amazing.\\\\n\\\\nThe flip side is, everything was very heavy.'), ('Rated 3.5', \\\"RATED\\\\n  The ambience is very nice and descent . We asked the staff the details of about few dishes but it seems either they don't have any clue about the preparation or it was language issue. We ordered two soups which came half an hr late. The lemon clear soup was very simple and tasty..it was very refreshing for start..we ordered two sizzlers , two starters...butter fried prawns was delicious ..The dishes were well cooked ..but the service is very slow..I really hope management should come up with some improvement as the other customers in the restaurant we're also complaining to waiters about same thing.. I can go for second time only if they improve the service ..\\\"), ('Rated 2.0', \\\"RATED\\\\n  I went to thus place as I heard the Food is good here...But even after waiting for half an hour after ordering a srarter, it didn't come. The staff were not able to explain the delay..but again they Lack in Service, which is tooooo Slow.\\\\nThe place was too smokey from the Sizzlers and there was no exhaust for the smoke to go Out. Waiting for the Starter itself killed my Appetite. I had to Walk out waiting for it to come for a never ending time..I would Never Ever go to this Place and not Recommend it to Any of my Friends. PATHETIC.\\\")]\",\n          \"[('Rated 4.0', \\\"RATED\\\\n  Wasn't here for a long time. Just here to pick a quick cup of coffee. I love the ambience, a good place to read a book or work with a decent menu. The takeaway service was quick. Would come over here sometime again.\\\"), ('Rated 3.0', 'RATED\\\\n  We went there after reading the positive reviews on Zomato but the place is not worth it. The service is no doubt really good but the food is not that good. There are many places which serve better food in that price!'), ('Rated 3.0', \\\"RATED\\\\n  are u looking for a cool place with a good ambiance I think this is u r place. Hanging out in this place for long hours might be fun way to spend u r day , but be aware this is one of those places were the ambiance supersedes the food . No I'm not saying food here is bad but certainly not as good as the ambiance, common problem I noticed was pizza base not baked properly to the fullest, sandwich not toasted to feel Fully crunchy. Chocolate shake was good though, I would say taste is subjective so I would say go form your own opinions. Visit to this place will not be a dissatisfaction for sure . Happy eating ?\\\"), ('Rated 4.0', \\\"RATED\\\\n  Cafe D'hide is located in Koramangala. I went there with my hubby.It was a nice Place to enjoy with your friends & family.\\\\nFood, Taste, and Quality is good. We ordered Fish Burger and Vegetarian Pizza.\\\\nThe fish burger was quite good. It was big and flavourful burger.\\\\nThe pizza base was readymade thin-crust base. Pizza mushtooms, broccoli, sweetcorn, bell peppers these toppings were good, but because of ready made dough pizza was not that much good.\\\\nThe service is good and the ambience is very nice with good & different decor.\\\"), ('Rated 4.0', \\\"RATED\\\\n  Cafe D'hide is a nice cozy place in Koramangala. The cafe offers a lot in terms of food, service and ambience. I went there with my family on an afternoon. It was a nice experience.\\\\n\\\\nFOOD, TASTE, AND QUALITY:\\\\n\\\\nWe had the English Mustard Fish Burger and D'hide Vegetarian Pizza. The pizza base was not made of in-house fresh dough and it was a readymade thin-crust base which didn't add any much excitement. The toppings were although good and it had mushtooms, broccoli, sweetcorn, bell peppers, and sun dried tomatoes. So, a thumbs down for the pizza base but the toppings were really good.\\\\n\\\\nThe mustard fish burger was quite good. It was big and filled with fresh mustard fish, lettuce, and sauces. It was flavourful.\\\\n\\\\nSERVICE AND AMBIENCE:\\\\nThe service is excellent and the ambience is very nice with good decor and interiors.\\\"), ('Rated 5.0', 'RATED\\\\n  If you love coffee, this is the place to be. In just 4 visits I have tried all their frappes and I absolutely am in love with them.\\\\nTheir food is equally good , especially the burgers.\\\\nThe ambience is just perfect!\\\\nVery polite and courteous staff.\\\\n\\\\nDefinately recommend this place to all the coffee lovers! :)'), ('Rated 3.0', 'RATED\\\\n  The cold coffee and milkshake was exceptional! The ambience is lovely very fresh and bright, the tuna salad was a little dry and we had to ask for sauces, the pizza was huge but tasted average! Nice place to click pics :)'), ('Rated 4.0', \\\"RATED\\\\n  Had been here with a friend, the place is lit up and beautifully decorated. It's a small restaurant but good enough for a group of 25-30friends to drop by.\\\\nThe ambience is amazing. We ordered shakes and juices. The staff was bit slow inspite of booking in advance but that's fine as long as the food is yum.\\\"), ('Rated 4.0', 'RATED\\\\n  The place in nice and cozy. I had the English breakfast here. There were smileys made on my sunny side up eggs. Loved it. The chicken sausage and chicken bacon was really nice. Fast service. Polite waiters. The baked beans was tasty. I would definitely recommend this place.'), ('Rated 4.0', 'RATED\\\\n  Tiny little cafe with absolutely beautiful interiors and good vibes. Not exactly a place to go with a large group of people- would be ideal for for groups of 2-4 people.\\\\n\\\\nWe tried A non veg pizza, a veg pizza and chilli garlic noodles(which came with a happy sunny side up).\\\\nFood was good, but nothing special about it. Totally worth the money.\\\\nDecent food for moderate prices!'), ('Rated 4.0', \\\"RATED\\\\n  It's a tiny cafe which is also a part of Tim Tai Restaurant. The food served was great. It was a little crowded and has very limited seats. If you visit on a weekend, may have to wait outside at the entrance until the table gets cleared.\\\"), ('Rated 4.0', \\\"RATED\\\\n  One of the most cutest cafe in Bangalore I have been to. Music that let's you talk. I am drollin over the ambiance. I am person who loves french fries, and peri peri is yum, must have.\\\"), ('Rated 4.0', 'RATED\\\\n  This cafe is located adjacent to Tim Thai restaurant. It\\u00c3\\u0083\\\\x83\\u00c3\\u0082\\\\x83\\u00c3\\u0083\\\\x82\\u00c3\\u0082\\\\x82\\u00c3\\u0083\\\\x83\\u00c3\\u0082\\\\x82\\u00c3\\u0083\\\\x82\\u00c3\\u0082\\\\x92s just a part of tim thai restaurant.\\\\nI am in love with the ambience of this place. It has pretty,cozy ambience. Lot of flower pots , decorative items can be seen on their wall.\\\\nAmbience I would say 5/5.\\\\nComing to the food , I had chicken egg fried burger and pop corn chicken from the starters.\\\\nBurger will be served with french fries and salad. Both were good.\\\\nService was quick and good.'), ('Rated 4.0', 'RATED\\\\n  A small and pretty cafe besides Tim tai I would rather say a unit of Tim tai. The wall paintings, ambience is pretty good with pots everywhere. We had ordered pop corn chicken, chicken patty fried egg burger. Both tasted good. Service was quick and good.'), ('Rated 5.0', 'RATED\\\\n  D\\u00c3\\u0083\\\\x83\\u00c3\\u0082\\\\x83\\u00c3\\u0083\\\\x82\\u00c3\\u0082\\\\x82\\u00c3\\u0083\\\\x83\\u00c3\\u0082\\\\x82\\u00c3\\u0083\\\\x82\\u00c3\\u0082\\\\x92hide is one of my favourite cafes! It has such a beautiful setting and such cosy, warm vibes, despite being in one of the most busy lanes of Koramangala! The USP of this place is it\\u00c3\\u0083\\\\x83\\u00c3\\u0082\\\\x83\\u00c3\\u0083\\\\x82\\u00c3\\u0082\\\\x82\\u00c3\\u0083\\\\x83\\u00c3\\u0082\\\\x82\\u00c3\\u0083\\\\x82\\u00c3\\u0082\\\\x92s shelf full of beautiful articles that forms a part of it right hand side wall, when you enter ?\\\\nThe staff is polite and professional and the food and beverages are up to the mark ?\\\\nDo visit to experience the cutesy ambience ??'), ('Rated 5.0', \\\"RATED\\\\n  First of all the ambience of this place is very well done and it's super cozy and perfect for morning breakfasts. After morning walk in cubbon park it was time for continental breakfast. So we decided to give this place a try. It surely did not disappoint even a bit. Great ambience and good music playlist ;) coming to the food we ordered Veggie omelette ( mushroom, olives & cheese ) which was awesome, Banana honey pancakes which was out of this world and is a must try. It's served with whipped cream on the side.Veg lasagna was cheesy and delicious. Definitely come back :)\\\"), ('Rated 5.0', 'RATED\\\\n  Nice and quite cafe, in the heart of the city. Good place for a quite evening. Tried there fries , Earl Grey Tea, Double Shot Espresso. Great service'), ('Rated 5.0', 'RATED\\\\n  Cute cafe with wonderful decorate on the streets of kormangla indeed place designed with lot of love ..COMING to the food they have recently change there menu so we have tried grill chicken with whole leg by rice on the side ,ckn steak burger was awesome and for drinks we have order The dark night and caffine shake both was amazing i would love to visit again???'), ('Rated 5.0', 'RATED\\\\n  I am literally in love with this cafe.. ??????\\\\nA small, cute, attractive place with a wonderful interior design. ?\\\\nStaffs are friendly, menu is rich in varieties, ambience is truly relaxing and awesome ? music.\\\\nA must must and very must place to be try out in Bengaluru.\\\\nLocation is easily accessible ?'), ('Rated 2.0', 'RATED\\\\n  The place looked pretty in pictures and so decided to pay a visit.\\\\n\\\\nSmall place, good ambience. The inside looks like an English railway station with street lights and a huge clock.\\\\n\\\\nOrdered an Irish frappe, a wild berry smoothie and a Cajun chicken pizza. The Irish frappe was nice, the smoothie tasted more like a milkshake and was very sweet. The pizza was below average. The base was cracker and not pizza base, so it crumbles when you take a bite.\\\\n\\\\nOverall average experience with a beautiful ambience.'), ('Rated 5.0', \\\"RATED\\\\n  First of all the ambience of this place is very well done and it's super cozy and perfect for morning breakfasts. After morning walk in cubbon park it was time for continental breakfast. So we decided to give this place a try. It surely did not disappoint even a bit. Great ambience and good music playlist ;) coming to the food we ordered Veggie omelette ( mushroom, olives & cheese ) which was awesome, Banana honey pancakes which was out of this world and is a must try. It's served with whipped cream on the side.Veg lasagna was cheesy and delicious. Definitely come back :)\\\"), ('Rated 5.0', 'RATED\\\\n  Nice and quite cafe, in the heart of the city. Good place for a quite evening. Tried there fries , Earl Grey Tea, Double Shot Espresso. Great service'), ('Rated 5.0', 'RATED\\\\n  Cute cafe with wonderful decorate on the streets of kormangla indeed place designed with lot of love ..COMING to the food they have recently change there menu so we have tried grill chicken with whole leg by rice on the side ,ckn steak burger was awesome and for drinks we have order The dark night and caffine shake both was amazing i would love to visit again???'), ('Rated 5.0', 'RATED\\\\n  I am literally in love with this cafe.. ??????\\\\nA small, cute, attractive place with a wonderful interior design. ?\\\\nStaffs are friendly, menu is rich in varieties, ambience is truly relaxing and awesome ? music.\\\\nA must must and very must place to be try out in Bengaluru.\\\\nLocation is easily accessible ?'), ('Rated 2.0', 'RATED\\\\n  The place looked pretty in pictures and so decided to pay a visit.\\\\n\\\\nSmall place, good ambience. The inside looks like an English railway station with street lights and a huge clock.\\\\n\\\\nOrdered an Irish frappe, a wild berry smoothie and a Cajun chicken pizza. The Irish frappe was nice, the smoothie tasted more like a milkshake and was very sweet. The pizza was below average. The base was cracker and not pizza base, so it crumbles when you take a bite.\\\\n\\\\nOverall average experience with a beautiful ambience.'), ('Rated 5.0', \\\"RATED\\\\n  First of all the ambience of this place is very well done and it's super cozy and perfect for morning breakfasts. After morning walk in cubbon park it was time for continental breakfast. So we decided to give this place a try. It surely did not disappoint even a bit. Great ambience and good music playlist ;) coming to the food we ordered Veggie omelette ( mushroom, olives & cheese ) which was awesome, Banana honey pancakes which was out of this world and is a must try. It's served with whipped cream on the side.Veg lasagna was cheesy and delicious. Definitely come back :)\\\"), ('Rated 5.0', 'RATED\\\\n  Nice and quite cafe, in the heart of the city. Good place for a quite evening. Tried there fries , Earl Grey Tea, Double Shot Espresso. Great service'), ('Rated 5.0', 'RATED\\\\n  Cute cafe with wonderful decorate on the streets of kormangla indeed place designed with lot of love ..COMING to the food they have recently change there menu so we have tried grill chicken with whole leg by rice on the side ,ckn steak burger was awesome and for drinks we have order The dark night and caffine shake both was amazing i would love to visit again???'), ('Rated 5.0', 'RATED\\\\n  I am literally in love with this cafe.. ??????\\\\nA small, cute, attractive place with a wonderful interior design. ?\\\\nStaffs are friendly, menu is rich in varieties, ambience is truly relaxing and awesome ? music.\\\\nA must must and very must place to be try out in Bengaluru.\\\\nLocation is easily accessible ?'), ('Rated 2.0', 'RATED\\\\n  The place looked pretty in pictures and so decided to pay a visit.\\\\n\\\\nSmall place, good ambience. The inside looks like an English railway station with street lights and a huge clock.\\\\n\\\\nOrdered an Irish frappe, a wild berry smoothie and a Cajun chicken pizza. The Irish frappe was nice, the smoothie tasted more like a milkshake and was very sweet. The pizza was below average. The base was cracker and not pizza base, so it crumbles when you take a bite.\\\\n\\\\nOverall average experience with a beautiful ambience.'), ('Rated 5.0', \\\"RATED\\\\n  First of all the ambience of this place is very well done and it's super cozy and perfect for morning breakfasts. After morning walk in cubbon park it was time for continental breakfast. So we decided to give this place a try. It surely did not disappoint even a bit. Great ambience and good music playlist ;) coming to the food we ordered Veggie omelette ( mushroom, olives & cheese ) which was awesome, Banana honey pancakes which was out of this world and is a must try. It's served with whipped cream on the side.Veg lasagna was cheesy and delicious. Definitely come back :)\\\"), ('Rated 5.0', 'RATED\\\\n  Nice and quite cafe, in the heart of the city. Good place for a quite evening. Tried there fries , Earl Grey Tea, Double Shot Espresso. Great service'), ('Rated 5.0', 'RATED\\\\n  Cute cafe with wonderful decorate on the streets of kormangla indeed place designed with lot of love ..COMING to the food they have recently change there menu so we have tried grill chicken with whole leg by rice on the side ,ckn steak burger was awesome and for drinks we have order The dark night and caffine shake both was amazing i would love to visit again???'), ('Rated 5.0', 'RATED\\\\n  I am literally in love with this cafe.. ??????\\\\nA small, cute, attractive place with a wonderful interior design. ?\\\\nStaffs are friendly, menu is rich in varieties, ambience is truly relaxing and awesome ? music.\\\\nA must must and very must place to be try out in Bengaluru.\\\\nLocation is easily accessible ?'), ('Rated 2.0', 'RATED\\\\n  The place looked pretty in pictures and so decided to pay a visit.\\\\n\\\\nSmall place, good ambience. The inside looks like an English railway station with street lights and a huge clock.\\\\n\\\\nOrdered an Irish frappe, a wild berry smoothie and a Cajun chicken pizza. The Irish frappe was nice, the smoothie tasted more like a milkshake and was very sweet. The pizza was below average. The base was cracker and not pizza base, so it crumbles when you take a bite.\\\\n\\\\nOverall average experience with a beautiful ambience.'), ('Rated 5.0', \\\"RATED\\\\n  First of all the ambience of this place is very well done and it's super cozy and perfect for morning breakfasts. After morning walk in cubbon park it was time for continental breakfast. So we decided to give this place a try. It surely did not disappoint even a bit. Great ambience and good music playlist ;) coming to the food we ordered Veggie omelette ( mushroom, olives & cheese ) which was awesome, Banana honey pancakes which was out of this world and is a must try. It's served with whipped cream on the side.Veg lasagna was cheesy and delicious. Definitely come back :)\\\"), ('Rated 5.0', 'RATED\\\\n  Nice and quite cafe, in the heart of the city. Good place for a quite evening. Tried there fries , Earl Grey Tea, Double Shot Espresso. Great service'), ('Rated 5.0', 'RATED\\\\n  Cute cafe with wonderful decorate on the streets of kormangla indeed place designed with lot of love ..COMING to the food they have recently change there menu so we have tried grill chicken with whole leg by rice on the side ,ckn steak burger was awesome and for drinks we have order The dark night and caffine shake both was amazing i would love to visit again???'), ('Rated 5.0', 'RATED\\\\n  I am literally in love with this cafe.. ??????\\\\nA small, cute, attractive place with a wonderful interior design. ?\\\\nStaffs are friendly, menu is rich in varieties, ambience is truly relaxing and awesome ? music.\\\\nA must must and very must place to be try out in Bengaluru.\\\\nLocation is easily accessible ?'), ('Rated 2.0', 'RATED\\\\n  The place looked pretty in pictures and so decided to pay a visit.\\\\n\\\\nSmall place, good ambience. The inside looks like an English railway station with street lights and a huge clock.\\\\n\\\\nOrdered an Irish frappe, a wild berry smoothie and a Cajun chicken pizza. The Irish frappe was nice, the smoothie tasted more like a milkshake and was very sweet. The pizza was below average. The base was cracker and not pizza base, so it crumbles when you take a bite.\\\\n\\\\nOverall average experience with a beautiful ambience.'), ('Rated 5.0', 'RATED\\\\n  Lovely food and good ambience. The food was absolutely value for money.\\\\nP.S. If you are low on budget and want to have tasty food then this is the place to go.'), ('Rated 4.0', 'RATED\\\\n  The ambience of the place is really lovely.\\\\nService is good.\\\\n\\\\nWe had ordered Penne Pasta, Margherita Pizza, Oreo milkshake, Virgin Mojito, Nachos, Potato Wedges. The food was really good and tasty.\\\\nMy favourite was the pasta. The sauce was delicious. But when it came to the quantity, it was very less. It can be quite expensive. But, the experience was amazing.'), ('Rated 4.5', \\\"RATED\\\\n  This is a cute little cafe with beautiful interiors. Love the tiny little pots used for decor here.\\\\n\\\\nWe tried mocktails, milk shakes and fries platter. Loved the fries and dinks.\\\\n\\\\nIt's a nice quiet place to have catch up with friends or family.\\\\n\\\\nBeautiful ambience. Service is good too.\\\"), ('Rated 4.0', 'RATED\\\\n  Wonderful place with some amazing food and nice decor is how can define Cafe D\\u00c3\\u0083\\\\x83\\u00c3\\u0082\\\\x83\\u00c3\\u0083\\\\x82\\u00c3\\u0082\\\\x82\\u00c3\\u0083\\\\x83\\u00c3\\u0082\\\\x82\\u00c3\\u0083\\\\x82\\u00c3\\u0082\\\\x92hide!!\\\\n\\\\nIt\\u00c3\\u0083\\\\x83\\u00c3\\u0082\\\\x83\\u00c3\\u0083\\\\x82\\u00c3\\u0082\\\\x82\\u00c3\\u0083\\\\x83\\u00c3\\u0082\\\\x82\\u00c3\\u0083\\\\x82\\u00c3\\u0082\\\\x92s been a long time since I visited this place and I\\u00c3\\u0083\\\\x83\\u00c3\\u0082\\\\x83\\u00c3\\u0083\\\\x82\\u00c3\\u0082\\\\x82\\u00c3\\u0083\\\\x83\\u00c3\\u0082\\\\x82\\u00c3\\u0083\\\\x82\\u00c3\\u0082\\\\x92m waiting to visit it sooon.. Well I had been here on a weekday evening and it wasn\\u00c3\\u0083\\\\x83\\u00c3\\u0082\\\\x83\\u00c3\\u0083\\\\x82\\u00c3\\u0082\\\\x82\\u00c3\\u0083\\\\x83\\u00c3\\u0082\\\\x82\\u00c3\\u0083\\\\x82\\u00c3\\u0082\\\\x92t too crowded nor too less crowd.\\\\n\\\\nI ordered a Pizzza along with cheesy fries and some potato wedges along with a dessert whose name I seriously do not remember.\\\\n\\\\nI loved every dish of theirs as it was not too oily or spicy and was made fresh and served exactly the way we wanted it to be!!\\\\n\\\\nIt\\u00c3\\u0083\\\\x83\\u00c3\\u0082\\\\x83\\u00c3\\u0083\\\\x82\\u00c3\\u0082\\\\x82\\u00c3\\u0083\\\\x83\\u00c3\\u0082\\\\x82\\u00c3\\u0083\\\\x82\\u00c3\\u0082\\\\x92s a place worth visiting and having a binge meal as it is not a big hole to any of our pockets with the right portions being served.')]\"\n        ],\n        \"semantic_type\": \"\",\n        \"description\": \"\"\n      }\n    },\n    {\n      \"column\": \"menu_item\",\n      \"properties\": {\n        \"dtype\": \"category\",\n        \"num_unique_values\": 9098,\n        \"samples\": [\n          \"['Chicken Fried Rice', 'Veg Noodles', 'Egg Noodles', 'Chicken Noodles', 'Litti Chokha', 'Litti Chicken', 'Veg Sweet Corn Soup', 'Veg Manchow Soup', 'Veg Hot and Sour Soup', 'Chicken Sweet Corn Soup', 'Chicken Hot and Sour Soup', 'Chicken Manchow Soup', 'Dal Fry', 'Aloo Jeera', 'Aloo Dum', 'Aloo Gobi', 'Aloo Matar Masala', 'Mushroom Matar Masala', 'Paneer Butter Masala', 'Kadai Paneer', 'Palak Paneer', 'Mixed Veg', 'Chicken Curry', 'Chicken Masala', 'Butter Chicken', 'Kadai Chicken', 'Palak Chicken', 'Chicken Korma', 'Phulka', 'Butter Phulka', 'Ghee Phulka', 'Plain Paratha', 'Steam Rice', 'Jeera Rice', 'Ghee Rice', 'Onion Rice', 'Veg Pulao', 'Veg Fried Rice', 'Mushroom Chilli Fried Rice', 'Veg Spring Onion Fried Rice', 'Veg Schezwan Fried Rice', 'Egg Fried Rice', 'Chicken Schezwan Fried Rice', 'Chicken Fried Rice', 'Veg Noodles', 'Veg Schezwan Noodles', 'Veg Chilli Garlic Noodles', 'Veg Green Dragon Noodles', 'Egg Noodles', 'Chicken Green Dragon Noodles', 'Chicken Chilli Garlic Noodles', 'Chicken Noodles', 'Chicken Schezwan Noodles', 'Mixed Noodles', 'Chilly Baby Corn', 'Hunan Baby Corn', 'Pepper Baby Corn', 'Manchurian Baby Corn', 'Veg Crispy', 'Mushroom Chilli', 'Black Pepper Mushroom', 'Gobi Manchurian', 'Honey Chilli Potato', 'Veg Manchurian', 'Chilli Paneer', 'Egg Manchurian', 'Egg Chilli', 'Spinach Chicken', 'Hunan Chicken', 'Chilli Garlic Chicken', 'Chilli Chicken', 'Honey Chilli Chicken', 'Pepper Chicken', 'Chicken Schezwan', 'Drums of Heaven', 'Chicken Wings', 'Chicken Manchurian Gravy', 'Veg Roll', 'Chilli Paneer Roll', 'Egg Roll', 'Manchurian Egg Roll', 'Chicken Roll', 'Chilli Chicken Roll', 'Veg Maggi', 'Masala Maggi', 'Egg Maggi', 'Chicken Maggi', 'Litti Chokha', 'French Fries', 'Masala Fries', 'Litti Chicken', 'Sattu Beverage', 'Lime Juice']\",\n          \"['Churros [Serves 1]', 'Churros [Serves 2]', 'Nutella and Chocolate Dip Churros', 'Loaded Nachos', 'Sicilia Pizza', 'Barbaresca Pasta', 'Lasagna Alla Nepolitana', 'Thai Green Curry', 'Veg Lunch Box', 'Minestrone Soup', 'Passato Di Verdure Soup', 'Zuppa Di Broccoli Soup', 'Creme Di Funghi Soup', 'Insalata Mista Salad', 'Corleone Salad', 'Insalata Gennarino Salad', 'Contadina Slaad', 'Caesar Salad', 'Pesto Salad', 'Cheese Garlic Bread', 'Masala Garlic Bread', 'Special Crostini', 'Bruschetta', 'Fungi Trifolati', 'Spinach Salsa', 'Jalapeno Salsa', 'Infused Cheese Garlic Mushroom Caps', 'Africano Paneer', 'Loaded Pototo Wedges', 'Honey Pepper Fries', \\\"Melvyn's Fries\\\", 'Cheese Stuffed Jalapeno Veg Balls', 'Stir Fried Veg', 'Loaded Nachos', 'Nachos with Cheese Sauce', 'Tortilla Chips with Salsa', 'Onion Rings', 'Babycorn Longs', 'Cheese Corn Balls', 'Exotic Veg in Cilantro Curry', 'Exotic Veg in Peppery Curry', 'Thai Green Curry', 'Thai Red Curry', 'Exotic Veggies and Cilantro Flavoured Rice', 'Paneer and Spinach Sandwich', 'Mexican Paneer Sandwich', 'Veg Club Sandwich', 'Mexican Veg Sandwich', 'Spinach Corn Cheese Sandwich', 'Churros [Serves 1]', 'Churros [Serves 2]', 'Nutella and Chocolate Dip Churros', 'Fondue [Serves 2]', 'Churros Fiesta', 'Margarita Pizza', 'Fantasia Pizza', 'Purpigna Pizza', 'Peri Peri Pizza', 'Four Seasons Pizza', 'Cross Country Ranch Pizza', 'Rustic Pizza', 'Tabasco Pizza', 'Sicilia Pizza', 'Exotica Pizza', 'Goa Pizza', 'Mediterranean Pizza', 'Indian Pizza', 'Solarina Pizza', 'Pesto Pizza', 'Toe Toe Pizza', 'Paprika Pizza', 'Bombay Pizza', 'Kamarina Pizza', 'Botticino Pizza', 'Sputini Pizza', 'Aglio Olio Peperoncino Pasta', 'All Arrabiata Pasta', 'Barbaresca Pasta', 'Alla Firritiana Pasta', 'Alla Alfredo Pasta', 'All Bakunin Pasta', '4 Stagioni Pasta', 'Primavera Pasta', 'Della Casa Dry Pasta', 'Al Pesto Genovese Pasta', 'Mediterranean Pasta', 'Metauro Pasta', 'Gambaza Pasta', 'Alla Sallome Pasta', 'Del Barone Pasta', 'Masala Mafia Pasta', 'Spinach Cannelloni', 'Lasagna Alla Nepolitana', 'Browine Sundae', 'Chocolate Bomb', 'Cream Caramel', 'Mango Fresh Cheese Cake', 'Pineapple Fresh Cheese Cake', 'Cookie Sundae', 'Classic Spanish Chocolate', 'Aztec Chilli Chocolate', 'Hot and Cold Chocolate', 'Marid Mocha Chocolate', 'Mint Magnifico Chocolate', 'Affogato Coffee', 'Latte Coffee', 'Cappuccino Coffee', 'Americano Coffee', 'Espresso Coffee', 'Spanish Latte Coffee', 'Cafe Mocha Coffee', 'Sunbreeze', 'Virgin Sangria', 'Virgin Pinacolada', 'Shirley Temple', 'Virgin Mojito', 'Fresh Lime Soda', 'Peach Iced Tea', 'Lemon Iced Tea', 'Blue Lagoon', 'Choco Loco Shake', 'Mango Tango Shake', 'Banana Lambada Shake', 'Mocha Mambo Shake', 'Cookie Cha Cha Shake', 'Cream De Fresca Shake', 'Chocolate Creme Pie Shake', 'Iced Coffees Shake']\"\n        ],\n        \"semantic_type\": \"\",\n        \"description\": \"\"\n      }\n    },\n    {\n      \"column\": \"listed_in(type)\",\n      \"properties\": {\n        \"dtype\": \"category\",\n        \"num_unique_values\": 7,\n        \"samples\": [\n          \"Buffet\",\n          \"Cafes\"\n        ],\n        \"semantic_type\": \"\",\n        \"description\": \"\"\n      }\n    },\n    {\n      \"column\": \"listed_in(city)\",\n      \"properties\": {\n        \"dtype\": \"category\",\n        \"num_unique_values\": 30,\n        \"samples\": [\n          \"Residency Road\",\n          \"Kammanahalli\"\n        ],\n        \"semantic_type\": \"\",\n        \"description\": \"\"\n      }\n    }\n  ]\n}"
            }
          },
          "metadata": {},
          "execution_count": 2
        }
      ]
    },
    {
      "cell_type": "code",
      "source": [
        "data.info()"
      ],
      "metadata": {
        "colab": {
          "base_uri": "https://localhost:8080/"
        },
        "id": "bAGz-gXGViDx",
        "outputId": "5c6305b7-fa33-4142-d8db-e5cb2e8ca583"
      },
      "execution_count": null,
      "outputs": [
        {
          "output_type": "stream",
          "name": "stdout",
          "text": [
            "<class 'pandas.core.frame.DataFrame'>\n",
            "RangeIndex: 51717 entries, 0 to 51716\n",
            "Data columns (total 17 columns):\n",
            " #   Column                       Non-Null Count  Dtype \n",
            "---  ------                       --------------  ----- \n",
            " 0   url                          51717 non-null  object\n",
            " 1   address                      51717 non-null  object\n",
            " 2   name                         51717 non-null  object\n",
            " 3   online_order                 51717 non-null  object\n",
            " 4   book_table                   51717 non-null  object\n",
            " 5   rate                         43942 non-null  object\n",
            " 6   votes                        51717 non-null  int64 \n",
            " 7   phone                        50509 non-null  object\n",
            " 8   location                     51696 non-null  object\n",
            " 9   rest_type                    51490 non-null  object\n",
            " 10  dish_liked                   23639 non-null  object\n",
            " 11  cuisines                     51672 non-null  object\n",
            " 12  approx_cost(for two people)  51371 non-null  object\n",
            " 13  reviews_list                 51717 non-null  object\n",
            " 14  menu_item                    51717 non-null  object\n",
            " 15  listed_in(type)              51717 non-null  object\n",
            " 16  listed_in(city)              51717 non-null  object\n",
            "dtypes: int64(1), object(16)\n",
            "memory usage: 6.7+ MB\n"
          ]
        }
      ]
    },
    {
      "cell_type": "code",
      "source": [
        "data.columns"
      ],
      "metadata": {
        "colab": {
          "base_uri": "https://localhost:8080/"
        },
        "id": "YrOioSXkWSLi",
        "outputId": "984cbb18-1f11-447c-d6e8-ded402bc9c0a"
      },
      "execution_count": null,
      "outputs": [
        {
          "output_type": "execute_result",
          "data": {
            "text/plain": [
              "Index(['url', 'address', 'name', 'online_order', 'book_table', 'rate', 'votes',\n",
              "       'phone', 'location', 'rest_type', 'dish_liked', 'cuisines',\n",
              "       'approx_cost(for two people)', 'reviews_list', 'menu_item',\n",
              "       'listed_in(type)', 'listed_in(city)'],\n",
              "      dtype='object')"
            ]
          },
          "metadata": {},
          "execution_count": 4
        }
      ]
    },
    {
      "cell_type": "code",
      "source": [
        "data.shape"
      ],
      "metadata": {
        "colab": {
          "base_uri": "https://localhost:8080/"
        },
        "id": "MdDRuY18WWYk",
        "outputId": "c1a413e0-6327-4ae1-ddbb-17e780743b10"
      },
      "execution_count": null,
      "outputs": [
        {
          "output_type": "execute_result",
          "data": {
            "text/plain": [
              "(51717, 17)"
            ]
          },
          "metadata": {},
          "execution_count": 5
        }
      ]
    },
    {
      "cell_type": "code",
      "source": [
        "data.isna().sum()"
      ],
      "metadata": {
        "colab": {
          "base_uri": "https://localhost:8080/",
          "height": 617
        },
        "id": "FOtVkUCmWZn0",
        "outputId": "94dc5cbc-38ce-465c-8eec-47822c697f19"
      },
      "execution_count": null,
      "outputs": [
        {
          "output_type": "execute_result",
          "data": {
            "text/plain": [
              "url                                0\n",
              "address                            0\n",
              "name                               0\n",
              "online_order                       0\n",
              "book_table                         0\n",
              "rate                            7775\n",
              "votes                              0\n",
              "phone                           1208\n",
              "location                          21\n",
              "rest_type                        227\n",
              "dish_liked                     28078\n",
              "cuisines                          45\n",
              "approx_cost(for two people)      346\n",
              "reviews_list                       0\n",
              "menu_item                          0\n",
              "listed_in(type)                    0\n",
              "listed_in(city)                    0\n",
              "dtype: int64"
            ],
            "text/html": [
              "<div>\n",
              "<style scoped>\n",
              "    .dataframe tbody tr th:only-of-type {\n",
              "        vertical-align: middle;\n",
              "    }\n",
              "\n",
              "    .dataframe tbody tr th {\n",
              "        vertical-align: top;\n",
              "    }\n",
              "\n",
              "    .dataframe thead th {\n",
              "        text-align: right;\n",
              "    }\n",
              "</style>\n",
              "<table border=\"1\" class=\"dataframe\">\n",
              "  <thead>\n",
              "    <tr style=\"text-align: right;\">\n",
              "      <th></th>\n",
              "      <th>0</th>\n",
              "    </tr>\n",
              "  </thead>\n",
              "  <tbody>\n",
              "    <tr>\n",
              "      <th>url</th>\n",
              "      <td>0</td>\n",
              "    </tr>\n",
              "    <tr>\n",
              "      <th>address</th>\n",
              "      <td>0</td>\n",
              "    </tr>\n",
              "    <tr>\n",
              "      <th>name</th>\n",
              "      <td>0</td>\n",
              "    </tr>\n",
              "    <tr>\n",
              "      <th>online_order</th>\n",
              "      <td>0</td>\n",
              "    </tr>\n",
              "    <tr>\n",
              "      <th>book_table</th>\n",
              "      <td>0</td>\n",
              "    </tr>\n",
              "    <tr>\n",
              "      <th>rate</th>\n",
              "      <td>7775</td>\n",
              "    </tr>\n",
              "    <tr>\n",
              "      <th>votes</th>\n",
              "      <td>0</td>\n",
              "    </tr>\n",
              "    <tr>\n",
              "      <th>phone</th>\n",
              "      <td>1208</td>\n",
              "    </tr>\n",
              "    <tr>\n",
              "      <th>location</th>\n",
              "      <td>21</td>\n",
              "    </tr>\n",
              "    <tr>\n",
              "      <th>rest_type</th>\n",
              "      <td>227</td>\n",
              "    </tr>\n",
              "    <tr>\n",
              "      <th>dish_liked</th>\n",
              "      <td>28078</td>\n",
              "    </tr>\n",
              "    <tr>\n",
              "      <th>cuisines</th>\n",
              "      <td>45</td>\n",
              "    </tr>\n",
              "    <tr>\n",
              "      <th>approx_cost(for two people)</th>\n",
              "      <td>346</td>\n",
              "    </tr>\n",
              "    <tr>\n",
              "      <th>reviews_list</th>\n",
              "      <td>0</td>\n",
              "    </tr>\n",
              "    <tr>\n",
              "      <th>menu_item</th>\n",
              "      <td>0</td>\n",
              "    </tr>\n",
              "    <tr>\n",
              "      <th>listed_in(type)</th>\n",
              "      <td>0</td>\n",
              "    </tr>\n",
              "    <tr>\n",
              "      <th>listed_in(city)</th>\n",
              "      <td>0</td>\n",
              "    </tr>\n",
              "  </tbody>\n",
              "</table>\n",
              "</div><br><label><b>dtype:</b> int64</label>"
            ]
          },
          "metadata": {},
          "execution_count": 6
        }
      ]
    },
    {
      "cell_type": "code",
      "source": [
        "#remove columns\n",
        "data.drop(['url','address','menu_item','phone','dish_liked'],axis=1,inplace=True)"
      ],
      "metadata": {
        "id": "TlMn4USUWc_i"
      },
      "execution_count": null,
      "outputs": []
    },
    {
      "cell_type": "code",
      "source": [
        "data.shape"
      ],
      "metadata": {
        "colab": {
          "base_uri": "https://localhost:8080/"
        },
        "id": "elqm4vvSXcIO",
        "outputId": "fef623f0-7b83-46d5-baf6-33b686738081"
      },
      "execution_count": null,
      "outputs": [
        {
          "output_type": "execute_result",
          "data": {
            "text/plain": [
              "(51717, 12)"
            ]
          },
          "metadata": {},
          "execution_count": 8
        }
      ]
    },
    {
      "cell_type": "code",
      "source": [
        "data.head(2)"
      ],
      "metadata": {
        "colab": {
          "base_uri": "https://localhost:8080/",
          "height": 164
        },
        "id": "YsxcqtCPXenK",
        "outputId": "3b8237ed-63ea-4b79-e510-f39c4f5283ff"
      },
      "execution_count": null,
      "outputs": [
        {
          "output_type": "execute_result",
          "data": {
            "text/plain": [
              "             name online_order book_table   rate  votes      location  \\\n",
              "0           Jalsa          Yes        Yes  4.1/5    775  Banashankari   \n",
              "1  Spice Elephant          Yes         No  4.1/5    787  Banashankari   \n",
              "\n",
              "       rest_type                        cuisines approx_cost(for two people)  \\\n",
              "0  Casual Dining  North Indian, Mughlai, Chinese                         800   \n",
              "1  Casual Dining     Chinese, North Indian, Thai                         800   \n",
              "\n",
              "                                        reviews_list listed_in(type)  \\\n",
              "0  [('Rated 4.0', 'RATED\\n  A beautiful place to ...          Buffet   \n",
              "1  [('Rated 4.0', 'RATED\\n  Had been here for din...          Buffet   \n",
              "\n",
              "  listed_in(city)  \n",
              "0    Banashankari  \n",
              "1    Banashankari  "
            ],
            "text/html": [
              "\n",
              "  <div id=\"df-0040ccaf-b9ba-4db0-a296-488eefe8b822\" class=\"colab-df-container\">\n",
              "    <div>\n",
              "<style scoped>\n",
              "    .dataframe tbody tr th:only-of-type {\n",
              "        vertical-align: middle;\n",
              "    }\n",
              "\n",
              "    .dataframe tbody tr th {\n",
              "        vertical-align: top;\n",
              "    }\n",
              "\n",
              "    .dataframe thead th {\n",
              "        text-align: right;\n",
              "    }\n",
              "</style>\n",
              "<table border=\"1\" class=\"dataframe\">\n",
              "  <thead>\n",
              "    <tr style=\"text-align: right;\">\n",
              "      <th></th>\n",
              "      <th>name</th>\n",
              "      <th>online_order</th>\n",
              "      <th>book_table</th>\n",
              "      <th>rate</th>\n",
              "      <th>votes</th>\n",
              "      <th>location</th>\n",
              "      <th>rest_type</th>\n",
              "      <th>cuisines</th>\n",
              "      <th>approx_cost(for two people)</th>\n",
              "      <th>reviews_list</th>\n",
              "      <th>listed_in(type)</th>\n",
              "      <th>listed_in(city)</th>\n",
              "    </tr>\n",
              "  </thead>\n",
              "  <tbody>\n",
              "    <tr>\n",
              "      <th>0</th>\n",
              "      <td>Jalsa</td>\n",
              "      <td>Yes</td>\n",
              "      <td>Yes</td>\n",
              "      <td>4.1/5</td>\n",
              "      <td>775</td>\n",
              "      <td>Banashankari</td>\n",
              "      <td>Casual Dining</td>\n",
              "      <td>North Indian, Mughlai, Chinese</td>\n",
              "      <td>800</td>\n",
              "      <td>[('Rated 4.0', 'RATED\\n  A beautiful place to ...</td>\n",
              "      <td>Buffet</td>\n",
              "      <td>Banashankari</td>\n",
              "    </tr>\n",
              "    <tr>\n",
              "      <th>1</th>\n",
              "      <td>Spice Elephant</td>\n",
              "      <td>Yes</td>\n",
              "      <td>No</td>\n",
              "      <td>4.1/5</td>\n",
              "      <td>787</td>\n",
              "      <td>Banashankari</td>\n",
              "      <td>Casual Dining</td>\n",
              "      <td>Chinese, North Indian, Thai</td>\n",
              "      <td>800</td>\n",
              "      <td>[('Rated 4.0', 'RATED\\n  Had been here for din...</td>\n",
              "      <td>Buffet</td>\n",
              "      <td>Banashankari</td>\n",
              "    </tr>\n",
              "  </tbody>\n",
              "</table>\n",
              "</div>\n",
              "    <div class=\"colab-df-buttons\">\n",
              "\n",
              "  <div class=\"colab-df-container\">\n",
              "    <button class=\"colab-df-convert\" onclick=\"convertToInteractive('df-0040ccaf-b9ba-4db0-a296-488eefe8b822')\"\n",
              "            title=\"Convert this dataframe to an interactive table.\"\n",
              "            style=\"display:none;\">\n",
              "\n",
              "  <svg xmlns=\"http://www.w3.org/2000/svg\" height=\"24px\" viewBox=\"0 -960 960 960\">\n",
              "    <path d=\"M120-120v-720h720v720H120Zm60-500h600v-160H180v160Zm220 220h160v-160H400v160Zm0 220h160v-160H400v160ZM180-400h160v-160H180v160Zm440 0h160v-160H620v160ZM180-180h160v-160H180v160Zm440 0h160v-160H620v160Z\"/>\n",
              "  </svg>\n",
              "    </button>\n",
              "\n",
              "  <style>\n",
              "    .colab-df-container {\n",
              "      display:flex;\n",
              "      gap: 12px;\n",
              "    }\n",
              "\n",
              "    .colab-df-convert {\n",
              "      background-color: #E8F0FE;\n",
              "      border: none;\n",
              "      border-radius: 50%;\n",
              "      cursor: pointer;\n",
              "      display: none;\n",
              "      fill: #1967D2;\n",
              "      height: 32px;\n",
              "      padding: 0 0 0 0;\n",
              "      width: 32px;\n",
              "    }\n",
              "\n",
              "    .colab-df-convert:hover {\n",
              "      background-color: #E2EBFA;\n",
              "      box-shadow: 0px 1px 2px rgba(60, 64, 67, 0.3), 0px 1px 3px 1px rgba(60, 64, 67, 0.15);\n",
              "      fill: #174EA6;\n",
              "    }\n",
              "\n",
              "    .colab-df-buttons div {\n",
              "      margin-bottom: 4px;\n",
              "    }\n",
              "\n",
              "    [theme=dark] .colab-df-convert {\n",
              "      background-color: #3B4455;\n",
              "      fill: #D2E3FC;\n",
              "    }\n",
              "\n",
              "    [theme=dark] .colab-df-convert:hover {\n",
              "      background-color: #434B5C;\n",
              "      box-shadow: 0px 1px 3px 1px rgba(0, 0, 0, 0.15);\n",
              "      filter: drop-shadow(0px 1px 2px rgba(0, 0, 0, 0.3));\n",
              "      fill: #FFFFFF;\n",
              "    }\n",
              "  </style>\n",
              "\n",
              "    <script>\n",
              "      const buttonEl =\n",
              "        document.querySelector('#df-0040ccaf-b9ba-4db0-a296-488eefe8b822 button.colab-df-convert');\n",
              "      buttonEl.style.display =\n",
              "        google.colab.kernel.accessAllowed ? 'block' : 'none';\n",
              "\n",
              "      async function convertToInteractive(key) {\n",
              "        const element = document.querySelector('#df-0040ccaf-b9ba-4db0-a296-488eefe8b822');\n",
              "        const dataTable =\n",
              "          await google.colab.kernel.invokeFunction('convertToInteractive',\n",
              "                                                    [key], {});\n",
              "        if (!dataTable) return;\n",
              "\n",
              "        const docLinkHtml = 'Like what you see? Visit the ' +\n",
              "          '<a target=\"_blank\" href=https://colab.research.google.com/notebooks/data_table.ipynb>data table notebook</a>'\n",
              "          + ' to learn more about interactive tables.';\n",
              "        element.innerHTML = '';\n",
              "        dataTable['output_type'] = 'display_data';\n",
              "        await google.colab.output.renderOutput(dataTable, element);\n",
              "        const docLink = document.createElement('div');\n",
              "        docLink.innerHTML = docLinkHtml;\n",
              "        element.appendChild(docLink);\n",
              "      }\n",
              "    </script>\n",
              "  </div>\n",
              "\n",
              "\n",
              "    <div id=\"df-d6f9d2c7-6255-40b2-8c87-42e0199ac7ea\">\n",
              "      <button class=\"colab-df-quickchart\" onclick=\"quickchart('df-d6f9d2c7-6255-40b2-8c87-42e0199ac7ea')\"\n",
              "                title=\"Suggest charts\"\n",
              "                style=\"display:none;\">\n",
              "\n",
              "<svg xmlns=\"http://www.w3.org/2000/svg\" height=\"24px\"viewBox=\"0 0 24 24\"\n",
              "     width=\"24px\">\n",
              "    <g>\n",
              "        <path d=\"M19 3H5c-1.1 0-2 .9-2 2v14c0 1.1.9 2 2 2h14c1.1 0 2-.9 2-2V5c0-1.1-.9-2-2-2zM9 17H7v-7h2v7zm4 0h-2V7h2v10zm4 0h-2v-4h2v4z\"/>\n",
              "    </g>\n",
              "</svg>\n",
              "      </button>\n",
              "\n",
              "<style>\n",
              "  .colab-df-quickchart {\n",
              "      --bg-color: #E8F0FE;\n",
              "      --fill-color: #1967D2;\n",
              "      --hover-bg-color: #E2EBFA;\n",
              "      --hover-fill-color: #174EA6;\n",
              "      --disabled-fill-color: #AAA;\n",
              "      --disabled-bg-color: #DDD;\n",
              "  }\n",
              "\n",
              "  [theme=dark] .colab-df-quickchart {\n",
              "      --bg-color: #3B4455;\n",
              "      --fill-color: #D2E3FC;\n",
              "      --hover-bg-color: #434B5C;\n",
              "      --hover-fill-color: #FFFFFF;\n",
              "      --disabled-bg-color: #3B4455;\n",
              "      --disabled-fill-color: #666;\n",
              "  }\n",
              "\n",
              "  .colab-df-quickchart {\n",
              "    background-color: var(--bg-color);\n",
              "    border: none;\n",
              "    border-radius: 50%;\n",
              "    cursor: pointer;\n",
              "    display: none;\n",
              "    fill: var(--fill-color);\n",
              "    height: 32px;\n",
              "    padding: 0;\n",
              "    width: 32px;\n",
              "  }\n",
              "\n",
              "  .colab-df-quickchart:hover {\n",
              "    background-color: var(--hover-bg-color);\n",
              "    box-shadow: 0 1px 2px rgba(60, 64, 67, 0.3), 0 1px 3px 1px rgba(60, 64, 67, 0.15);\n",
              "    fill: var(--button-hover-fill-color);\n",
              "  }\n",
              "\n",
              "  .colab-df-quickchart-complete:disabled,\n",
              "  .colab-df-quickchart-complete:disabled:hover {\n",
              "    background-color: var(--disabled-bg-color);\n",
              "    fill: var(--disabled-fill-color);\n",
              "    box-shadow: none;\n",
              "  }\n",
              "\n",
              "  .colab-df-spinner {\n",
              "    border: 2px solid var(--fill-color);\n",
              "    border-color: transparent;\n",
              "    border-bottom-color: var(--fill-color);\n",
              "    animation:\n",
              "      spin 1s steps(1) infinite;\n",
              "  }\n",
              "\n",
              "  @keyframes spin {\n",
              "    0% {\n",
              "      border-color: transparent;\n",
              "      border-bottom-color: var(--fill-color);\n",
              "      border-left-color: var(--fill-color);\n",
              "    }\n",
              "    20% {\n",
              "      border-color: transparent;\n",
              "      border-left-color: var(--fill-color);\n",
              "      border-top-color: var(--fill-color);\n",
              "    }\n",
              "    30% {\n",
              "      border-color: transparent;\n",
              "      border-left-color: var(--fill-color);\n",
              "      border-top-color: var(--fill-color);\n",
              "      border-right-color: var(--fill-color);\n",
              "    }\n",
              "    40% {\n",
              "      border-color: transparent;\n",
              "      border-right-color: var(--fill-color);\n",
              "      border-top-color: var(--fill-color);\n",
              "    }\n",
              "    60% {\n",
              "      border-color: transparent;\n",
              "      border-right-color: var(--fill-color);\n",
              "    }\n",
              "    80% {\n",
              "      border-color: transparent;\n",
              "      border-right-color: var(--fill-color);\n",
              "      border-bottom-color: var(--fill-color);\n",
              "    }\n",
              "    90% {\n",
              "      border-color: transparent;\n",
              "      border-bottom-color: var(--fill-color);\n",
              "    }\n",
              "  }\n",
              "</style>\n",
              "\n",
              "      <script>\n",
              "        async function quickchart(key) {\n",
              "          const quickchartButtonEl =\n",
              "            document.querySelector('#' + key + ' button');\n",
              "          quickchartButtonEl.disabled = true;  // To prevent multiple clicks.\n",
              "          quickchartButtonEl.classList.add('colab-df-spinner');\n",
              "          try {\n",
              "            const charts = await google.colab.kernel.invokeFunction(\n",
              "                'suggestCharts', [key], {});\n",
              "          } catch (error) {\n",
              "            console.error('Error during call to suggestCharts:', error);\n",
              "          }\n",
              "          quickchartButtonEl.classList.remove('colab-df-spinner');\n",
              "          quickchartButtonEl.classList.add('colab-df-quickchart-complete');\n",
              "        }\n",
              "        (() => {\n",
              "          let quickchartButtonEl =\n",
              "            document.querySelector('#df-d6f9d2c7-6255-40b2-8c87-42e0199ac7ea button');\n",
              "          quickchartButtonEl.style.display =\n",
              "            google.colab.kernel.accessAllowed ? 'block' : 'none';\n",
              "        })();\n",
              "      </script>\n",
              "    </div>\n",
              "\n",
              "    </div>\n",
              "  </div>\n"
            ],
            "application/vnd.google.colaboratory.intrinsic+json": {
              "type": "dataframe",
              "variable_name": "data",
              "summary": "{\n  \"name\": \"data\",\n  \"rows\": 51717,\n  \"fields\": [\n    {\n      \"column\": \"name\",\n      \"properties\": {\n        \"dtype\": \"category\",\n        \"num_unique_values\": 8792,\n        \"samples\": [\n          \"Calcutta North Indian Meals\",\n          \"Parinitha Biryani Corner\",\n          \"Tiwari's\"\n        ],\n        \"semantic_type\": \"\",\n        \"description\": \"\"\n      }\n    },\n    {\n      \"column\": \"online_order\",\n      \"properties\": {\n        \"dtype\": \"category\",\n        \"num_unique_values\": 2,\n        \"samples\": [\n          \"No\",\n          \"Yes\"\n        ],\n        \"semantic_type\": \"\",\n        \"description\": \"\"\n      }\n    },\n    {\n      \"column\": \"book_table\",\n      \"properties\": {\n        \"dtype\": \"category\",\n        \"num_unique_values\": 2,\n        \"samples\": [\n          \"No\",\n          \"Yes\"\n        ],\n        \"semantic_type\": \"\",\n        \"description\": \"\"\n      }\n    },\n    {\n      \"column\": \"rate\",\n      \"properties\": {\n        \"dtype\": \"category\",\n        \"num_unique_values\": 64,\n        \"samples\": [\n          \"1.8/5\",\n          \"4.7 /5\"\n        ],\n        \"semantic_type\": \"\",\n        \"description\": \"\"\n      }\n    },\n    {\n      \"column\": \"votes\",\n      \"properties\": {\n        \"dtype\": \"number\",\n        \"std\": 803,\n        \"min\": 0,\n        \"max\": 16832,\n        \"num_unique_values\": 2328,\n        \"samples\": [\n          1807,\n          2392\n        ],\n        \"semantic_type\": \"\",\n        \"description\": \"\"\n      }\n    },\n    {\n      \"column\": \"location\",\n      \"properties\": {\n        \"dtype\": \"category\",\n        \"num_unique_values\": 93,\n        \"samples\": [\n          \"Church Street\",\n          \"Shanti Nagar\"\n        ],\n        \"semantic_type\": \"\",\n        \"description\": \"\"\n      }\n    },\n    {\n      \"column\": \"rest_type\",\n      \"properties\": {\n        \"dtype\": \"category\",\n        \"num_unique_values\": 93,\n        \"samples\": [\n          \"Quick Bites, Sweet Shop\",\n          \"Bakery, Quick Bites\"\n        ],\n        \"semantic_type\": \"\",\n        \"description\": \"\"\n      }\n    },\n    {\n      \"column\": \"cuisines\",\n      \"properties\": {\n        \"dtype\": \"category\",\n        \"num_unique_values\": 2723,\n        \"samples\": [\n          \"North Indian, Chinese, Andhra, Biryani\",\n          \"Biryani, Chinese\"\n        ],\n        \"semantic_type\": \"\",\n        \"description\": \"\"\n      }\n    },\n    {\n      \"column\": \"approx_cost(for two people)\",\n      \"properties\": {\n        \"dtype\": \"category\",\n        \"num_unique_values\": 70,\n        \"samples\": [\n          \"199\",\n          \"800\"\n        ],\n        \"semantic_type\": \"\",\n        \"description\": \"\"\n      }\n    },\n    {\n      \"column\": \"reviews_list\",\n      \"properties\": {\n        \"dtype\": \"category\",\n        \"num_unique_values\": 22513,\n        \"samples\": [\n          \"[('Rated 2.0', 'RATED\\\\n  A small tiny place where the manager and the Stuarts are not aware of what is available in the kitchen. They keep checking with the chefs. Was disappointed so had to leave the place.'), ('Rated 3.0', \\\"RATED\\\\n  Would rate this place a 3.5.\\\\nThis place is not difficult to find. Our craving to have sizzlers, & thanks to zomato gold, we landed here.\\\\nAmbience is decent. Staff is polite.\\\\nWe ordered Triple Berry Mocktail , Tex Mex Chicken Sizzler & Mixed Grill Sizzler.\\\\nTriple Berry was way too sweet.\\\\nTex Mex came with BBQ sauce that was supposed to be tangy but was kind of sweet. This was the recommended dish by the staff, hence we were bit disappointed.\\\\nThe only dish which was satisfying was the mix grill which had lamb, chicken, egg & fish.\\\\n\\\\nLastly they do put an extra service charge on top of GST. However they don't mention this when giving the bill. When we checked the bill & asked them, they told it's not mandatory to pay the Service Charge, its up to the customer. Personally, I don't think it's fair to sneak in the service charge & not inform the customer in the first place.\\\\nAnyways, overall a decent experience but unlikely to visit again.\\\"), ('Rated 3.0', 'RATED\\\\n  Cozy place but highly short on staff. Service is slow. Sizzler was decent. Decent experience but disappointed in terms of serving time.\\\\nAmbience-2.5/5\\\\nFood-3/5\\\\nService-2.5/5'), ('Rated 3.0', 'RATED\\\\n  This place has a great ambience, but the food is average. The food they served us became cold real soon, but the staff were courteous Enough to replace it.'), ('Rated 1.0', 'RATED\\\\n  I was a regular customer but this very recent time, I had gone there for dinner - they had nothing only soups, desserts, drinks and a very few starters.\\\\nWe took the tomato basil soup which was like tomato puree which came with the tomato peel.\\\\nAnd we ordered garlic bread since nothing was available, and it was very okayish about 3/5. So overall a very very bad recent experience as the service also has become extremely slow. They took 40 mins to get the garlic bread.'), ('Rated 2.0', 'RATED\\\\n  Surprisingly as the name suggests, Sizzlers were not upto the mark. We\\\\'ve ordered Classic Beef Sizzler and Pesto Pasta Sizzler out of which none was that delicious. We\\\\'ve also ordered BBQ Chicken Steak and a beef steak, totally delicious and enjoyed well. Also a \\\"Pink Floyd\\\" which was watermelon based drink was also delightful to drink, rather expensive. Ambience was okay but the service was utterly late (~40 mins) which totally kills out everything.'), ('Rated 3.0', 'RATED\\\\n  took wayyyyyyy to long for food to come.. took precisely 45mins for one order and 55 mins for 2nd order to be served... whoever want to visit here pls have atleast 60mins time in hand so that u dnt sit there feeling hungry. the food is good. We took a tex mex sizzler and a bbq chicken sizzler ... both tasted yumm... but the long wait was too much. we saw people going up to the waiters like 3-4 time to know about time for their order to be served. I dunno if I would want to visit this place again...'), ('Rated 5.0', \\\"RATED\\\\n  I have been to this place a couple of times and this is my favourite sizzler place in Bangalore! I've tried most of the items on their menu, appetizers, sizzlers, and drinks. I love the Frachos and the Manchurian sizzler in particular. The sizzling brownie is definitely my all time favourite dessert. The staff has been courteous on all occasions and the service has been fast. The quality of food has remained the same through last couple of years. Definitely check this place out if a good sizzler is what you're looking for!\\\"), ('Rated 3.0', 'RATED\\\\n  A nice place for some simple Sizzlers. Mr Pemba, who attended us was v courteous n helpful. Good work. The place was pretty hot inside. May be they could work on the ventilation.'), ('Rated 4.0', 'RATED\\\\n  As the name says the place was filled with smoke the moment we entered.... Food was tasty and a lot of options to choose from... Quality was perfect neither less nor too heavy... Staff was helpful in making choice... Happy enjoying smoke sizzler...'), ('Rated 1.0', 'RATED\\\\n  One of the worst experience. Visited with 3 of my friends late night around 9.30pm staff took my gold id after 20 mins comes and says we can\\\\'t serve you as \\\"Chef is not in the mood to cook\\\" this was the sentence used.\\\\n\\\\n45 mins later they served worst uncooked items and we saw 3 tables completing on the service and worst food.\\\\n\\\\nNever ever go this place'), ('Rated 1.0', \\\"RATED\\\\n  Well few reasons why I didn't like the place.\\\\n\\\\n1)Food took a long time to come, almost half an hour in a fairly empty restaurant.\\\\n\\\\n2) We ordered barbeque stuffed chicken and Mac and cheese chicken sizzler. The barbeque sauce was too sweet. The sizzler was not that great.\\\\n\\\\n3) A simple lime soda costs 200 bucks! That was not even soda,that was water.\\\\n\\\\n4) Nothing to boast about the ambience as well.\\\"), ('Rated 5.0', \\\"RATED\\\\n  If you're willing to stuff yourself upto the point where you can't walk, Go to smoke!\\\\nBecause the food tastes so good you wouldn't want to leave behind even the last bite!\\\\nDo try the Sizzling Mexicana, Shashlik Sizzler if you love spice. The sizzling mexicana comes with a cheese patty is the most right combination that makes you doubt you're own marriage. However, if you don't mind something sweet, the barbecue sizzler with paneer can add sweetness to your life with every bite. I'd suggest you to split this with a pal.\\\\nThe calfornian pizza is one of the best pizza's I've had honestly. It's rich in flavor and brings happiness to your heart. I wouldn't recommend the cheesecake, that is something they have to improve on.\\\\nIt's Affordable and for 3 sizzlers, one pizza, 2 zomato gold the bill came upto just 600. A good, stuffing and easy on the pocket meal is all I want every day!\\\"), ('Rated 4.0', 'RATED\\\\n  Need to wine and dine ? Head to smoke to satisfy both with delicious sizzlers to munch on.\\\\n\\\\nQuantity of the sizzlers are good and they taste good too. 1 sizzler is good enough for one person.\\\\n\\\\nThe staff is really nice and they offer twists on the wines.\\\\n\\\\nAmbience is a mildly authentic and has a very lit up feel.\\\\n\\\\nYou might have a little bit of wait time on the sizzlers but the rest of the food comes pretty quick.\\\\n\\\\nMust visit if you are craving for some sizzlers!'), ('Rated 5.0', \\\"RATED\\\\n  The food is really good and tasty.....The service is really impressive plus the way they represent the food. Should try out Buffalo Wings and Sizzler's. The cost is reasonable not that expensive. Recommend place for Steaks.\\\"), ('Rated 3.0', 'RATED\\\\n  Went their for Zomato gold. Tried Manchurian sizzler with rice and cheese garlic bread. Loved the cheese garlic bread which is served with salsa which tasted good. But the sizzler wasn\\u00c3\\u0083\\\\x83\\u00c3\\u0082\\\\x83\\u00c3\\u0083\\\\x82\\u00c3\\u0082\\\\x83\\u00c3\\u0083\\\\x83\\u00c3\\u0082\\\\x82\\u00c3\\u0083\\\\x82\\u00c3\\u0082\\u00c2\\u00a2\\u00c3\\u0083\\\\x83\\u00c3\\u0082\\\\x83\\u00c3\\u0083\\\\x82\\u00c3\\u0082\\\\x82\\u00c3\\u0083\\\\x83\\u00c3\\u0082\\\\x82\\u00c3\\u0083\\\\x82\\u00c3\\u0082\\\\x80\\u00c3\\u0083\\\\x83\\u00c3\\u0082\\\\x83\\u00c3\\u0083\\\\x82\\u00c3\\u0082\\\\x82\\u00c3\\u0083\\\\x83\\u00c3\\u0082\\\\x82\\u00c3\\u0083\\\\x82\\u00c3\\u0082\\\\x99t that great. Service and ambience was good. Can Visit once.'), ('Rated 3.0', \\\"RATED\\\\n  They have a wide range of vegetarian sizzlers, so, in case you are a vegetarian, do not be upset. We tried Manchurian and Schezwan Sizzlers. Both were cooked but I must point out that the Manchurian balls needed a little more cooking as they were gooey inside and tasted weird. Service is prompt and the place is great, if you want to hang out with friends.\\\\n\\\\nFood (taste) - 3/5\\\\nValue for money - 3/5\\\\nService- 3/5\\\\nAmbiance - 3/5\\\\nOn my 'Visit Again' list - Maybe\\\"), ('Rated 4.0', \\\"RATED\\\\n  Quietly surprised by the service and the taste...if u are bored by visiting Kobe sizzler..I mean the same place...u can definitely give this play a try...food is at par with Kobe's...ove the shashilk and the pasta sizzlers...overall will do come 2 this place again\\\"), ('Rated 4.0', 'RATED\\\\n  Need to wine and dine ? Head to smoke to satisfy both with delicious sizzlers to munch on.\\\\n\\\\nQuantity of the sizzlers are good and they taste good too. 1 sizzler is good enough for one person.\\\\n\\\\nThe staff is really nice and they offer twists on the wines.\\\\n\\\\nAmbience is a mildly authentic and has a very lit up feel.\\\\n\\\\nYou might have a little bit of wait time on the sizzlers but the rest of the food comes pretty quick.\\\\n\\\\nMust visit if you are craving for some sizzlers!'), ('Rated 5.0', \\\"RATED\\\\n  The food is really good and tasty.....The service is really impressive plus the way they represent the food. Should try out Buffalo Wings and Sizzler's. The cost is reasonable not that expensive. Recommend place for Steaks.\\\"), ('Rated 3.0', 'RATED\\\\n  Went their for Zomato gold. Tried Manchurian sizzler with rice and cheese garlic bread. Loved the cheese garlic bread which is served with salsa which tasted good. But the sizzler wasn\\u00c3\\u0083\\\\x83\\u00c3\\u0082\\\\x83\\u00c3\\u0083\\\\x82\\u00c3\\u0082\\\\x83\\u00c3\\u0083\\\\x83\\u00c3\\u0082\\\\x82\\u00c3\\u0083\\\\x82\\u00c3\\u0082\\u00c2\\u00a2\\u00c3\\u0083\\\\x83\\u00c3\\u0082\\\\x83\\u00c3\\u0083\\\\x82\\u00c3\\u0082\\\\x82\\u00c3\\u0083\\\\x83\\u00c3\\u0082\\\\x82\\u00c3\\u0083\\\\x82\\u00c3\\u0082\\\\x80\\u00c3\\u0083\\\\x83\\u00c3\\u0082\\\\x83\\u00c3\\u0083\\\\x82\\u00c3\\u0082\\\\x82\\u00c3\\u0083\\\\x83\\u00c3\\u0082\\\\x82\\u00c3\\u0083\\\\x82\\u00c3\\u0082\\\\x99t that great. Service and ambience was good. Can Visit once.'), ('Rated 3.0', \\\"RATED\\\\n  They have a wide range of vegetarian sizzlers, so, in case you are a vegetarian, do not be upset. We tried Manchurian and Schezwan Sizzlers. Both were cooked but I must point out that the Manchurian balls needed a little more cooking as they were gooey inside and tasted weird. Service is prompt and the place is great, if you want to hang out with friends.\\\\n\\\\nFood (taste) - 3/5\\\\nValue for money - 3/5\\\\nService- 3/5\\\\nAmbiance - 3/5\\\\nOn my 'Visit Again' list - Maybe\\\"), ('Rated 4.0', \\\"RATED\\\\n  Quietly surprised by the service and the taste...if u are bored by visiting Kobe sizzler..I mean the same place...u can definitely give this play a try...food is at par with Kobe's...ove the shashilk and the pasta sizzlers...overall will do come 2 this place again\\\"), ('Rated 4.0', 'RATED\\\\n  Need to wine and dine ? Head to smoke to satisfy both with delicious sizzlers to munch on.\\\\n\\\\nQuantity of the sizzlers are good and they taste good too. 1 sizzler is good enough for one person.\\\\n\\\\nThe staff is really nice and they offer twists on the wines.\\\\n\\\\nAmbience is a mildly authentic and has a very lit up feel.\\\\n\\\\nYou might have a little bit of wait time on the sizzlers but the rest of the food comes pretty quick.\\\\n\\\\nMust visit if you are craving for some sizzlers!'), ('Rated 5.0', \\\"RATED\\\\n  The food is really good and tasty.....The service is really impressive plus the way they represent the food. Should try out Buffalo Wings and Sizzler's. The cost is reasonable not that expensive. Recommend place for Steaks.\\\"), ('Rated 3.0', 'RATED\\\\n  Went their for Zomato gold. Tried Manchurian sizzler with rice and cheese garlic bread. Loved the cheese garlic bread which is served with salsa which tasted good. But the sizzler wasn\\u00c3\\u0083\\\\x83\\u00c3\\u0082\\\\x83\\u00c3\\u0083\\\\x82\\u00c3\\u0082\\\\x83\\u00c3\\u0083\\\\x83\\u00c3\\u0082\\\\x82\\u00c3\\u0083\\\\x82\\u00c3\\u0082\\u00c2\\u00a2\\u00c3\\u0083\\\\x83\\u00c3\\u0082\\\\x83\\u00c3\\u0083\\\\x82\\u00c3\\u0082\\\\x82\\u00c3\\u0083\\\\x83\\u00c3\\u0082\\\\x82\\u00c3\\u0083\\\\x82\\u00c3\\u0082\\\\x80\\u00c3\\u0083\\\\x83\\u00c3\\u0082\\\\x83\\u00c3\\u0083\\\\x82\\u00c3\\u0082\\\\x82\\u00c3\\u0083\\\\x83\\u00c3\\u0082\\\\x82\\u00c3\\u0083\\\\x82\\u00c3\\u0082\\\\x99t that great. Service and ambience was good. Can Visit once.'), ('Rated 3.0', \\\"RATED\\\\n  They have a wide range of vegetarian sizzlers, so, in case you are a vegetarian, do not be upset. We tried Manchurian and Schezwan Sizzlers. Both were cooked but I must point out that the Manchurian balls needed a little more cooking as they were gooey inside and tasted weird. Service is prompt and the place is great, if you want to hang out with friends.\\\\n\\\\nFood (taste) - 3/5\\\\nValue for money - 3/5\\\\nService- 3/5\\\\nAmbiance - 3/5\\\\nOn my 'Visit Again' list - Maybe\\\"), ('Rated 4.0', \\\"RATED\\\\n  Quietly surprised by the service and the taste...if u are bored by visiting Kobe sizzler..I mean the same place...u can definitely give this play a try...food is at par with Kobe's...ove the shashilk and the pasta sizzlers...overall will do come 2 this place again\\\"), ('Rated 4.0', 'RATED\\\\n  Need to wine and dine ? Head to smoke to satisfy both with delicious sizzlers to munch on.\\\\n\\\\nQuantity of the sizzlers are good and they taste good too. 1 sizzler is good enough for one person.\\\\n\\\\nThe staff is really nice and they offer twists on the wines.\\\\n\\\\nAmbience is a mildly authentic and has a very lit up feel.\\\\n\\\\nYou might have a little bit of wait time on the sizzlers but the rest of the food comes pretty quick.\\\\n\\\\nMust visit if you are craving for some sizzlers!'), ('Rated 5.0', \\\"RATED\\\\n  The food is really good and tasty.....The service is really impressive plus the way they represent the food. Should try out Buffalo Wings and Sizzler's. The cost is reasonable not that expensive. Recommend place for Steaks.\\\"), ('Rated 3.0', 'RATED\\\\n  Went their for Zomato gold. Tried Manchurian sizzler with rice and cheese garlic bread. Loved the cheese garlic bread which is served with salsa which tasted good. But the sizzler wasn\\u00c3\\u0083\\\\x83\\u00c3\\u0082\\\\x83\\u00c3\\u0083\\\\x82\\u00c3\\u0082\\\\x83\\u00c3\\u0083\\\\x83\\u00c3\\u0082\\\\x82\\u00c3\\u0083\\\\x82\\u00c3\\u0082\\u00c2\\u00a2\\u00c3\\u0083\\\\x83\\u00c3\\u0082\\\\x83\\u00c3\\u0083\\\\x82\\u00c3\\u0082\\\\x82\\u00c3\\u0083\\\\x83\\u00c3\\u0082\\\\x82\\u00c3\\u0083\\\\x82\\u00c3\\u0082\\\\x80\\u00c3\\u0083\\\\x83\\u00c3\\u0082\\\\x83\\u00c3\\u0083\\\\x82\\u00c3\\u0082\\\\x82\\u00c3\\u0083\\\\x83\\u00c3\\u0082\\\\x82\\u00c3\\u0083\\\\x82\\u00c3\\u0082\\\\x99t that great. Service and ambience was good. Can Visit once.'), ('Rated 3.0', \\\"RATED\\\\n  They have a wide range of vegetarian sizzlers, so, in case you are a vegetarian, do not be upset. We tried Manchurian and Schezwan Sizzlers. Both were cooked but I must point out that the Manchurian balls needed a little more cooking as they were gooey inside and tasted weird. Service is prompt and the place is great, if you want to hang out with friends.\\\\n\\\\nFood (taste) - 3/5\\\\nValue for money - 3/5\\\\nService- 3/5\\\\nAmbiance - 3/5\\\\nOn my 'Visit Again' list - Maybe\\\"), ('Rated 4.0', \\\"RATED\\\\n  Quietly surprised by the service and the taste...if u are bored by visiting Kobe sizzler..I mean the same place...u can definitely give this play a try...food is at par with Kobe's...ove the shashilk and the pasta sizzlers...overall will do come 2 this place again\\\"), ('Rated 4.0', 'RATED\\\\n  Need to wine and dine ? Head to smoke to satisfy both with delicious sizzlers to munch on.\\\\n\\\\nQuantity of the sizzlers are good and they taste good too. 1 sizzler is good enough for one person.\\\\n\\\\nThe staff is really nice and they offer twists on the wines.\\\\n\\\\nAmbience is a mildly authentic and has a very lit up feel.\\\\n\\\\nYou might have a little bit of wait time on the sizzlers but the rest of the food comes pretty quick.\\\\n\\\\nMust visit if you are craving for some sizzlers!'), ('Rated 5.0', \\\"RATED\\\\n  The food is really good and tasty.....The service is really impressive plus the way they represent the food. Should try out Buffalo Wings and Sizzler's. The cost is reasonable not that expensive. Recommend place for Steaks.\\\"), ('Rated 3.0', 'RATED\\\\n  Went their for Zomato gold. Tried Manchurian sizzler with rice and cheese garlic bread. Loved the cheese garlic bread which is served with salsa which tasted good. But the sizzler wasn\\u00c3\\u0083\\\\x83\\u00c3\\u0082\\\\x83\\u00c3\\u0083\\\\x82\\u00c3\\u0082\\\\x83\\u00c3\\u0083\\\\x83\\u00c3\\u0082\\\\x82\\u00c3\\u0083\\\\x82\\u00c3\\u0082\\u00c2\\u00a2\\u00c3\\u0083\\\\x83\\u00c3\\u0082\\\\x83\\u00c3\\u0083\\\\x82\\u00c3\\u0082\\\\x82\\u00c3\\u0083\\\\x83\\u00c3\\u0082\\\\x82\\u00c3\\u0083\\\\x82\\u00c3\\u0082\\\\x80\\u00c3\\u0083\\\\x83\\u00c3\\u0082\\\\x83\\u00c3\\u0083\\\\x82\\u00c3\\u0082\\\\x82\\u00c3\\u0083\\\\x83\\u00c3\\u0082\\\\x82\\u00c3\\u0083\\\\x82\\u00c3\\u0082\\\\x99t that great. Service and ambience was good. Can Visit once.'), ('Rated 3.0', \\\"RATED\\\\n  They have a wide range of vegetarian sizzlers, so, in case you are a vegetarian, do not be upset. We tried Manchurian and Schezwan Sizzlers. Both were cooked but I must point out that the Manchurian balls needed a little more cooking as they were gooey inside and tasted weird. Service is prompt and the place is great, if you want to hang out with friends.\\\\n\\\\nFood (taste) - 3/5\\\\nValue for money - 3/5\\\\nService- 3/5\\\\nAmbiance - 3/5\\\\nOn my 'Visit Again' list - Maybe\\\"), ('Rated 4.0', \\\"RATED\\\\n  Quietly surprised by the service and the taste...if u are bored by visiting Kobe sizzler..I mean the same place...u can definitely give this play a try...food is at par with Kobe's...ove the shashilk and the pasta sizzlers...overall will do come 2 this place again\\\"), ('Rated 4.0', \\\"RATED\\\\n  It's always been my favorite place for sizzler. Cheese macroni sizzler was amazing. Btw everything they serve was worth trying (sizzlers) .\\\\nDidn't like the pasta tho.\\\\n\\\\nFood- 4.5/5\\\\nAmbience- 4/5\\\\nService- 2.5/5 (it's very slow)\\\"), ('Rated 5.0', 'RATED\\\\n  I have not had such a nice food in a really long time. Their butter garlic prawns were the best I have had till date. Please try it if you visit the place. Also the pasta sizzler and fish steak both were delicious. I will certainly visit this place again and again. They are light on pocket also because of zomato gold. However the service could be fast. The food they offer is absolutely amazing.'), ('Rated 3.0', 'RATED\\\\n  The food is average and the prices are high. We order fish finger and it was disappointing to see that the fish content was really less, however the batter was so thick that there was hardly any taste of the fish in a bite. Similarly the flavours in the sizzlers were just okay and tasted more ketchupy'), ('Rated 4.0', 'RATED\\\\n  \\u00c3\\u0083\\\\x83\\u00c3\\u0082\\\\x83\\u00c3\\u0083\\\\x82\\u00c3\\u0082\\\\x83\\u00c3\\u0083\\\\x83\\u00c3\\u0082\\\\x82\\u00c3\\u0083\\\\x82\\u00c3\\u0082\\\\x82\\u00c3\\u0083\\\\x83\\u00c3\\u0082\\\\x83\\u00c3\\u0083\\\\x82\\u00c3\\u0082\\\\x82\\u00c3\\u0083\\\\x83\\u00c3\\u0082\\\\x82\\u00c3\\u0083\\\\x82\\u00c3\\u0082\\u00c2\\u00b0Ambience:\\\\n- Comfortable couches and chairs for seating\\\\n- Warm Woodsy decor\\\\n- Well lit \\u00c3\\u0083\\\\x83\\u00c3\\u0082\\\\x83\\u00c3\\u0083\\\\x82\\u00c3\\u0082\\\\x83\\u00c3\\u0083\\\\x83\\u00c3\\u0082\\\\x82\\u00c3\\u0083\\\\x82\\u00c3\\u0082\\u00c2\\u00a2\\u00c3\\u0083\\\\x83\\u00c3\\u0082\\\\x83\\u00c3\\u0083\\\\x82\\u00c3\\u0082\\\\x82\\u00c3\\u0083\\\\x83\\u00c3\\u0082\\\\x82\\u00c3\\u0083\\\\x82\\u00c3\\u0082\\\\x9c\\u00c3\\u0083\\\\x83\\u00c3\\u0082\\\\x83\\u00c3\\u0083\\\\x82\\u00c3\\u0082\\\\x82\\u00c3\\u0083\\\\x83\\u00c3\\u0082\\\\x82\\u00c3\\u0083\\\\x82\\u00c3\\u0082\\u00c2\\u00a8\\\\n- Good music\\\\n\\\\n\\u00c3\\u0083\\\\x83\\u00c3\\u0082\\\\x83\\u00c3\\u0083\\\\x82\\u00c3\\u0082\\\\x83\\u00c3\\u0083\\\\x83\\u00c3\\u0082\\\\x82\\u00c3\\u0083\\\\x82\\u00c3\\u0082\\\\x82\\u00c3\\u0083\\\\x83\\u00c3\\u0082\\\\x83\\u00c3\\u0083\\\\x82\\u00c3\\u0082\\\\x82\\u00c3\\u0083\\\\x83\\u00c3\\u0082\\\\x82\\u00c3\\u0083\\\\x82\\u00c3\\u0082\\u00c2\\u00b0Food:\\\\n- Very yummy food!\\\\n- Sizzlers, burgers and sandwiches available\\\\n- Recommend :\\\\n~ Butter garlic prawn, corn cheese bombs \\u00c3\\u0083\\\\x83\\u00c3\\u0082\\\\x83\\u00c3\\u0083\\\\x82\\u00c3\\u0082\\\\x83\\u00c3\\u0083\\\\x83\\u00c3\\u0082\\\\x82\\u00c3\\u0083\\\\x82\\u00c3\\u0082\\u00c2\\u00a2\\u00c3\\u0083\\\\x83\\u00c3\\u0082\\\\x83\\u00c3\\u0083\\\\x82\\u00c3\\u0082\\\\x82\\u00c3\\u0083\\\\x83\\u00c3\\u0082\\\\x82\\u00c3\\u0083\\\\x82\\u00c3\\u0082\\\\x9d\\u00c3\\u0083\\\\x83\\u00c3\\u0082\\\\x83\\u00c3\\u0083\\\\x82\\u00c3\\u0082\\\\x82\\u00c3\\u0083\\\\x83\\u00c3\\u0082\\\\x82\\u00c3\\u0083\\\\x82\\u00c3\\u0082\\u00c2\\u00a4\\\\n~ Pasta sizzlers is a good option for pasta lovers.\\\\n\\\\n\\u00c3\\u0083\\\\x83\\u00c3\\u0082\\\\x83\\u00c3\\u0083\\\\x82\\u00c3\\u0082\\\\x83\\u00c3\\u0083\\\\x83\\u00c3\\u0082\\\\x82\\u00c3\\u0083\\\\x82\\u00c3\\u0082\\\\x82\\u00c3\\u0083\\\\x83\\u00c3\\u0082\\\\x83\\u00c3\\u0083\\\\x82\\u00c3\\u0082\\\\x82\\u00c3\\u0083\\\\x83\\u00c3\\u0082\\\\x82\\u00c3\\u0083\\\\x82\\u00c3\\u0082\\u00c2\\u00b0Drinks :\\\\n- Wine\\\\n- Mocktails\\\\n\\\\n\\u00c3\\u0083\\\\x83\\u00c3\\u0082\\\\x83\\u00c3\\u0083\\\\x82\\u00c3\\u0082\\\\x83\\u00c3\\u0083\\\\x83\\u00c3\\u0082\\\\x82\\u00c3\\u0083\\\\x82\\u00c3\\u0082\\\\x82\\u00c3\\u0083\\\\x83\\u00c3\\u0082\\\\x83\\u00c3\\u0083\\\\x82\\u00c3\\u0082\\\\x82\\u00c3\\u0083\\\\x83\\u00c3\\u0082\\\\x82\\u00c3\\u0083\\\\x82\\u00c3\\u0082\\u00c2\\u00b0Desserts:\\\\n- Can be improved \\u00c3\\u0083\\\\x83\\u00c3\\u0082\\\\x83\\u00c3\\u0083\\\\x82\\u00c3\\u0082\\\\x83\\u00c3\\u0083\\\\x83\\u00c3\\u0082\\\\x82\\u00c3\\u0083\\\\x82\\u00c3\\u0082\\u00c2\\u00a2\\u00c3\\u0083\\\\x83\\u00c3\\u0082\\\\x83\\u00c3\\u0083\\\\x82\\u00c3\\u0082\\\\x82\\u00c3\\u0083\\\\x83\\u00c3\\u0082\\\\x82\\u00c3\\u0083\\\\x82\\u00c3\\u0082\\\\x9a\\u00c3\\u0083\\\\x83\\u00c3\\u0082\\\\x83\\u00c3\\u0083\\\\x82\\u00c3\\u0082\\\\x82\\u00c3\\u0083\\\\x83\\u00c3\\u0082\\\\x82\\u00c3\\u0083\\\\x82\\u00c3\\u0082\\\\xa0\\u00c3\\u0083\\\\x83\\u00c3\\u0082\\\\x83\\u00c3\\u0083\\\\x82\\u00c3\\u0082\\\\x83\\u00c3\\u0083\\\\x83\\u00c3\\u0082\\\\x82\\u00c3\\u0083\\\\x82\\u00c3\\u0082\\u00c2\\u00af\\u00c3\\u0083\\\\x83\\u00c3\\u0082\\\\x83\\u00c3\\u0083\\\\x82\\u00c3\\u0082\\\\x82\\u00c3\\u0083\\\\x83\\u00c3\\u0082\\\\x82\\u00c3\\u0083\\\\x82\\u00c3\\u0082\\u00c2\\u00b8\\u00c3\\u0083\\\\x83\\u00c3\\u0082\\\\x83\\u00c3\\u0083\\\\x82\\u00c3\\u0082\\\\x82\\u00c3\\u0083\\\\x83\\u00c3\\u0082\\\\x82\\u00c3\\u0083\\\\x82\\u00c3\\u0082\\\\x8f\\\\nNew York cheese cake was warm \\u00c3\\u0083\\\\x83\\u00c3\\u0082\\\\x83\\u00c3\\u0083\\\\x82\\u00c3\\u0082\\\\x83\\u00c3\\u0083\\\\x83\\u00c3\\u0082\\\\x82\\u00c3\\u0083\\\\x82\\u00c3\\u0082\\u00c2\\u00b0\\u00c3\\u0083\\\\x83\\u00c3\\u0082\\\\x83\\u00c3\\u0083\\\\x82\\u00c3\\u0082\\\\x82\\u00c3\\u0083\\\\x83\\u00c3\\u0082\\\\x82\\u00c3\\u0083\\\\x82\\u00c3\\u0082\\\\x9f\\u00c3\\u0083\\\\x83\\u00c3\\u0082\\\\x83\\u00c3\\u0083\\\\x82\\u00c3\\u0082\\\\x82\\u00c3\\u0083\\\\x83\\u00c3\\u0082\\\\x82\\u00c3\\u0083\\\\x82\\u00c3\\u0082\\\\x8d\\u00c3\\u0083\\\\x83\\u00c3\\u0082\\\\x83\\u00c3\\u0083\\\\x82\\u00c3\\u0082\\\\x82\\u00c3\\u0083\\\\x83\\u00c3\\u0082\\\\x82\\u00c3\\u0083\\\\x82\\u00c3\\u0082\\u00c2\\u00b0\\u00c3\\u0083\\\\x83\\u00c3\\u0082\\\\x83\\u00c3\\u0083\\\\x82\\u00c3\\u0082\\\\x83\\u00c3\\u0083\\\\x83\\u00c3\\u0082\\\\x82\\u00c3\\u0083\\\\x82\\u00c3\\u0082\\u00c2\\u00b0\\u00c3\\u0083\\\\x83\\u00c3\\u0082\\\\x83\\u00c3\\u0083\\\\x82\\u00c3\\u0082\\\\x82\\u00c3\\u0083\\\\x83\\u00c3\\u0082\\\\x82\\u00c3\\u0083\\\\x82\\u00c3\\u0082\\\\x9f\\u00c3\\u0083\\\\x83\\u00c3\\u0082\\\\x83\\u00c3\\u0083\\\\x82\\u00c3\\u0082\\\\x82\\u00c3\\u0083\\\\x83\\u00c3\\u0082\\\\x82\\u00c3\\u0083\\\\x82\\u00c3\\u0082\\\\x91\\u00c3\\u0083\\\\x83\\u00c3\\u0082\\\\x83\\u00c3\\u0083\\\\x82\\u00c3\\u0082\\\\x82\\u00c3\\u0083\\\\x83\\u00c3\\u0082\\\\x82\\u00c3\\u0083\\\\x82\\u00c3\\u0082\\\\x8e\\u00c3\\u0083\\\\x83\\u00c3\\u0082\\\\x83\\u00c3\\u0083\\\\x82\\u00c3\\u0082\\\\x83\\u00c3\\u0083\\\\x83\\u00c3\\u0082\\\\x82\\u00c3\\u0083\\\\x82\\u00c3\\u0082\\u00c2\\u00b0\\u00c3\\u0083\\\\x83\\u00c3\\u0082\\\\x83\\u00c3\\u0083\\\\x82\\u00c3\\u0082\\\\x82\\u00c3\\u0083\\\\x83\\u00c3\\u0082\\\\x82\\u00c3\\u0083\\\\x82\\u00c3\\u0082\\\\x9f\\u00c3\\u0083\\\\x83\\u00c3\\u0082\\\\x83\\u00c3\\u0083\\\\x82\\u00c3\\u0082\\\\x82\\u00c3\\u0083\\\\x83\\u00c3\\u0082\\\\x82\\u00c3\\u0083\\\\x82\\u00c3\\u0082\\\\x8f\\u00c3\\u0083\\\\x83\\u00c3\\u0082\\\\x83\\u00c3\\u0083\\\\x82\\u00c3\\u0082\\\\x82\\u00c3\\u0083\\\\x83\\u00c3\\u0082\\\\x82\\u00c3\\u0083\\\\x82\\u00c3\\u0082\\u00c2\\u00bc\\\\nSizzling brownie - the brownie was good but the chocolate sauce had a burnt taste as the sizzlers was too hot than it should have been. \\u00c3\\u0083\\\\x83\\u00c3\\u0082\\\\x83\\u00c3\\u0083\\\\x82\\u00c3\\u0082\\\\x83\\u00c3\\u0083\\\\x83\\u00c3\\u0082\\\\x82\\u00c3\\u0083\\\\x82\\u00c3\\u0082\\u00c2\\u00b0\\u00c3\\u0083\\\\x83\\u00c3\\u0082\\\\x83\\u00c3\\u0083\\\\x82\\u00c3\\u0082\\\\x82\\u00c3\\u0083\\\\x83\\u00c3\\u0082\\\\x82\\u00c3\\u0083\\\\x82\\u00c3\\u0082\\\\x9f\\u00c3\\u0083\\\\x83\\u00c3\\u0082\\\\x83\\u00c3\\u0083\\\\x82\\u00c3\\u0082\\\\x82\\u00c3\\u0083\\\\x83\\u00c3\\u0082\\\\x82\\u00c3\\u0083\\\\x82\\u00c3\\u0082\\\\x91\\u00c3\\u0083\\\\x83\\u00c3\\u0082\\\\x83\\u00c3\\u0083\\\\x82\\u00c3\\u0082\\\\x82\\u00c3\\u0083\\\\x83\\u00c3\\u0082\\\\x82\\u00c3\\u0083\\\\x82\\u00c3\\u0082\\\\x8e\\u00c3\\u0083\\\\x83\\u00c3\\u0082\\\\x83\\u00c3\\u0083\\\\x82\\u00c3\\u0082\\\\x83\\u00c3\\u0083\\\\x83\\u00c3\\u0082\\\\x82\\u00c3\\u0083\\\\x82\\u00c3\\u0082\\u00c2\\u00b0\\u00c3\\u0083\\\\x83\\u00c3\\u0082\\\\x83\\u00c3\\u0083\\\\x82\\u00c3\\u0082\\\\x82\\u00c3\\u0083\\\\x83\\u00c3\\u0082\\\\x82\\u00c3\\u0083\\\\x82\\u00c3\\u0082\\\\x9f\\u00c3\\u0083\\\\x83\\u00c3\\u0082\\\\x83\\u00c3\\u0083\\\\x82\\u00c3\\u0082\\\\x82\\u00c3\\u0083\\\\x83\\u00c3\\u0082\\\\x82\\u00c3\\u0083\\\\x82\\u00c3\\u0082\\\\x8f\\u00c3\\u0083\\\\x83\\u00c3\\u0082\\\\x83\\u00c3\\u0083\\\\x82\\u00c3\\u0082\\\\x82\\u00c3\\u0083\\\\x83\\u00c3\\u0082\\\\x82\\u00c3\\u0083\\\\x82\\u00c3\\u0082\\u00c2\\u00bc\\\\n\\\\n\\u00c3\\u0083\\\\x83\\u00c3\\u0082\\\\x83\\u00c3\\u0083\\\\x82\\u00c3\\u0082\\\\x83\\u00c3\\u0083\\\\x83\\u00c3\\u0082\\\\x82\\u00c3\\u0083\\\\x82\\u00c3\\u0082\\\\x82\\u00c3\\u0083\\\\x83\\u00c3\\u0082\\\\x83\\u00c3\\u0083\\\\x82\\u00c3\\u0082\\\\x82\\u00c3\\u0083\\\\x83\\u00c3\\u0082\\\\x82\\u00c3\\u0083\\\\x82\\u00c3\\u0082\\u00c2\\u00b0Menu:\\\\n- Veg and Non veg dishes available\\\\n- Decent portions \\u00c3\\u0083\\\\x83\\u00c3\\u0082\\\\x83\\u00c3\\u0083\\\\x82\\u00c3\\u0082\\\\x83\\u00c3\\u0083\\\\x83\\u00c3\\u0082\\\\x82\\u00c3\\u0083\\\\x82\\u00c3\\u0082\\u00c2\\u00a2\\u00c3\\u0083\\\\x83\\u00c3\\u0082\\\\x83\\u00c3\\u0083\\\\x82\\u00c3\\u0082\\\\x82\\u00c3\\u0083\\\\x83\\u00c3\\u0082\\\\x82\\u00c3\\u0083\\\\x82\\u00c3\\u0082\\\\xad\\u00c3\\u0083\\\\x83\\u00c3\\u0082\\\\x83\\u00c3\\u0083\\\\x82\\u00c3\\u0082\\\\x82\\u00c3\\u0083\\\\x83\\u00c3\\u0082\\\\x82\\u00c3\\u0083\\\\x82\\u00c3\\u0082\\\\x90\\\\n\\\\n\\u00c3\\u0083\\\\x83\\u00c3\\u0082\\\\x83\\u00c3\\u0083\\\\x82\\u00c3\\u0082\\\\x83\\u00c3\\u0083\\\\x83\\u00c3\\u0082\\\\x82\\u00c3\\u0083\\\\x82\\u00c3\\u0082\\\\x82\\u00c3\\u0083\\\\x83\\u00c3\\u0082\\\\x83\\u00c3\\u0083\\\\x82\\u00c3\\u0082\\\\x82\\u00c3\\u0083\\\\x83\\u00c3\\u0082\\\\x82\\u00c3\\u0083\\\\x82\\u00c3\\u0082\\u00c2\\u00b0Service :\\\\n- No complaints.\\\\n\\\\nHead to the place for a really good meal \\\\U0001f929\\u00c3\\u0083\\\\x83\\u00c3\\u0082\\\\x83\\u00c3\\u0083\\\\x82\\u00c3\\u0082\\\\x83\\u00c3\\u0083\\\\x83\\u00c3\\u0082\\\\x82\\u00c3\\u0083\\\\x82\\u00c3\\u0082\\u00c2\\u00b0\\u00c3\\u0083\\\\x83\\u00c3\\u0082\\\\x83\\u00c3\\u0083\\\\x82\\u00c3\\u0082\\\\x82\\u00c3\\u0083\\\\x83\\u00c3\\u0082\\\\x82\\u00c3\\u0083\\\\x82\\u00c3\\u0082\\\\x9f\\u00c3\\u0083\\\\x83\\u00c3\\u0082\\\\x83\\u00c3\\u0083\\\\x82\\u00c3\\u0082\\\\x82\\u00c3\\u0083\\\\x83\\u00c3\\u0082\\\\x82\\u00c3\\u0083\\\\x82\\u00c3\\u0082\\\\x91\\u00c3\\u0083\\\\x83\\u00c3\\u0082\\\\x83\\u00c3\\u0083\\\\x82\\u00c3\\u0082\\\\x82\\u00c3\\u0083\\\\x83\\u00c3\\u0082\\\\x82\\u00c3\\u0083\\\\x82\\u00c3\\u0082\\\\x8d\\u00c3\\u0083\\\\x83\\u00c3\\u0082\\\\x83\\u00c3\\u0083\\\\x82\\u00c3\\u0082\\\\x83\\u00c3\\u0083\\\\x83\\u00c3\\u0082\\\\x82\\u00c3\\u0083\\\\x82\\u00c3\\u0082\\u00c2\\u00b0\\u00c3\\u0083\\\\x83\\u00c3\\u0082\\\\x83\\u00c3\\u0083\\\\x82\\u00c3\\u0082\\\\x82\\u00c3\\u0083\\\\x83\\u00c3\\u0082\\\\x82\\u00c3\\u0083\\\\x82\\u00c3\\u0082\\\\x9f\\u00c3\\u0083\\\\x83\\u00c3\\u0082\\\\x83\\u00c3\\u0083\\\\x82\\u00c3\\u0082\\\\x82\\u00c3\\u0083\\\\x83\\u00c3\\u0082\\\\x82\\u00c3\\u0083\\\\x82\\u00c3\\u0082\\\\x8f\\u00c3\\u0083\\\\x83\\u00c3\\u0082\\\\x83\\u00c3\\u0083\\\\x82\\u00c3\\u0082\\\\x82\\u00c3\\u0083\\\\x83\\u00c3\\u0082\\\\x82\\u00c3\\u0083\\\\x82\\u00c3\\u0082\\u00c2\\u00bc'), ('Rated 4.0', \\\"RATED\\\\n  It's always been my favorite place for sizzler. Cheese macroni sizzler was amazing. Btw everything they serve was worth trying (sizzlers) .\\\\nDidn't like the pasta tho.\\\\n\\\\nFood- 4.5/5\\\\nAmbience- 4/5\\\\nService- 2.5/5 (it's very slow)\\\"), ('Rated 5.0', 'RATED\\\\n  I have not had such a nice food in a really long time. Their butter garlic prawns were the best I have had till date. Please try it if you visit the place. Also the pasta sizzler and fish steak both were delicious. I will certainly visit this place again and again. They are light on pocket also because of zomato gold. However the service could be fast. The food they offer is absolutely amazing.'), ('Rated 3.0', 'RATED\\\\n  The food is average and the prices are high. We order fish finger and it was disappointing to see that the fish content was really less, however the batter was so thick that there was hardly any taste of the fish in a bite. Similarly the flavours in the sizzlers were just okay and tasted more ketchupy'), ('Rated 4.0', 'RATED\\\\n  \\u00c3\\u0083\\\\x83\\u00c3\\u0082\\\\x83\\u00c3\\u0083\\\\x82\\u00c3\\u0082\\\\x83\\u00c3\\u0083\\\\x83\\u00c3\\u0082\\\\x82\\u00c3\\u0083\\\\x82\\u00c3\\u0082\\\\x82\\u00c3\\u0083\\\\x83\\u00c3\\u0082\\\\x83\\u00c3\\u0083\\\\x82\\u00c3\\u0082\\\\x82\\u00c3\\u0083\\\\x83\\u00c3\\u0082\\\\x82\\u00c3\\u0083\\\\x82\\u00c3\\u0082\\u00c2\\u00b0Ambience:\\\\n- Comfortable couches and chairs for seating\\\\n- Warm Woodsy decor\\\\n- Well lit \\u00c3\\u0083\\\\x83\\u00c3\\u0082\\\\x83\\u00c3\\u0083\\\\x82\\u00c3\\u0082\\\\x83\\u00c3\\u0083\\\\x83\\u00c3\\u0082\\\\x82\\u00c3\\u0083\\\\x82\\u00c3\\u0082\\u00c2\\u00a2\\u00c3\\u0083\\\\x83\\u00c3\\u0082\\\\x83\\u00c3\\u0083\\\\x82\\u00c3\\u0082\\\\x82\\u00c3\\u0083\\\\x83\\u00c3\\u0082\\\\x82\\u00c3\\u0083\\\\x82\\u00c3\\u0082\\\\x9c\\u00c3\\u0083\\\\x83\\u00c3\\u0082\\\\x83\\u00c3\\u0083\\\\x82\\u00c3\\u0082\\\\x82\\u00c3\\u0083\\\\x83\\u00c3\\u0082\\\\x82\\u00c3\\u0083\\\\x82\\u00c3\\u0082\\u00c2\\u00a8\\\\n- Good music\\\\n\\\\n\\u00c3\\u0083\\\\x83\\u00c3\\u0082\\\\x83\\u00c3\\u0083\\\\x82\\u00c3\\u0082\\\\x83\\u00c3\\u0083\\\\x83\\u00c3\\u0082\\\\x82\\u00c3\\u0083\\\\x82\\u00c3\\u0082\\\\x82\\u00c3\\u0083\\\\x83\\u00c3\\u0082\\\\x83\\u00c3\\u0083\\\\x82\\u00c3\\u0082\\\\x82\\u00c3\\u0083\\\\x83\\u00c3\\u0082\\\\x82\\u00c3\\u0083\\\\x82\\u00c3\\u0082\\u00c2\\u00b0Food:\\\\n- Very yummy food!\\\\n- Sizzlers, burgers and sandwiches available\\\\n- Recommend :\\\\n~ Butter garlic prawn, corn cheese bombs \\u00c3\\u0083\\\\x83\\u00c3\\u0082\\\\x83\\u00c3\\u0083\\\\x82\\u00c3\\u0082\\\\x83\\u00c3\\u0083\\\\x83\\u00c3\\u0082\\\\x82\\u00c3\\u0083\\\\x82\\u00c3\\u0082\\u00c2\\u00a2\\u00c3\\u0083\\\\x83\\u00c3\\u0082\\\\x83\\u00c3\\u0083\\\\x82\\u00c3\\u0082\\\\x82\\u00c3\\u0083\\\\x83\\u00c3\\u0082\\\\x82\\u00c3\\u0083\\\\x82\\u00c3\\u0082\\\\x9d\\u00c3\\u0083\\\\x83\\u00c3\\u0082\\\\x83\\u00c3\\u0083\\\\x82\\u00c3\\u0082\\\\x82\\u00c3\\u0083\\\\x83\\u00c3\\u0082\\\\x82\\u00c3\\u0083\\\\x82\\u00c3\\u0082\\u00c2\\u00a4\\\\n~ Pasta sizzlers is a good option for pasta lovers.\\\\n\\\\n\\u00c3\\u0083\\\\x83\\u00c3\\u0082\\\\x83\\u00c3\\u0083\\\\x82\\u00c3\\u0082\\\\x83\\u00c3\\u0083\\\\x83\\u00c3\\u0082\\\\x82\\u00c3\\u0083\\\\x82\\u00c3\\u0082\\\\x82\\u00c3\\u0083\\\\x83\\u00c3\\u0082\\\\x83\\u00c3\\u0083\\\\x82\\u00c3\\u0082\\\\x82\\u00c3\\u0083\\\\x83\\u00c3\\u0082\\\\x82\\u00c3\\u0083\\\\x82\\u00c3\\u0082\\u00c2\\u00b0Drinks :\\\\n- Wine\\\\n- Mocktails\\\\n\\\\n\\u00c3\\u0083\\\\x83\\u00c3\\u0082\\\\x83\\u00c3\\u0083\\\\x82\\u00c3\\u0082\\\\x83\\u00c3\\u0083\\\\x83\\u00c3\\u0082\\\\x82\\u00c3\\u0083\\\\x82\\u00c3\\u0082\\\\x82\\u00c3\\u0083\\\\x83\\u00c3\\u0082\\\\x83\\u00c3\\u0083\\\\x82\\u00c3\\u0082\\\\x82\\u00c3\\u0083\\\\x83\\u00c3\\u0082\\\\x82\\u00c3\\u0083\\\\x82\\u00c3\\u0082\\u00c2\\u00b0Desserts:\\\\n- Can be improved \\u00c3\\u0083\\\\x83\\u00c3\\u0082\\\\x83\\u00c3\\u0083\\\\x82\\u00c3\\u0082\\\\x83\\u00c3\\u0083\\\\x83\\u00c3\\u0082\\\\x82\\u00c3\\u0083\\\\x82\\u00c3\\u0082\\u00c2\\u00a2\\u00c3\\u0083\\\\x83\\u00c3\\u0082\\\\x83\\u00c3\\u0083\\\\x82\\u00c3\\u0082\\\\x82\\u00c3\\u0083\\\\x83\\u00c3\\u0082\\\\x82\\u00c3\\u0083\\\\x82\\u00c3\\u0082\\\\x9a\\u00c3\\u0083\\\\x83\\u00c3\\u0082\\\\x83\\u00c3\\u0083\\\\x82\\u00c3\\u0082\\\\x82\\u00c3\\u0083\\\\x83\\u00c3\\u0082\\\\x82\\u00c3\\u0083\\\\x82\\u00c3\\u0082\\\\xa0\\u00c3\\u0083\\\\x83\\u00c3\\u0082\\\\x83\\u00c3\\u0083\\\\x82\\u00c3\\u0082\\\\x83\\u00c3\\u0083\\\\x83\\u00c3\\u0082\\\\x82\\u00c3\\u0083\\\\x82\\u00c3\\u0082\\u00c2\\u00af\\u00c3\\u0083\\\\x83\\u00c3\\u0082\\\\x83\\u00c3\\u0083\\\\x82\\u00c3\\u0082\\\\x82\\u00c3\\u0083\\\\x83\\u00c3\\u0082\\\\x82\\u00c3\\u0083\\\\x82\\u00c3\\u0082\\u00c2\\u00b8\\u00c3\\u0083\\\\x83\\u00c3\\u0082\\\\x83\\u00c3\\u0083\\\\x82\\u00c3\\u0082\\\\x82\\u00c3\\u0083\\\\x83\\u00c3\\u0082\\\\x82\\u00c3\\u0083\\\\x82\\u00c3\\u0082\\\\x8f\\\\nNew York cheese cake was warm \\u00c3\\u0083\\\\x83\\u00c3\\u0082\\\\x83\\u00c3\\u0083\\\\x82\\u00c3\\u0082\\\\x83\\u00c3\\u0083\\\\x83\\u00c3\\u0082\\\\x82\\u00c3\\u0083\\\\x82\\u00c3\\u0082\\u00c2\\u00b0\\u00c3\\u0083\\\\x83\\u00c3\\u0082\\\\x83\\u00c3\\u0083\\\\x82\\u00c3\\u0082\\\\x82\\u00c3\\u0083\\\\x83\\u00c3\\u0082\\\\x82\\u00c3\\u0083\\\\x82\\u00c3\\u0082\\\\x9f\\u00c3\\u0083\\\\x83\\u00c3\\u0082\\\\x83\\u00c3\\u0083\\\\x82\\u00c3\\u0082\\\\x82\\u00c3\\u0083\\\\x83\\u00c3\\u0082\\\\x82\\u00c3\\u0083\\\\x82\\u00c3\\u0082\\\\x8d\\u00c3\\u0083\\\\x83\\u00c3\\u0082\\\\x83\\u00c3\\u0083\\\\x82\\u00c3\\u0082\\\\x82\\u00c3\\u0083\\\\x83\\u00c3\\u0082\\\\x82\\u00c3\\u0083\\\\x82\\u00c3\\u0082\\u00c2\\u00b0\\u00c3\\u0083\\\\x83\\u00c3\\u0082\\\\x83\\u00c3\\u0083\\\\x82\\u00c3\\u0082\\\\x83\\u00c3\\u0083\\\\x83\\u00c3\\u0082\\\\x82\\u00c3\\u0083\\\\x82\\u00c3\\u0082\\u00c2\\u00b0\\u00c3\\u0083\\\\x83\\u00c3\\u0082\\\\x83\\u00c3\\u0083\\\\x82\\u00c3\\u0082\\\\x82\\u00c3\\u0083\\\\x83\\u00c3\\u0082\\\\x82\\u00c3\\u0083\\\\x82\\u00c3\\u0082\\\\x9f\\u00c3\\u0083\\\\x83\\u00c3\\u0082\\\\x83\\u00c3\\u0083\\\\x82\\u00c3\\u0082\\\\x82\\u00c3\\u0083\\\\x83\\u00c3\\u0082\\\\x82\\u00c3\\u0083\\\\x82\\u00c3\\u0082\\\\x91\\u00c3\\u0083\\\\x83\\u00c3\\u0082\\\\x83\\u00c3\\u0083\\\\x82\\u00c3\\u0082\\\\x82\\u00c3\\u0083\\\\x83\\u00c3\\u0082\\\\x82\\u00c3\\u0083\\\\x82\\u00c3\\u0082\\\\x8e\\u00c3\\u0083\\\\x83\\u00c3\\u0082\\\\x83\\u00c3\\u0083\\\\x82\\u00c3\\u0082\\\\x83\\u00c3\\u0083\\\\x83\\u00c3\\u0082\\\\x82\\u00c3\\u0083\\\\x82\\u00c3\\u0082\\u00c2\\u00b0\\u00c3\\u0083\\\\x83\\u00c3\\u0082\\\\x83\\u00c3\\u0083\\\\x82\\u00c3\\u0082\\\\x82\\u00c3\\u0083\\\\x83\\u00c3\\u0082\\\\x82\\u00c3\\u0083\\\\x82\\u00c3\\u0082\\\\x9f\\u00c3\\u0083\\\\x83\\u00c3\\u0082\\\\x83\\u00c3\\u0083\\\\x82\\u00c3\\u0082\\\\x82\\u00c3\\u0083\\\\x83\\u00c3\\u0082\\\\x82\\u00c3\\u0083\\\\x82\\u00c3\\u0082\\\\x8f\\u00c3\\u0083\\\\x83\\u00c3\\u0082\\\\x83\\u00c3\\u0083\\\\x82\\u00c3\\u0082\\\\x82\\u00c3\\u0083\\\\x83\\u00c3\\u0082\\\\x82\\u00c3\\u0083\\\\x82\\u00c3\\u0082\\u00c2\\u00bc\\\\nSizzling brownie - the brownie was good but the chocolate sauce had a burnt taste as the sizzlers was too hot than it should have been. \\u00c3\\u0083\\\\x83\\u00c3\\u0082\\\\x83\\u00c3\\u0083\\\\x82\\u00c3\\u0082\\\\x83\\u00c3\\u0083\\\\x83\\u00c3\\u0082\\\\x82\\u00c3\\u0083\\\\x82\\u00c3\\u0082\\u00c2\\u00b0\\u00c3\\u0083\\\\x83\\u00c3\\u0082\\\\x83\\u00c3\\u0083\\\\x82\\u00c3\\u0082\\\\x82\\u00c3\\u0083\\\\x83\\u00c3\\u0082\\\\x82\\u00c3\\u0083\\\\x82\\u00c3\\u0082\\\\x9f\\u00c3\\u0083\\\\x83\\u00c3\\u0082\\\\x83\\u00c3\\u0083\\\\x82\\u00c3\\u0082\\\\x82\\u00c3\\u0083\\\\x83\\u00c3\\u0082\\\\x82\\u00c3\\u0083\\\\x82\\u00c3\\u0082\\\\x91\\u00c3\\u0083\\\\x83\\u00c3\\u0082\\\\x83\\u00c3\\u0083\\\\x82\\u00c3\\u0082\\\\x82\\u00c3\\u0083\\\\x83\\u00c3\\u0082\\\\x82\\u00c3\\u0083\\\\x82\\u00c3\\u0082\\\\x8e\\u00c3\\u0083\\\\x83\\u00c3\\u0082\\\\x83\\u00c3\\u0083\\\\x82\\u00c3\\u0082\\\\x83\\u00c3\\u0083\\\\x83\\u00c3\\u0082\\\\x82\\u00c3\\u0083\\\\x82\\u00c3\\u0082\\u00c2\\u00b0\\u00c3\\u0083\\\\x83\\u00c3\\u0082\\\\x83\\u00c3\\u0083\\\\x82\\u00c3\\u0082\\\\x82\\u00c3\\u0083\\\\x83\\u00c3\\u0082\\\\x82\\u00c3\\u0083\\\\x82\\u00c3\\u0082\\\\x9f\\u00c3\\u0083\\\\x83\\u00c3\\u0082\\\\x83\\u00c3\\u0083\\\\x82\\u00c3\\u0082\\\\x82\\u00c3\\u0083\\\\x83\\u00c3\\u0082\\\\x82\\u00c3\\u0083\\\\x82\\u00c3\\u0082\\\\x8f\\u00c3\\u0083\\\\x83\\u00c3\\u0082\\\\x83\\u00c3\\u0083\\\\x82\\u00c3\\u0082\\\\x82\\u00c3\\u0083\\\\x83\\u00c3\\u0082\\\\x82\\u00c3\\u0083\\\\x82\\u00c3\\u0082\\u00c2\\u00bc\\\\n\\\\n\\u00c3\\u0083\\\\x83\\u00c3\\u0082\\\\x83\\u00c3\\u0083\\\\x82\\u00c3\\u0082\\\\x83\\u00c3\\u0083\\\\x83\\u00c3\\u0082\\\\x82\\u00c3\\u0083\\\\x82\\u00c3\\u0082\\\\x82\\u00c3\\u0083\\\\x83\\u00c3\\u0082\\\\x83\\u00c3\\u0083\\\\x82\\u00c3\\u0082\\\\x82\\u00c3\\u0083\\\\x83\\u00c3\\u0082\\\\x82\\u00c3\\u0083\\\\x82\\u00c3\\u0082\\u00c2\\u00b0Menu:\\\\n- Veg and Non veg dishes available\\\\n- Decent portions \\u00c3\\u0083\\\\x83\\u00c3\\u0082\\\\x83\\u00c3\\u0083\\\\x82\\u00c3\\u0082\\\\x83\\u00c3\\u0083\\\\x83\\u00c3\\u0082\\\\x82\\u00c3\\u0083\\\\x82\\u00c3\\u0082\\u00c2\\u00a2\\u00c3\\u0083\\\\x83\\u00c3\\u0082\\\\x83\\u00c3\\u0083\\\\x82\\u00c3\\u0082\\\\x82\\u00c3\\u0083\\\\x83\\u00c3\\u0082\\\\x82\\u00c3\\u0083\\\\x82\\u00c3\\u0082\\\\xad\\u00c3\\u0083\\\\x83\\u00c3\\u0082\\\\x83\\u00c3\\u0083\\\\x82\\u00c3\\u0082\\\\x82\\u00c3\\u0083\\\\x83\\u00c3\\u0082\\\\x82\\u00c3\\u0083\\\\x82\\u00c3\\u0082\\\\x90\\\\n\\\\n\\u00c3\\u0083\\\\x83\\u00c3\\u0082\\\\x83\\u00c3\\u0083\\\\x82\\u00c3\\u0082\\\\x83\\u00c3\\u0083\\\\x83\\u00c3\\u0082\\\\x82\\u00c3\\u0083\\\\x82\\u00c3\\u0082\\\\x82\\u00c3\\u0083\\\\x83\\u00c3\\u0082\\\\x83\\u00c3\\u0083\\\\x82\\u00c3\\u0082\\\\x82\\u00c3\\u0083\\\\x83\\u00c3\\u0082\\\\x82\\u00c3\\u0083\\\\x82\\u00c3\\u0082\\u00c2\\u00b0Service :\\\\n- No complaints.\\\\n\\\\nHead to the place for a really good meal \\\\U0001f929\\u00c3\\u0083\\\\x83\\u00c3\\u0082\\\\x83\\u00c3\\u0083\\\\x82\\u00c3\\u0082\\\\x83\\u00c3\\u0083\\\\x83\\u00c3\\u0082\\\\x82\\u00c3\\u0083\\\\x82\\u00c3\\u0082\\u00c2\\u00b0\\u00c3\\u0083\\\\x83\\u00c3\\u0082\\\\x83\\u00c3\\u0083\\\\x82\\u00c3\\u0082\\\\x82\\u00c3\\u0083\\\\x83\\u00c3\\u0082\\\\x82\\u00c3\\u0083\\\\x82\\u00c3\\u0082\\\\x9f\\u00c3\\u0083\\\\x83\\u00c3\\u0082\\\\x83\\u00c3\\u0083\\\\x82\\u00c3\\u0082\\\\x82\\u00c3\\u0083\\\\x83\\u00c3\\u0082\\\\x82\\u00c3\\u0083\\\\x82\\u00c3\\u0082\\\\x91\\u00c3\\u0083\\\\x83\\u00c3\\u0082\\\\x83\\u00c3\\u0083\\\\x82\\u00c3\\u0082\\\\x82\\u00c3\\u0083\\\\x83\\u00c3\\u0082\\\\x82\\u00c3\\u0083\\\\x82\\u00c3\\u0082\\\\x8d\\u00c3\\u0083\\\\x83\\u00c3\\u0082\\\\x83\\u00c3\\u0083\\\\x82\\u00c3\\u0082\\\\x83\\u00c3\\u0083\\\\x83\\u00c3\\u0082\\\\x82\\u00c3\\u0083\\\\x82\\u00c3\\u0082\\u00c2\\u00b0\\u00c3\\u0083\\\\x83\\u00c3\\u0082\\\\x83\\u00c3\\u0083\\\\x82\\u00c3\\u0082\\\\x82\\u00c3\\u0083\\\\x83\\u00c3\\u0082\\\\x82\\u00c3\\u0083\\\\x82\\u00c3\\u0082\\\\x9f\\u00c3\\u0083\\\\x83\\u00c3\\u0082\\\\x83\\u00c3\\u0083\\\\x82\\u00c3\\u0082\\\\x82\\u00c3\\u0083\\\\x83\\u00c3\\u0082\\\\x82\\u00c3\\u0083\\\\x82\\u00c3\\u0082\\\\x8f\\u00c3\\u0083\\\\x83\\u00c3\\u0082\\\\x83\\u00c3\\u0083\\\\x82\\u00c3\\u0082\\\\x82\\u00c3\\u0083\\\\x83\\u00c3\\u0082\\\\x82\\u00c3\\u0083\\\\x82\\u00c3\\u0082\\u00c2\\u00bc'), ('Rated 4.0', \\\"RATED\\\\n  It's always been my favorite place for sizzler. Cheese macroni sizzler was amazing. Btw everything they serve was worth trying (sizzlers) .\\\\nDidn't like the pasta tho.\\\\n\\\\nFood- 4.5/5\\\\nAmbience- 4/5\\\\nService- 2.5/5 (it's very slow)\\\"), ('Rated 5.0', 'RATED\\\\n  I have not had such a nice food in a really long time. Their butter garlic prawns were the best I have had till date. Please try it if you visit the place. Also the pasta sizzler and fish steak both were delicious. I will certainly visit this place again and again. They are light on pocket also because of zomato gold. However the service could be fast. The food they offer is absolutely amazing.'), ('Rated 3.0', 'RATED\\\\n  The food is average and the prices are high. We order fish finger and it was disappointing to see that the fish content was really less, however the batter was so thick that there was hardly any taste of the fish in a bite. Similarly the flavours in the sizzlers were just okay and tasted more ketchupy'), ('Rated 4.0', 'RATED\\\\n  \\u00c3\\u0083\\\\x83\\u00c3\\u0082\\\\x83\\u00c3\\u0083\\\\x82\\u00c3\\u0082\\\\x83\\u00c3\\u0083\\\\x83\\u00c3\\u0082\\\\x82\\u00c3\\u0083\\\\x82\\u00c3\\u0082\\\\x82\\u00c3\\u0083\\\\x83\\u00c3\\u0082\\\\x83\\u00c3\\u0083\\\\x82\\u00c3\\u0082\\\\x82\\u00c3\\u0083\\\\x83\\u00c3\\u0082\\\\x82\\u00c3\\u0083\\\\x82\\u00c3\\u0082\\u00c2\\u00b0Ambience:\\\\n- Comfortable couches and chairs for seating\\\\n- Warm Woodsy decor\\\\n- Well lit \\u00c3\\u0083\\\\x83\\u00c3\\u0082\\\\x83\\u00c3\\u0083\\\\x82\\u00c3\\u0082\\\\x83\\u00c3\\u0083\\\\x83\\u00c3\\u0082\\\\x82\\u00c3\\u0083\\\\x82\\u00c3\\u0082\\u00c2\\u00a2\\u00c3\\u0083\\\\x83\\u00c3\\u0082\\\\x83\\u00c3\\u0083\\\\x82\\u00c3\\u0082\\\\x82\\u00c3\\u0083\\\\x83\\u00c3\\u0082\\\\x82\\u00c3\\u0083\\\\x82\\u00c3\\u0082\\\\x9c\\u00c3\\u0083\\\\x83\\u00c3\\u0082\\\\x83\\u00c3\\u0083\\\\x82\\u00c3\\u0082\\\\x82\\u00c3\\u0083\\\\x83\\u00c3\\u0082\\\\x82\\u00c3\\u0083\\\\x82\\u00c3\\u0082\\u00c2\\u00a8\\\\n- Good music\\\\n\\\\n\\u00c3\\u0083\\\\x83\\u00c3\\u0082\\\\x83\\u00c3\\u0083\\\\x82\\u00c3\\u0082\\\\x83\\u00c3\\u0083\\\\x83\\u00c3\\u0082\\\\x82\\u00c3\\u0083\\\\x82\\u00c3\\u0082\\\\x82\\u00c3\\u0083\\\\x83\\u00c3\\u0082\\\\x83\\u00c3\\u0083\\\\x82\\u00c3\\u0082\\\\x82\\u00c3\\u0083\\\\x83\\u00c3\\u0082\\\\x82\\u00c3\\u0083\\\\x82\\u00c3\\u0082\\u00c2\\u00b0Food:\\\\n- Very yummy food!\\\\n- Sizzlers, burgers and sandwiches available\\\\n- Recommend :\\\\n~ Butter garlic prawn, corn cheese bombs \\u00c3\\u0083\\\\x83\\u00c3\\u0082\\\\x83\\u00c3\\u0083\\\\x82\\u00c3\\u0082\\\\x83\\u00c3\\u0083\\\\x83\\u00c3\\u0082\\\\x82\\u00c3\\u0083\\\\x82\\u00c3\\u0082\\u00c2\\u00a2\\u00c3\\u0083\\\\x83\\u00c3\\u0082\\\\x83\\u00c3\\u0083\\\\x82\\u00c3\\u0082\\\\x82\\u00c3\\u0083\\\\x83\\u00c3\\u0082\\\\x82\\u00c3\\u0083\\\\x82\\u00c3\\u0082\\\\x9d\\u00c3\\u0083\\\\x83\\u00c3\\u0082\\\\x83\\u00c3\\u0083\\\\x82\\u00c3\\u0082\\\\x82\\u00c3\\u0083\\\\x83\\u00c3\\u0082\\\\x82\\u00c3\\u0083\\\\x82\\u00c3\\u0082\\u00c2\\u00a4\\\\n~ Pasta sizzlers is a good option for pasta lovers.\\\\n\\\\n\\u00c3\\u0083\\\\x83\\u00c3\\u0082\\\\x83\\u00c3\\u0083\\\\x82\\u00c3\\u0082\\\\x83\\u00c3\\u0083\\\\x83\\u00c3\\u0082\\\\x82\\u00c3\\u0083\\\\x82\\u00c3\\u0082\\\\x82\\u00c3\\u0083\\\\x83\\u00c3\\u0082\\\\x83\\u00c3\\u0083\\\\x82\\u00c3\\u0082\\\\x82\\u00c3\\u0083\\\\x83\\u00c3\\u0082\\\\x82\\u00c3\\u0083\\\\x82\\u00c3\\u0082\\u00c2\\u00b0Drinks :\\\\n- Wine\\\\n- Mocktails\\\\n\\\\n\\u00c3\\u0083\\\\x83\\u00c3\\u0082\\\\x83\\u00c3\\u0083\\\\x82\\u00c3\\u0082\\\\x83\\u00c3\\u0083\\\\x83\\u00c3\\u0082\\\\x82\\u00c3\\u0083\\\\x82\\u00c3\\u0082\\\\x82\\u00c3\\u0083\\\\x83\\u00c3\\u0082\\\\x83\\u00c3\\u0083\\\\x82\\u00c3\\u0082\\\\x82\\u00c3\\u0083\\\\x83\\u00c3\\u0082\\\\x82\\u00c3\\u0083\\\\x82\\u00c3\\u0082\\u00c2\\u00b0Desserts:\\\\n- Can be improved \\u00c3\\u0083\\\\x83\\u00c3\\u0082\\\\x83\\u00c3\\u0083\\\\x82\\u00c3\\u0082\\\\x83\\u00c3\\u0083\\\\x83\\u00c3\\u0082\\\\x82\\u00c3\\u0083\\\\x82\\u00c3\\u0082\\u00c2\\u00a2\\u00c3\\u0083\\\\x83\\u00c3\\u0082\\\\x83\\u00c3\\u0083\\\\x82\\u00c3\\u0082\\\\x82\\u00c3\\u0083\\\\x83\\u00c3\\u0082\\\\x82\\u00c3\\u0083\\\\x82\\u00c3\\u0082\\\\x9a\\u00c3\\u0083\\\\x83\\u00c3\\u0082\\\\x83\\u00c3\\u0083\\\\x82\\u00c3\\u0082\\\\x82\\u00c3\\u0083\\\\x83\\u00c3\\u0082\\\\x82\\u00c3\\u0083\\\\x82\\u00c3\\u0082\\\\xa0\\u00c3\\u0083\\\\x83\\u00c3\\u0082\\\\x83\\u00c3\\u0083\\\\x82\\u00c3\\u0082\\\\x83\\u00c3\\u0083\\\\x83\\u00c3\\u0082\\\\x82\\u00c3\\u0083\\\\x82\\u00c3\\u0082\\u00c2\\u00af\\u00c3\\u0083\\\\x83\\u00c3\\u0082\\\\x83\\u00c3\\u0083\\\\x82\\u00c3\\u0082\\\\x82\\u00c3\\u0083\\\\x83\\u00c3\\u0082\\\\x82\\u00c3\\u0083\\\\x82\\u00c3\\u0082\\u00c2\\u00b8\\u00c3\\u0083\\\\x83\\u00c3\\u0082\\\\x83\\u00c3\\u0083\\\\x82\\u00c3\\u0082\\\\x82\\u00c3\\u0083\\\\x83\\u00c3\\u0082\\\\x82\\u00c3\\u0083\\\\x82\\u00c3\\u0082\\\\x8f\\\\nNew York cheese cake was warm \\u00c3\\u0083\\\\x83\\u00c3\\u0082\\\\x83\\u00c3\\u0083\\\\x82\\u00c3\\u0082\\\\x83\\u00c3\\u0083\\\\x83\\u00c3\\u0082\\\\x82\\u00c3\\u0083\\\\x82\\u00c3\\u0082\\u00c2\\u00b0\\u00c3\\u0083\\\\x83\\u00c3\\u0082\\\\x83\\u00c3\\u0083\\\\x82\\u00c3\\u0082\\\\x82\\u00c3\\u0083\\\\x83\\u00c3\\u0082\\\\x82\\u00c3\\u0083\\\\x82\\u00c3\\u0082\\\\x9f\\u00c3\\u0083\\\\x83\\u00c3\\u0082\\\\x83\\u00c3\\u0083\\\\x82\\u00c3\\u0082\\\\x82\\u00c3\\u0083\\\\x83\\u00c3\\u0082\\\\x82\\u00c3\\u0083\\\\x82\\u00c3\\u0082\\\\x8d\\u00c3\\u0083\\\\x83\\u00c3\\u0082\\\\x83\\u00c3\\u0083\\\\x82\\u00c3\\u0082\\\\x82\\u00c3\\u0083\\\\x83\\u00c3\\u0082\\\\x82\\u00c3\\u0083\\\\x82\\u00c3\\u0082\\u00c2\\u00b0\\u00c3\\u0083\\\\x83\\u00c3\\u0082\\\\x83\\u00c3\\u0083\\\\x82\\u00c3\\u0082\\\\x83\\u00c3\\u0083\\\\x83\\u00c3\\u0082\\\\x82\\u00c3\\u0083\\\\x82\\u00c3\\u0082\\u00c2\\u00b0\\u00c3\\u0083\\\\x83\\u00c3\\u0082\\\\x83\\u00c3\\u0083\\\\x82\\u00c3\\u0082\\\\x82\\u00c3\\u0083\\\\x83\\u00c3\\u0082\\\\x82\\u00c3\\u0083\\\\x82\\u00c3\\u0082\\\\x9f\\u00c3\\u0083\\\\x83\\u00c3\\u0082\\\\x83\\u00c3\\u0083\\\\x82\\u00c3\\u0082\\\\x82\\u00c3\\u0083\\\\x83\\u00c3\\u0082\\\\x82\\u00c3\\u0083\\\\x82\\u00c3\\u0082\\\\x91\\u00c3\\u0083\\\\x83\\u00c3\\u0082\\\\x83\\u00c3\\u0083\\\\x82\\u00c3\\u0082\\\\x82\\u00c3\\u0083\\\\x83\\u00c3\\u0082\\\\x82\\u00c3\\u0083\\\\x82\\u00c3\\u0082\\\\x8e\\u00c3\\u0083\\\\x83\\u00c3\\u0082\\\\x83\\u00c3\\u0083\\\\x82\\u00c3\\u0082\\\\x83\\u00c3\\u0083\\\\x83\\u00c3\\u0082\\\\x82\\u00c3\\u0083\\\\x82\\u00c3\\u0082\\u00c2\\u00b0\\u00c3\\u0083\\\\x83\\u00c3\\u0082\\\\x83\\u00c3\\u0083\\\\x82\\u00c3\\u0082\\\\x82\\u00c3\\u0083\\\\x83\\u00c3\\u0082\\\\x82\\u00c3\\u0083\\\\x82\\u00c3\\u0082\\\\x9f\\u00c3\\u0083\\\\x83\\u00c3\\u0082\\\\x83\\u00c3\\u0083\\\\x82\\u00c3\\u0082\\\\x82\\u00c3\\u0083\\\\x83\\u00c3\\u0082\\\\x82\\u00c3\\u0083\\\\x82\\u00c3\\u0082\\\\x8f\\u00c3\\u0083\\\\x83\\u00c3\\u0082\\\\x83\\u00c3\\u0083\\\\x82\\u00c3\\u0082\\\\x82\\u00c3\\u0083\\\\x83\\u00c3\\u0082\\\\x82\\u00c3\\u0083\\\\x82\\u00c3\\u0082\\u00c2\\u00bc\\\\nSizzling brownie - the brownie was good but the chocolate sauce had a burnt taste as the sizzlers was too hot than it should have been. \\u00c3\\u0083\\\\x83\\u00c3\\u0082\\\\x83\\u00c3\\u0083\\\\x82\\u00c3\\u0082\\\\x83\\u00c3\\u0083\\\\x83\\u00c3\\u0082\\\\x82\\u00c3\\u0083\\\\x82\\u00c3\\u0082\\u00c2\\u00b0\\u00c3\\u0083\\\\x83\\u00c3\\u0082\\\\x83\\u00c3\\u0083\\\\x82\\u00c3\\u0082\\\\x82\\u00c3\\u0083\\\\x83\\u00c3\\u0082\\\\x82\\u00c3\\u0083\\\\x82\\u00c3\\u0082\\\\x9f\\u00c3\\u0083\\\\x83\\u00c3\\u0082\\\\x83\\u00c3\\u0083\\\\x82\\u00c3\\u0082\\\\x82\\u00c3\\u0083\\\\x83\\u00c3\\u0082\\\\x82\\u00c3\\u0083\\\\x82\\u00c3\\u0082\\\\x91\\u00c3\\u0083\\\\x83\\u00c3\\u0082\\\\x83\\u00c3\\u0083\\\\x82\\u00c3\\u0082\\\\x82\\u00c3\\u0083\\\\x83\\u00c3\\u0082\\\\x82\\u00c3\\u0083\\\\x82\\u00c3\\u0082\\\\x8e\\u00c3\\u0083\\\\x83\\u00c3\\u0082\\\\x83\\u00c3\\u0083\\\\x82\\u00c3\\u0082\\\\x83\\u00c3\\u0083\\\\x83\\u00c3\\u0082\\\\x82\\u00c3\\u0083\\\\x82\\u00c3\\u0082\\u00c2\\u00b0\\u00c3\\u0083\\\\x83\\u00c3\\u0082\\\\x83\\u00c3\\u0083\\\\x82\\u00c3\\u0082\\\\x82\\u00c3\\u0083\\\\x83\\u00c3\\u0082\\\\x82\\u00c3\\u0083\\\\x82\\u00c3\\u0082\\\\x9f\\u00c3\\u0083\\\\x83\\u00c3\\u0082\\\\x83\\u00c3\\u0083\\\\x82\\u00c3\\u0082\\\\x82\\u00c3\\u0083\\\\x83\\u00c3\\u0082\\\\x82\\u00c3\\u0083\\\\x82\\u00c3\\u0082\\\\x8f\\u00c3\\u0083\\\\x83\\u00c3\\u0082\\\\x83\\u00c3\\u0083\\\\x82\\u00c3\\u0082\\\\x82\\u00c3\\u0083\\\\x83\\u00c3\\u0082\\\\x82\\u00c3\\u0083\\\\x82\\u00c3\\u0082\\u00c2\\u00bc\\\\n\\\\n\\u00c3\\u0083\\\\x83\\u00c3\\u0082\\\\x83\\u00c3\\u0083\\\\x82\\u00c3\\u0082\\\\x83\\u00c3\\u0083\\\\x83\\u00c3\\u0082\\\\x82\\u00c3\\u0083\\\\x82\\u00c3\\u0082\\\\x82\\u00c3\\u0083\\\\x83\\u00c3\\u0082\\\\x83\\u00c3\\u0083\\\\x82\\u00c3\\u0082\\\\x82\\u00c3\\u0083\\\\x83\\u00c3\\u0082\\\\x82\\u00c3\\u0083\\\\x82\\u00c3\\u0082\\u00c2\\u00b0Menu:\\\\n- Veg and Non veg dishes available\\\\n- Decent portions \\u00c3\\u0083\\\\x83\\u00c3\\u0082\\\\x83\\u00c3\\u0083\\\\x82\\u00c3\\u0082\\\\x83\\u00c3\\u0083\\\\x83\\u00c3\\u0082\\\\x82\\u00c3\\u0083\\\\x82\\u00c3\\u0082\\u00c2\\u00a2\\u00c3\\u0083\\\\x83\\u00c3\\u0082\\\\x83\\u00c3\\u0083\\\\x82\\u00c3\\u0082\\\\x82\\u00c3\\u0083\\\\x83\\u00c3\\u0082\\\\x82\\u00c3\\u0083\\\\x82\\u00c3\\u0082\\\\xad\\u00c3\\u0083\\\\x83\\u00c3\\u0082\\\\x83\\u00c3\\u0083\\\\x82\\u00c3\\u0082\\\\x82\\u00c3\\u0083\\\\x83\\u00c3\\u0082\\\\x82\\u00c3\\u0083\\\\x82\\u00c3\\u0082\\\\x90\\\\n\\\\n\\u00c3\\u0083\\\\x83\\u00c3\\u0082\\\\x83\\u00c3\\u0083\\\\x82\\u00c3\\u0082\\\\x83\\u00c3\\u0083\\\\x83\\u00c3\\u0082\\\\x82\\u00c3\\u0083\\\\x82\\u00c3\\u0082\\\\x82\\u00c3\\u0083\\\\x83\\u00c3\\u0082\\\\x83\\u00c3\\u0083\\\\x82\\u00c3\\u0082\\\\x82\\u00c3\\u0083\\\\x83\\u00c3\\u0082\\\\x82\\u00c3\\u0083\\\\x82\\u00c3\\u0082\\u00c2\\u00b0Service :\\\\n- No complaints.\\\\n\\\\nHead to the place for a really good meal \\\\U0001f929\\u00c3\\u0083\\\\x83\\u00c3\\u0082\\\\x83\\u00c3\\u0083\\\\x82\\u00c3\\u0082\\\\x83\\u00c3\\u0083\\\\x83\\u00c3\\u0082\\\\x82\\u00c3\\u0083\\\\x82\\u00c3\\u0082\\u00c2\\u00b0\\u00c3\\u0083\\\\x83\\u00c3\\u0082\\\\x83\\u00c3\\u0083\\\\x82\\u00c3\\u0082\\\\x82\\u00c3\\u0083\\\\x83\\u00c3\\u0082\\\\x82\\u00c3\\u0083\\\\x82\\u00c3\\u0082\\\\x9f\\u00c3\\u0083\\\\x83\\u00c3\\u0082\\\\x83\\u00c3\\u0083\\\\x82\\u00c3\\u0082\\\\x82\\u00c3\\u0083\\\\x83\\u00c3\\u0082\\\\x82\\u00c3\\u0083\\\\x82\\u00c3\\u0082\\\\x91\\u00c3\\u0083\\\\x83\\u00c3\\u0082\\\\x83\\u00c3\\u0083\\\\x82\\u00c3\\u0082\\\\x82\\u00c3\\u0083\\\\x83\\u00c3\\u0082\\\\x82\\u00c3\\u0083\\\\x82\\u00c3\\u0082\\\\x8d\\u00c3\\u0083\\\\x83\\u00c3\\u0082\\\\x83\\u00c3\\u0083\\\\x82\\u00c3\\u0082\\\\x83\\u00c3\\u0083\\\\x83\\u00c3\\u0082\\\\x82\\u00c3\\u0083\\\\x82\\u00c3\\u0082\\u00c2\\u00b0\\u00c3\\u0083\\\\x83\\u00c3\\u0082\\\\x83\\u00c3\\u0083\\\\x82\\u00c3\\u0082\\\\x82\\u00c3\\u0083\\\\x83\\u00c3\\u0082\\\\x82\\u00c3\\u0083\\\\x82\\u00c3\\u0082\\\\x9f\\u00c3\\u0083\\\\x83\\u00c3\\u0082\\\\x83\\u00c3\\u0083\\\\x82\\u00c3\\u0082\\\\x82\\u00c3\\u0083\\\\x83\\u00c3\\u0082\\\\x82\\u00c3\\u0083\\\\x82\\u00c3\\u0082\\\\x8f\\u00c3\\u0083\\\\x83\\u00c3\\u0082\\\\x83\\u00c3\\u0083\\\\x82\\u00c3\\u0082\\\\x82\\u00c3\\u0083\\\\x83\\u00c3\\u0082\\\\x82\\u00c3\\u0083\\\\x82\\u00c3\\u0082\\u00c2\\u00bc'), ('Rated 4.0', \\\"RATED\\\\n  It's always been my favorite place for sizzler. Cheese macroni sizzler was amazing. Btw everything they serve was worth trying (sizzlers) .\\\\nDidn't like the pasta tho.\\\\n\\\\nFood- 4.5/5\\\\nAmbience- 4/5\\\\nService- 2.5/5 (it's very slow)\\\"), ('Rated 5.0', 'RATED\\\\n  I have not had such a nice food in a really long time. Their butter garlic prawns were the best I have had till date. Please try it if you visit the place. Also the pasta sizzler and fish steak both were delicious. I will certainly visit this place again and again. They are light on pocket also because of zomato gold. However the service could be fast. The food they offer is absolutely amazing.'), ('Rated 3.0', 'RATED\\\\n  The food is average and the prices are high. We order fish finger and it was disappointing to see that the fish content was really less, however the batter was so thick that there was hardly any taste of the fish in a bite. Similarly the flavours in the sizzlers were just okay and tasted more ketchupy'), ('Rated 4.0', 'RATED\\\\n  \\u00c3\\u0083\\\\x83\\u00c3\\u0082\\\\x83\\u00c3\\u0083\\\\x82\\u00c3\\u0082\\\\x83\\u00c3\\u0083\\\\x83\\u00c3\\u0082\\\\x82\\u00c3\\u0083\\\\x82\\u00c3\\u0082\\\\x82\\u00c3\\u0083\\\\x83\\u00c3\\u0082\\\\x83\\u00c3\\u0083\\\\x82\\u00c3\\u0082\\\\x82\\u00c3\\u0083\\\\x83\\u00c3\\u0082\\\\x82\\u00c3\\u0083\\\\x82\\u00c3\\u0082\\u00c2\\u00b0Ambience:\\\\n- Comfortable couches and chairs for seating\\\\n- Warm Woodsy decor\\\\n- Well lit \\u00c3\\u0083\\\\x83\\u00c3\\u0082\\\\x83\\u00c3\\u0083\\\\x82\\u00c3\\u0082\\\\x83\\u00c3\\u0083\\\\x83\\u00c3\\u0082\\\\x82\\u00c3\\u0083\\\\x82\\u00c3\\u0082\\u00c2\\u00a2\\u00c3\\u0083\\\\x83\\u00c3\\u0082\\\\x83\\u00c3\\u0083\\\\x82\\u00c3\\u0082\\\\x82\\u00c3\\u0083\\\\x83\\u00c3\\u0082\\\\x82\\u00c3\\u0083\\\\x82\\u00c3\\u0082\\\\x9c\\u00c3\\u0083\\\\x83\\u00c3\\u0082\\\\x83\\u00c3\\u0083\\\\x82\\u00c3\\u0082\\\\x82\\u00c3\\u0083\\\\x83\\u00c3\\u0082\\\\x82\\u00c3\\u0083\\\\x82\\u00c3\\u0082\\u00c2\\u00a8\\\\n- Good music\\\\n\\\\n\\u00c3\\u0083\\\\x83\\u00c3\\u0082\\\\x83\\u00c3\\u0083\\\\x82\\u00c3\\u0082\\\\x83\\u00c3\\u0083\\\\x83\\u00c3\\u0082\\\\x82\\u00c3\\u0083\\\\x82\\u00c3\\u0082\\\\x82\\u00c3\\u0083\\\\x83\\u00c3\\u0082\\\\x83\\u00c3\\u0083\\\\x82\\u00c3\\u0082\\\\x82\\u00c3\\u0083\\\\x83\\u00c3\\u0082\\\\x82\\u00c3\\u0083\\\\x82\\u00c3\\u0082\\u00c2\\u00b0Food:\\\\n- Very yummy food!\\\\n- Sizzlers, burgers and sandwiches available\\\\n- Recommend :\\\\n~ Butter garlic prawn, corn cheese bombs \\u00c3\\u0083\\\\x83\\u00c3\\u0082\\\\x83\\u00c3\\u0083\\\\x82\\u00c3\\u0082\\\\x83\\u00c3\\u0083\\\\x83\\u00c3\\u0082\\\\x82\\u00c3\\u0083\\\\x82\\u00c3\\u0082\\u00c2\\u00a2\\u00c3\\u0083\\\\x83\\u00c3\\u0082\\\\x83\\u00c3\\u0083\\\\x82\\u00c3\\u0082\\\\x82\\u00c3\\u0083\\\\x83\\u00c3\\u0082\\\\x82\\u00c3\\u0083\\\\x82\\u00c3\\u0082\\\\x9d\\u00c3\\u0083\\\\x83\\u00c3\\u0082\\\\x83\\u00c3\\u0083\\\\x82\\u00c3\\u0082\\\\x82\\u00c3\\u0083\\\\x83\\u00c3\\u0082\\\\x82\\u00c3\\u0083\\\\x82\\u00c3\\u0082\\u00c2\\u00a4\\\\n~ Pasta sizzlers is a good option for pasta lovers.\\\\n\\\\n\\u00c3\\u0083\\\\x83\\u00c3\\u0082\\\\x83\\u00c3\\u0083\\\\x82\\u00c3\\u0082\\\\x83\\u00c3\\u0083\\\\x83\\u00c3\\u0082\\\\x82\\u00c3\\u0083\\\\x82\\u00c3\\u0082\\\\x82\\u00c3\\u0083\\\\x83\\u00c3\\u0082\\\\x83\\u00c3\\u0083\\\\x82\\u00c3\\u0082\\\\x82\\u00c3\\u0083\\\\x83\\u00c3\\u0082\\\\x82\\u00c3\\u0083\\\\x82\\u00c3\\u0082\\u00c2\\u00b0Drinks :\\\\n- Wine\\\\n- Mocktails\\\\n\\\\n\\u00c3\\u0083\\\\x83\\u00c3\\u0082\\\\x83\\u00c3\\u0083\\\\x82\\u00c3\\u0082\\\\x83\\u00c3\\u0083\\\\x83\\u00c3\\u0082\\\\x82\\u00c3\\u0083\\\\x82\\u00c3\\u0082\\\\x82\\u00c3\\u0083\\\\x83\\u00c3\\u0082\\\\x83\\u00c3\\u0083\\\\x82\\u00c3\\u0082\\\\x82\\u00c3\\u0083\\\\x83\\u00c3\\u0082\\\\x82\\u00c3\\u0083\\\\x82\\u00c3\\u0082\\u00c2\\u00b0Desserts:\\\\n- Can be improved \\u00c3\\u0083\\\\x83\\u00c3\\u0082\\\\x83\\u00c3\\u0083\\\\x82\\u00c3\\u0082\\\\x83\\u00c3\\u0083\\\\x83\\u00c3\\u0082\\\\x82\\u00c3\\u0083\\\\x82\\u00c3\\u0082\\u00c2\\u00a2\\u00c3\\u0083\\\\x83\\u00c3\\u0082\\\\x83\\u00c3\\u0083\\\\x82\\u00c3\\u0082\\\\x82\\u00c3\\u0083\\\\x83\\u00c3\\u0082\\\\x82\\u00c3\\u0083\\\\x82\\u00c3\\u0082\\\\x9a\\u00c3\\u0083\\\\x83\\u00c3\\u0082\\\\x83\\u00c3\\u0083\\\\x82\\u00c3\\u0082\\\\x82\\u00c3\\u0083\\\\x83\\u00c3\\u0082\\\\x82\\u00c3\\u0083\\\\x82\\u00c3\\u0082\\\\xa0\\u00c3\\u0083\\\\x83\\u00c3\\u0082\\\\x83\\u00c3\\u0083\\\\x82\\u00c3\\u0082\\\\x83\\u00c3\\u0083\\\\x83\\u00c3\\u0082\\\\x82\\u00c3\\u0083\\\\x82\\u00c3\\u0082\\u00c2\\u00af\\u00c3\\u0083\\\\x83\\u00c3\\u0082\\\\x83\\u00c3\\u0083\\\\x82\\u00c3\\u0082\\\\x82\\u00c3\\u0083\\\\x83\\u00c3\\u0082\\\\x82\\u00c3\\u0083\\\\x82\\u00c3\\u0082\\u00c2\\u00b8\\u00c3\\u0083\\\\x83\\u00c3\\u0082\\\\x83\\u00c3\\u0083\\\\x82\\u00c3\\u0082\\\\x82\\u00c3\\u0083\\\\x83\\u00c3\\u0082\\\\x82\\u00c3\\u0083\\\\x82\\u00c3\\u0082\\\\x8f\\\\nNew York cheese cake was warm \\u00c3\\u0083\\\\x83\\u00c3\\u0082\\\\x83\\u00c3\\u0083\\\\x82\\u00c3\\u0082\\\\x83\\u00c3\\u0083\\\\x83\\u00c3\\u0082\\\\x82\\u00c3\\u0083\\\\x82\\u00c3\\u0082\\u00c2\\u00b0\\u00c3\\u0083\\\\x83\\u00c3\\u0082\\\\x83\\u00c3\\u0083\\\\x82\\u00c3\\u0082\\\\x82\\u00c3\\u0083\\\\x83\\u00c3\\u0082\\\\x82\\u00c3\\u0083\\\\x82\\u00c3\\u0082\\\\x9f\\u00c3\\u0083\\\\x83\\u00c3\\u0082\\\\x83\\u00c3\\u0083\\\\x82\\u00c3\\u0082\\\\x82\\u00c3\\u0083\\\\x83\\u00c3\\u0082\\\\x82\\u00c3\\u0083\\\\x82\\u00c3\\u0082\\\\x8d\\u00c3\\u0083\\\\x83\\u00c3\\u0082\\\\x83\\u00c3\\u0083\\\\x82\\u00c3\\u0082\\\\x82\\u00c3\\u0083\\\\x83\\u00c3\\u0082\\\\x82\\u00c3\\u0083\\\\x82\\u00c3\\u0082\\u00c2\\u00b0\\u00c3\\u0083\\\\x83\\u00c3\\u0082\\\\x83\\u00c3\\u0083\\\\x82\\u00c3\\u0082\\\\x83\\u00c3\\u0083\\\\x83\\u00c3\\u0082\\\\x82\\u00c3\\u0083\\\\x82\\u00c3\\u0082\\u00c2\\u00b0\\u00c3\\u0083\\\\x83\\u00c3\\u0082\\\\x83\\u00c3\\u0083\\\\x82\\u00c3\\u0082\\\\x82\\u00c3\\u0083\\\\x83\\u00c3\\u0082\\\\x82\\u00c3\\u0083\\\\x82\\u00c3\\u0082\\\\x9f\\u00c3\\u0083\\\\x83\\u00c3\\u0082\\\\x83\\u00c3\\u0083\\\\x82\\u00c3\\u0082\\\\x82\\u00c3\\u0083\\\\x83\\u00c3\\u0082\\\\x82\\u00c3\\u0083\\\\x82\\u00c3\\u0082\\\\x91\\u00c3\\u0083\\\\x83\\u00c3\\u0082\\\\x83\\u00c3\\u0083\\\\x82\\u00c3\\u0082\\\\x82\\u00c3\\u0083\\\\x83\\u00c3\\u0082\\\\x82\\u00c3\\u0083\\\\x82\\u00c3\\u0082\\\\x8e\\u00c3\\u0083\\\\x83\\u00c3\\u0082\\\\x83\\u00c3\\u0083\\\\x82\\u00c3\\u0082\\\\x83\\u00c3\\u0083\\\\x83\\u00c3\\u0082\\\\x82\\u00c3\\u0083\\\\x82\\u00c3\\u0082\\u00c2\\u00b0\\u00c3\\u0083\\\\x83\\u00c3\\u0082\\\\x83\\u00c3\\u0083\\\\x82\\u00c3\\u0082\\\\x82\\u00c3\\u0083\\\\x83\\u00c3\\u0082\\\\x82\\u00c3\\u0083\\\\x82\\u00c3\\u0082\\\\x9f\\u00c3\\u0083\\\\x83\\u00c3\\u0082\\\\x83\\u00c3\\u0083\\\\x82\\u00c3\\u0082\\\\x82\\u00c3\\u0083\\\\x83\\u00c3\\u0082\\\\x82\\u00c3\\u0083\\\\x82\\u00c3\\u0082\\\\x8f\\u00c3\\u0083\\\\x83\\u00c3\\u0082\\\\x83\\u00c3\\u0083\\\\x82\\u00c3\\u0082\\\\x82\\u00c3\\u0083\\\\x83\\u00c3\\u0082\\\\x82\\u00c3\\u0083\\\\x82\\u00c3\\u0082\\u00c2\\u00bc\\\\nSizzling brownie - the brownie was good but the chocolate sauce had a burnt taste as the sizzlers was too hot than it should have been. \\u00c3\\u0083\\\\x83\\u00c3\\u0082\\\\x83\\u00c3\\u0083\\\\x82\\u00c3\\u0082\\\\x83\\u00c3\\u0083\\\\x83\\u00c3\\u0082\\\\x82\\u00c3\\u0083\\\\x82\\u00c3\\u0082\\u00c2\\u00b0\\u00c3\\u0083\\\\x83\\u00c3\\u0082\\\\x83\\u00c3\\u0083\\\\x82\\u00c3\\u0082\\\\x82\\u00c3\\u0083\\\\x83\\u00c3\\u0082\\\\x82\\u00c3\\u0083\\\\x82\\u00c3\\u0082\\\\x9f\\u00c3\\u0083\\\\x83\\u00c3\\u0082\\\\x83\\u00c3\\u0083\\\\x82\\u00c3\\u0082\\\\x82\\u00c3\\u0083\\\\x83\\u00c3\\u0082\\\\x82\\u00c3\\u0083\\\\x82\\u00c3\\u0082\\\\x91\\u00c3\\u0083\\\\x83\\u00c3\\u0082\\\\x83\\u00c3\\u0083\\\\x82\\u00c3\\u0082\\\\x82\\u00c3\\u0083\\\\x83\\u00c3\\u0082\\\\x82\\u00c3\\u0083\\\\x82\\u00c3\\u0082\\\\x8e\\u00c3\\u0083\\\\x83\\u00c3\\u0082\\\\x83\\u00c3\\u0083\\\\x82\\u00c3\\u0082\\\\x83\\u00c3\\u0083\\\\x83\\u00c3\\u0082\\\\x82\\u00c3\\u0083\\\\x82\\u00c3\\u0082\\u00c2\\u00b0\\u00c3\\u0083\\\\x83\\u00c3\\u0082\\\\x83\\u00c3\\u0083\\\\x82\\u00c3\\u0082\\\\x82\\u00c3\\u0083\\\\x83\\u00c3\\u0082\\\\x82\\u00c3\\u0083\\\\x82\\u00c3\\u0082\\\\x9f\\u00c3\\u0083\\\\x83\\u00c3\\u0082\\\\x83\\u00c3\\u0083\\\\x82\\u00c3\\u0082\\\\x82\\u00c3\\u0083\\\\x83\\u00c3\\u0082\\\\x82\\u00c3\\u0083\\\\x82\\u00c3\\u0082\\\\x8f\\u00c3\\u0083\\\\x83\\u00c3\\u0082\\\\x83\\u00c3\\u0083\\\\x82\\u00c3\\u0082\\\\x82\\u00c3\\u0083\\\\x83\\u00c3\\u0082\\\\x82\\u00c3\\u0083\\\\x82\\u00c3\\u0082\\u00c2\\u00bc\\\\n\\\\n\\u00c3\\u0083\\\\x83\\u00c3\\u0082\\\\x83\\u00c3\\u0083\\\\x82\\u00c3\\u0082\\\\x83\\u00c3\\u0083\\\\x83\\u00c3\\u0082\\\\x82\\u00c3\\u0083\\\\x82\\u00c3\\u0082\\\\x82\\u00c3\\u0083\\\\x83\\u00c3\\u0082\\\\x83\\u00c3\\u0083\\\\x82\\u00c3\\u0082\\\\x82\\u00c3\\u0083\\\\x83\\u00c3\\u0082\\\\x82\\u00c3\\u0083\\\\x82\\u00c3\\u0082\\u00c2\\u00b0Menu:\\\\n- Veg and Non veg dishes available\\\\n- Decent portions \\u00c3\\u0083\\\\x83\\u00c3\\u0082\\\\x83\\u00c3\\u0083\\\\x82\\u00c3\\u0082\\\\x83\\u00c3\\u0083\\\\x83\\u00c3\\u0082\\\\x82\\u00c3\\u0083\\\\x82\\u00c3\\u0082\\u00c2\\u00a2\\u00c3\\u0083\\\\x83\\u00c3\\u0082\\\\x83\\u00c3\\u0083\\\\x82\\u00c3\\u0082\\\\x82\\u00c3\\u0083\\\\x83\\u00c3\\u0082\\\\x82\\u00c3\\u0083\\\\x82\\u00c3\\u0082\\\\xad\\u00c3\\u0083\\\\x83\\u00c3\\u0082\\\\x83\\u00c3\\u0083\\\\x82\\u00c3\\u0082\\\\x82\\u00c3\\u0083\\\\x83\\u00c3\\u0082\\\\x82\\u00c3\\u0083\\\\x82\\u00c3\\u0082\\\\x90\\\\n\\\\n\\u00c3\\u0083\\\\x83\\u00c3\\u0082\\\\x83\\u00c3\\u0083\\\\x82\\u00c3\\u0082\\\\x83\\u00c3\\u0083\\\\x83\\u00c3\\u0082\\\\x82\\u00c3\\u0083\\\\x82\\u00c3\\u0082\\\\x82\\u00c3\\u0083\\\\x83\\u00c3\\u0082\\\\x83\\u00c3\\u0083\\\\x82\\u00c3\\u0082\\\\x82\\u00c3\\u0083\\\\x83\\u00c3\\u0082\\\\x82\\u00c3\\u0083\\\\x82\\u00c3\\u0082\\u00c2\\u00b0Service :\\\\n- No complaints.\\\\n\\\\nHead to the place for a really good meal \\\\U0001f929\\u00c3\\u0083\\\\x83\\u00c3\\u0082\\\\x83\\u00c3\\u0083\\\\x82\\u00c3\\u0082\\\\x83\\u00c3\\u0083\\\\x83\\u00c3\\u0082\\\\x82\\u00c3\\u0083\\\\x82\\u00c3\\u0082\\u00c2\\u00b0\\u00c3\\u0083\\\\x83\\u00c3\\u0082\\\\x83\\u00c3\\u0083\\\\x82\\u00c3\\u0082\\\\x82\\u00c3\\u0083\\\\x83\\u00c3\\u0082\\\\x82\\u00c3\\u0083\\\\x82\\u00c3\\u0082\\\\x9f\\u00c3\\u0083\\\\x83\\u00c3\\u0082\\\\x83\\u00c3\\u0083\\\\x82\\u00c3\\u0082\\\\x82\\u00c3\\u0083\\\\x83\\u00c3\\u0082\\\\x82\\u00c3\\u0083\\\\x82\\u00c3\\u0082\\\\x91\\u00c3\\u0083\\\\x83\\u00c3\\u0082\\\\x83\\u00c3\\u0083\\\\x82\\u00c3\\u0082\\\\x82\\u00c3\\u0083\\\\x83\\u00c3\\u0082\\\\x82\\u00c3\\u0083\\\\x82\\u00c3\\u0082\\\\x8d\\u00c3\\u0083\\\\x83\\u00c3\\u0082\\\\x83\\u00c3\\u0083\\\\x82\\u00c3\\u0082\\\\x83\\u00c3\\u0083\\\\x83\\u00c3\\u0082\\\\x82\\u00c3\\u0083\\\\x82\\u00c3\\u0082\\u00c2\\u00b0\\u00c3\\u0083\\\\x83\\u00c3\\u0082\\\\x83\\u00c3\\u0083\\\\x82\\u00c3\\u0082\\\\x82\\u00c3\\u0083\\\\x83\\u00c3\\u0082\\\\x82\\u00c3\\u0083\\\\x82\\u00c3\\u0082\\\\x9f\\u00c3\\u0083\\\\x83\\u00c3\\u0082\\\\x83\\u00c3\\u0083\\\\x82\\u00c3\\u0082\\\\x82\\u00c3\\u0083\\\\x83\\u00c3\\u0082\\\\x82\\u00c3\\u0083\\\\x82\\u00c3\\u0082\\\\x8f\\u00c3\\u0083\\\\x83\\u00c3\\u0082\\\\x83\\u00c3\\u0083\\\\x82\\u00c3\\u0082\\\\x82\\u00c3\\u0083\\\\x83\\u00c3\\u0082\\\\x82\\u00c3\\u0083\\\\x82\\u00c3\\u0082\\u00c2\\u00bc'), ('Rated 4.0', 'RATED\\\\n  Perfect place to have smoke, smoking sizzler. Good combination of spices every time. Must visit place for sizzler lover from Bangalore. We reached there around 7:45 on Saturday restaurant was half full. Food took longer time, but it\\u00c3\\u0083\\\\x83\\u00c3\\u0082\\\\x83\\u00c3\\u0083\\\\x82\\u00c3\\u0082\\\\x83\\u00c3\\u0083\\\\x83\\u00c3\\u0082\\\\x82\\u00c3\\u0083\\\\x82\\u00c3\\u0082\\u00c2\\u00a2\\u00c3\\u0083\\\\x83\\u00c3\\u0082\\\\x83\\u00c3\\u0083\\\\x82\\u00c3\\u0082\\\\x82\\u00c3\\u0083\\\\x83\\u00c3\\u0082\\\\x82\\u00c3\\u0083\\\\x82\\u00c3\\u0082\\\\x80\\u00c3\\u0083\\\\x83\\u00c3\\u0082\\\\x83\\u00c3\\u0083\\\\x82\\u00c3\\u0082\\\\x82\\u00c3\\u0083\\\\x83\\u00c3\\u0082\\\\x82\\u00c3\\u0083\\\\x82\\u00c3\\u0082\\\\x99s worth waiting for mouthwatering food. And yeah Zomato gold makes it perfect.'), ('Rated 5.0', 'RATED\\\\n  Awesome food and very good ambience.Even the service is also very good......Especially the sizzlers is amazing and worth for the money.......'), ('Rated 4.0', 'RATED\\\\n  Awesome ambience! Loved it. Food was equally delicious. We ordered cheesy macaroni sizzler and paneer charmouli sizzler. Both was up to the mark. Would like to visit again for trying out other dishes.'), ('Rated 3.0', 'RATED\\\\n  A decent place for sizzlers, they have got a nice ambience and music selection is good! My first visit was delightful, we ordered the chicken stroganoff sizzler and the malai tikka sizzler. Both were pretty great, wasn\\u00c3\\u0083\\\\x83\\u00c3\\u0082\\\\x83\\u00c3\\u0083\\\\x82\\u00c3\\u0082\\\\x83\\u00c3\\u0083\\\\x83\\u00c3\\u0082\\\\x82\\u00c3\\u0083\\\\x82\\u00c3\\u0082\\u00c2\\u00a2\\u00c3\\u0083\\\\x83\\u00c3\\u0082\\\\x83\\u00c3\\u0083\\\\x82\\u00c3\\u0082\\\\x82\\u00c3\\u0083\\\\x83\\u00c3\\u0082\\\\x82\\u00c3\\u0083\\\\x82\\u00c3\\u0082\\\\x80\\u00c3\\u0083\\\\x83\\u00c3\\u0082\\\\x83\\u00c3\\u0083\\\\x82\\u00c3\\u0082\\\\x82\\u00c3\\u0083\\\\x83\\u00c3\\u0082\\\\x82\\u00c3\\u0083\\\\x82\\u00c3\\u0082\\\\x99t a big fan of the veggies though. Another day, I ordered the grilled fish sizzler and didn\\u00c3\\u0083\\\\x83\\u00c3\\u0082\\\\x83\\u00c3\\u0083\\\\x82\\u00c3\\u0082\\\\x83\\u00c3\\u0083\\\\x83\\u00c3\\u0082\\\\x82\\u00c3\\u0083\\\\x82\\u00c3\\u0082\\u00c2\\u00a2\\u00c3\\u0083\\\\x83\\u00c3\\u0082\\\\x83\\u00c3\\u0083\\\\x82\\u00c3\\u0082\\\\x82\\u00c3\\u0083\\\\x83\\u00c3\\u0082\\\\x82\\u00c3\\u0083\\\\x82\\u00c3\\u0082\\\\x80\\u00c3\\u0083\\\\x83\\u00c3\\u0082\\\\x83\\u00c3\\u0083\\\\x82\\u00c3\\u0082\\\\x82\\u00c3\\u0083\\\\x83\\u00c3\\u0082\\\\x82\\u00c3\\u0083\\\\x82\\u00c3\\u0082\\\\x99t really like it. The fish didn\\u00c3\\u0083\\\\x83\\u00c3\\u0082\\\\x83\\u00c3\\u0083\\\\x82\\u00c3\\u0082\\\\x83\\u00c3\\u0083\\\\x83\\u00c3\\u0082\\\\x82\\u00c3\\u0083\\\\x82\\u00c3\\u0082\\u00c2\\u00a2\\u00c3\\u0083\\\\x83\\u00c3\\u0082\\\\x83\\u00c3\\u0083\\\\x82\\u00c3\\u0082\\\\x82\\u00c3\\u0083\\\\x83\\u00c3\\u0082\\\\x82\\u00c3\\u0083\\\\x82\\u00c3\\u0082\\\\x80\\u00c3\\u0083\\\\x83\\u00c3\\u0082\\\\x83\\u00c3\\u0083\\\\x82\\u00c3\\u0082\\\\x82\\u00c3\\u0083\\\\x83\\u00c3\\u0082\\\\x82\\u00c3\\u0083\\\\x82\\u00c3\\u0082\\\\x99t seem to be very fresh and that affected the whole meal. Overall, I\\u00c3\\u0083\\\\x83\\u00c3\\u0082\\\\x83\\u00c3\\u0083\\\\x82\\u00c3\\u0082\\\\x83\\u00c3\\u0083\\\\x83\\u00c3\\u0082\\\\x82\\u00c3\\u0083\\\\x82\\u00c3\\u0082\\u00c2\\u00a2\\u00c3\\u0083\\\\x83\\u00c3\\u0082\\\\x83\\u00c3\\u0083\\\\x82\\u00c3\\u0082\\\\x82\\u00c3\\u0083\\\\x83\\u00c3\\u0082\\\\x82\\u00c3\\u0083\\\\x82\\u00c3\\u0082\\\\x80\\u00c3\\u0083\\\\x83\\u00c3\\u0082\\\\x83\\u00c3\\u0083\\\\x82\\u00c3\\u0082\\\\x82\\u00c3\\u0083\\\\x83\\u00c3\\u0082\\\\x82\\u00c3\\u0083\\\\x82\\u00c3\\u0082\\\\x99d say this place is good.'), ('Rated 2.0', \\\"RATED\\\\n  Was here on my birthday with a bunch of friends.\\\\nNow I didn't like this place as much, neither did my friends. In all honesty the place was very good with it's decor and the layout - beautiful architecture! Points for that.\\\\nFood - okay. Nothing to die for. I liked one of the starter, Cajun cheese fingers, but that's it. They did get the basic buffalo wings terribly wrong though. I mean, how did that happen!? The price too is a little high for the satisfaction that is missing from their food.\\\\nI will probably give it another shot but only after a really long while.\\\\nAlthough if you want a quiet place to have drinks with your friends, you can go here.\\\"), ('Rated 4.0', 'RATED\\\\n  Perfect place to have smoke, smoking sizzler. Good combination of spices every time. Must visit place for sizzler lover from Bangalore. We reached there around 7:45 on Saturday restaurant was half full. Food took longer time, but it\\u00c3\\u0083\\\\x83\\u00c3\\u0082\\\\x83\\u00c3\\u0083\\\\x82\\u00c3\\u0082\\\\x83\\u00c3\\u0083\\\\x83\\u00c3\\u0082\\\\x82\\u00c3\\u0083\\\\x82\\u00c3\\u0082\\u00c2\\u00a2\\u00c3\\u0083\\\\x83\\u00c3\\u0082\\\\x83\\u00c3\\u0083\\\\x82\\u00c3\\u0082\\\\x82\\u00c3\\u0083\\\\x83\\u00c3\\u0082\\\\x82\\u00c3\\u0083\\\\x82\\u00c3\\u0082\\\\x80\\u00c3\\u0083\\\\x83\\u00c3\\u0082\\\\x83\\u00c3\\u0083\\\\x82\\u00c3\\u0082\\\\x82\\u00c3\\u0083\\\\x83\\u00c3\\u0082\\\\x82\\u00c3\\u0083\\\\x82\\u00c3\\u0082\\\\x99s worth waiting for mouthwatering food. And yeah Zomato gold makes it perfect.'), ('Rated 5.0', 'RATED\\\\n  Awesome food and very good ambience.Even the service is also very good......Especially the sizzlers is amazing and worth for the money.......'), ('Rated 4.0', 'RATED\\\\n  Awesome ambience! Loved it. Food was equally delicious. We ordered cheesy macaroni sizzler and paneer charmouli sizzler. Both was up to the mark. Would like to visit again for trying out other dishes.'), ('Rated 3.0', 'RATED\\\\n  A decent place for sizzlers, they have got a nice ambience and music selection is good! My first visit was delightful, we ordered the chicken stroganoff sizzler and the malai tikka sizzler. Both were pretty great, wasn\\u00c3\\u0083\\\\x83\\u00c3\\u0082\\\\x83\\u00c3\\u0083\\\\x82\\u00c3\\u0082\\\\x83\\u00c3\\u0083\\\\x83\\u00c3\\u0082\\\\x82\\u00c3\\u0083\\\\x82\\u00c3\\u0082\\u00c2\\u00a2\\u00c3\\u0083\\\\x83\\u00c3\\u0082\\\\x83\\u00c3\\u0083\\\\x82\\u00c3\\u0082\\\\x82\\u00c3\\u0083\\\\x83\\u00c3\\u0082\\\\x82\\u00c3\\u0083\\\\x82\\u00c3\\u0082\\\\x80\\u00c3\\u0083\\\\x83\\u00c3\\u0082\\\\x83\\u00c3\\u0083\\\\x82\\u00c3\\u0082\\\\x82\\u00c3\\u0083\\\\x83\\u00c3\\u0082\\\\x82\\u00c3\\u0083\\\\x82\\u00c3\\u0082\\\\x99t a big fan of the veggies though. Another day, I ordered the grilled fish sizzler and didn\\u00c3\\u0083\\\\x83\\u00c3\\u0082\\\\x83\\u00c3\\u0083\\\\x82\\u00c3\\u0082\\\\x83\\u00c3\\u0083\\\\x83\\u00c3\\u0082\\\\x82\\u00c3\\u0083\\\\x82\\u00c3\\u0082\\u00c2\\u00a2\\u00c3\\u0083\\\\x83\\u00c3\\u0082\\\\x83\\u00c3\\u0083\\\\x82\\u00c3\\u0082\\\\x82\\u00c3\\u0083\\\\x83\\u00c3\\u0082\\\\x82\\u00c3\\u0083\\\\x82\\u00c3\\u0082\\\\x80\\u00c3\\u0083\\\\x83\\u00c3\\u0082\\\\x83\\u00c3\\u0083\\\\x82\\u00c3\\u0082\\\\x82\\u00c3\\u0083\\\\x83\\u00c3\\u0082\\\\x82\\u00c3\\u0083\\\\x82\\u00c3\\u0082\\\\x99t really like it. The fish didn\\u00c3\\u0083\\\\x83\\u00c3\\u0082\\\\x83\\u00c3\\u0083\\\\x82\\u00c3\\u0082\\\\x83\\u00c3\\u0083\\\\x83\\u00c3\\u0082\\\\x82\\u00c3\\u0083\\\\x82\\u00c3\\u0082\\u00c2\\u00a2\\u00c3\\u0083\\\\x83\\u00c3\\u0082\\\\x83\\u00c3\\u0083\\\\x82\\u00c3\\u0082\\\\x82\\u00c3\\u0083\\\\x83\\u00c3\\u0082\\\\x82\\u00c3\\u0083\\\\x82\\u00c3\\u0082\\\\x80\\u00c3\\u0083\\\\x83\\u00c3\\u0082\\\\x83\\u00c3\\u0083\\\\x82\\u00c3\\u0082\\\\x82\\u00c3\\u0083\\\\x83\\u00c3\\u0082\\\\x82\\u00c3\\u0083\\\\x82\\u00c3\\u0082\\\\x99t seem to be very fresh and that affected the whole meal. Overall, I\\u00c3\\u0083\\\\x83\\u00c3\\u0082\\\\x83\\u00c3\\u0083\\\\x82\\u00c3\\u0082\\\\x83\\u00c3\\u0083\\\\x83\\u00c3\\u0082\\\\x82\\u00c3\\u0083\\\\x82\\u00c3\\u0082\\u00c2\\u00a2\\u00c3\\u0083\\\\x83\\u00c3\\u0082\\\\x83\\u00c3\\u0083\\\\x82\\u00c3\\u0082\\\\x82\\u00c3\\u0083\\\\x83\\u00c3\\u0082\\\\x82\\u00c3\\u0083\\\\x82\\u00c3\\u0082\\\\x80\\u00c3\\u0083\\\\x83\\u00c3\\u0082\\\\x83\\u00c3\\u0083\\\\x82\\u00c3\\u0082\\\\x82\\u00c3\\u0083\\\\x83\\u00c3\\u0082\\\\x82\\u00c3\\u0083\\\\x82\\u00c3\\u0082\\\\x99d say this place is good.'), ('Rated 2.0', \\\"RATED\\\\n  Was here on my birthday with a bunch of friends.\\\\nNow I didn't like this place as much, neither did my friends. In all honesty the place was very good with it's decor and the layout - beautiful architecture! Points for that.\\\\nFood - okay. Nothing to die for. I liked one of the starter, Cajun cheese fingers, but that's it. They did get the basic buffalo wings terribly wrong though. I mean, how did that happen!? The price too is a little high for the satisfaction that is missing from their food.\\\\nI will probably give it another shot but only after a really long while.\\\\nAlthough if you want a quiet place to have drinks with your friends, you can go here.\\\"), ('Rated 4.0', 'RATED\\\\n  Perfect place to have smoke, smoking sizzler. Good combination of spices every time. Must visit place for sizzler lover from Bangalore. We reached there around 7:45 on Saturday restaurant was half full. Food took longer time, but it\\u00c3\\u0083\\\\x83\\u00c3\\u0082\\\\x83\\u00c3\\u0083\\\\x82\\u00c3\\u0082\\\\x83\\u00c3\\u0083\\\\x83\\u00c3\\u0082\\\\x82\\u00c3\\u0083\\\\x82\\u00c3\\u0082\\u00c2\\u00a2\\u00c3\\u0083\\\\x83\\u00c3\\u0082\\\\x83\\u00c3\\u0083\\\\x82\\u00c3\\u0082\\\\x82\\u00c3\\u0083\\\\x83\\u00c3\\u0082\\\\x82\\u00c3\\u0083\\\\x82\\u00c3\\u0082\\\\x80\\u00c3\\u0083\\\\x83\\u00c3\\u0082\\\\x83\\u00c3\\u0083\\\\x82\\u00c3\\u0082\\\\x82\\u00c3\\u0083\\\\x83\\u00c3\\u0082\\\\x82\\u00c3\\u0083\\\\x82\\u00c3\\u0082\\\\x99s worth waiting for mouthwatering food. And yeah Zomato gold makes it perfect.'), ('Rated 5.0', 'RATED\\\\n  Awesome food and very good ambience.Even the service is also very good......Especially the sizzlers is amazing and worth for the money.......'), ('Rated 4.0', 'RATED\\\\n  Awesome ambience! Loved it. Food was equally delicious. We ordered cheesy macaroni sizzler and paneer charmouli sizzler. Both was up to the mark. Would like to visit again for trying out other dishes.'), ('Rated 3.0', 'RATED\\\\n  A decent place for sizzlers, they have got a nice ambience and music selection is good! My first visit was delightful, we ordered the chicken stroganoff sizzler and the malai tikka sizzler. Both were pretty great, wasn\\u00c3\\u0083\\\\x83\\u00c3\\u0082\\\\x83\\u00c3\\u0083\\\\x82\\u00c3\\u0082\\\\x83\\u00c3\\u0083\\\\x83\\u00c3\\u0082\\\\x82\\u00c3\\u0083\\\\x82\\u00c3\\u0082\\u00c2\\u00a2\\u00c3\\u0083\\\\x83\\u00c3\\u0082\\\\x83\\u00c3\\u0083\\\\x82\\u00c3\\u0082\\\\x82\\u00c3\\u0083\\\\x83\\u00c3\\u0082\\\\x82\\u00c3\\u0083\\\\x82\\u00c3\\u0082\\\\x80\\u00c3\\u0083\\\\x83\\u00c3\\u0082\\\\x83\\u00c3\\u0083\\\\x82\\u00c3\\u0082\\\\x82\\u00c3\\u0083\\\\x83\\u00c3\\u0082\\\\x82\\u00c3\\u0083\\\\x82\\u00c3\\u0082\\\\x99t a big fan of the veggies though. Another day, I ordered the grilled fish sizzler and didn\\u00c3\\u0083\\\\x83\\u00c3\\u0082\\\\x83\\u00c3\\u0083\\\\x82\\u00c3\\u0082\\\\x83\\u00c3\\u0083\\\\x83\\u00c3\\u0082\\\\x82\\u00c3\\u0083\\\\x82\\u00c3\\u0082\\u00c2\\u00a2\\u00c3\\u0083\\\\x83\\u00c3\\u0082\\\\x83\\u00c3\\u0083\\\\x82\\u00c3\\u0082\\\\x82\\u00c3\\u0083\\\\x83\\u00c3\\u0082\\\\x82\\u00c3\\u0083\\\\x82\\u00c3\\u0082\\\\x80\\u00c3\\u0083\\\\x83\\u00c3\\u0082\\\\x83\\u00c3\\u0083\\\\x82\\u00c3\\u0082\\\\x82\\u00c3\\u0083\\\\x83\\u00c3\\u0082\\\\x82\\u00c3\\u0083\\\\x82\\u00c3\\u0082\\\\x99t really like it. The fish didn\\u00c3\\u0083\\\\x83\\u00c3\\u0082\\\\x83\\u00c3\\u0083\\\\x82\\u00c3\\u0082\\\\x83\\u00c3\\u0083\\\\x83\\u00c3\\u0082\\\\x82\\u00c3\\u0083\\\\x82\\u00c3\\u0082\\u00c2\\u00a2\\u00c3\\u0083\\\\x83\\u00c3\\u0082\\\\x83\\u00c3\\u0083\\\\x82\\u00c3\\u0082\\\\x82\\u00c3\\u0083\\\\x83\\u00c3\\u0082\\\\x82\\u00c3\\u0083\\\\x82\\u00c3\\u0082\\\\x80\\u00c3\\u0083\\\\x83\\u00c3\\u0082\\\\x83\\u00c3\\u0083\\\\x82\\u00c3\\u0082\\\\x82\\u00c3\\u0083\\\\x83\\u00c3\\u0082\\\\x82\\u00c3\\u0083\\\\x82\\u00c3\\u0082\\\\x99t seem to be very fresh and that affected the whole meal. Overall, I\\u00c3\\u0083\\\\x83\\u00c3\\u0082\\\\x83\\u00c3\\u0083\\\\x82\\u00c3\\u0082\\\\x83\\u00c3\\u0083\\\\x83\\u00c3\\u0082\\\\x82\\u00c3\\u0083\\\\x82\\u00c3\\u0082\\u00c2\\u00a2\\u00c3\\u0083\\\\x83\\u00c3\\u0082\\\\x83\\u00c3\\u0083\\\\x82\\u00c3\\u0082\\\\x82\\u00c3\\u0083\\\\x83\\u00c3\\u0082\\\\x82\\u00c3\\u0083\\\\x82\\u00c3\\u0082\\\\x80\\u00c3\\u0083\\\\x83\\u00c3\\u0082\\\\x83\\u00c3\\u0083\\\\x82\\u00c3\\u0082\\\\x82\\u00c3\\u0083\\\\x83\\u00c3\\u0082\\\\x82\\u00c3\\u0083\\\\x82\\u00c3\\u0082\\\\x99d say this place is good.'), ('Rated 2.0', \\\"RATED\\\\n  Was here on my birthday with a bunch of friends.\\\\nNow I didn't like this place as much, neither did my friends. In all honesty the place was very good with it's decor and the layout - beautiful architecture! Points for that.\\\\nFood - okay. Nothing to die for. I liked one of the starter, Cajun cheese fingers, but that's it. They did get the basic buffalo wings terribly wrong though. I mean, how did that happen!? The price too is a little high for the satisfaction that is missing from their food.\\\\nI will probably give it another shot but only after a really long while.\\\\nAlthough if you want a quiet place to have drinks with your friends, you can go here.\\\"), ('Rated 4.0', 'RATED\\\\n  Perfect place to have smoke, smoking sizzler. Good combination of spices every time. Must visit place for sizzler lover from Bangalore. We reached there around 7:45 on Saturday restaurant was half full. Food took longer time, but it\\u00c3\\u0083\\\\x83\\u00c3\\u0082\\\\x83\\u00c3\\u0083\\\\x82\\u00c3\\u0082\\\\x83\\u00c3\\u0083\\\\x83\\u00c3\\u0082\\\\x82\\u00c3\\u0083\\\\x82\\u00c3\\u0082\\u00c2\\u00a2\\u00c3\\u0083\\\\x83\\u00c3\\u0082\\\\x83\\u00c3\\u0083\\\\x82\\u00c3\\u0082\\\\x82\\u00c3\\u0083\\\\x83\\u00c3\\u0082\\\\x82\\u00c3\\u0083\\\\x82\\u00c3\\u0082\\\\x80\\u00c3\\u0083\\\\x83\\u00c3\\u0082\\\\x83\\u00c3\\u0083\\\\x82\\u00c3\\u0082\\\\x82\\u00c3\\u0083\\\\x83\\u00c3\\u0082\\\\x82\\u00c3\\u0083\\\\x82\\u00c3\\u0082\\\\x99s worth waiting for mouthwatering food. And yeah Zomato gold makes it perfect.'), ('Rated 5.0', 'RATED\\\\n  Awesome food and very good ambience.Even the service is also very good......Especially the sizzlers is amazing and worth for the money.......'), ('Rated 4.0', 'RATED\\\\n  Awesome ambience! Loved it. Food was equally delicious. We ordered cheesy macaroni sizzler and paneer charmouli sizzler. Both was up to the mark. Would like to visit again for trying out other dishes.'), ('Rated 3.0', 'RATED\\\\n  A decent place for sizzlers, they have got a nice ambience and music selection is good! My first visit was delightful, we ordered the chicken stroganoff sizzler and the malai tikka sizzler. Both were pretty great, wasn\\u00c3\\u0083\\\\x83\\u00c3\\u0082\\\\x83\\u00c3\\u0083\\\\x82\\u00c3\\u0082\\\\x83\\u00c3\\u0083\\\\x83\\u00c3\\u0082\\\\x82\\u00c3\\u0083\\\\x82\\u00c3\\u0082\\u00c2\\u00a2\\u00c3\\u0083\\\\x83\\u00c3\\u0082\\\\x83\\u00c3\\u0083\\\\x82\\u00c3\\u0082\\\\x82\\u00c3\\u0083\\\\x83\\u00c3\\u0082\\\\x82\\u00c3\\u0083\\\\x82\\u00c3\\u0082\\\\x80\\u00c3\\u0083\\\\x83\\u00c3\\u0082\\\\x83\\u00c3\\u0083\\\\x82\\u00c3\\u0082\\\\x82\\u00c3\\u0083\\\\x83\\u00c3\\u0082\\\\x82\\u00c3\\u0083\\\\x82\\u00c3\\u0082\\\\x99t a big fan of the veggies though. Another day, I ordered the grilled fish sizzler and didn\\u00c3\\u0083\\\\x83\\u00c3\\u0082\\\\x83\\u00c3\\u0083\\\\x82\\u00c3\\u0082\\\\x83\\u00c3\\u0083\\\\x83\\u00c3\\u0082\\\\x82\\u00c3\\u0083\\\\x82\\u00c3\\u0082\\u00c2\\u00a2\\u00c3\\u0083\\\\x83\\u00c3\\u0082\\\\x83\\u00c3\\u0083\\\\x82\\u00c3\\u0082\\\\x82\\u00c3\\u0083\\\\x83\\u00c3\\u0082\\\\x82\\u00c3\\u0083\\\\x82\\u00c3\\u0082\\\\x80\\u00c3\\u0083\\\\x83\\u00c3\\u0082\\\\x83\\u00c3\\u0083\\\\x82\\u00c3\\u0082\\\\x82\\u00c3\\u0083\\\\x83\\u00c3\\u0082\\\\x82\\u00c3\\u0083\\\\x82\\u00c3\\u0082\\\\x99t really like it. The fish didn\\u00c3\\u0083\\\\x83\\u00c3\\u0082\\\\x83\\u00c3\\u0083\\\\x82\\u00c3\\u0082\\\\x83\\u00c3\\u0083\\\\x83\\u00c3\\u0082\\\\x82\\u00c3\\u0083\\\\x82\\u00c3\\u0082\\u00c2\\u00a2\\u00c3\\u0083\\\\x83\\u00c3\\u0082\\\\x83\\u00c3\\u0083\\\\x82\\u00c3\\u0082\\\\x82\\u00c3\\u0083\\\\x83\\u00c3\\u0082\\\\x82\\u00c3\\u0083\\\\x82\\u00c3\\u0082\\\\x80\\u00c3\\u0083\\\\x83\\u00c3\\u0082\\\\x83\\u00c3\\u0083\\\\x82\\u00c3\\u0082\\\\x82\\u00c3\\u0083\\\\x83\\u00c3\\u0082\\\\x82\\u00c3\\u0083\\\\x82\\u00c3\\u0082\\\\x99t seem to be very fresh and that affected the whole meal. Overall, I\\u00c3\\u0083\\\\x83\\u00c3\\u0082\\\\x83\\u00c3\\u0083\\\\x82\\u00c3\\u0082\\\\x83\\u00c3\\u0083\\\\x83\\u00c3\\u0082\\\\x82\\u00c3\\u0083\\\\x82\\u00c3\\u0082\\u00c2\\u00a2\\u00c3\\u0083\\\\x83\\u00c3\\u0082\\\\x83\\u00c3\\u0083\\\\x82\\u00c3\\u0082\\\\x82\\u00c3\\u0083\\\\x83\\u00c3\\u0082\\\\x82\\u00c3\\u0083\\\\x82\\u00c3\\u0082\\\\x80\\u00c3\\u0083\\\\x83\\u00c3\\u0082\\\\x83\\u00c3\\u0083\\\\x82\\u00c3\\u0082\\\\x82\\u00c3\\u0083\\\\x83\\u00c3\\u0082\\\\x82\\u00c3\\u0083\\\\x82\\u00c3\\u0082\\\\x99d say this place is good.'), ('Rated 2.0', \\\"RATED\\\\n  Was here on my birthday with a bunch of friends.\\\\nNow I didn't like this place as much, neither did my friends. In all honesty the place was very good with it's decor and the layout - beautiful architecture! Points for that.\\\\nFood - okay. Nothing to die for. I liked one of the starter, Cajun cheese fingers, but that's it. They did get the basic buffalo wings terribly wrong though. I mean, how did that happen!? The price too is a little high for the satisfaction that is missing from their food.\\\\nI will probably give it another shot but only after a really long while.\\\\nAlthough if you want a quiet place to have drinks with your friends, you can go here.\\\"), ('Rated 3.0', 'RATED\\\\n  Had been to this place on sunday night and it was not that crowded. Ambience was okay nothing special.We ordered Schezwan Chicken, Schezwan veg, Veg Manchurian and Fusion chilli chicken sizzlers.All the sizzlers were good though we felt they were bit salty. Coming to their service it was big let down as it was too damn slow.It took exactly 1 hour for our orders to arrive.They will have to work extensively in improving their services.\\\\n\\\\nFood 3/5\\\\nAmbience 3/5\\\\nService 0.5/5'), ('Rated 5.0', 'RATED\\\\n  Extremely good place for having sizzlers in Bangalore. Ordered a virgin Mary and a grilled fish sizzler along with chefs special mushrooms.\\\\n\\\\nThe place is extremely economical. All the dishes were very good. The sauce with grilled fish sizzler was amazing.\\\\n\\\\nThe flip side is, everything was very heavy.'), ('Rated 3.5', \\\"RATED\\\\n  The ambience is very nice and descent . We asked the staff the details of about few dishes but it seems either they don't have any clue about the preparation or it was language issue. We ordered two soups which came half an hr late. The lemon clear soup was very simple and tasty..it was very refreshing for start..we ordered two sizzlers , two starters...butter fried prawns was delicious ..The dishes were well cooked ..but the service is very slow..I really hope management should come up with some improvement as the other customers in the restaurant we're also complaining to waiters about same thing.. I can go for second time only if they improve the service ..\\\"), ('Rated 2.0', \\\"RATED\\\\n  I went to thus place as I heard the Food is good here...But even after waiting for half an hour after ordering a srarter, it didn't come. The staff were not able to explain the delay..but again they Lack in Service, which is tooooo Slow.\\\\nThe place was too smokey from the Sizzlers and there was no exhaust for the smoke to go Out. Waiting for the Starter itself killed my Appetite. I had to Walk out waiting for it to come for a never ending time..I would Never Ever go to this Place and not Recommend it to Any of my Friends. PATHETIC.\\\")]\",\n          \"[('Rated 4.0', \\\"RATED\\\\n  Wasn't here for a long time. Just here to pick a quick cup of coffee. I love the ambience, a good place to read a book or work with a decent menu. The takeaway service was quick. Would come over here sometime again.\\\"), ('Rated 3.0', 'RATED\\\\n  We went there after reading the positive reviews on Zomato but the place is not worth it. The service is no doubt really good but the food is not that good. There are many places which serve better food in that price!'), ('Rated 3.0', \\\"RATED\\\\n  are u looking for a cool place with a good ambiance I think this is u r place. Hanging out in this place for long hours might be fun way to spend u r day , but be aware this is one of those places were the ambiance supersedes the food . No I'm not saying food here is bad but certainly not as good as the ambiance, common problem I noticed was pizza base not baked properly to the fullest, sandwich not toasted to feel Fully crunchy. Chocolate shake was good though, I would say taste is subjective so I would say go form your own opinions. Visit to this place will not be a dissatisfaction for sure . Happy eating ?\\\"), ('Rated 4.0', \\\"RATED\\\\n  Cafe D'hide is located in Koramangala. I went there with my hubby.It was a nice Place to enjoy with your friends & family.\\\\nFood, Taste, and Quality is good. We ordered Fish Burger and Vegetarian Pizza.\\\\nThe fish burger was quite good. It was big and flavourful burger.\\\\nThe pizza base was readymade thin-crust base. Pizza mushtooms, broccoli, sweetcorn, bell peppers these toppings were good, but because of ready made dough pizza was not that much good.\\\\nThe service is good and the ambience is very nice with good & different decor.\\\"), ('Rated 4.0', \\\"RATED\\\\n  Cafe D'hide is a nice cozy place in Koramangala. The cafe offers a lot in terms of food, service and ambience. I went there with my family on an afternoon. It was a nice experience.\\\\n\\\\nFOOD, TASTE, AND QUALITY:\\\\n\\\\nWe had the English Mustard Fish Burger and D'hide Vegetarian Pizza. The pizza base was not made of in-house fresh dough and it was a readymade thin-crust base which didn't add any much excitement. The toppings were although good and it had mushtooms, broccoli, sweetcorn, bell peppers, and sun dried tomatoes. So, a thumbs down for the pizza base but the toppings were really good.\\\\n\\\\nThe mustard fish burger was quite good. It was big and filled with fresh mustard fish, lettuce, and sauces. It was flavourful.\\\\n\\\\nSERVICE AND AMBIENCE:\\\\nThe service is excellent and the ambience is very nice with good decor and interiors.\\\"), ('Rated 5.0', 'RATED\\\\n  If you love coffee, this is the place to be. In just 4 visits I have tried all their frappes and I absolutely am in love with them.\\\\nTheir food is equally good , especially the burgers.\\\\nThe ambience is just perfect!\\\\nVery polite and courteous staff.\\\\n\\\\nDefinately recommend this place to all the coffee lovers! :)'), ('Rated 3.0', 'RATED\\\\n  The cold coffee and milkshake was exceptional! The ambience is lovely very fresh and bright, the tuna salad was a little dry and we had to ask for sauces, the pizza was huge but tasted average! Nice place to click pics :)'), ('Rated 4.0', \\\"RATED\\\\n  Had been here with a friend, the place is lit up and beautifully decorated. It's a small restaurant but good enough for a group of 25-30friends to drop by.\\\\nThe ambience is amazing. We ordered shakes and juices. The staff was bit slow inspite of booking in advance but that's fine as long as the food is yum.\\\"), ('Rated 4.0', 'RATED\\\\n  The place in nice and cozy. I had the English breakfast here. There were smileys made on my sunny side up eggs. Loved it. The chicken sausage and chicken bacon was really nice. Fast service. Polite waiters. The baked beans was tasty. I would definitely recommend this place.'), ('Rated 4.0', 'RATED\\\\n  Tiny little cafe with absolutely beautiful interiors and good vibes. Not exactly a place to go with a large group of people- would be ideal for for groups of 2-4 people.\\\\n\\\\nWe tried A non veg pizza, a veg pizza and chilli garlic noodles(which came with a happy sunny side up).\\\\nFood was good, but nothing special about it. Totally worth the money.\\\\nDecent food for moderate prices!'), ('Rated 4.0', \\\"RATED\\\\n  It's a tiny cafe which is also a part of Tim Tai Restaurant. The food served was great. It was a little crowded and has very limited seats. If you visit on a weekend, may have to wait outside at the entrance until the table gets cleared.\\\"), ('Rated 4.0', \\\"RATED\\\\n  One of the most cutest cafe in Bangalore I have been to. Music that let's you talk. I am drollin over the ambiance. I am person who loves french fries, and peri peri is yum, must have.\\\"), ('Rated 4.0', 'RATED\\\\n  This cafe is located adjacent to Tim Thai restaurant. It\\u00c3\\u0083\\\\x83\\u00c3\\u0082\\\\x83\\u00c3\\u0083\\\\x82\\u00c3\\u0082\\\\x82\\u00c3\\u0083\\\\x83\\u00c3\\u0082\\\\x82\\u00c3\\u0083\\\\x82\\u00c3\\u0082\\\\x92s just a part of tim thai restaurant.\\\\nI am in love with the ambience of this place. It has pretty,cozy ambience. Lot of flower pots , decorative items can be seen on their wall.\\\\nAmbience I would say 5/5.\\\\nComing to the food , I had chicken egg fried burger and pop corn chicken from the starters.\\\\nBurger will be served with french fries and salad. Both were good.\\\\nService was quick and good.'), ('Rated 4.0', 'RATED\\\\n  A small and pretty cafe besides Tim tai I would rather say a unit of Tim tai. The wall paintings, ambience is pretty good with pots everywhere. We had ordered pop corn chicken, chicken patty fried egg burger. Both tasted good. Service was quick and good.'), ('Rated 5.0', 'RATED\\\\n  D\\u00c3\\u0083\\\\x83\\u00c3\\u0082\\\\x83\\u00c3\\u0083\\\\x82\\u00c3\\u0082\\\\x82\\u00c3\\u0083\\\\x83\\u00c3\\u0082\\\\x82\\u00c3\\u0083\\\\x82\\u00c3\\u0082\\\\x92hide is one of my favourite cafes! It has such a beautiful setting and such cosy, warm vibes, despite being in one of the most busy lanes of Koramangala! The USP of this place is it\\u00c3\\u0083\\\\x83\\u00c3\\u0082\\\\x83\\u00c3\\u0083\\\\x82\\u00c3\\u0082\\\\x82\\u00c3\\u0083\\\\x83\\u00c3\\u0082\\\\x82\\u00c3\\u0083\\\\x82\\u00c3\\u0082\\\\x92s shelf full of beautiful articles that forms a part of it right hand side wall, when you enter ?\\\\nThe staff is polite and professional and the food and beverages are up to the mark ?\\\\nDo visit to experience the cutesy ambience ??'), ('Rated 5.0', \\\"RATED\\\\n  First of all the ambience of this place is very well done and it's super cozy and perfect for morning breakfasts. After morning walk in cubbon park it was time for continental breakfast. So we decided to give this place a try. It surely did not disappoint even a bit. Great ambience and good music playlist ;) coming to the food we ordered Veggie omelette ( mushroom, olives & cheese ) which was awesome, Banana honey pancakes which was out of this world and is a must try. It's served with whipped cream on the side.Veg lasagna was cheesy and delicious. Definitely come back :)\\\"), ('Rated 5.0', 'RATED\\\\n  Nice and quite cafe, in the heart of the city. Good place for a quite evening. Tried there fries , Earl Grey Tea, Double Shot Espresso. Great service'), ('Rated 5.0', 'RATED\\\\n  Cute cafe with wonderful decorate on the streets of kormangla indeed place designed with lot of love ..COMING to the food they have recently change there menu so we have tried grill chicken with whole leg by rice on the side ,ckn steak burger was awesome and for drinks we have order The dark night and caffine shake both was amazing i would love to visit again???'), ('Rated 5.0', 'RATED\\\\n  I am literally in love with this cafe.. ??????\\\\nA small, cute, attractive place with a wonderful interior design. ?\\\\nStaffs are friendly, menu is rich in varieties, ambience is truly relaxing and awesome ? music.\\\\nA must must and very must place to be try out in Bengaluru.\\\\nLocation is easily accessible ?'), ('Rated 2.0', 'RATED\\\\n  The place looked pretty in pictures and so decided to pay a visit.\\\\n\\\\nSmall place, good ambience. The inside looks like an English railway station with street lights and a huge clock.\\\\n\\\\nOrdered an Irish frappe, a wild berry smoothie and a Cajun chicken pizza. The Irish frappe was nice, the smoothie tasted more like a milkshake and was very sweet. The pizza was below average. The base was cracker and not pizza base, so it crumbles when you take a bite.\\\\n\\\\nOverall average experience with a beautiful ambience.'), ('Rated 5.0', \\\"RATED\\\\n  First of all the ambience of this place is very well done and it's super cozy and perfect for morning breakfasts. After morning walk in cubbon park it was time for continental breakfast. So we decided to give this place a try. It surely did not disappoint even a bit. Great ambience and good music playlist ;) coming to the food we ordered Veggie omelette ( mushroom, olives & cheese ) which was awesome, Banana honey pancakes which was out of this world and is a must try. It's served with whipped cream on the side.Veg lasagna was cheesy and delicious. Definitely come back :)\\\"), ('Rated 5.0', 'RATED\\\\n  Nice and quite cafe, in the heart of the city. Good place for a quite evening. Tried there fries , Earl Grey Tea, Double Shot Espresso. Great service'), ('Rated 5.0', 'RATED\\\\n  Cute cafe with wonderful decorate on the streets of kormangla indeed place designed with lot of love ..COMING to the food they have recently change there menu so we have tried grill chicken with whole leg by rice on the side ,ckn steak burger was awesome and for drinks we have order The dark night and caffine shake both was amazing i would love to visit again???'), ('Rated 5.0', 'RATED\\\\n  I am literally in love with this cafe.. ??????\\\\nA small, cute, attractive place with a wonderful interior design. ?\\\\nStaffs are friendly, menu is rich in varieties, ambience is truly relaxing and awesome ? music.\\\\nA must must and very must place to be try out in Bengaluru.\\\\nLocation is easily accessible ?'), ('Rated 2.0', 'RATED\\\\n  The place looked pretty in pictures and so decided to pay a visit.\\\\n\\\\nSmall place, good ambience. The inside looks like an English railway station with street lights and a huge clock.\\\\n\\\\nOrdered an Irish frappe, a wild berry smoothie and a Cajun chicken pizza. The Irish frappe was nice, the smoothie tasted more like a milkshake and was very sweet. The pizza was below average. The base was cracker and not pizza base, so it crumbles when you take a bite.\\\\n\\\\nOverall average experience with a beautiful ambience.'), ('Rated 5.0', \\\"RATED\\\\n  First of all the ambience of this place is very well done and it's super cozy and perfect for morning breakfasts. After morning walk in cubbon park it was time for continental breakfast. So we decided to give this place a try. It surely did not disappoint even a bit. Great ambience and good music playlist ;) coming to the food we ordered Veggie omelette ( mushroom, olives & cheese ) which was awesome, Banana honey pancakes which was out of this world and is a must try. It's served with whipped cream on the side.Veg lasagna was cheesy and delicious. Definitely come back :)\\\"), ('Rated 5.0', 'RATED\\\\n  Nice and quite cafe, in the heart of the city. Good place for a quite evening. Tried there fries , Earl Grey Tea, Double Shot Espresso. Great service'), ('Rated 5.0', 'RATED\\\\n  Cute cafe with wonderful decorate on the streets of kormangla indeed place designed with lot of love ..COMING to the food they have recently change there menu so we have tried grill chicken with whole leg by rice on the side ,ckn steak burger was awesome and for drinks we have order The dark night and caffine shake both was amazing i would love to visit again???'), ('Rated 5.0', 'RATED\\\\n  I am literally in love with this cafe.. ??????\\\\nA small, cute, attractive place with a wonderful interior design. ?\\\\nStaffs are friendly, menu is rich in varieties, ambience is truly relaxing and awesome ? music.\\\\nA must must and very must place to be try out in Bengaluru.\\\\nLocation is easily accessible ?'), ('Rated 2.0', 'RATED\\\\n  The place looked pretty in pictures and so decided to pay a visit.\\\\n\\\\nSmall place, good ambience. The inside looks like an English railway station with street lights and a huge clock.\\\\n\\\\nOrdered an Irish frappe, a wild berry smoothie and a Cajun chicken pizza. The Irish frappe was nice, the smoothie tasted more like a milkshake and was very sweet. The pizza was below average. The base was cracker and not pizza base, so it crumbles when you take a bite.\\\\n\\\\nOverall average experience with a beautiful ambience.'), ('Rated 5.0', \\\"RATED\\\\n  First of all the ambience of this place is very well done and it's super cozy and perfect for morning breakfasts. After morning walk in cubbon park it was time for continental breakfast. So we decided to give this place a try. It surely did not disappoint even a bit. Great ambience and good music playlist ;) coming to the food we ordered Veggie omelette ( mushroom, olives & cheese ) which was awesome, Banana honey pancakes which was out of this world and is a must try. It's served with whipped cream on the side.Veg lasagna was cheesy and delicious. Definitely come back :)\\\"), ('Rated 5.0', 'RATED\\\\n  Nice and quite cafe, in the heart of the city. Good place for a quite evening. Tried there fries , Earl Grey Tea, Double Shot Espresso. Great service'), ('Rated 5.0', 'RATED\\\\n  Cute cafe with wonderful decorate on the streets of kormangla indeed place designed with lot of love ..COMING to the food they have recently change there menu so we have tried grill chicken with whole leg by rice on the side ,ckn steak burger was awesome and for drinks we have order The dark night and caffine shake both was amazing i would love to visit again???'), ('Rated 5.0', 'RATED\\\\n  I am literally in love with this cafe.. ??????\\\\nA small, cute, attractive place with a wonderful interior design. ?\\\\nStaffs are friendly, menu is rich in varieties, ambience is truly relaxing and awesome ? music.\\\\nA must must and very must place to be try out in Bengaluru.\\\\nLocation is easily accessible ?'), ('Rated 2.0', 'RATED\\\\n  The place looked pretty in pictures and so decided to pay a visit.\\\\n\\\\nSmall place, good ambience. The inside looks like an English railway station with street lights and a huge clock.\\\\n\\\\nOrdered an Irish frappe, a wild berry smoothie and a Cajun chicken pizza. The Irish frappe was nice, the smoothie tasted more like a milkshake and was very sweet. The pizza was below average. The base was cracker and not pizza base, so it crumbles when you take a bite.\\\\n\\\\nOverall average experience with a beautiful ambience.'), ('Rated 5.0', \\\"RATED\\\\n  First of all the ambience of this place is very well done and it's super cozy and perfect for morning breakfasts. After morning walk in cubbon park it was time for continental breakfast. So we decided to give this place a try. It surely did not disappoint even a bit. Great ambience and good music playlist ;) coming to the food we ordered Veggie omelette ( mushroom, olives & cheese ) which was awesome, Banana honey pancakes which was out of this world and is a must try. It's served with whipped cream on the side.Veg lasagna was cheesy and delicious. Definitely come back :)\\\"), ('Rated 5.0', 'RATED\\\\n  Nice and quite cafe, in the heart of the city. Good place for a quite evening. Tried there fries , Earl Grey Tea, Double Shot Espresso. Great service'), ('Rated 5.0', 'RATED\\\\n  Cute cafe with wonderful decorate on the streets of kormangla indeed place designed with lot of love ..COMING to the food they have recently change there menu so we have tried grill chicken with whole leg by rice on the side ,ckn steak burger was awesome and for drinks we have order The dark night and caffine shake both was amazing i would love to visit again???'), ('Rated 5.0', 'RATED\\\\n  I am literally in love with this cafe.. ??????\\\\nA small, cute, attractive place with a wonderful interior design. ?\\\\nStaffs are friendly, menu is rich in varieties, ambience is truly relaxing and awesome ? music.\\\\nA must must and very must place to be try out in Bengaluru.\\\\nLocation is easily accessible ?'), ('Rated 2.0', 'RATED\\\\n  The place looked pretty in pictures and so decided to pay a visit.\\\\n\\\\nSmall place, good ambience. The inside looks like an English railway station with street lights and a huge clock.\\\\n\\\\nOrdered an Irish frappe, a wild berry smoothie and a Cajun chicken pizza. The Irish frappe was nice, the smoothie tasted more like a milkshake and was very sweet. The pizza was below average. The base was cracker and not pizza base, so it crumbles when you take a bite.\\\\n\\\\nOverall average experience with a beautiful ambience.'), ('Rated 5.0', 'RATED\\\\n  Lovely food and good ambience. The food was absolutely value for money.\\\\nP.S. If you are low on budget and want to have tasty food then this is the place to go.'), ('Rated 4.0', 'RATED\\\\n  The ambience of the place is really lovely.\\\\nService is good.\\\\n\\\\nWe had ordered Penne Pasta, Margherita Pizza, Oreo milkshake, Virgin Mojito, Nachos, Potato Wedges. The food was really good and tasty.\\\\nMy favourite was the pasta. The sauce was delicious. But when it came to the quantity, it was very less. It can be quite expensive. But, the experience was amazing.'), ('Rated 4.5', \\\"RATED\\\\n  This is a cute little cafe with beautiful interiors. Love the tiny little pots used for decor here.\\\\n\\\\nWe tried mocktails, milk shakes and fries platter. Loved the fries and dinks.\\\\n\\\\nIt's a nice quiet place to have catch up with friends or family.\\\\n\\\\nBeautiful ambience. Service is good too.\\\"), ('Rated 4.0', 'RATED\\\\n  Wonderful place with some amazing food and nice decor is how can define Cafe D\\u00c3\\u0083\\\\x83\\u00c3\\u0082\\\\x83\\u00c3\\u0083\\\\x82\\u00c3\\u0082\\\\x82\\u00c3\\u0083\\\\x83\\u00c3\\u0082\\\\x82\\u00c3\\u0083\\\\x82\\u00c3\\u0082\\\\x92hide!!\\\\n\\\\nIt\\u00c3\\u0083\\\\x83\\u00c3\\u0082\\\\x83\\u00c3\\u0083\\\\x82\\u00c3\\u0082\\\\x82\\u00c3\\u0083\\\\x83\\u00c3\\u0082\\\\x82\\u00c3\\u0083\\\\x82\\u00c3\\u0082\\\\x92s been a long time since I visited this place and I\\u00c3\\u0083\\\\x83\\u00c3\\u0082\\\\x83\\u00c3\\u0083\\\\x82\\u00c3\\u0082\\\\x82\\u00c3\\u0083\\\\x83\\u00c3\\u0082\\\\x82\\u00c3\\u0083\\\\x82\\u00c3\\u0082\\\\x92m waiting to visit it sooon.. Well I had been here on a weekday evening and it wasn\\u00c3\\u0083\\\\x83\\u00c3\\u0082\\\\x83\\u00c3\\u0083\\\\x82\\u00c3\\u0082\\\\x82\\u00c3\\u0083\\\\x83\\u00c3\\u0082\\\\x82\\u00c3\\u0083\\\\x82\\u00c3\\u0082\\\\x92t too crowded nor too less crowd.\\\\n\\\\nI ordered a Pizzza along with cheesy fries and some potato wedges along with a dessert whose name I seriously do not remember.\\\\n\\\\nI loved every dish of theirs as it was not too oily or spicy and was made fresh and served exactly the way we wanted it to be!!\\\\n\\\\nIt\\u00c3\\u0083\\\\x83\\u00c3\\u0082\\\\x83\\u00c3\\u0083\\\\x82\\u00c3\\u0082\\\\x82\\u00c3\\u0083\\\\x83\\u00c3\\u0082\\\\x82\\u00c3\\u0083\\\\x82\\u00c3\\u0082\\\\x92s a place worth visiting and having a binge meal as it is not a big hole to any of our pockets with the right portions being served.')]\"\n        ],\n        \"semantic_type\": \"\",\n        \"description\": \"\"\n      }\n    },\n    {\n      \"column\": \"listed_in(type)\",\n      \"properties\": {\n        \"dtype\": \"category\",\n        \"num_unique_values\": 7,\n        \"samples\": [\n          \"Buffet\",\n          \"Cafes\"\n        ],\n        \"semantic_type\": \"\",\n        \"description\": \"\"\n      }\n    },\n    {\n      \"column\": \"listed_in(city)\",\n      \"properties\": {\n        \"dtype\": \"category\",\n        \"num_unique_values\": 30,\n        \"samples\": [\n          \"Residency Road\",\n          \"Kammanahalli\"\n        ],\n        \"semantic_type\": \"\",\n        \"description\": \"\"\n      }\n    }\n  ]\n}"
            }
          },
          "metadata": {},
          "execution_count": 9
        }
      ]
    },
    {
      "cell_type": "markdown",
      "source": [
        "# Data Cleaning"
      ],
      "metadata": {
        "id": "Gq_s5_KNXgMH"
      }
    },
    {
      "cell_type": "code",
      "source": [
        "#Rename columns\n",
        "data.rename(columns={'name':'restaurent',\n",
        "                     'rate':'rating',\n",
        "                     'cuisines':'food_type',\n",
        "                     'approx_cost(for two people)':'cost',\n",
        "                     'listed_in(type)':'type',\n",
        "                     'listed_in(city)':'city'\n",
        "                     },inplace=True)"
      ],
      "metadata": {
        "id": "7JbUQIAfXo1W"
      },
      "execution_count": null,
      "outputs": []
    },
    {
      "cell_type": "code",
      "source": [
        "data.head(2)"
      ],
      "metadata": {
        "colab": {
          "base_uri": "https://localhost:8080/",
          "height": 112
        },
        "id": "Sv8aGUPDbl10",
        "outputId": "145e6430-2082-47ca-987a-4b60c9252f91"
      },
      "execution_count": null,
      "outputs": [
        {
          "output_type": "execute_result",
          "data": {
            "text/plain": [
              "       restaurent online_order book_table rating  votes      location  \\\n",
              "0           Jalsa          Yes        Yes  4.1/5    775  Banashankari   \n",
              "1  Spice Elephant          Yes         No  4.1/5    787  Banashankari   \n",
              "\n",
              "       rest_type                       food_type cost  \\\n",
              "0  Casual Dining  North Indian, Mughlai, Chinese  800   \n",
              "1  Casual Dining     Chinese, North Indian, Thai  800   \n",
              "\n",
              "                                        reviews_list    type          city  \n",
              "0  [('Rated 4.0', 'RATED\\n  A beautiful place to ...  Buffet  Banashankari  \n",
              "1  [('Rated 4.0', 'RATED\\n  Had been here for din...  Buffet  Banashankari  "
            ],
            "text/html": [
              "\n",
              "  <div id=\"df-878b3a13-7da1-4fb2-b3ca-89f6d3796fc2\" class=\"colab-df-container\">\n",
              "    <div>\n",
              "<style scoped>\n",
              "    .dataframe tbody tr th:only-of-type {\n",
              "        vertical-align: middle;\n",
              "    }\n",
              "\n",
              "    .dataframe tbody tr th {\n",
              "        vertical-align: top;\n",
              "    }\n",
              "\n",
              "    .dataframe thead th {\n",
              "        text-align: right;\n",
              "    }\n",
              "</style>\n",
              "<table border=\"1\" class=\"dataframe\">\n",
              "  <thead>\n",
              "    <tr style=\"text-align: right;\">\n",
              "      <th></th>\n",
              "      <th>restaurent</th>\n",
              "      <th>online_order</th>\n",
              "      <th>book_table</th>\n",
              "      <th>rating</th>\n",
              "      <th>votes</th>\n",
              "      <th>location</th>\n",
              "      <th>rest_type</th>\n",
              "      <th>food_type</th>\n",
              "      <th>cost</th>\n",
              "      <th>reviews_list</th>\n",
              "      <th>type</th>\n",
              "      <th>city</th>\n",
              "    </tr>\n",
              "  </thead>\n",
              "  <tbody>\n",
              "    <tr>\n",
              "      <th>0</th>\n",
              "      <td>Jalsa</td>\n",
              "      <td>Yes</td>\n",
              "      <td>Yes</td>\n",
              "      <td>4.1/5</td>\n",
              "      <td>775</td>\n",
              "      <td>Banashankari</td>\n",
              "      <td>Casual Dining</td>\n",
              "      <td>North Indian, Mughlai, Chinese</td>\n",
              "      <td>800</td>\n",
              "      <td>[('Rated 4.0', 'RATED\\n  A beautiful place to ...</td>\n",
              "      <td>Buffet</td>\n",
              "      <td>Banashankari</td>\n",
              "    </tr>\n",
              "    <tr>\n",
              "      <th>1</th>\n",
              "      <td>Spice Elephant</td>\n",
              "      <td>Yes</td>\n",
              "      <td>No</td>\n",
              "      <td>4.1/5</td>\n",
              "      <td>787</td>\n",
              "      <td>Banashankari</td>\n",
              "      <td>Casual Dining</td>\n",
              "      <td>Chinese, North Indian, Thai</td>\n",
              "      <td>800</td>\n",
              "      <td>[('Rated 4.0', 'RATED\\n  Had been here for din...</td>\n",
              "      <td>Buffet</td>\n",
              "      <td>Banashankari</td>\n",
              "    </tr>\n",
              "  </tbody>\n",
              "</table>\n",
              "</div>\n",
              "    <div class=\"colab-df-buttons\">\n",
              "\n",
              "  <div class=\"colab-df-container\">\n",
              "    <button class=\"colab-df-convert\" onclick=\"convertToInteractive('df-878b3a13-7da1-4fb2-b3ca-89f6d3796fc2')\"\n",
              "            title=\"Convert this dataframe to an interactive table.\"\n",
              "            style=\"display:none;\">\n",
              "\n",
              "  <svg xmlns=\"http://www.w3.org/2000/svg\" height=\"24px\" viewBox=\"0 -960 960 960\">\n",
              "    <path d=\"M120-120v-720h720v720H120Zm60-500h600v-160H180v160Zm220 220h160v-160H400v160Zm0 220h160v-160H400v160ZM180-400h160v-160H180v160Zm440 0h160v-160H620v160ZM180-180h160v-160H180v160Zm440 0h160v-160H620v160Z\"/>\n",
              "  </svg>\n",
              "    </button>\n",
              "\n",
              "  <style>\n",
              "    .colab-df-container {\n",
              "      display:flex;\n",
              "      gap: 12px;\n",
              "    }\n",
              "\n",
              "    .colab-df-convert {\n",
              "      background-color: #E8F0FE;\n",
              "      border: none;\n",
              "      border-radius: 50%;\n",
              "      cursor: pointer;\n",
              "      display: none;\n",
              "      fill: #1967D2;\n",
              "      height: 32px;\n",
              "      padding: 0 0 0 0;\n",
              "      width: 32px;\n",
              "    }\n",
              "\n",
              "    .colab-df-convert:hover {\n",
              "      background-color: #E2EBFA;\n",
              "      box-shadow: 0px 1px 2px rgba(60, 64, 67, 0.3), 0px 1px 3px 1px rgba(60, 64, 67, 0.15);\n",
              "      fill: #174EA6;\n",
              "    }\n",
              "\n",
              "    .colab-df-buttons div {\n",
              "      margin-bottom: 4px;\n",
              "    }\n",
              "\n",
              "    [theme=dark] .colab-df-convert {\n",
              "      background-color: #3B4455;\n",
              "      fill: #D2E3FC;\n",
              "    }\n",
              "\n",
              "    [theme=dark] .colab-df-convert:hover {\n",
              "      background-color: #434B5C;\n",
              "      box-shadow: 0px 1px 3px 1px rgba(0, 0, 0, 0.15);\n",
              "      filter: drop-shadow(0px 1px 2px rgba(0, 0, 0, 0.3));\n",
              "      fill: #FFFFFF;\n",
              "    }\n",
              "  </style>\n",
              "\n",
              "    <script>\n",
              "      const buttonEl =\n",
              "        document.querySelector('#df-878b3a13-7da1-4fb2-b3ca-89f6d3796fc2 button.colab-df-convert');\n",
              "      buttonEl.style.display =\n",
              "        google.colab.kernel.accessAllowed ? 'block' : 'none';\n",
              "\n",
              "      async function convertToInteractive(key) {\n",
              "        const element = document.querySelector('#df-878b3a13-7da1-4fb2-b3ca-89f6d3796fc2');\n",
              "        const dataTable =\n",
              "          await google.colab.kernel.invokeFunction('convertToInteractive',\n",
              "                                                    [key], {});\n",
              "        if (!dataTable) return;\n",
              "\n",
              "        const docLinkHtml = 'Like what you see? Visit the ' +\n",
              "          '<a target=\"_blank\" href=https://colab.research.google.com/notebooks/data_table.ipynb>data table notebook</a>'\n",
              "          + ' to learn more about interactive tables.';\n",
              "        element.innerHTML = '';\n",
              "        dataTable['output_type'] = 'display_data';\n",
              "        await google.colab.output.renderOutput(dataTable, element);\n",
              "        const docLink = document.createElement('div');\n",
              "        docLink.innerHTML = docLinkHtml;\n",
              "        element.appendChild(docLink);\n",
              "      }\n",
              "    </script>\n",
              "  </div>\n",
              "\n",
              "\n",
              "    <div id=\"df-c8d6198b-abb8-4707-bd2f-c7a5d67b8647\">\n",
              "      <button class=\"colab-df-quickchart\" onclick=\"quickchart('df-c8d6198b-abb8-4707-bd2f-c7a5d67b8647')\"\n",
              "                title=\"Suggest charts\"\n",
              "                style=\"display:none;\">\n",
              "\n",
              "<svg xmlns=\"http://www.w3.org/2000/svg\" height=\"24px\"viewBox=\"0 0 24 24\"\n",
              "     width=\"24px\">\n",
              "    <g>\n",
              "        <path d=\"M19 3H5c-1.1 0-2 .9-2 2v14c0 1.1.9 2 2 2h14c1.1 0 2-.9 2-2V5c0-1.1-.9-2-2-2zM9 17H7v-7h2v7zm4 0h-2V7h2v10zm4 0h-2v-4h2v4z\"/>\n",
              "    </g>\n",
              "</svg>\n",
              "      </button>\n",
              "\n",
              "<style>\n",
              "  .colab-df-quickchart {\n",
              "      --bg-color: #E8F0FE;\n",
              "      --fill-color: #1967D2;\n",
              "      --hover-bg-color: #E2EBFA;\n",
              "      --hover-fill-color: #174EA6;\n",
              "      --disabled-fill-color: #AAA;\n",
              "      --disabled-bg-color: #DDD;\n",
              "  }\n",
              "\n",
              "  [theme=dark] .colab-df-quickchart {\n",
              "      --bg-color: #3B4455;\n",
              "      --fill-color: #D2E3FC;\n",
              "      --hover-bg-color: #434B5C;\n",
              "      --hover-fill-color: #FFFFFF;\n",
              "      --disabled-bg-color: #3B4455;\n",
              "      --disabled-fill-color: #666;\n",
              "  }\n",
              "\n",
              "  .colab-df-quickchart {\n",
              "    background-color: var(--bg-color);\n",
              "    border: none;\n",
              "    border-radius: 50%;\n",
              "    cursor: pointer;\n",
              "    display: none;\n",
              "    fill: var(--fill-color);\n",
              "    height: 32px;\n",
              "    padding: 0;\n",
              "    width: 32px;\n",
              "  }\n",
              "\n",
              "  .colab-df-quickchart:hover {\n",
              "    background-color: var(--hover-bg-color);\n",
              "    box-shadow: 0 1px 2px rgba(60, 64, 67, 0.3), 0 1px 3px 1px rgba(60, 64, 67, 0.15);\n",
              "    fill: var(--button-hover-fill-color);\n",
              "  }\n",
              "\n",
              "  .colab-df-quickchart-complete:disabled,\n",
              "  .colab-df-quickchart-complete:disabled:hover {\n",
              "    background-color: var(--disabled-bg-color);\n",
              "    fill: var(--disabled-fill-color);\n",
              "    box-shadow: none;\n",
              "  }\n",
              "\n",
              "  .colab-df-spinner {\n",
              "    border: 2px solid var(--fill-color);\n",
              "    border-color: transparent;\n",
              "    border-bottom-color: var(--fill-color);\n",
              "    animation:\n",
              "      spin 1s steps(1) infinite;\n",
              "  }\n",
              "\n",
              "  @keyframes spin {\n",
              "    0% {\n",
              "      border-color: transparent;\n",
              "      border-bottom-color: var(--fill-color);\n",
              "      border-left-color: var(--fill-color);\n",
              "    }\n",
              "    20% {\n",
              "      border-color: transparent;\n",
              "      border-left-color: var(--fill-color);\n",
              "      border-top-color: var(--fill-color);\n",
              "    }\n",
              "    30% {\n",
              "      border-color: transparent;\n",
              "      border-left-color: var(--fill-color);\n",
              "      border-top-color: var(--fill-color);\n",
              "      border-right-color: var(--fill-color);\n",
              "    }\n",
              "    40% {\n",
              "      border-color: transparent;\n",
              "      border-right-color: var(--fill-color);\n",
              "      border-top-color: var(--fill-color);\n",
              "    }\n",
              "    60% {\n",
              "      border-color: transparent;\n",
              "      border-right-color: var(--fill-color);\n",
              "    }\n",
              "    80% {\n",
              "      border-color: transparent;\n",
              "      border-right-color: var(--fill-color);\n",
              "      border-bottom-color: var(--fill-color);\n",
              "    }\n",
              "    90% {\n",
              "      border-color: transparent;\n",
              "      border-bottom-color: var(--fill-color);\n",
              "    }\n",
              "  }\n",
              "</style>\n",
              "\n",
              "      <script>\n",
              "        async function quickchart(key) {\n",
              "          const quickchartButtonEl =\n",
              "            document.querySelector('#' + key + ' button');\n",
              "          quickchartButtonEl.disabled = true;  // To prevent multiple clicks.\n",
              "          quickchartButtonEl.classList.add('colab-df-spinner');\n",
              "          try {\n",
              "            const charts = await google.colab.kernel.invokeFunction(\n",
              "                'suggestCharts', [key], {});\n",
              "          } catch (error) {\n",
              "            console.error('Error during call to suggestCharts:', error);\n",
              "          }\n",
              "          quickchartButtonEl.classList.remove('colab-df-spinner');\n",
              "          quickchartButtonEl.classList.add('colab-df-quickchart-complete');\n",
              "        }\n",
              "        (() => {\n",
              "          let quickchartButtonEl =\n",
              "            document.querySelector('#df-c8d6198b-abb8-4707-bd2f-c7a5d67b8647 button');\n",
              "          quickchartButtonEl.style.display =\n",
              "            google.colab.kernel.accessAllowed ? 'block' : 'none';\n",
              "        })();\n",
              "      </script>\n",
              "    </div>\n",
              "\n",
              "    </div>\n",
              "  </div>\n"
            ],
            "application/vnd.google.colaboratory.intrinsic+json": {
              "type": "dataframe",
              "variable_name": "data",
              "summary": "{\n  \"name\": \"data\",\n  \"rows\": 51717,\n  \"fields\": [\n    {\n      \"column\": \"restaurent\",\n      \"properties\": {\n        \"dtype\": \"category\",\n        \"num_unique_values\": 8792,\n        \"samples\": [\n          \"Calcutta North Indian Meals\",\n          \"Parinitha Biryani Corner\",\n          \"Tiwari's\"\n        ],\n        \"semantic_type\": \"\",\n        \"description\": \"\"\n      }\n    },\n    {\n      \"column\": \"online_order\",\n      \"properties\": {\n        \"dtype\": \"category\",\n        \"num_unique_values\": 2,\n        \"samples\": [\n          \"No\",\n          \"Yes\"\n        ],\n        \"semantic_type\": \"\",\n        \"description\": \"\"\n      }\n    },\n    {\n      \"column\": \"book_table\",\n      \"properties\": {\n        \"dtype\": \"category\",\n        \"num_unique_values\": 2,\n        \"samples\": [\n          \"No\",\n          \"Yes\"\n        ],\n        \"semantic_type\": \"\",\n        \"description\": \"\"\n      }\n    },\n    {\n      \"column\": \"rating\",\n      \"properties\": {\n        \"dtype\": \"category\",\n        \"num_unique_values\": 64,\n        \"samples\": [\n          \"1.8/5\",\n          \"4.7 /5\"\n        ],\n        \"semantic_type\": \"\",\n        \"description\": \"\"\n      }\n    },\n    {\n      \"column\": \"votes\",\n      \"properties\": {\n        \"dtype\": \"number\",\n        \"std\": 803,\n        \"min\": 0,\n        \"max\": 16832,\n        \"num_unique_values\": 2328,\n        \"samples\": [\n          1807,\n          2392\n        ],\n        \"semantic_type\": \"\",\n        \"description\": \"\"\n      }\n    },\n    {\n      \"column\": \"location\",\n      \"properties\": {\n        \"dtype\": \"category\",\n        \"num_unique_values\": 93,\n        \"samples\": [\n          \"Church Street\",\n          \"Shanti Nagar\"\n        ],\n        \"semantic_type\": \"\",\n        \"description\": \"\"\n      }\n    },\n    {\n      \"column\": \"rest_type\",\n      \"properties\": {\n        \"dtype\": \"category\",\n        \"num_unique_values\": 93,\n        \"samples\": [\n          \"Quick Bites, Sweet Shop\",\n          \"Bakery, Quick Bites\"\n        ],\n        \"semantic_type\": \"\",\n        \"description\": \"\"\n      }\n    },\n    {\n      \"column\": \"food_type\",\n      \"properties\": {\n        \"dtype\": \"category\",\n        \"num_unique_values\": 2723,\n        \"samples\": [\n          \"North Indian, Chinese, Andhra, Biryani\",\n          \"Biryani, Chinese\"\n        ],\n        \"semantic_type\": \"\",\n        \"description\": \"\"\n      }\n    },\n    {\n      \"column\": \"cost\",\n      \"properties\": {\n        \"dtype\": \"category\",\n        \"num_unique_values\": 70,\n        \"samples\": [\n          \"199\",\n          \"800\"\n        ],\n        \"semantic_type\": \"\",\n        \"description\": \"\"\n      }\n    },\n    {\n      \"column\": \"reviews_list\",\n      \"properties\": {\n        \"dtype\": \"category\",\n        \"num_unique_values\": 22513,\n        \"samples\": [\n          \"[('Rated 2.0', 'RATED\\\\n  A small tiny place where the manager and the Stuarts are not aware of what is available in the kitchen. They keep checking with the chefs. Was disappointed so had to leave the place.'), ('Rated 3.0', \\\"RATED\\\\n  Would rate this place a 3.5.\\\\nThis place is not difficult to find. Our craving to have sizzlers, & thanks to zomato gold, we landed here.\\\\nAmbience is decent. Staff is polite.\\\\nWe ordered Triple Berry Mocktail , Tex Mex Chicken Sizzler & Mixed Grill Sizzler.\\\\nTriple Berry was way too sweet.\\\\nTex Mex came with BBQ sauce that was supposed to be tangy but was kind of sweet. This was the recommended dish by the staff, hence we were bit disappointed.\\\\nThe only dish which was satisfying was the mix grill which had lamb, chicken, egg & fish.\\\\n\\\\nLastly they do put an extra service charge on top of GST. However they don't mention this when giving the bill. When we checked the bill & asked them, they told it's not mandatory to pay the Service Charge, its up to the customer. Personally, I don't think it's fair to sneak in the service charge & not inform the customer in the first place.\\\\nAnyways, overall a decent experience but unlikely to visit again.\\\"), ('Rated 3.0', 'RATED\\\\n  Cozy place but highly short on staff. Service is slow. Sizzler was decent. Decent experience but disappointed in terms of serving time.\\\\nAmbience-2.5/5\\\\nFood-3/5\\\\nService-2.5/5'), ('Rated 3.0', 'RATED\\\\n  This place has a great ambience, but the food is average. The food they served us became cold real soon, but the staff were courteous Enough to replace it.'), ('Rated 1.0', 'RATED\\\\n  I was a regular customer but this very recent time, I had gone there for dinner - they had nothing only soups, desserts, drinks and a very few starters.\\\\nWe took the tomato basil soup which was like tomato puree which came with the tomato peel.\\\\nAnd we ordered garlic bread since nothing was available, and it was very okayish about 3/5. So overall a very very bad recent experience as the service also has become extremely slow. They took 40 mins to get the garlic bread.'), ('Rated 2.0', 'RATED\\\\n  Surprisingly as the name suggests, Sizzlers were not upto the mark. We\\\\'ve ordered Classic Beef Sizzler and Pesto Pasta Sizzler out of which none was that delicious. We\\\\'ve also ordered BBQ Chicken Steak and a beef steak, totally delicious and enjoyed well. Also a \\\"Pink Floyd\\\" which was watermelon based drink was also delightful to drink, rather expensive. Ambience was okay but the service was utterly late (~40 mins) which totally kills out everything.'), ('Rated 3.0', 'RATED\\\\n  took wayyyyyyy to long for food to come.. took precisely 45mins for one order and 55 mins for 2nd order to be served... whoever want to visit here pls have atleast 60mins time in hand so that u dnt sit there feeling hungry. the food is good. We took a tex mex sizzler and a bbq chicken sizzler ... both tasted yumm... but the long wait was too much. we saw people going up to the waiters like 3-4 time to know about time for their order to be served. I dunno if I would want to visit this place again...'), ('Rated 5.0', \\\"RATED\\\\n  I have been to this place a couple of times and this is my favourite sizzler place in Bangalore! I've tried most of the items on their menu, appetizers, sizzlers, and drinks. I love the Frachos and the Manchurian sizzler in particular. The sizzling brownie is definitely my all time favourite dessert. The staff has been courteous on all occasions and the service has been fast. The quality of food has remained the same through last couple of years. Definitely check this place out if a good sizzler is what you're looking for!\\\"), ('Rated 3.0', 'RATED\\\\n  A nice place for some simple Sizzlers. Mr Pemba, who attended us was v courteous n helpful. Good work. The place was pretty hot inside. May be they could work on the ventilation.'), ('Rated 4.0', 'RATED\\\\n  As the name says the place was filled with smoke the moment we entered.... Food was tasty and a lot of options to choose from... Quality was perfect neither less nor too heavy... Staff was helpful in making choice... Happy enjoying smoke sizzler...'), ('Rated 1.0', 'RATED\\\\n  One of the worst experience. Visited with 3 of my friends late night around 9.30pm staff took my gold id after 20 mins comes and says we can\\\\'t serve you as \\\"Chef is not in the mood to cook\\\" this was the sentence used.\\\\n\\\\n45 mins later they served worst uncooked items and we saw 3 tables completing on the service and worst food.\\\\n\\\\nNever ever go this place'), ('Rated 1.0', \\\"RATED\\\\n  Well few reasons why I didn't like the place.\\\\n\\\\n1)Food took a long time to come, almost half an hour in a fairly empty restaurant.\\\\n\\\\n2) We ordered barbeque stuffed chicken and Mac and cheese chicken sizzler. The barbeque sauce was too sweet. The sizzler was not that great.\\\\n\\\\n3) A simple lime soda costs 200 bucks! That was not even soda,that was water.\\\\n\\\\n4) Nothing to boast about the ambience as well.\\\"), ('Rated 5.0', \\\"RATED\\\\n  If you're willing to stuff yourself upto the point where you can't walk, Go to smoke!\\\\nBecause the food tastes so good you wouldn't want to leave behind even the last bite!\\\\nDo try the Sizzling Mexicana, Shashlik Sizzler if you love spice. The sizzling mexicana comes with a cheese patty is the most right combination that makes you doubt you're own marriage. However, if you don't mind something sweet, the barbecue sizzler with paneer can add sweetness to your life with every bite. I'd suggest you to split this with a pal.\\\\nThe calfornian pizza is one of the best pizza's I've had honestly. It's rich in flavor and brings happiness to your heart. I wouldn't recommend the cheesecake, that is something they have to improve on.\\\\nIt's Affordable and for 3 sizzlers, one pizza, 2 zomato gold the bill came upto just 600. A good, stuffing and easy on the pocket meal is all I want every day!\\\"), ('Rated 4.0', 'RATED\\\\n  Need to wine and dine ? Head to smoke to satisfy both with delicious sizzlers to munch on.\\\\n\\\\nQuantity of the sizzlers are good and they taste good too. 1 sizzler is good enough for one person.\\\\n\\\\nThe staff is really nice and they offer twists on the wines.\\\\n\\\\nAmbience is a mildly authentic and has a very lit up feel.\\\\n\\\\nYou might have a little bit of wait time on the sizzlers but the rest of the food comes pretty quick.\\\\n\\\\nMust visit if you are craving for some sizzlers!'), ('Rated 5.0', \\\"RATED\\\\n  The food is really good and tasty.....The service is really impressive plus the way they represent the food. Should try out Buffalo Wings and Sizzler's. The cost is reasonable not that expensive. Recommend place for Steaks.\\\"), ('Rated 3.0', 'RATED\\\\n  Went their for Zomato gold. Tried Manchurian sizzler with rice and cheese garlic bread. Loved the cheese garlic bread which is served with salsa which tasted good. But the sizzler wasn\\u00c3\\u0083\\\\x83\\u00c3\\u0082\\\\x83\\u00c3\\u0083\\\\x82\\u00c3\\u0082\\\\x83\\u00c3\\u0083\\\\x83\\u00c3\\u0082\\\\x82\\u00c3\\u0083\\\\x82\\u00c3\\u0082\\u00c2\\u00a2\\u00c3\\u0083\\\\x83\\u00c3\\u0082\\\\x83\\u00c3\\u0083\\\\x82\\u00c3\\u0082\\\\x82\\u00c3\\u0083\\\\x83\\u00c3\\u0082\\\\x82\\u00c3\\u0083\\\\x82\\u00c3\\u0082\\\\x80\\u00c3\\u0083\\\\x83\\u00c3\\u0082\\\\x83\\u00c3\\u0083\\\\x82\\u00c3\\u0082\\\\x82\\u00c3\\u0083\\\\x83\\u00c3\\u0082\\\\x82\\u00c3\\u0083\\\\x82\\u00c3\\u0082\\\\x99t that great. Service and ambience was good. Can Visit once.'), ('Rated 3.0', \\\"RATED\\\\n  They have a wide range of vegetarian sizzlers, so, in case you are a vegetarian, do not be upset. We tried Manchurian and Schezwan Sizzlers. Both were cooked but I must point out that the Manchurian balls needed a little more cooking as they were gooey inside and tasted weird. Service is prompt and the place is great, if you want to hang out with friends.\\\\n\\\\nFood (taste) - 3/5\\\\nValue for money - 3/5\\\\nService- 3/5\\\\nAmbiance - 3/5\\\\nOn my 'Visit Again' list - Maybe\\\"), ('Rated 4.0', \\\"RATED\\\\n  Quietly surprised by the service and the taste...if u are bored by visiting Kobe sizzler..I mean the same place...u can definitely give this play a try...food is at par with Kobe's...ove the shashilk and the pasta sizzlers...overall will do come 2 this place again\\\"), ('Rated 4.0', 'RATED\\\\n  Need to wine and dine ? Head to smoke to satisfy both with delicious sizzlers to munch on.\\\\n\\\\nQuantity of the sizzlers are good and they taste good too. 1 sizzler is good enough for one person.\\\\n\\\\nThe staff is really nice and they offer twists on the wines.\\\\n\\\\nAmbience is a mildly authentic and has a very lit up feel.\\\\n\\\\nYou might have a little bit of wait time on the sizzlers but the rest of the food comes pretty quick.\\\\n\\\\nMust visit if you are craving for some sizzlers!'), ('Rated 5.0', \\\"RATED\\\\n  The food is really good and tasty.....The service is really impressive plus the way they represent the food. Should try out Buffalo Wings and Sizzler's. The cost is reasonable not that expensive. Recommend place for Steaks.\\\"), ('Rated 3.0', 'RATED\\\\n  Went their for Zomato gold. Tried Manchurian sizzler with rice and cheese garlic bread. Loved the cheese garlic bread which is served with salsa which tasted good. But the sizzler wasn\\u00c3\\u0083\\\\x83\\u00c3\\u0082\\\\x83\\u00c3\\u0083\\\\x82\\u00c3\\u0082\\\\x83\\u00c3\\u0083\\\\x83\\u00c3\\u0082\\\\x82\\u00c3\\u0083\\\\x82\\u00c3\\u0082\\u00c2\\u00a2\\u00c3\\u0083\\\\x83\\u00c3\\u0082\\\\x83\\u00c3\\u0083\\\\x82\\u00c3\\u0082\\\\x82\\u00c3\\u0083\\\\x83\\u00c3\\u0082\\\\x82\\u00c3\\u0083\\\\x82\\u00c3\\u0082\\\\x80\\u00c3\\u0083\\\\x83\\u00c3\\u0082\\\\x83\\u00c3\\u0083\\\\x82\\u00c3\\u0082\\\\x82\\u00c3\\u0083\\\\x83\\u00c3\\u0082\\\\x82\\u00c3\\u0083\\\\x82\\u00c3\\u0082\\\\x99t that great. Service and ambience was good. Can Visit once.'), ('Rated 3.0', \\\"RATED\\\\n  They have a wide range of vegetarian sizzlers, so, in case you are a vegetarian, do not be upset. We tried Manchurian and Schezwan Sizzlers. Both were cooked but I must point out that the Manchurian balls needed a little more cooking as they were gooey inside and tasted weird. Service is prompt and the place is great, if you want to hang out with friends.\\\\n\\\\nFood (taste) - 3/5\\\\nValue for money - 3/5\\\\nService- 3/5\\\\nAmbiance - 3/5\\\\nOn my 'Visit Again' list - Maybe\\\"), ('Rated 4.0', \\\"RATED\\\\n  Quietly surprised by the service and the taste...if u are bored by visiting Kobe sizzler..I mean the same place...u can definitely give this play a try...food is at par with Kobe's...ove the shashilk and the pasta sizzlers...overall will do come 2 this place again\\\"), ('Rated 4.0', 'RATED\\\\n  Need to wine and dine ? Head to smoke to satisfy both with delicious sizzlers to munch on.\\\\n\\\\nQuantity of the sizzlers are good and they taste good too. 1 sizzler is good enough for one person.\\\\n\\\\nThe staff is really nice and they offer twists on the wines.\\\\n\\\\nAmbience is a mildly authentic and has a very lit up feel.\\\\n\\\\nYou might have a little bit of wait time on the sizzlers but the rest of the food comes pretty quick.\\\\n\\\\nMust visit if you are craving for some sizzlers!'), ('Rated 5.0', \\\"RATED\\\\n  The food is really good and tasty.....The service is really impressive plus the way they represent the food. Should try out Buffalo Wings and Sizzler's. The cost is reasonable not that expensive. Recommend place for Steaks.\\\"), ('Rated 3.0', 'RATED\\\\n  Went their for Zomato gold. Tried Manchurian sizzler with rice and cheese garlic bread. Loved the cheese garlic bread which is served with salsa which tasted good. But the sizzler wasn\\u00c3\\u0083\\\\x83\\u00c3\\u0082\\\\x83\\u00c3\\u0083\\\\x82\\u00c3\\u0082\\\\x83\\u00c3\\u0083\\\\x83\\u00c3\\u0082\\\\x82\\u00c3\\u0083\\\\x82\\u00c3\\u0082\\u00c2\\u00a2\\u00c3\\u0083\\\\x83\\u00c3\\u0082\\\\x83\\u00c3\\u0083\\\\x82\\u00c3\\u0082\\\\x82\\u00c3\\u0083\\\\x83\\u00c3\\u0082\\\\x82\\u00c3\\u0083\\\\x82\\u00c3\\u0082\\\\x80\\u00c3\\u0083\\\\x83\\u00c3\\u0082\\\\x83\\u00c3\\u0083\\\\x82\\u00c3\\u0082\\\\x82\\u00c3\\u0083\\\\x83\\u00c3\\u0082\\\\x82\\u00c3\\u0083\\\\x82\\u00c3\\u0082\\\\x99t that great. Service and ambience was good. Can Visit once.'), ('Rated 3.0', \\\"RATED\\\\n  They have a wide range of vegetarian sizzlers, so, in case you are a vegetarian, do not be upset. We tried Manchurian and Schezwan Sizzlers. Both were cooked but I must point out that the Manchurian balls needed a little more cooking as they were gooey inside and tasted weird. Service is prompt and the place is great, if you want to hang out with friends.\\\\n\\\\nFood (taste) - 3/5\\\\nValue for money - 3/5\\\\nService- 3/5\\\\nAmbiance - 3/5\\\\nOn my 'Visit Again' list - Maybe\\\"), ('Rated 4.0', \\\"RATED\\\\n  Quietly surprised by the service and the taste...if u are bored by visiting Kobe sizzler..I mean the same place...u can definitely give this play a try...food is at par with Kobe's...ove the shashilk and the pasta sizzlers...overall will do come 2 this place again\\\"), ('Rated 4.0', 'RATED\\\\n  Need to wine and dine ? Head to smoke to satisfy both with delicious sizzlers to munch on.\\\\n\\\\nQuantity of the sizzlers are good and they taste good too. 1 sizzler is good enough for one person.\\\\n\\\\nThe staff is really nice and they offer twists on the wines.\\\\n\\\\nAmbience is a mildly authentic and has a very lit up feel.\\\\n\\\\nYou might have a little bit of wait time on the sizzlers but the rest of the food comes pretty quick.\\\\n\\\\nMust visit if you are craving for some sizzlers!'), ('Rated 5.0', \\\"RATED\\\\n  The food is really good and tasty.....The service is really impressive plus the way they represent the food. Should try out Buffalo Wings and Sizzler's. The cost is reasonable not that expensive. Recommend place for Steaks.\\\"), ('Rated 3.0', 'RATED\\\\n  Went their for Zomato gold. Tried Manchurian sizzler with rice and cheese garlic bread. Loved the cheese garlic bread which is served with salsa which tasted good. But the sizzler wasn\\u00c3\\u0083\\\\x83\\u00c3\\u0082\\\\x83\\u00c3\\u0083\\\\x82\\u00c3\\u0082\\\\x83\\u00c3\\u0083\\\\x83\\u00c3\\u0082\\\\x82\\u00c3\\u0083\\\\x82\\u00c3\\u0082\\u00c2\\u00a2\\u00c3\\u0083\\\\x83\\u00c3\\u0082\\\\x83\\u00c3\\u0083\\\\x82\\u00c3\\u0082\\\\x82\\u00c3\\u0083\\\\x83\\u00c3\\u0082\\\\x82\\u00c3\\u0083\\\\x82\\u00c3\\u0082\\\\x80\\u00c3\\u0083\\\\x83\\u00c3\\u0082\\\\x83\\u00c3\\u0083\\\\x82\\u00c3\\u0082\\\\x82\\u00c3\\u0083\\\\x83\\u00c3\\u0082\\\\x82\\u00c3\\u0083\\\\x82\\u00c3\\u0082\\\\x99t that great. Service and ambience was good. Can Visit once.'), ('Rated 3.0', \\\"RATED\\\\n  They have a wide range of vegetarian sizzlers, so, in case you are a vegetarian, do not be upset. We tried Manchurian and Schezwan Sizzlers. Both were cooked but I must point out that the Manchurian balls needed a little more cooking as they were gooey inside and tasted weird. Service is prompt and the place is great, if you want to hang out with friends.\\\\n\\\\nFood (taste) - 3/5\\\\nValue for money - 3/5\\\\nService- 3/5\\\\nAmbiance - 3/5\\\\nOn my 'Visit Again' list - Maybe\\\"), ('Rated 4.0', \\\"RATED\\\\n  Quietly surprised by the service and the taste...if u are bored by visiting Kobe sizzler..I mean the same place...u can definitely give this play a try...food is at par with Kobe's...ove the shashilk and the pasta sizzlers...overall will do come 2 this place again\\\"), ('Rated 4.0', 'RATED\\\\n  Need to wine and dine ? Head to smoke to satisfy both with delicious sizzlers to munch on.\\\\n\\\\nQuantity of the sizzlers are good and they taste good too. 1 sizzler is good enough for one person.\\\\n\\\\nThe staff is really nice and they offer twists on the wines.\\\\n\\\\nAmbience is a mildly authentic and has a very lit up feel.\\\\n\\\\nYou might have a little bit of wait time on the sizzlers but the rest of the food comes pretty quick.\\\\n\\\\nMust visit if you are craving for some sizzlers!'), ('Rated 5.0', \\\"RATED\\\\n  The food is really good and tasty.....The service is really impressive plus the way they represent the food. Should try out Buffalo Wings and Sizzler's. The cost is reasonable not that expensive. Recommend place for Steaks.\\\"), ('Rated 3.0', 'RATED\\\\n  Went their for Zomato gold. Tried Manchurian sizzler with rice and cheese garlic bread. Loved the cheese garlic bread which is served with salsa which tasted good. But the sizzler wasn\\u00c3\\u0083\\\\x83\\u00c3\\u0082\\\\x83\\u00c3\\u0083\\\\x82\\u00c3\\u0082\\\\x83\\u00c3\\u0083\\\\x83\\u00c3\\u0082\\\\x82\\u00c3\\u0083\\\\x82\\u00c3\\u0082\\u00c2\\u00a2\\u00c3\\u0083\\\\x83\\u00c3\\u0082\\\\x83\\u00c3\\u0083\\\\x82\\u00c3\\u0082\\\\x82\\u00c3\\u0083\\\\x83\\u00c3\\u0082\\\\x82\\u00c3\\u0083\\\\x82\\u00c3\\u0082\\\\x80\\u00c3\\u0083\\\\x83\\u00c3\\u0082\\\\x83\\u00c3\\u0083\\\\x82\\u00c3\\u0082\\\\x82\\u00c3\\u0083\\\\x83\\u00c3\\u0082\\\\x82\\u00c3\\u0083\\\\x82\\u00c3\\u0082\\\\x99t that great. Service and ambience was good. Can Visit once.'), ('Rated 3.0', \\\"RATED\\\\n  They have a wide range of vegetarian sizzlers, so, in case you are a vegetarian, do not be upset. We tried Manchurian and Schezwan Sizzlers. Both were cooked but I must point out that the Manchurian balls needed a little more cooking as they were gooey inside and tasted weird. Service is prompt and the place is great, if you want to hang out with friends.\\\\n\\\\nFood (taste) - 3/5\\\\nValue for money - 3/5\\\\nService- 3/5\\\\nAmbiance - 3/5\\\\nOn my 'Visit Again' list - Maybe\\\"), ('Rated 4.0', \\\"RATED\\\\n  Quietly surprised by the service and the taste...if u are bored by visiting Kobe sizzler..I mean the same place...u can definitely give this play a try...food is at par with Kobe's...ove the shashilk and the pasta sizzlers...overall will do come 2 this place again\\\"), ('Rated 4.0', \\\"RATED\\\\n  It's always been my favorite place for sizzler. Cheese macroni sizzler was amazing. Btw everything they serve was worth trying (sizzlers) .\\\\nDidn't like the pasta tho.\\\\n\\\\nFood- 4.5/5\\\\nAmbience- 4/5\\\\nService- 2.5/5 (it's very slow)\\\"), ('Rated 5.0', 'RATED\\\\n  I have not had such a nice food in a really long time. Their butter garlic prawns were the best I have had till date. Please try it if you visit the place. Also the pasta sizzler and fish steak both were delicious. I will certainly visit this place again and again. They are light on pocket also because of zomato gold. However the service could be fast. The food they offer is absolutely amazing.'), ('Rated 3.0', 'RATED\\\\n  The food is average and the prices are high. We order fish finger and it was disappointing to see that the fish content was really less, however the batter was so thick that there was hardly any taste of the fish in a bite. Similarly the flavours in the sizzlers were just okay and tasted more ketchupy'), ('Rated 4.0', 'RATED\\\\n  \\u00c3\\u0083\\\\x83\\u00c3\\u0082\\\\x83\\u00c3\\u0083\\\\x82\\u00c3\\u0082\\\\x83\\u00c3\\u0083\\\\x83\\u00c3\\u0082\\\\x82\\u00c3\\u0083\\\\x82\\u00c3\\u0082\\\\x82\\u00c3\\u0083\\\\x83\\u00c3\\u0082\\\\x83\\u00c3\\u0083\\\\x82\\u00c3\\u0082\\\\x82\\u00c3\\u0083\\\\x83\\u00c3\\u0082\\\\x82\\u00c3\\u0083\\\\x82\\u00c3\\u0082\\u00c2\\u00b0Ambience:\\\\n- Comfortable couches and chairs for seating\\\\n- Warm Woodsy decor\\\\n- Well lit \\u00c3\\u0083\\\\x83\\u00c3\\u0082\\\\x83\\u00c3\\u0083\\\\x82\\u00c3\\u0082\\\\x83\\u00c3\\u0083\\\\x83\\u00c3\\u0082\\\\x82\\u00c3\\u0083\\\\x82\\u00c3\\u0082\\u00c2\\u00a2\\u00c3\\u0083\\\\x83\\u00c3\\u0082\\\\x83\\u00c3\\u0083\\\\x82\\u00c3\\u0082\\\\x82\\u00c3\\u0083\\\\x83\\u00c3\\u0082\\\\x82\\u00c3\\u0083\\\\x82\\u00c3\\u0082\\\\x9c\\u00c3\\u0083\\\\x83\\u00c3\\u0082\\\\x83\\u00c3\\u0083\\\\x82\\u00c3\\u0082\\\\x82\\u00c3\\u0083\\\\x83\\u00c3\\u0082\\\\x82\\u00c3\\u0083\\\\x82\\u00c3\\u0082\\u00c2\\u00a8\\\\n- Good music\\\\n\\\\n\\u00c3\\u0083\\\\x83\\u00c3\\u0082\\\\x83\\u00c3\\u0083\\\\x82\\u00c3\\u0082\\\\x83\\u00c3\\u0083\\\\x83\\u00c3\\u0082\\\\x82\\u00c3\\u0083\\\\x82\\u00c3\\u0082\\\\x82\\u00c3\\u0083\\\\x83\\u00c3\\u0082\\\\x83\\u00c3\\u0083\\\\x82\\u00c3\\u0082\\\\x82\\u00c3\\u0083\\\\x83\\u00c3\\u0082\\\\x82\\u00c3\\u0083\\\\x82\\u00c3\\u0082\\u00c2\\u00b0Food:\\\\n- Very yummy food!\\\\n- Sizzlers, burgers and sandwiches available\\\\n- Recommend :\\\\n~ Butter garlic prawn, corn cheese bombs \\u00c3\\u0083\\\\x83\\u00c3\\u0082\\\\x83\\u00c3\\u0083\\\\x82\\u00c3\\u0082\\\\x83\\u00c3\\u0083\\\\x83\\u00c3\\u0082\\\\x82\\u00c3\\u0083\\\\x82\\u00c3\\u0082\\u00c2\\u00a2\\u00c3\\u0083\\\\x83\\u00c3\\u0082\\\\x83\\u00c3\\u0083\\\\x82\\u00c3\\u0082\\\\x82\\u00c3\\u0083\\\\x83\\u00c3\\u0082\\\\x82\\u00c3\\u0083\\\\x82\\u00c3\\u0082\\\\x9d\\u00c3\\u0083\\\\x83\\u00c3\\u0082\\\\x83\\u00c3\\u0083\\\\x82\\u00c3\\u0082\\\\x82\\u00c3\\u0083\\\\x83\\u00c3\\u0082\\\\x82\\u00c3\\u0083\\\\x82\\u00c3\\u0082\\u00c2\\u00a4\\\\n~ Pasta sizzlers is a good option for pasta lovers.\\\\n\\\\n\\u00c3\\u0083\\\\x83\\u00c3\\u0082\\\\x83\\u00c3\\u0083\\\\x82\\u00c3\\u0082\\\\x83\\u00c3\\u0083\\\\x83\\u00c3\\u0082\\\\x82\\u00c3\\u0083\\\\x82\\u00c3\\u0082\\\\x82\\u00c3\\u0083\\\\x83\\u00c3\\u0082\\\\x83\\u00c3\\u0083\\\\x82\\u00c3\\u0082\\\\x82\\u00c3\\u0083\\\\x83\\u00c3\\u0082\\\\x82\\u00c3\\u0083\\\\x82\\u00c3\\u0082\\u00c2\\u00b0Drinks :\\\\n- Wine\\\\n- Mocktails\\\\n\\\\n\\u00c3\\u0083\\\\x83\\u00c3\\u0082\\\\x83\\u00c3\\u0083\\\\x82\\u00c3\\u0082\\\\x83\\u00c3\\u0083\\\\x83\\u00c3\\u0082\\\\x82\\u00c3\\u0083\\\\x82\\u00c3\\u0082\\\\x82\\u00c3\\u0083\\\\x83\\u00c3\\u0082\\\\x83\\u00c3\\u0083\\\\x82\\u00c3\\u0082\\\\x82\\u00c3\\u0083\\\\x83\\u00c3\\u0082\\\\x82\\u00c3\\u0083\\\\x82\\u00c3\\u0082\\u00c2\\u00b0Desserts:\\\\n- Can be improved \\u00c3\\u0083\\\\x83\\u00c3\\u0082\\\\x83\\u00c3\\u0083\\\\x82\\u00c3\\u0082\\\\x83\\u00c3\\u0083\\\\x83\\u00c3\\u0082\\\\x82\\u00c3\\u0083\\\\x82\\u00c3\\u0082\\u00c2\\u00a2\\u00c3\\u0083\\\\x83\\u00c3\\u0082\\\\x83\\u00c3\\u0083\\\\x82\\u00c3\\u0082\\\\x82\\u00c3\\u0083\\\\x83\\u00c3\\u0082\\\\x82\\u00c3\\u0083\\\\x82\\u00c3\\u0082\\\\x9a\\u00c3\\u0083\\\\x83\\u00c3\\u0082\\\\x83\\u00c3\\u0083\\\\x82\\u00c3\\u0082\\\\x82\\u00c3\\u0083\\\\x83\\u00c3\\u0082\\\\x82\\u00c3\\u0083\\\\x82\\u00c3\\u0082\\\\xa0\\u00c3\\u0083\\\\x83\\u00c3\\u0082\\\\x83\\u00c3\\u0083\\\\x82\\u00c3\\u0082\\\\x83\\u00c3\\u0083\\\\x83\\u00c3\\u0082\\\\x82\\u00c3\\u0083\\\\x82\\u00c3\\u0082\\u00c2\\u00af\\u00c3\\u0083\\\\x83\\u00c3\\u0082\\\\x83\\u00c3\\u0083\\\\x82\\u00c3\\u0082\\\\x82\\u00c3\\u0083\\\\x83\\u00c3\\u0082\\\\x82\\u00c3\\u0083\\\\x82\\u00c3\\u0082\\u00c2\\u00b8\\u00c3\\u0083\\\\x83\\u00c3\\u0082\\\\x83\\u00c3\\u0083\\\\x82\\u00c3\\u0082\\\\x82\\u00c3\\u0083\\\\x83\\u00c3\\u0082\\\\x82\\u00c3\\u0083\\\\x82\\u00c3\\u0082\\\\x8f\\\\nNew York cheese cake was warm \\u00c3\\u0083\\\\x83\\u00c3\\u0082\\\\x83\\u00c3\\u0083\\\\x82\\u00c3\\u0082\\\\x83\\u00c3\\u0083\\\\x83\\u00c3\\u0082\\\\x82\\u00c3\\u0083\\\\x82\\u00c3\\u0082\\u00c2\\u00b0\\u00c3\\u0083\\\\x83\\u00c3\\u0082\\\\x83\\u00c3\\u0083\\\\x82\\u00c3\\u0082\\\\x82\\u00c3\\u0083\\\\x83\\u00c3\\u0082\\\\x82\\u00c3\\u0083\\\\x82\\u00c3\\u0082\\\\x9f\\u00c3\\u0083\\\\x83\\u00c3\\u0082\\\\x83\\u00c3\\u0083\\\\x82\\u00c3\\u0082\\\\x82\\u00c3\\u0083\\\\x83\\u00c3\\u0082\\\\x82\\u00c3\\u0083\\\\x82\\u00c3\\u0082\\\\x8d\\u00c3\\u0083\\\\x83\\u00c3\\u0082\\\\x83\\u00c3\\u0083\\\\x82\\u00c3\\u0082\\\\x82\\u00c3\\u0083\\\\x83\\u00c3\\u0082\\\\x82\\u00c3\\u0083\\\\x82\\u00c3\\u0082\\u00c2\\u00b0\\u00c3\\u0083\\\\x83\\u00c3\\u0082\\\\x83\\u00c3\\u0083\\\\x82\\u00c3\\u0082\\\\x83\\u00c3\\u0083\\\\x83\\u00c3\\u0082\\\\x82\\u00c3\\u0083\\\\x82\\u00c3\\u0082\\u00c2\\u00b0\\u00c3\\u0083\\\\x83\\u00c3\\u0082\\\\x83\\u00c3\\u0083\\\\x82\\u00c3\\u0082\\\\x82\\u00c3\\u0083\\\\x83\\u00c3\\u0082\\\\x82\\u00c3\\u0083\\\\x82\\u00c3\\u0082\\\\x9f\\u00c3\\u0083\\\\x83\\u00c3\\u0082\\\\x83\\u00c3\\u0083\\\\x82\\u00c3\\u0082\\\\x82\\u00c3\\u0083\\\\x83\\u00c3\\u0082\\\\x82\\u00c3\\u0083\\\\x82\\u00c3\\u0082\\\\x91\\u00c3\\u0083\\\\x83\\u00c3\\u0082\\\\x83\\u00c3\\u0083\\\\x82\\u00c3\\u0082\\\\x82\\u00c3\\u0083\\\\x83\\u00c3\\u0082\\\\x82\\u00c3\\u0083\\\\x82\\u00c3\\u0082\\\\x8e\\u00c3\\u0083\\\\x83\\u00c3\\u0082\\\\x83\\u00c3\\u0083\\\\x82\\u00c3\\u0082\\\\x83\\u00c3\\u0083\\\\x83\\u00c3\\u0082\\\\x82\\u00c3\\u0083\\\\x82\\u00c3\\u0082\\u00c2\\u00b0\\u00c3\\u0083\\\\x83\\u00c3\\u0082\\\\x83\\u00c3\\u0083\\\\x82\\u00c3\\u0082\\\\x82\\u00c3\\u0083\\\\x83\\u00c3\\u0082\\\\x82\\u00c3\\u0083\\\\x82\\u00c3\\u0082\\\\x9f\\u00c3\\u0083\\\\x83\\u00c3\\u0082\\\\x83\\u00c3\\u0083\\\\x82\\u00c3\\u0082\\\\x82\\u00c3\\u0083\\\\x83\\u00c3\\u0082\\\\x82\\u00c3\\u0083\\\\x82\\u00c3\\u0082\\\\x8f\\u00c3\\u0083\\\\x83\\u00c3\\u0082\\\\x83\\u00c3\\u0083\\\\x82\\u00c3\\u0082\\\\x82\\u00c3\\u0083\\\\x83\\u00c3\\u0082\\\\x82\\u00c3\\u0083\\\\x82\\u00c3\\u0082\\u00c2\\u00bc\\\\nSizzling brownie - the brownie was good but the chocolate sauce had a burnt taste as the sizzlers was too hot than it should have been. \\u00c3\\u0083\\\\x83\\u00c3\\u0082\\\\x83\\u00c3\\u0083\\\\x82\\u00c3\\u0082\\\\x83\\u00c3\\u0083\\\\x83\\u00c3\\u0082\\\\x82\\u00c3\\u0083\\\\x82\\u00c3\\u0082\\u00c2\\u00b0\\u00c3\\u0083\\\\x83\\u00c3\\u0082\\\\x83\\u00c3\\u0083\\\\x82\\u00c3\\u0082\\\\x82\\u00c3\\u0083\\\\x83\\u00c3\\u0082\\\\x82\\u00c3\\u0083\\\\x82\\u00c3\\u0082\\\\x9f\\u00c3\\u0083\\\\x83\\u00c3\\u0082\\\\x83\\u00c3\\u0083\\\\x82\\u00c3\\u0082\\\\x82\\u00c3\\u0083\\\\x83\\u00c3\\u0082\\\\x82\\u00c3\\u0083\\\\x82\\u00c3\\u0082\\\\x91\\u00c3\\u0083\\\\x83\\u00c3\\u0082\\\\x83\\u00c3\\u0083\\\\x82\\u00c3\\u0082\\\\x82\\u00c3\\u0083\\\\x83\\u00c3\\u0082\\\\x82\\u00c3\\u0083\\\\x82\\u00c3\\u0082\\\\x8e\\u00c3\\u0083\\\\x83\\u00c3\\u0082\\\\x83\\u00c3\\u0083\\\\x82\\u00c3\\u0082\\\\x83\\u00c3\\u0083\\\\x83\\u00c3\\u0082\\\\x82\\u00c3\\u0083\\\\x82\\u00c3\\u0082\\u00c2\\u00b0\\u00c3\\u0083\\\\x83\\u00c3\\u0082\\\\x83\\u00c3\\u0083\\\\x82\\u00c3\\u0082\\\\x82\\u00c3\\u0083\\\\x83\\u00c3\\u0082\\\\x82\\u00c3\\u0083\\\\x82\\u00c3\\u0082\\\\x9f\\u00c3\\u0083\\\\x83\\u00c3\\u0082\\\\x83\\u00c3\\u0083\\\\x82\\u00c3\\u0082\\\\x82\\u00c3\\u0083\\\\x83\\u00c3\\u0082\\\\x82\\u00c3\\u0083\\\\x82\\u00c3\\u0082\\\\x8f\\u00c3\\u0083\\\\x83\\u00c3\\u0082\\\\x83\\u00c3\\u0083\\\\x82\\u00c3\\u0082\\\\x82\\u00c3\\u0083\\\\x83\\u00c3\\u0082\\\\x82\\u00c3\\u0083\\\\x82\\u00c3\\u0082\\u00c2\\u00bc\\\\n\\\\n\\u00c3\\u0083\\\\x83\\u00c3\\u0082\\\\x83\\u00c3\\u0083\\\\x82\\u00c3\\u0082\\\\x83\\u00c3\\u0083\\\\x83\\u00c3\\u0082\\\\x82\\u00c3\\u0083\\\\x82\\u00c3\\u0082\\\\x82\\u00c3\\u0083\\\\x83\\u00c3\\u0082\\\\x83\\u00c3\\u0083\\\\x82\\u00c3\\u0082\\\\x82\\u00c3\\u0083\\\\x83\\u00c3\\u0082\\\\x82\\u00c3\\u0083\\\\x82\\u00c3\\u0082\\u00c2\\u00b0Menu:\\\\n- Veg and Non veg dishes available\\\\n- Decent portions \\u00c3\\u0083\\\\x83\\u00c3\\u0082\\\\x83\\u00c3\\u0083\\\\x82\\u00c3\\u0082\\\\x83\\u00c3\\u0083\\\\x83\\u00c3\\u0082\\\\x82\\u00c3\\u0083\\\\x82\\u00c3\\u0082\\u00c2\\u00a2\\u00c3\\u0083\\\\x83\\u00c3\\u0082\\\\x83\\u00c3\\u0083\\\\x82\\u00c3\\u0082\\\\x82\\u00c3\\u0083\\\\x83\\u00c3\\u0082\\\\x82\\u00c3\\u0083\\\\x82\\u00c3\\u0082\\\\xad\\u00c3\\u0083\\\\x83\\u00c3\\u0082\\\\x83\\u00c3\\u0083\\\\x82\\u00c3\\u0082\\\\x82\\u00c3\\u0083\\\\x83\\u00c3\\u0082\\\\x82\\u00c3\\u0083\\\\x82\\u00c3\\u0082\\\\x90\\\\n\\\\n\\u00c3\\u0083\\\\x83\\u00c3\\u0082\\\\x83\\u00c3\\u0083\\\\x82\\u00c3\\u0082\\\\x83\\u00c3\\u0083\\\\x83\\u00c3\\u0082\\\\x82\\u00c3\\u0083\\\\x82\\u00c3\\u0082\\\\x82\\u00c3\\u0083\\\\x83\\u00c3\\u0082\\\\x83\\u00c3\\u0083\\\\x82\\u00c3\\u0082\\\\x82\\u00c3\\u0083\\\\x83\\u00c3\\u0082\\\\x82\\u00c3\\u0083\\\\x82\\u00c3\\u0082\\u00c2\\u00b0Service :\\\\n- No complaints.\\\\n\\\\nHead to the place for a really good meal \\\\U0001f929\\u00c3\\u0083\\\\x83\\u00c3\\u0082\\\\x83\\u00c3\\u0083\\\\x82\\u00c3\\u0082\\\\x83\\u00c3\\u0083\\\\x83\\u00c3\\u0082\\\\x82\\u00c3\\u0083\\\\x82\\u00c3\\u0082\\u00c2\\u00b0\\u00c3\\u0083\\\\x83\\u00c3\\u0082\\\\x83\\u00c3\\u0083\\\\x82\\u00c3\\u0082\\\\x82\\u00c3\\u0083\\\\x83\\u00c3\\u0082\\\\x82\\u00c3\\u0083\\\\x82\\u00c3\\u0082\\\\x9f\\u00c3\\u0083\\\\x83\\u00c3\\u0082\\\\x83\\u00c3\\u0083\\\\x82\\u00c3\\u0082\\\\x82\\u00c3\\u0083\\\\x83\\u00c3\\u0082\\\\x82\\u00c3\\u0083\\\\x82\\u00c3\\u0082\\\\x91\\u00c3\\u0083\\\\x83\\u00c3\\u0082\\\\x83\\u00c3\\u0083\\\\x82\\u00c3\\u0082\\\\x82\\u00c3\\u0083\\\\x83\\u00c3\\u0082\\\\x82\\u00c3\\u0083\\\\x82\\u00c3\\u0082\\\\x8d\\u00c3\\u0083\\\\x83\\u00c3\\u0082\\\\x83\\u00c3\\u0083\\\\x82\\u00c3\\u0082\\\\x83\\u00c3\\u0083\\\\x83\\u00c3\\u0082\\\\x82\\u00c3\\u0083\\\\x82\\u00c3\\u0082\\u00c2\\u00b0\\u00c3\\u0083\\\\x83\\u00c3\\u0082\\\\x83\\u00c3\\u0083\\\\x82\\u00c3\\u0082\\\\x82\\u00c3\\u0083\\\\x83\\u00c3\\u0082\\\\x82\\u00c3\\u0083\\\\x82\\u00c3\\u0082\\\\x9f\\u00c3\\u0083\\\\x83\\u00c3\\u0082\\\\x83\\u00c3\\u0083\\\\x82\\u00c3\\u0082\\\\x82\\u00c3\\u0083\\\\x83\\u00c3\\u0082\\\\x82\\u00c3\\u0083\\\\x82\\u00c3\\u0082\\\\x8f\\u00c3\\u0083\\\\x83\\u00c3\\u0082\\\\x83\\u00c3\\u0083\\\\x82\\u00c3\\u0082\\\\x82\\u00c3\\u0083\\\\x83\\u00c3\\u0082\\\\x82\\u00c3\\u0083\\\\x82\\u00c3\\u0082\\u00c2\\u00bc'), ('Rated 4.0', \\\"RATED\\\\n  It's always been my favorite place for sizzler. Cheese macroni sizzler was amazing. Btw everything they serve was worth trying (sizzlers) .\\\\nDidn't like the pasta tho.\\\\n\\\\nFood- 4.5/5\\\\nAmbience- 4/5\\\\nService- 2.5/5 (it's very slow)\\\"), ('Rated 5.0', 'RATED\\\\n  I have not had such a nice food in a really long time. Their butter garlic prawns were the best I have had till date. Please try it if you visit the place. Also the pasta sizzler and fish steak both were delicious. I will certainly visit this place again and again. They are light on pocket also because of zomato gold. However the service could be fast. The food they offer is absolutely amazing.'), ('Rated 3.0', 'RATED\\\\n  The food is average and the prices are high. We order fish finger and it was disappointing to see that the fish content was really less, however the batter was so thick that there was hardly any taste of the fish in a bite. Similarly the flavours in the sizzlers were just okay and tasted more ketchupy'), ('Rated 4.0', 'RATED\\\\n  \\u00c3\\u0083\\\\x83\\u00c3\\u0082\\\\x83\\u00c3\\u0083\\\\x82\\u00c3\\u0082\\\\x83\\u00c3\\u0083\\\\x83\\u00c3\\u0082\\\\x82\\u00c3\\u0083\\\\x82\\u00c3\\u0082\\\\x82\\u00c3\\u0083\\\\x83\\u00c3\\u0082\\\\x83\\u00c3\\u0083\\\\x82\\u00c3\\u0082\\\\x82\\u00c3\\u0083\\\\x83\\u00c3\\u0082\\\\x82\\u00c3\\u0083\\\\x82\\u00c3\\u0082\\u00c2\\u00b0Ambience:\\\\n- Comfortable couches and chairs for seating\\\\n- Warm Woodsy decor\\\\n- Well lit \\u00c3\\u0083\\\\x83\\u00c3\\u0082\\\\x83\\u00c3\\u0083\\\\x82\\u00c3\\u0082\\\\x83\\u00c3\\u0083\\\\x83\\u00c3\\u0082\\\\x82\\u00c3\\u0083\\\\x82\\u00c3\\u0082\\u00c2\\u00a2\\u00c3\\u0083\\\\x83\\u00c3\\u0082\\\\x83\\u00c3\\u0083\\\\x82\\u00c3\\u0082\\\\x82\\u00c3\\u0083\\\\x83\\u00c3\\u0082\\\\x82\\u00c3\\u0083\\\\x82\\u00c3\\u0082\\\\x9c\\u00c3\\u0083\\\\x83\\u00c3\\u0082\\\\x83\\u00c3\\u0083\\\\x82\\u00c3\\u0082\\\\x82\\u00c3\\u0083\\\\x83\\u00c3\\u0082\\\\x82\\u00c3\\u0083\\\\x82\\u00c3\\u0082\\u00c2\\u00a8\\\\n- Good music\\\\n\\\\n\\u00c3\\u0083\\\\x83\\u00c3\\u0082\\\\x83\\u00c3\\u0083\\\\x82\\u00c3\\u0082\\\\x83\\u00c3\\u0083\\\\x83\\u00c3\\u0082\\\\x82\\u00c3\\u0083\\\\x82\\u00c3\\u0082\\\\x82\\u00c3\\u0083\\\\x83\\u00c3\\u0082\\\\x83\\u00c3\\u0083\\\\x82\\u00c3\\u0082\\\\x82\\u00c3\\u0083\\\\x83\\u00c3\\u0082\\\\x82\\u00c3\\u0083\\\\x82\\u00c3\\u0082\\u00c2\\u00b0Food:\\\\n- Very yummy food!\\\\n- Sizzlers, burgers and sandwiches available\\\\n- Recommend :\\\\n~ Butter garlic prawn, corn cheese bombs \\u00c3\\u0083\\\\x83\\u00c3\\u0082\\\\x83\\u00c3\\u0083\\\\x82\\u00c3\\u0082\\\\x83\\u00c3\\u0083\\\\x83\\u00c3\\u0082\\\\x82\\u00c3\\u0083\\\\x82\\u00c3\\u0082\\u00c2\\u00a2\\u00c3\\u0083\\\\x83\\u00c3\\u0082\\\\x83\\u00c3\\u0083\\\\x82\\u00c3\\u0082\\\\x82\\u00c3\\u0083\\\\x83\\u00c3\\u0082\\\\x82\\u00c3\\u0083\\\\x82\\u00c3\\u0082\\\\x9d\\u00c3\\u0083\\\\x83\\u00c3\\u0082\\\\x83\\u00c3\\u0083\\\\x82\\u00c3\\u0082\\\\x82\\u00c3\\u0083\\\\x83\\u00c3\\u0082\\\\x82\\u00c3\\u0083\\\\x82\\u00c3\\u0082\\u00c2\\u00a4\\\\n~ Pasta sizzlers is a good option for pasta lovers.\\\\n\\\\n\\u00c3\\u0083\\\\x83\\u00c3\\u0082\\\\x83\\u00c3\\u0083\\\\x82\\u00c3\\u0082\\\\x83\\u00c3\\u0083\\\\x83\\u00c3\\u0082\\\\x82\\u00c3\\u0083\\\\x82\\u00c3\\u0082\\\\x82\\u00c3\\u0083\\\\x83\\u00c3\\u0082\\\\x83\\u00c3\\u0083\\\\x82\\u00c3\\u0082\\\\x82\\u00c3\\u0083\\\\x83\\u00c3\\u0082\\\\x82\\u00c3\\u0083\\\\x82\\u00c3\\u0082\\u00c2\\u00b0Drinks :\\\\n- Wine\\\\n- Mocktails\\\\n\\\\n\\u00c3\\u0083\\\\x83\\u00c3\\u0082\\\\x83\\u00c3\\u0083\\\\x82\\u00c3\\u0082\\\\x83\\u00c3\\u0083\\\\x83\\u00c3\\u0082\\\\x82\\u00c3\\u0083\\\\x82\\u00c3\\u0082\\\\x82\\u00c3\\u0083\\\\x83\\u00c3\\u0082\\\\x83\\u00c3\\u0083\\\\x82\\u00c3\\u0082\\\\x82\\u00c3\\u0083\\\\x83\\u00c3\\u0082\\\\x82\\u00c3\\u0083\\\\x82\\u00c3\\u0082\\u00c2\\u00b0Desserts:\\\\n- Can be improved \\u00c3\\u0083\\\\x83\\u00c3\\u0082\\\\x83\\u00c3\\u0083\\\\x82\\u00c3\\u0082\\\\x83\\u00c3\\u0083\\\\x83\\u00c3\\u0082\\\\x82\\u00c3\\u0083\\\\x82\\u00c3\\u0082\\u00c2\\u00a2\\u00c3\\u0083\\\\x83\\u00c3\\u0082\\\\x83\\u00c3\\u0083\\\\x82\\u00c3\\u0082\\\\x82\\u00c3\\u0083\\\\x83\\u00c3\\u0082\\\\x82\\u00c3\\u0083\\\\x82\\u00c3\\u0082\\\\x9a\\u00c3\\u0083\\\\x83\\u00c3\\u0082\\\\x83\\u00c3\\u0083\\\\x82\\u00c3\\u0082\\\\x82\\u00c3\\u0083\\\\x83\\u00c3\\u0082\\\\x82\\u00c3\\u0083\\\\x82\\u00c3\\u0082\\\\xa0\\u00c3\\u0083\\\\x83\\u00c3\\u0082\\\\x83\\u00c3\\u0083\\\\x82\\u00c3\\u0082\\\\x83\\u00c3\\u0083\\\\x83\\u00c3\\u0082\\\\x82\\u00c3\\u0083\\\\x82\\u00c3\\u0082\\u00c2\\u00af\\u00c3\\u0083\\\\x83\\u00c3\\u0082\\\\x83\\u00c3\\u0083\\\\x82\\u00c3\\u0082\\\\x82\\u00c3\\u0083\\\\x83\\u00c3\\u0082\\\\x82\\u00c3\\u0083\\\\x82\\u00c3\\u0082\\u00c2\\u00b8\\u00c3\\u0083\\\\x83\\u00c3\\u0082\\\\x83\\u00c3\\u0083\\\\x82\\u00c3\\u0082\\\\x82\\u00c3\\u0083\\\\x83\\u00c3\\u0082\\\\x82\\u00c3\\u0083\\\\x82\\u00c3\\u0082\\\\x8f\\\\nNew York cheese cake was warm \\u00c3\\u0083\\\\x83\\u00c3\\u0082\\\\x83\\u00c3\\u0083\\\\x82\\u00c3\\u0082\\\\x83\\u00c3\\u0083\\\\x83\\u00c3\\u0082\\\\x82\\u00c3\\u0083\\\\x82\\u00c3\\u0082\\u00c2\\u00b0\\u00c3\\u0083\\\\x83\\u00c3\\u0082\\\\x83\\u00c3\\u0083\\\\x82\\u00c3\\u0082\\\\x82\\u00c3\\u0083\\\\x83\\u00c3\\u0082\\\\x82\\u00c3\\u0083\\\\x82\\u00c3\\u0082\\\\x9f\\u00c3\\u0083\\\\x83\\u00c3\\u0082\\\\x83\\u00c3\\u0083\\\\x82\\u00c3\\u0082\\\\x82\\u00c3\\u0083\\\\x83\\u00c3\\u0082\\\\x82\\u00c3\\u0083\\\\x82\\u00c3\\u0082\\\\x8d\\u00c3\\u0083\\\\x83\\u00c3\\u0082\\\\x83\\u00c3\\u0083\\\\x82\\u00c3\\u0082\\\\x82\\u00c3\\u0083\\\\x83\\u00c3\\u0082\\\\x82\\u00c3\\u0083\\\\x82\\u00c3\\u0082\\u00c2\\u00b0\\u00c3\\u0083\\\\x83\\u00c3\\u0082\\\\x83\\u00c3\\u0083\\\\x82\\u00c3\\u0082\\\\x83\\u00c3\\u0083\\\\x83\\u00c3\\u0082\\\\x82\\u00c3\\u0083\\\\x82\\u00c3\\u0082\\u00c2\\u00b0\\u00c3\\u0083\\\\x83\\u00c3\\u0082\\\\x83\\u00c3\\u0083\\\\x82\\u00c3\\u0082\\\\x82\\u00c3\\u0083\\\\x83\\u00c3\\u0082\\\\x82\\u00c3\\u0083\\\\x82\\u00c3\\u0082\\\\x9f\\u00c3\\u0083\\\\x83\\u00c3\\u0082\\\\x83\\u00c3\\u0083\\\\x82\\u00c3\\u0082\\\\x82\\u00c3\\u0083\\\\x83\\u00c3\\u0082\\\\x82\\u00c3\\u0083\\\\x82\\u00c3\\u0082\\\\x91\\u00c3\\u0083\\\\x83\\u00c3\\u0082\\\\x83\\u00c3\\u0083\\\\x82\\u00c3\\u0082\\\\x82\\u00c3\\u0083\\\\x83\\u00c3\\u0082\\\\x82\\u00c3\\u0083\\\\x82\\u00c3\\u0082\\\\x8e\\u00c3\\u0083\\\\x83\\u00c3\\u0082\\\\x83\\u00c3\\u0083\\\\x82\\u00c3\\u0082\\\\x83\\u00c3\\u0083\\\\x83\\u00c3\\u0082\\\\x82\\u00c3\\u0083\\\\x82\\u00c3\\u0082\\u00c2\\u00b0\\u00c3\\u0083\\\\x83\\u00c3\\u0082\\\\x83\\u00c3\\u0083\\\\x82\\u00c3\\u0082\\\\x82\\u00c3\\u0083\\\\x83\\u00c3\\u0082\\\\x82\\u00c3\\u0083\\\\x82\\u00c3\\u0082\\\\x9f\\u00c3\\u0083\\\\x83\\u00c3\\u0082\\\\x83\\u00c3\\u0083\\\\x82\\u00c3\\u0082\\\\x82\\u00c3\\u0083\\\\x83\\u00c3\\u0082\\\\x82\\u00c3\\u0083\\\\x82\\u00c3\\u0082\\\\x8f\\u00c3\\u0083\\\\x83\\u00c3\\u0082\\\\x83\\u00c3\\u0083\\\\x82\\u00c3\\u0082\\\\x82\\u00c3\\u0083\\\\x83\\u00c3\\u0082\\\\x82\\u00c3\\u0083\\\\x82\\u00c3\\u0082\\u00c2\\u00bc\\\\nSizzling brownie - the brownie was good but the chocolate sauce had a burnt taste as the sizzlers was too hot than it should have been. \\u00c3\\u0083\\\\x83\\u00c3\\u0082\\\\x83\\u00c3\\u0083\\\\x82\\u00c3\\u0082\\\\x83\\u00c3\\u0083\\\\x83\\u00c3\\u0082\\\\x82\\u00c3\\u0083\\\\x82\\u00c3\\u0082\\u00c2\\u00b0\\u00c3\\u0083\\\\x83\\u00c3\\u0082\\\\x83\\u00c3\\u0083\\\\x82\\u00c3\\u0082\\\\x82\\u00c3\\u0083\\\\x83\\u00c3\\u0082\\\\x82\\u00c3\\u0083\\\\x82\\u00c3\\u0082\\\\x9f\\u00c3\\u0083\\\\x83\\u00c3\\u0082\\\\x83\\u00c3\\u0083\\\\x82\\u00c3\\u0082\\\\x82\\u00c3\\u0083\\\\x83\\u00c3\\u0082\\\\x82\\u00c3\\u0083\\\\x82\\u00c3\\u0082\\\\x91\\u00c3\\u0083\\\\x83\\u00c3\\u0082\\\\x83\\u00c3\\u0083\\\\x82\\u00c3\\u0082\\\\x82\\u00c3\\u0083\\\\x83\\u00c3\\u0082\\\\x82\\u00c3\\u0083\\\\x82\\u00c3\\u0082\\\\x8e\\u00c3\\u0083\\\\x83\\u00c3\\u0082\\\\x83\\u00c3\\u0083\\\\x82\\u00c3\\u0082\\\\x83\\u00c3\\u0083\\\\x83\\u00c3\\u0082\\\\x82\\u00c3\\u0083\\\\x82\\u00c3\\u0082\\u00c2\\u00b0\\u00c3\\u0083\\\\x83\\u00c3\\u0082\\\\x83\\u00c3\\u0083\\\\x82\\u00c3\\u0082\\\\x82\\u00c3\\u0083\\\\x83\\u00c3\\u0082\\\\x82\\u00c3\\u0083\\\\x82\\u00c3\\u0082\\\\x9f\\u00c3\\u0083\\\\x83\\u00c3\\u0082\\\\x83\\u00c3\\u0083\\\\x82\\u00c3\\u0082\\\\x82\\u00c3\\u0083\\\\x83\\u00c3\\u0082\\\\x82\\u00c3\\u0083\\\\x82\\u00c3\\u0082\\\\x8f\\u00c3\\u0083\\\\x83\\u00c3\\u0082\\\\x83\\u00c3\\u0083\\\\x82\\u00c3\\u0082\\\\x82\\u00c3\\u0083\\\\x83\\u00c3\\u0082\\\\x82\\u00c3\\u0083\\\\x82\\u00c3\\u0082\\u00c2\\u00bc\\\\n\\\\n\\u00c3\\u0083\\\\x83\\u00c3\\u0082\\\\x83\\u00c3\\u0083\\\\x82\\u00c3\\u0082\\\\x83\\u00c3\\u0083\\\\x83\\u00c3\\u0082\\\\x82\\u00c3\\u0083\\\\x82\\u00c3\\u0082\\\\x82\\u00c3\\u0083\\\\x83\\u00c3\\u0082\\\\x83\\u00c3\\u0083\\\\x82\\u00c3\\u0082\\\\x82\\u00c3\\u0083\\\\x83\\u00c3\\u0082\\\\x82\\u00c3\\u0083\\\\x82\\u00c3\\u0082\\u00c2\\u00b0Menu:\\\\n- Veg and Non veg dishes available\\\\n- Decent portions \\u00c3\\u0083\\\\x83\\u00c3\\u0082\\\\x83\\u00c3\\u0083\\\\x82\\u00c3\\u0082\\\\x83\\u00c3\\u0083\\\\x83\\u00c3\\u0082\\\\x82\\u00c3\\u0083\\\\x82\\u00c3\\u0082\\u00c2\\u00a2\\u00c3\\u0083\\\\x83\\u00c3\\u0082\\\\x83\\u00c3\\u0083\\\\x82\\u00c3\\u0082\\\\x82\\u00c3\\u0083\\\\x83\\u00c3\\u0082\\\\x82\\u00c3\\u0083\\\\x82\\u00c3\\u0082\\\\xad\\u00c3\\u0083\\\\x83\\u00c3\\u0082\\\\x83\\u00c3\\u0083\\\\x82\\u00c3\\u0082\\\\x82\\u00c3\\u0083\\\\x83\\u00c3\\u0082\\\\x82\\u00c3\\u0083\\\\x82\\u00c3\\u0082\\\\x90\\\\n\\\\n\\u00c3\\u0083\\\\x83\\u00c3\\u0082\\\\x83\\u00c3\\u0083\\\\x82\\u00c3\\u0082\\\\x83\\u00c3\\u0083\\\\x83\\u00c3\\u0082\\\\x82\\u00c3\\u0083\\\\x82\\u00c3\\u0082\\\\x82\\u00c3\\u0083\\\\x83\\u00c3\\u0082\\\\x83\\u00c3\\u0083\\\\x82\\u00c3\\u0082\\\\x82\\u00c3\\u0083\\\\x83\\u00c3\\u0082\\\\x82\\u00c3\\u0083\\\\x82\\u00c3\\u0082\\u00c2\\u00b0Service :\\\\n- No complaints.\\\\n\\\\nHead to the place for a really good meal \\\\U0001f929\\u00c3\\u0083\\\\x83\\u00c3\\u0082\\\\x83\\u00c3\\u0083\\\\x82\\u00c3\\u0082\\\\x83\\u00c3\\u0083\\\\x83\\u00c3\\u0082\\\\x82\\u00c3\\u0083\\\\x82\\u00c3\\u0082\\u00c2\\u00b0\\u00c3\\u0083\\\\x83\\u00c3\\u0082\\\\x83\\u00c3\\u0083\\\\x82\\u00c3\\u0082\\\\x82\\u00c3\\u0083\\\\x83\\u00c3\\u0082\\\\x82\\u00c3\\u0083\\\\x82\\u00c3\\u0082\\\\x9f\\u00c3\\u0083\\\\x83\\u00c3\\u0082\\\\x83\\u00c3\\u0083\\\\x82\\u00c3\\u0082\\\\x82\\u00c3\\u0083\\\\x83\\u00c3\\u0082\\\\x82\\u00c3\\u0083\\\\x82\\u00c3\\u0082\\\\x91\\u00c3\\u0083\\\\x83\\u00c3\\u0082\\\\x83\\u00c3\\u0083\\\\x82\\u00c3\\u0082\\\\x82\\u00c3\\u0083\\\\x83\\u00c3\\u0082\\\\x82\\u00c3\\u0083\\\\x82\\u00c3\\u0082\\\\x8d\\u00c3\\u0083\\\\x83\\u00c3\\u0082\\\\x83\\u00c3\\u0083\\\\x82\\u00c3\\u0082\\\\x83\\u00c3\\u0083\\\\x83\\u00c3\\u0082\\\\x82\\u00c3\\u0083\\\\x82\\u00c3\\u0082\\u00c2\\u00b0\\u00c3\\u0083\\\\x83\\u00c3\\u0082\\\\x83\\u00c3\\u0083\\\\x82\\u00c3\\u0082\\\\x82\\u00c3\\u0083\\\\x83\\u00c3\\u0082\\\\x82\\u00c3\\u0083\\\\x82\\u00c3\\u0082\\\\x9f\\u00c3\\u0083\\\\x83\\u00c3\\u0082\\\\x83\\u00c3\\u0083\\\\x82\\u00c3\\u0082\\\\x82\\u00c3\\u0083\\\\x83\\u00c3\\u0082\\\\x82\\u00c3\\u0083\\\\x82\\u00c3\\u0082\\\\x8f\\u00c3\\u0083\\\\x83\\u00c3\\u0082\\\\x83\\u00c3\\u0083\\\\x82\\u00c3\\u0082\\\\x82\\u00c3\\u0083\\\\x83\\u00c3\\u0082\\\\x82\\u00c3\\u0083\\\\x82\\u00c3\\u0082\\u00c2\\u00bc'), ('Rated 4.0', \\\"RATED\\\\n  It's always been my favorite place for sizzler. Cheese macroni sizzler was amazing. Btw everything they serve was worth trying (sizzlers) .\\\\nDidn't like the pasta tho.\\\\n\\\\nFood- 4.5/5\\\\nAmbience- 4/5\\\\nService- 2.5/5 (it's very slow)\\\"), ('Rated 5.0', 'RATED\\\\n  I have not had such a nice food in a really long time. Their butter garlic prawns were the best I have had till date. Please try it if you visit the place. Also the pasta sizzler and fish steak both were delicious. I will certainly visit this place again and again. They are light on pocket also because of zomato gold. However the service could be fast. The food they offer is absolutely amazing.'), ('Rated 3.0', 'RATED\\\\n  The food is average and the prices are high. We order fish finger and it was disappointing to see that the fish content was really less, however the batter was so thick that there was hardly any taste of the fish in a bite. Similarly the flavours in the sizzlers were just okay and tasted more ketchupy'), ('Rated 4.0', 'RATED\\\\n  \\u00c3\\u0083\\\\x83\\u00c3\\u0082\\\\x83\\u00c3\\u0083\\\\x82\\u00c3\\u0082\\\\x83\\u00c3\\u0083\\\\x83\\u00c3\\u0082\\\\x82\\u00c3\\u0083\\\\x82\\u00c3\\u0082\\\\x82\\u00c3\\u0083\\\\x83\\u00c3\\u0082\\\\x83\\u00c3\\u0083\\\\x82\\u00c3\\u0082\\\\x82\\u00c3\\u0083\\\\x83\\u00c3\\u0082\\\\x82\\u00c3\\u0083\\\\x82\\u00c3\\u0082\\u00c2\\u00b0Ambience:\\\\n- Comfortable couches and chairs for seating\\\\n- Warm Woodsy decor\\\\n- Well lit \\u00c3\\u0083\\\\x83\\u00c3\\u0082\\\\x83\\u00c3\\u0083\\\\x82\\u00c3\\u0082\\\\x83\\u00c3\\u0083\\\\x83\\u00c3\\u0082\\\\x82\\u00c3\\u0083\\\\x82\\u00c3\\u0082\\u00c2\\u00a2\\u00c3\\u0083\\\\x83\\u00c3\\u0082\\\\x83\\u00c3\\u0083\\\\x82\\u00c3\\u0082\\\\x82\\u00c3\\u0083\\\\x83\\u00c3\\u0082\\\\x82\\u00c3\\u0083\\\\x82\\u00c3\\u0082\\\\x9c\\u00c3\\u0083\\\\x83\\u00c3\\u0082\\\\x83\\u00c3\\u0083\\\\x82\\u00c3\\u0082\\\\x82\\u00c3\\u0083\\\\x83\\u00c3\\u0082\\\\x82\\u00c3\\u0083\\\\x82\\u00c3\\u0082\\u00c2\\u00a8\\\\n- Good music\\\\n\\\\n\\u00c3\\u0083\\\\x83\\u00c3\\u0082\\\\x83\\u00c3\\u0083\\\\x82\\u00c3\\u0082\\\\x83\\u00c3\\u0083\\\\x83\\u00c3\\u0082\\\\x82\\u00c3\\u0083\\\\x82\\u00c3\\u0082\\\\x82\\u00c3\\u0083\\\\x83\\u00c3\\u0082\\\\x83\\u00c3\\u0083\\\\x82\\u00c3\\u0082\\\\x82\\u00c3\\u0083\\\\x83\\u00c3\\u0082\\\\x82\\u00c3\\u0083\\\\x82\\u00c3\\u0082\\u00c2\\u00b0Food:\\\\n- Very yummy food!\\\\n- Sizzlers, burgers and sandwiches available\\\\n- Recommend :\\\\n~ Butter garlic prawn, corn cheese bombs \\u00c3\\u0083\\\\x83\\u00c3\\u0082\\\\x83\\u00c3\\u0083\\\\x82\\u00c3\\u0082\\\\x83\\u00c3\\u0083\\\\x83\\u00c3\\u0082\\\\x82\\u00c3\\u0083\\\\x82\\u00c3\\u0082\\u00c2\\u00a2\\u00c3\\u0083\\\\x83\\u00c3\\u0082\\\\x83\\u00c3\\u0083\\\\x82\\u00c3\\u0082\\\\x82\\u00c3\\u0083\\\\x83\\u00c3\\u0082\\\\x82\\u00c3\\u0083\\\\x82\\u00c3\\u0082\\\\x9d\\u00c3\\u0083\\\\x83\\u00c3\\u0082\\\\x83\\u00c3\\u0083\\\\x82\\u00c3\\u0082\\\\x82\\u00c3\\u0083\\\\x83\\u00c3\\u0082\\\\x82\\u00c3\\u0083\\\\x82\\u00c3\\u0082\\u00c2\\u00a4\\\\n~ Pasta sizzlers is a good option for pasta lovers.\\\\n\\\\n\\u00c3\\u0083\\\\x83\\u00c3\\u0082\\\\x83\\u00c3\\u0083\\\\x82\\u00c3\\u0082\\\\x83\\u00c3\\u0083\\\\x83\\u00c3\\u0082\\\\x82\\u00c3\\u0083\\\\x82\\u00c3\\u0082\\\\x82\\u00c3\\u0083\\\\x83\\u00c3\\u0082\\\\x83\\u00c3\\u0083\\\\x82\\u00c3\\u0082\\\\x82\\u00c3\\u0083\\\\x83\\u00c3\\u0082\\\\x82\\u00c3\\u0083\\\\x82\\u00c3\\u0082\\u00c2\\u00b0Drinks :\\\\n- Wine\\\\n- Mocktails\\\\n\\\\n\\u00c3\\u0083\\\\x83\\u00c3\\u0082\\\\x83\\u00c3\\u0083\\\\x82\\u00c3\\u0082\\\\x83\\u00c3\\u0083\\\\x83\\u00c3\\u0082\\\\x82\\u00c3\\u0083\\\\x82\\u00c3\\u0082\\\\x82\\u00c3\\u0083\\\\x83\\u00c3\\u0082\\\\x83\\u00c3\\u0083\\\\x82\\u00c3\\u0082\\\\x82\\u00c3\\u0083\\\\x83\\u00c3\\u0082\\\\x82\\u00c3\\u0083\\\\x82\\u00c3\\u0082\\u00c2\\u00b0Desserts:\\\\n- Can be improved \\u00c3\\u0083\\\\x83\\u00c3\\u0082\\\\x83\\u00c3\\u0083\\\\x82\\u00c3\\u0082\\\\x83\\u00c3\\u0083\\\\x83\\u00c3\\u0082\\\\x82\\u00c3\\u0083\\\\x82\\u00c3\\u0082\\u00c2\\u00a2\\u00c3\\u0083\\\\x83\\u00c3\\u0082\\\\x83\\u00c3\\u0083\\\\x82\\u00c3\\u0082\\\\x82\\u00c3\\u0083\\\\x83\\u00c3\\u0082\\\\x82\\u00c3\\u0083\\\\x82\\u00c3\\u0082\\\\x9a\\u00c3\\u0083\\\\x83\\u00c3\\u0082\\\\x83\\u00c3\\u0083\\\\x82\\u00c3\\u0082\\\\x82\\u00c3\\u0083\\\\x83\\u00c3\\u0082\\\\x82\\u00c3\\u0083\\\\x82\\u00c3\\u0082\\\\xa0\\u00c3\\u0083\\\\x83\\u00c3\\u0082\\\\x83\\u00c3\\u0083\\\\x82\\u00c3\\u0082\\\\x83\\u00c3\\u0083\\\\x83\\u00c3\\u0082\\\\x82\\u00c3\\u0083\\\\x82\\u00c3\\u0082\\u00c2\\u00af\\u00c3\\u0083\\\\x83\\u00c3\\u0082\\\\x83\\u00c3\\u0083\\\\x82\\u00c3\\u0082\\\\x82\\u00c3\\u0083\\\\x83\\u00c3\\u0082\\\\x82\\u00c3\\u0083\\\\x82\\u00c3\\u0082\\u00c2\\u00b8\\u00c3\\u0083\\\\x83\\u00c3\\u0082\\\\x83\\u00c3\\u0083\\\\x82\\u00c3\\u0082\\\\x82\\u00c3\\u0083\\\\x83\\u00c3\\u0082\\\\x82\\u00c3\\u0083\\\\x82\\u00c3\\u0082\\\\x8f\\\\nNew York cheese cake was warm \\u00c3\\u0083\\\\x83\\u00c3\\u0082\\\\x83\\u00c3\\u0083\\\\x82\\u00c3\\u0082\\\\x83\\u00c3\\u0083\\\\x83\\u00c3\\u0082\\\\x82\\u00c3\\u0083\\\\x82\\u00c3\\u0082\\u00c2\\u00b0\\u00c3\\u0083\\\\x83\\u00c3\\u0082\\\\x83\\u00c3\\u0083\\\\x82\\u00c3\\u0082\\\\x82\\u00c3\\u0083\\\\x83\\u00c3\\u0082\\\\x82\\u00c3\\u0083\\\\x82\\u00c3\\u0082\\\\x9f\\u00c3\\u0083\\\\x83\\u00c3\\u0082\\\\x83\\u00c3\\u0083\\\\x82\\u00c3\\u0082\\\\x82\\u00c3\\u0083\\\\x83\\u00c3\\u0082\\\\x82\\u00c3\\u0083\\\\x82\\u00c3\\u0082\\\\x8d\\u00c3\\u0083\\\\x83\\u00c3\\u0082\\\\x83\\u00c3\\u0083\\\\x82\\u00c3\\u0082\\\\x82\\u00c3\\u0083\\\\x83\\u00c3\\u0082\\\\x82\\u00c3\\u0083\\\\x82\\u00c3\\u0082\\u00c2\\u00b0\\u00c3\\u0083\\\\x83\\u00c3\\u0082\\\\x83\\u00c3\\u0083\\\\x82\\u00c3\\u0082\\\\x83\\u00c3\\u0083\\\\x83\\u00c3\\u0082\\\\x82\\u00c3\\u0083\\\\x82\\u00c3\\u0082\\u00c2\\u00b0\\u00c3\\u0083\\\\x83\\u00c3\\u0082\\\\x83\\u00c3\\u0083\\\\x82\\u00c3\\u0082\\\\x82\\u00c3\\u0083\\\\x83\\u00c3\\u0082\\\\x82\\u00c3\\u0083\\\\x82\\u00c3\\u0082\\\\x9f\\u00c3\\u0083\\\\x83\\u00c3\\u0082\\\\x83\\u00c3\\u0083\\\\x82\\u00c3\\u0082\\\\x82\\u00c3\\u0083\\\\x83\\u00c3\\u0082\\\\x82\\u00c3\\u0083\\\\x82\\u00c3\\u0082\\\\x91\\u00c3\\u0083\\\\x83\\u00c3\\u0082\\\\x83\\u00c3\\u0083\\\\x82\\u00c3\\u0082\\\\x82\\u00c3\\u0083\\\\x83\\u00c3\\u0082\\\\x82\\u00c3\\u0083\\\\x82\\u00c3\\u0082\\\\x8e\\u00c3\\u0083\\\\x83\\u00c3\\u0082\\\\x83\\u00c3\\u0083\\\\x82\\u00c3\\u0082\\\\x83\\u00c3\\u0083\\\\x83\\u00c3\\u0082\\\\x82\\u00c3\\u0083\\\\x82\\u00c3\\u0082\\u00c2\\u00b0\\u00c3\\u0083\\\\x83\\u00c3\\u0082\\\\x83\\u00c3\\u0083\\\\x82\\u00c3\\u0082\\\\x82\\u00c3\\u0083\\\\x83\\u00c3\\u0082\\\\x82\\u00c3\\u0083\\\\x82\\u00c3\\u0082\\\\x9f\\u00c3\\u0083\\\\x83\\u00c3\\u0082\\\\x83\\u00c3\\u0083\\\\x82\\u00c3\\u0082\\\\x82\\u00c3\\u0083\\\\x83\\u00c3\\u0082\\\\x82\\u00c3\\u0083\\\\x82\\u00c3\\u0082\\\\x8f\\u00c3\\u0083\\\\x83\\u00c3\\u0082\\\\x83\\u00c3\\u0083\\\\x82\\u00c3\\u0082\\\\x82\\u00c3\\u0083\\\\x83\\u00c3\\u0082\\\\x82\\u00c3\\u0083\\\\x82\\u00c3\\u0082\\u00c2\\u00bc\\\\nSizzling brownie - the brownie was good but the chocolate sauce had a burnt taste as the sizzlers was too hot than it should have been. \\u00c3\\u0083\\\\x83\\u00c3\\u0082\\\\x83\\u00c3\\u0083\\\\x82\\u00c3\\u0082\\\\x83\\u00c3\\u0083\\\\x83\\u00c3\\u0082\\\\x82\\u00c3\\u0083\\\\x82\\u00c3\\u0082\\u00c2\\u00b0\\u00c3\\u0083\\\\x83\\u00c3\\u0082\\\\x83\\u00c3\\u0083\\\\x82\\u00c3\\u0082\\\\x82\\u00c3\\u0083\\\\x83\\u00c3\\u0082\\\\x82\\u00c3\\u0083\\\\x82\\u00c3\\u0082\\\\x9f\\u00c3\\u0083\\\\x83\\u00c3\\u0082\\\\x83\\u00c3\\u0083\\\\x82\\u00c3\\u0082\\\\x82\\u00c3\\u0083\\\\x83\\u00c3\\u0082\\\\x82\\u00c3\\u0083\\\\x82\\u00c3\\u0082\\\\x91\\u00c3\\u0083\\\\x83\\u00c3\\u0082\\\\x83\\u00c3\\u0083\\\\x82\\u00c3\\u0082\\\\x82\\u00c3\\u0083\\\\x83\\u00c3\\u0082\\\\x82\\u00c3\\u0083\\\\x82\\u00c3\\u0082\\\\x8e\\u00c3\\u0083\\\\x83\\u00c3\\u0082\\\\x83\\u00c3\\u0083\\\\x82\\u00c3\\u0082\\\\x83\\u00c3\\u0083\\\\x83\\u00c3\\u0082\\\\x82\\u00c3\\u0083\\\\x82\\u00c3\\u0082\\u00c2\\u00b0\\u00c3\\u0083\\\\x83\\u00c3\\u0082\\\\x83\\u00c3\\u0083\\\\x82\\u00c3\\u0082\\\\x82\\u00c3\\u0083\\\\x83\\u00c3\\u0082\\\\x82\\u00c3\\u0083\\\\x82\\u00c3\\u0082\\\\x9f\\u00c3\\u0083\\\\x83\\u00c3\\u0082\\\\x83\\u00c3\\u0083\\\\x82\\u00c3\\u0082\\\\x82\\u00c3\\u0083\\\\x83\\u00c3\\u0082\\\\x82\\u00c3\\u0083\\\\x82\\u00c3\\u0082\\\\x8f\\u00c3\\u0083\\\\x83\\u00c3\\u0082\\\\x83\\u00c3\\u0083\\\\x82\\u00c3\\u0082\\\\x82\\u00c3\\u0083\\\\x83\\u00c3\\u0082\\\\x82\\u00c3\\u0083\\\\x82\\u00c3\\u0082\\u00c2\\u00bc\\\\n\\\\n\\u00c3\\u0083\\\\x83\\u00c3\\u0082\\\\x83\\u00c3\\u0083\\\\x82\\u00c3\\u0082\\\\x83\\u00c3\\u0083\\\\x83\\u00c3\\u0082\\\\x82\\u00c3\\u0083\\\\x82\\u00c3\\u0082\\\\x82\\u00c3\\u0083\\\\x83\\u00c3\\u0082\\\\x83\\u00c3\\u0083\\\\x82\\u00c3\\u0082\\\\x82\\u00c3\\u0083\\\\x83\\u00c3\\u0082\\\\x82\\u00c3\\u0083\\\\x82\\u00c3\\u0082\\u00c2\\u00b0Menu:\\\\n- Veg and Non veg dishes available\\\\n- Decent portions \\u00c3\\u0083\\\\x83\\u00c3\\u0082\\\\x83\\u00c3\\u0083\\\\x82\\u00c3\\u0082\\\\x83\\u00c3\\u0083\\\\x83\\u00c3\\u0082\\\\x82\\u00c3\\u0083\\\\x82\\u00c3\\u0082\\u00c2\\u00a2\\u00c3\\u0083\\\\x83\\u00c3\\u0082\\\\x83\\u00c3\\u0083\\\\x82\\u00c3\\u0082\\\\x82\\u00c3\\u0083\\\\x83\\u00c3\\u0082\\\\x82\\u00c3\\u0083\\\\x82\\u00c3\\u0082\\\\xad\\u00c3\\u0083\\\\x83\\u00c3\\u0082\\\\x83\\u00c3\\u0083\\\\x82\\u00c3\\u0082\\\\x82\\u00c3\\u0083\\\\x83\\u00c3\\u0082\\\\x82\\u00c3\\u0083\\\\x82\\u00c3\\u0082\\\\x90\\\\n\\\\n\\u00c3\\u0083\\\\x83\\u00c3\\u0082\\\\x83\\u00c3\\u0083\\\\x82\\u00c3\\u0082\\\\x83\\u00c3\\u0083\\\\x83\\u00c3\\u0082\\\\x82\\u00c3\\u0083\\\\x82\\u00c3\\u0082\\\\x82\\u00c3\\u0083\\\\x83\\u00c3\\u0082\\\\x83\\u00c3\\u0083\\\\x82\\u00c3\\u0082\\\\x82\\u00c3\\u0083\\\\x83\\u00c3\\u0082\\\\x82\\u00c3\\u0083\\\\x82\\u00c3\\u0082\\u00c2\\u00b0Service :\\\\n- No complaints.\\\\n\\\\nHead to the place for a really good meal \\\\U0001f929\\u00c3\\u0083\\\\x83\\u00c3\\u0082\\\\x83\\u00c3\\u0083\\\\x82\\u00c3\\u0082\\\\x83\\u00c3\\u0083\\\\x83\\u00c3\\u0082\\\\x82\\u00c3\\u0083\\\\x82\\u00c3\\u0082\\u00c2\\u00b0\\u00c3\\u0083\\\\x83\\u00c3\\u0082\\\\x83\\u00c3\\u0083\\\\x82\\u00c3\\u0082\\\\x82\\u00c3\\u0083\\\\x83\\u00c3\\u0082\\\\x82\\u00c3\\u0083\\\\x82\\u00c3\\u0082\\\\x9f\\u00c3\\u0083\\\\x83\\u00c3\\u0082\\\\x83\\u00c3\\u0083\\\\x82\\u00c3\\u0082\\\\x82\\u00c3\\u0083\\\\x83\\u00c3\\u0082\\\\x82\\u00c3\\u0083\\\\x82\\u00c3\\u0082\\\\x91\\u00c3\\u0083\\\\x83\\u00c3\\u0082\\\\x83\\u00c3\\u0083\\\\x82\\u00c3\\u0082\\\\x82\\u00c3\\u0083\\\\x83\\u00c3\\u0082\\\\x82\\u00c3\\u0083\\\\x82\\u00c3\\u0082\\\\x8d\\u00c3\\u0083\\\\x83\\u00c3\\u0082\\\\x83\\u00c3\\u0083\\\\x82\\u00c3\\u0082\\\\x83\\u00c3\\u0083\\\\x83\\u00c3\\u0082\\\\x82\\u00c3\\u0083\\\\x82\\u00c3\\u0082\\u00c2\\u00b0\\u00c3\\u0083\\\\x83\\u00c3\\u0082\\\\x83\\u00c3\\u0083\\\\x82\\u00c3\\u0082\\\\x82\\u00c3\\u0083\\\\x83\\u00c3\\u0082\\\\x82\\u00c3\\u0083\\\\x82\\u00c3\\u0082\\\\x9f\\u00c3\\u0083\\\\x83\\u00c3\\u0082\\\\x83\\u00c3\\u0083\\\\x82\\u00c3\\u0082\\\\x82\\u00c3\\u0083\\\\x83\\u00c3\\u0082\\\\x82\\u00c3\\u0083\\\\x82\\u00c3\\u0082\\\\x8f\\u00c3\\u0083\\\\x83\\u00c3\\u0082\\\\x83\\u00c3\\u0083\\\\x82\\u00c3\\u0082\\\\x82\\u00c3\\u0083\\\\x83\\u00c3\\u0082\\\\x82\\u00c3\\u0083\\\\x82\\u00c3\\u0082\\u00c2\\u00bc'), ('Rated 4.0', \\\"RATED\\\\n  It's always been my favorite place for sizzler. Cheese macroni sizzler was amazing. Btw everything they serve was worth trying (sizzlers) .\\\\nDidn't like the pasta tho.\\\\n\\\\nFood- 4.5/5\\\\nAmbience- 4/5\\\\nService- 2.5/5 (it's very slow)\\\"), ('Rated 5.0', 'RATED\\\\n  I have not had such a nice food in a really long time. Their butter garlic prawns were the best I have had till date. Please try it if you visit the place. Also the pasta sizzler and fish steak both were delicious. I will certainly visit this place again and again. They are light on pocket also because of zomato gold. However the service could be fast. The food they offer is absolutely amazing.'), ('Rated 3.0', 'RATED\\\\n  The food is average and the prices are high. We order fish finger and it was disappointing to see that the fish content was really less, however the batter was so thick that there was hardly any taste of the fish in a bite. Similarly the flavours in the sizzlers were just okay and tasted more ketchupy'), ('Rated 4.0', 'RATED\\\\n  \\u00c3\\u0083\\\\x83\\u00c3\\u0082\\\\x83\\u00c3\\u0083\\\\x82\\u00c3\\u0082\\\\x83\\u00c3\\u0083\\\\x83\\u00c3\\u0082\\\\x82\\u00c3\\u0083\\\\x82\\u00c3\\u0082\\\\x82\\u00c3\\u0083\\\\x83\\u00c3\\u0082\\\\x83\\u00c3\\u0083\\\\x82\\u00c3\\u0082\\\\x82\\u00c3\\u0083\\\\x83\\u00c3\\u0082\\\\x82\\u00c3\\u0083\\\\x82\\u00c3\\u0082\\u00c2\\u00b0Ambience:\\\\n- Comfortable couches and chairs for seating\\\\n- Warm Woodsy decor\\\\n- Well lit \\u00c3\\u0083\\\\x83\\u00c3\\u0082\\\\x83\\u00c3\\u0083\\\\x82\\u00c3\\u0082\\\\x83\\u00c3\\u0083\\\\x83\\u00c3\\u0082\\\\x82\\u00c3\\u0083\\\\x82\\u00c3\\u0082\\u00c2\\u00a2\\u00c3\\u0083\\\\x83\\u00c3\\u0082\\\\x83\\u00c3\\u0083\\\\x82\\u00c3\\u0082\\\\x82\\u00c3\\u0083\\\\x83\\u00c3\\u0082\\\\x82\\u00c3\\u0083\\\\x82\\u00c3\\u0082\\\\x9c\\u00c3\\u0083\\\\x83\\u00c3\\u0082\\\\x83\\u00c3\\u0083\\\\x82\\u00c3\\u0082\\\\x82\\u00c3\\u0083\\\\x83\\u00c3\\u0082\\\\x82\\u00c3\\u0083\\\\x82\\u00c3\\u0082\\u00c2\\u00a8\\\\n- Good music\\\\n\\\\n\\u00c3\\u0083\\\\x83\\u00c3\\u0082\\\\x83\\u00c3\\u0083\\\\x82\\u00c3\\u0082\\\\x83\\u00c3\\u0083\\\\x83\\u00c3\\u0082\\\\x82\\u00c3\\u0083\\\\x82\\u00c3\\u0082\\\\x82\\u00c3\\u0083\\\\x83\\u00c3\\u0082\\\\x83\\u00c3\\u0083\\\\x82\\u00c3\\u0082\\\\x82\\u00c3\\u0083\\\\x83\\u00c3\\u0082\\\\x82\\u00c3\\u0083\\\\x82\\u00c3\\u0082\\u00c2\\u00b0Food:\\\\n- Very yummy food!\\\\n- Sizzlers, burgers and sandwiches available\\\\n- Recommend :\\\\n~ Butter garlic prawn, corn cheese bombs \\u00c3\\u0083\\\\x83\\u00c3\\u0082\\\\x83\\u00c3\\u0083\\\\x82\\u00c3\\u0082\\\\x83\\u00c3\\u0083\\\\x83\\u00c3\\u0082\\\\x82\\u00c3\\u0083\\\\x82\\u00c3\\u0082\\u00c2\\u00a2\\u00c3\\u0083\\\\x83\\u00c3\\u0082\\\\x83\\u00c3\\u0083\\\\x82\\u00c3\\u0082\\\\x82\\u00c3\\u0083\\\\x83\\u00c3\\u0082\\\\x82\\u00c3\\u0083\\\\x82\\u00c3\\u0082\\\\x9d\\u00c3\\u0083\\\\x83\\u00c3\\u0082\\\\x83\\u00c3\\u0083\\\\x82\\u00c3\\u0082\\\\x82\\u00c3\\u0083\\\\x83\\u00c3\\u0082\\\\x82\\u00c3\\u0083\\\\x82\\u00c3\\u0082\\u00c2\\u00a4\\\\n~ Pasta sizzlers is a good option for pasta lovers.\\\\n\\\\n\\u00c3\\u0083\\\\x83\\u00c3\\u0082\\\\x83\\u00c3\\u0083\\\\x82\\u00c3\\u0082\\\\x83\\u00c3\\u0083\\\\x83\\u00c3\\u0082\\\\x82\\u00c3\\u0083\\\\x82\\u00c3\\u0082\\\\x82\\u00c3\\u0083\\\\x83\\u00c3\\u0082\\\\x83\\u00c3\\u0083\\\\x82\\u00c3\\u0082\\\\x82\\u00c3\\u0083\\\\x83\\u00c3\\u0082\\\\x82\\u00c3\\u0083\\\\x82\\u00c3\\u0082\\u00c2\\u00b0Drinks :\\\\n- Wine\\\\n- Mocktails\\\\n\\\\n\\u00c3\\u0083\\\\x83\\u00c3\\u0082\\\\x83\\u00c3\\u0083\\\\x82\\u00c3\\u0082\\\\x83\\u00c3\\u0083\\\\x83\\u00c3\\u0082\\\\x82\\u00c3\\u0083\\\\x82\\u00c3\\u0082\\\\x82\\u00c3\\u0083\\\\x83\\u00c3\\u0082\\\\x83\\u00c3\\u0083\\\\x82\\u00c3\\u0082\\\\x82\\u00c3\\u0083\\\\x83\\u00c3\\u0082\\\\x82\\u00c3\\u0083\\\\x82\\u00c3\\u0082\\u00c2\\u00b0Desserts:\\\\n- Can be improved \\u00c3\\u0083\\\\x83\\u00c3\\u0082\\\\x83\\u00c3\\u0083\\\\x82\\u00c3\\u0082\\\\x83\\u00c3\\u0083\\\\x83\\u00c3\\u0082\\\\x82\\u00c3\\u0083\\\\x82\\u00c3\\u0082\\u00c2\\u00a2\\u00c3\\u0083\\\\x83\\u00c3\\u0082\\\\x83\\u00c3\\u0083\\\\x82\\u00c3\\u0082\\\\x82\\u00c3\\u0083\\\\x83\\u00c3\\u0082\\\\x82\\u00c3\\u0083\\\\x82\\u00c3\\u0082\\\\x9a\\u00c3\\u0083\\\\x83\\u00c3\\u0082\\\\x83\\u00c3\\u0083\\\\x82\\u00c3\\u0082\\\\x82\\u00c3\\u0083\\\\x83\\u00c3\\u0082\\\\x82\\u00c3\\u0083\\\\x82\\u00c3\\u0082\\\\xa0\\u00c3\\u0083\\\\x83\\u00c3\\u0082\\\\x83\\u00c3\\u0083\\\\x82\\u00c3\\u0082\\\\x83\\u00c3\\u0083\\\\x83\\u00c3\\u0082\\\\x82\\u00c3\\u0083\\\\x82\\u00c3\\u0082\\u00c2\\u00af\\u00c3\\u0083\\\\x83\\u00c3\\u0082\\\\x83\\u00c3\\u0083\\\\x82\\u00c3\\u0082\\\\x82\\u00c3\\u0083\\\\x83\\u00c3\\u0082\\\\x82\\u00c3\\u0083\\\\x82\\u00c3\\u0082\\u00c2\\u00b8\\u00c3\\u0083\\\\x83\\u00c3\\u0082\\\\x83\\u00c3\\u0083\\\\x82\\u00c3\\u0082\\\\x82\\u00c3\\u0083\\\\x83\\u00c3\\u0082\\\\x82\\u00c3\\u0083\\\\x82\\u00c3\\u0082\\\\x8f\\\\nNew York cheese cake was warm \\u00c3\\u0083\\\\x83\\u00c3\\u0082\\\\x83\\u00c3\\u0083\\\\x82\\u00c3\\u0082\\\\x83\\u00c3\\u0083\\\\x83\\u00c3\\u0082\\\\x82\\u00c3\\u0083\\\\x82\\u00c3\\u0082\\u00c2\\u00b0\\u00c3\\u0083\\\\x83\\u00c3\\u0082\\\\x83\\u00c3\\u0083\\\\x82\\u00c3\\u0082\\\\x82\\u00c3\\u0083\\\\x83\\u00c3\\u0082\\\\x82\\u00c3\\u0083\\\\x82\\u00c3\\u0082\\\\x9f\\u00c3\\u0083\\\\x83\\u00c3\\u0082\\\\x83\\u00c3\\u0083\\\\x82\\u00c3\\u0082\\\\x82\\u00c3\\u0083\\\\x83\\u00c3\\u0082\\\\x82\\u00c3\\u0083\\\\x82\\u00c3\\u0082\\\\x8d\\u00c3\\u0083\\\\x83\\u00c3\\u0082\\\\x83\\u00c3\\u0083\\\\x82\\u00c3\\u0082\\\\x82\\u00c3\\u0083\\\\x83\\u00c3\\u0082\\\\x82\\u00c3\\u0083\\\\x82\\u00c3\\u0082\\u00c2\\u00b0\\u00c3\\u0083\\\\x83\\u00c3\\u0082\\\\x83\\u00c3\\u0083\\\\x82\\u00c3\\u0082\\\\x83\\u00c3\\u0083\\\\x83\\u00c3\\u0082\\\\x82\\u00c3\\u0083\\\\x82\\u00c3\\u0082\\u00c2\\u00b0\\u00c3\\u0083\\\\x83\\u00c3\\u0082\\\\x83\\u00c3\\u0083\\\\x82\\u00c3\\u0082\\\\x82\\u00c3\\u0083\\\\x83\\u00c3\\u0082\\\\x82\\u00c3\\u0083\\\\x82\\u00c3\\u0082\\\\x9f\\u00c3\\u0083\\\\x83\\u00c3\\u0082\\\\x83\\u00c3\\u0083\\\\x82\\u00c3\\u0082\\\\x82\\u00c3\\u0083\\\\x83\\u00c3\\u0082\\\\x82\\u00c3\\u0083\\\\x82\\u00c3\\u0082\\\\x91\\u00c3\\u0083\\\\x83\\u00c3\\u0082\\\\x83\\u00c3\\u0083\\\\x82\\u00c3\\u0082\\\\x82\\u00c3\\u0083\\\\x83\\u00c3\\u0082\\\\x82\\u00c3\\u0083\\\\x82\\u00c3\\u0082\\\\x8e\\u00c3\\u0083\\\\x83\\u00c3\\u0082\\\\x83\\u00c3\\u0083\\\\x82\\u00c3\\u0082\\\\x83\\u00c3\\u0083\\\\x83\\u00c3\\u0082\\\\x82\\u00c3\\u0083\\\\x82\\u00c3\\u0082\\u00c2\\u00b0\\u00c3\\u0083\\\\x83\\u00c3\\u0082\\\\x83\\u00c3\\u0083\\\\x82\\u00c3\\u0082\\\\x82\\u00c3\\u0083\\\\x83\\u00c3\\u0082\\\\x82\\u00c3\\u0083\\\\x82\\u00c3\\u0082\\\\x9f\\u00c3\\u0083\\\\x83\\u00c3\\u0082\\\\x83\\u00c3\\u0083\\\\x82\\u00c3\\u0082\\\\x82\\u00c3\\u0083\\\\x83\\u00c3\\u0082\\\\x82\\u00c3\\u0083\\\\x82\\u00c3\\u0082\\\\x8f\\u00c3\\u0083\\\\x83\\u00c3\\u0082\\\\x83\\u00c3\\u0083\\\\x82\\u00c3\\u0082\\\\x82\\u00c3\\u0083\\\\x83\\u00c3\\u0082\\\\x82\\u00c3\\u0083\\\\x82\\u00c3\\u0082\\u00c2\\u00bc\\\\nSizzling brownie - the brownie was good but the chocolate sauce had a burnt taste as the sizzlers was too hot than it should have been. \\u00c3\\u0083\\\\x83\\u00c3\\u0082\\\\x83\\u00c3\\u0083\\\\x82\\u00c3\\u0082\\\\x83\\u00c3\\u0083\\\\x83\\u00c3\\u0082\\\\x82\\u00c3\\u0083\\\\x82\\u00c3\\u0082\\u00c2\\u00b0\\u00c3\\u0083\\\\x83\\u00c3\\u0082\\\\x83\\u00c3\\u0083\\\\x82\\u00c3\\u0082\\\\x82\\u00c3\\u0083\\\\x83\\u00c3\\u0082\\\\x82\\u00c3\\u0083\\\\x82\\u00c3\\u0082\\\\x9f\\u00c3\\u0083\\\\x83\\u00c3\\u0082\\\\x83\\u00c3\\u0083\\\\x82\\u00c3\\u0082\\\\x82\\u00c3\\u0083\\\\x83\\u00c3\\u0082\\\\x82\\u00c3\\u0083\\\\x82\\u00c3\\u0082\\\\x91\\u00c3\\u0083\\\\x83\\u00c3\\u0082\\\\x83\\u00c3\\u0083\\\\x82\\u00c3\\u0082\\\\x82\\u00c3\\u0083\\\\x83\\u00c3\\u0082\\\\x82\\u00c3\\u0083\\\\x82\\u00c3\\u0082\\\\x8e\\u00c3\\u0083\\\\x83\\u00c3\\u0082\\\\x83\\u00c3\\u0083\\\\x82\\u00c3\\u0082\\\\x83\\u00c3\\u0083\\\\x83\\u00c3\\u0082\\\\x82\\u00c3\\u0083\\\\x82\\u00c3\\u0082\\u00c2\\u00b0\\u00c3\\u0083\\\\x83\\u00c3\\u0082\\\\x83\\u00c3\\u0083\\\\x82\\u00c3\\u0082\\\\x82\\u00c3\\u0083\\\\x83\\u00c3\\u0082\\\\x82\\u00c3\\u0083\\\\x82\\u00c3\\u0082\\\\x9f\\u00c3\\u0083\\\\x83\\u00c3\\u0082\\\\x83\\u00c3\\u0083\\\\x82\\u00c3\\u0082\\\\x82\\u00c3\\u0083\\\\x83\\u00c3\\u0082\\\\x82\\u00c3\\u0083\\\\x82\\u00c3\\u0082\\\\x8f\\u00c3\\u0083\\\\x83\\u00c3\\u0082\\\\x83\\u00c3\\u0083\\\\x82\\u00c3\\u0082\\\\x82\\u00c3\\u0083\\\\x83\\u00c3\\u0082\\\\x82\\u00c3\\u0083\\\\x82\\u00c3\\u0082\\u00c2\\u00bc\\\\n\\\\n\\u00c3\\u0083\\\\x83\\u00c3\\u0082\\\\x83\\u00c3\\u0083\\\\x82\\u00c3\\u0082\\\\x83\\u00c3\\u0083\\\\x83\\u00c3\\u0082\\\\x82\\u00c3\\u0083\\\\x82\\u00c3\\u0082\\\\x82\\u00c3\\u0083\\\\x83\\u00c3\\u0082\\\\x83\\u00c3\\u0083\\\\x82\\u00c3\\u0082\\\\x82\\u00c3\\u0083\\\\x83\\u00c3\\u0082\\\\x82\\u00c3\\u0083\\\\x82\\u00c3\\u0082\\u00c2\\u00b0Menu:\\\\n- Veg and Non veg dishes available\\\\n- Decent portions \\u00c3\\u0083\\\\x83\\u00c3\\u0082\\\\x83\\u00c3\\u0083\\\\x82\\u00c3\\u0082\\\\x83\\u00c3\\u0083\\\\x83\\u00c3\\u0082\\\\x82\\u00c3\\u0083\\\\x82\\u00c3\\u0082\\u00c2\\u00a2\\u00c3\\u0083\\\\x83\\u00c3\\u0082\\\\x83\\u00c3\\u0083\\\\x82\\u00c3\\u0082\\\\x82\\u00c3\\u0083\\\\x83\\u00c3\\u0082\\\\x82\\u00c3\\u0083\\\\x82\\u00c3\\u0082\\\\xad\\u00c3\\u0083\\\\x83\\u00c3\\u0082\\\\x83\\u00c3\\u0083\\\\x82\\u00c3\\u0082\\\\x82\\u00c3\\u0083\\\\x83\\u00c3\\u0082\\\\x82\\u00c3\\u0083\\\\x82\\u00c3\\u0082\\\\x90\\\\n\\\\n\\u00c3\\u0083\\\\x83\\u00c3\\u0082\\\\x83\\u00c3\\u0083\\\\x82\\u00c3\\u0082\\\\x83\\u00c3\\u0083\\\\x83\\u00c3\\u0082\\\\x82\\u00c3\\u0083\\\\x82\\u00c3\\u0082\\\\x82\\u00c3\\u0083\\\\x83\\u00c3\\u0082\\\\x83\\u00c3\\u0083\\\\x82\\u00c3\\u0082\\\\x82\\u00c3\\u0083\\\\x83\\u00c3\\u0082\\\\x82\\u00c3\\u0083\\\\x82\\u00c3\\u0082\\u00c2\\u00b0Service :\\\\n- No complaints.\\\\n\\\\nHead to the place for a really good meal \\\\U0001f929\\u00c3\\u0083\\\\x83\\u00c3\\u0082\\\\x83\\u00c3\\u0083\\\\x82\\u00c3\\u0082\\\\x83\\u00c3\\u0083\\\\x83\\u00c3\\u0082\\\\x82\\u00c3\\u0083\\\\x82\\u00c3\\u0082\\u00c2\\u00b0\\u00c3\\u0083\\\\x83\\u00c3\\u0082\\\\x83\\u00c3\\u0083\\\\x82\\u00c3\\u0082\\\\x82\\u00c3\\u0083\\\\x83\\u00c3\\u0082\\\\x82\\u00c3\\u0083\\\\x82\\u00c3\\u0082\\\\x9f\\u00c3\\u0083\\\\x83\\u00c3\\u0082\\\\x83\\u00c3\\u0083\\\\x82\\u00c3\\u0082\\\\x82\\u00c3\\u0083\\\\x83\\u00c3\\u0082\\\\x82\\u00c3\\u0083\\\\x82\\u00c3\\u0082\\\\x91\\u00c3\\u0083\\\\x83\\u00c3\\u0082\\\\x83\\u00c3\\u0083\\\\x82\\u00c3\\u0082\\\\x82\\u00c3\\u0083\\\\x83\\u00c3\\u0082\\\\x82\\u00c3\\u0083\\\\x82\\u00c3\\u0082\\\\x8d\\u00c3\\u0083\\\\x83\\u00c3\\u0082\\\\x83\\u00c3\\u0083\\\\x82\\u00c3\\u0082\\\\x83\\u00c3\\u0083\\\\x83\\u00c3\\u0082\\\\x82\\u00c3\\u0083\\\\x82\\u00c3\\u0082\\u00c2\\u00b0\\u00c3\\u0083\\\\x83\\u00c3\\u0082\\\\x83\\u00c3\\u0083\\\\x82\\u00c3\\u0082\\\\x82\\u00c3\\u0083\\\\x83\\u00c3\\u0082\\\\x82\\u00c3\\u0083\\\\x82\\u00c3\\u0082\\\\x9f\\u00c3\\u0083\\\\x83\\u00c3\\u0082\\\\x83\\u00c3\\u0083\\\\x82\\u00c3\\u0082\\\\x82\\u00c3\\u0083\\\\x83\\u00c3\\u0082\\\\x82\\u00c3\\u0083\\\\x82\\u00c3\\u0082\\\\x8f\\u00c3\\u0083\\\\x83\\u00c3\\u0082\\\\x83\\u00c3\\u0083\\\\x82\\u00c3\\u0082\\\\x82\\u00c3\\u0083\\\\x83\\u00c3\\u0082\\\\x82\\u00c3\\u0083\\\\x82\\u00c3\\u0082\\u00c2\\u00bc'), ('Rated 4.0', 'RATED\\\\n  Perfect place to have smoke, smoking sizzler. Good combination of spices every time. Must visit place for sizzler lover from Bangalore. We reached there around 7:45 on Saturday restaurant was half full. Food took longer time, but it\\u00c3\\u0083\\\\x83\\u00c3\\u0082\\\\x83\\u00c3\\u0083\\\\x82\\u00c3\\u0082\\\\x83\\u00c3\\u0083\\\\x83\\u00c3\\u0082\\\\x82\\u00c3\\u0083\\\\x82\\u00c3\\u0082\\u00c2\\u00a2\\u00c3\\u0083\\\\x83\\u00c3\\u0082\\\\x83\\u00c3\\u0083\\\\x82\\u00c3\\u0082\\\\x82\\u00c3\\u0083\\\\x83\\u00c3\\u0082\\\\x82\\u00c3\\u0083\\\\x82\\u00c3\\u0082\\\\x80\\u00c3\\u0083\\\\x83\\u00c3\\u0082\\\\x83\\u00c3\\u0083\\\\x82\\u00c3\\u0082\\\\x82\\u00c3\\u0083\\\\x83\\u00c3\\u0082\\\\x82\\u00c3\\u0083\\\\x82\\u00c3\\u0082\\\\x99s worth waiting for mouthwatering food. And yeah Zomato gold makes it perfect.'), ('Rated 5.0', 'RATED\\\\n  Awesome food and very good ambience.Even the service is also very good......Especially the sizzlers is amazing and worth for the money.......'), ('Rated 4.0', 'RATED\\\\n  Awesome ambience! Loved it. Food was equally delicious. We ordered cheesy macaroni sizzler and paneer charmouli sizzler. Both was up to the mark. Would like to visit again for trying out other dishes.'), ('Rated 3.0', 'RATED\\\\n  A decent place for sizzlers, they have got a nice ambience and music selection is good! My first visit was delightful, we ordered the chicken stroganoff sizzler and the malai tikka sizzler. Both were pretty great, wasn\\u00c3\\u0083\\\\x83\\u00c3\\u0082\\\\x83\\u00c3\\u0083\\\\x82\\u00c3\\u0082\\\\x83\\u00c3\\u0083\\\\x83\\u00c3\\u0082\\\\x82\\u00c3\\u0083\\\\x82\\u00c3\\u0082\\u00c2\\u00a2\\u00c3\\u0083\\\\x83\\u00c3\\u0082\\\\x83\\u00c3\\u0083\\\\x82\\u00c3\\u0082\\\\x82\\u00c3\\u0083\\\\x83\\u00c3\\u0082\\\\x82\\u00c3\\u0083\\\\x82\\u00c3\\u0082\\\\x80\\u00c3\\u0083\\\\x83\\u00c3\\u0082\\\\x83\\u00c3\\u0083\\\\x82\\u00c3\\u0082\\\\x82\\u00c3\\u0083\\\\x83\\u00c3\\u0082\\\\x82\\u00c3\\u0083\\\\x82\\u00c3\\u0082\\\\x99t a big fan of the veggies though. Another day, I ordered the grilled fish sizzler and didn\\u00c3\\u0083\\\\x83\\u00c3\\u0082\\\\x83\\u00c3\\u0083\\\\x82\\u00c3\\u0082\\\\x83\\u00c3\\u0083\\\\x83\\u00c3\\u0082\\\\x82\\u00c3\\u0083\\\\x82\\u00c3\\u0082\\u00c2\\u00a2\\u00c3\\u0083\\\\x83\\u00c3\\u0082\\\\x83\\u00c3\\u0083\\\\x82\\u00c3\\u0082\\\\x82\\u00c3\\u0083\\\\x83\\u00c3\\u0082\\\\x82\\u00c3\\u0083\\\\x82\\u00c3\\u0082\\\\x80\\u00c3\\u0083\\\\x83\\u00c3\\u0082\\\\x83\\u00c3\\u0083\\\\x82\\u00c3\\u0082\\\\x82\\u00c3\\u0083\\\\x83\\u00c3\\u0082\\\\x82\\u00c3\\u0083\\\\x82\\u00c3\\u0082\\\\x99t really like it. The fish didn\\u00c3\\u0083\\\\x83\\u00c3\\u0082\\\\x83\\u00c3\\u0083\\\\x82\\u00c3\\u0082\\\\x83\\u00c3\\u0083\\\\x83\\u00c3\\u0082\\\\x82\\u00c3\\u0083\\\\x82\\u00c3\\u0082\\u00c2\\u00a2\\u00c3\\u0083\\\\x83\\u00c3\\u0082\\\\x83\\u00c3\\u0083\\\\x82\\u00c3\\u0082\\\\x82\\u00c3\\u0083\\\\x83\\u00c3\\u0082\\\\x82\\u00c3\\u0083\\\\x82\\u00c3\\u0082\\\\x80\\u00c3\\u0083\\\\x83\\u00c3\\u0082\\\\x83\\u00c3\\u0083\\\\x82\\u00c3\\u0082\\\\x82\\u00c3\\u0083\\\\x83\\u00c3\\u0082\\\\x82\\u00c3\\u0083\\\\x82\\u00c3\\u0082\\\\x99t seem to be very fresh and that affected the whole meal. Overall, I\\u00c3\\u0083\\\\x83\\u00c3\\u0082\\\\x83\\u00c3\\u0083\\\\x82\\u00c3\\u0082\\\\x83\\u00c3\\u0083\\\\x83\\u00c3\\u0082\\\\x82\\u00c3\\u0083\\\\x82\\u00c3\\u0082\\u00c2\\u00a2\\u00c3\\u0083\\\\x83\\u00c3\\u0082\\\\x83\\u00c3\\u0083\\\\x82\\u00c3\\u0082\\\\x82\\u00c3\\u0083\\\\x83\\u00c3\\u0082\\\\x82\\u00c3\\u0083\\\\x82\\u00c3\\u0082\\\\x80\\u00c3\\u0083\\\\x83\\u00c3\\u0082\\\\x83\\u00c3\\u0083\\\\x82\\u00c3\\u0082\\\\x82\\u00c3\\u0083\\\\x83\\u00c3\\u0082\\\\x82\\u00c3\\u0083\\\\x82\\u00c3\\u0082\\\\x99d say this place is good.'), ('Rated 2.0', \\\"RATED\\\\n  Was here on my birthday with a bunch of friends.\\\\nNow I didn't like this place as much, neither did my friends. In all honesty the place was very good with it's decor and the layout - beautiful architecture! Points for that.\\\\nFood - okay. Nothing to die for. I liked one of the starter, Cajun cheese fingers, but that's it. They did get the basic buffalo wings terribly wrong though. I mean, how did that happen!? The price too is a little high for the satisfaction that is missing from their food.\\\\nI will probably give it another shot but only after a really long while.\\\\nAlthough if you want a quiet place to have drinks with your friends, you can go here.\\\"), ('Rated 4.0', 'RATED\\\\n  Perfect place to have smoke, smoking sizzler. Good combination of spices every time. Must visit place for sizzler lover from Bangalore. We reached there around 7:45 on Saturday restaurant was half full. Food took longer time, but it\\u00c3\\u0083\\\\x83\\u00c3\\u0082\\\\x83\\u00c3\\u0083\\\\x82\\u00c3\\u0082\\\\x83\\u00c3\\u0083\\\\x83\\u00c3\\u0082\\\\x82\\u00c3\\u0083\\\\x82\\u00c3\\u0082\\u00c2\\u00a2\\u00c3\\u0083\\\\x83\\u00c3\\u0082\\\\x83\\u00c3\\u0083\\\\x82\\u00c3\\u0082\\\\x82\\u00c3\\u0083\\\\x83\\u00c3\\u0082\\\\x82\\u00c3\\u0083\\\\x82\\u00c3\\u0082\\\\x80\\u00c3\\u0083\\\\x83\\u00c3\\u0082\\\\x83\\u00c3\\u0083\\\\x82\\u00c3\\u0082\\\\x82\\u00c3\\u0083\\\\x83\\u00c3\\u0082\\\\x82\\u00c3\\u0083\\\\x82\\u00c3\\u0082\\\\x99s worth waiting for mouthwatering food. And yeah Zomato gold makes it perfect.'), ('Rated 5.0', 'RATED\\\\n  Awesome food and very good ambience.Even the service is also very good......Especially the sizzlers is amazing and worth for the money.......'), ('Rated 4.0', 'RATED\\\\n  Awesome ambience! Loved it. Food was equally delicious. We ordered cheesy macaroni sizzler and paneer charmouli sizzler. Both was up to the mark. Would like to visit again for trying out other dishes.'), ('Rated 3.0', 'RATED\\\\n  A decent place for sizzlers, they have got a nice ambience and music selection is good! My first visit was delightful, we ordered the chicken stroganoff sizzler and the malai tikka sizzler. Both were pretty great, wasn\\u00c3\\u0083\\\\x83\\u00c3\\u0082\\\\x83\\u00c3\\u0083\\\\x82\\u00c3\\u0082\\\\x83\\u00c3\\u0083\\\\x83\\u00c3\\u0082\\\\x82\\u00c3\\u0083\\\\x82\\u00c3\\u0082\\u00c2\\u00a2\\u00c3\\u0083\\\\x83\\u00c3\\u0082\\\\x83\\u00c3\\u0083\\\\x82\\u00c3\\u0082\\\\x82\\u00c3\\u0083\\\\x83\\u00c3\\u0082\\\\x82\\u00c3\\u0083\\\\x82\\u00c3\\u0082\\\\x80\\u00c3\\u0083\\\\x83\\u00c3\\u0082\\\\x83\\u00c3\\u0083\\\\x82\\u00c3\\u0082\\\\x82\\u00c3\\u0083\\\\x83\\u00c3\\u0082\\\\x82\\u00c3\\u0083\\\\x82\\u00c3\\u0082\\\\x99t a big fan of the veggies though. Another day, I ordered the grilled fish sizzler and didn\\u00c3\\u0083\\\\x83\\u00c3\\u0082\\\\x83\\u00c3\\u0083\\\\x82\\u00c3\\u0082\\\\x83\\u00c3\\u0083\\\\x83\\u00c3\\u0082\\\\x82\\u00c3\\u0083\\\\x82\\u00c3\\u0082\\u00c2\\u00a2\\u00c3\\u0083\\\\x83\\u00c3\\u0082\\\\x83\\u00c3\\u0083\\\\x82\\u00c3\\u0082\\\\x82\\u00c3\\u0083\\\\x83\\u00c3\\u0082\\\\x82\\u00c3\\u0083\\\\x82\\u00c3\\u0082\\\\x80\\u00c3\\u0083\\\\x83\\u00c3\\u0082\\\\x83\\u00c3\\u0083\\\\x82\\u00c3\\u0082\\\\x82\\u00c3\\u0083\\\\x83\\u00c3\\u0082\\\\x82\\u00c3\\u0083\\\\x82\\u00c3\\u0082\\\\x99t really like it. The fish didn\\u00c3\\u0083\\\\x83\\u00c3\\u0082\\\\x83\\u00c3\\u0083\\\\x82\\u00c3\\u0082\\\\x83\\u00c3\\u0083\\\\x83\\u00c3\\u0082\\\\x82\\u00c3\\u0083\\\\x82\\u00c3\\u0082\\u00c2\\u00a2\\u00c3\\u0083\\\\x83\\u00c3\\u0082\\\\x83\\u00c3\\u0083\\\\x82\\u00c3\\u0082\\\\x82\\u00c3\\u0083\\\\x83\\u00c3\\u0082\\\\x82\\u00c3\\u0083\\\\x82\\u00c3\\u0082\\\\x80\\u00c3\\u0083\\\\x83\\u00c3\\u0082\\\\x83\\u00c3\\u0083\\\\x82\\u00c3\\u0082\\\\x82\\u00c3\\u0083\\\\x83\\u00c3\\u0082\\\\x82\\u00c3\\u0083\\\\x82\\u00c3\\u0082\\\\x99t seem to be very fresh and that affected the whole meal. Overall, I\\u00c3\\u0083\\\\x83\\u00c3\\u0082\\\\x83\\u00c3\\u0083\\\\x82\\u00c3\\u0082\\\\x83\\u00c3\\u0083\\\\x83\\u00c3\\u0082\\\\x82\\u00c3\\u0083\\\\x82\\u00c3\\u0082\\u00c2\\u00a2\\u00c3\\u0083\\\\x83\\u00c3\\u0082\\\\x83\\u00c3\\u0083\\\\x82\\u00c3\\u0082\\\\x82\\u00c3\\u0083\\\\x83\\u00c3\\u0082\\\\x82\\u00c3\\u0083\\\\x82\\u00c3\\u0082\\\\x80\\u00c3\\u0083\\\\x83\\u00c3\\u0082\\\\x83\\u00c3\\u0083\\\\x82\\u00c3\\u0082\\\\x82\\u00c3\\u0083\\\\x83\\u00c3\\u0082\\\\x82\\u00c3\\u0083\\\\x82\\u00c3\\u0082\\\\x99d say this place is good.'), ('Rated 2.0', \\\"RATED\\\\n  Was here on my birthday with a bunch of friends.\\\\nNow I didn't like this place as much, neither did my friends. In all honesty the place was very good with it's decor and the layout - beautiful architecture! Points for that.\\\\nFood - okay. Nothing to die for. I liked one of the starter, Cajun cheese fingers, but that's it. They did get the basic buffalo wings terribly wrong though. I mean, how did that happen!? The price too is a little high for the satisfaction that is missing from their food.\\\\nI will probably give it another shot but only after a really long while.\\\\nAlthough if you want a quiet place to have drinks with your friends, you can go here.\\\"), ('Rated 4.0', 'RATED\\\\n  Perfect place to have smoke, smoking sizzler. Good combination of spices every time. Must visit place for sizzler lover from Bangalore. We reached there around 7:45 on Saturday restaurant was half full. Food took longer time, but it\\u00c3\\u0083\\\\x83\\u00c3\\u0082\\\\x83\\u00c3\\u0083\\\\x82\\u00c3\\u0082\\\\x83\\u00c3\\u0083\\\\x83\\u00c3\\u0082\\\\x82\\u00c3\\u0083\\\\x82\\u00c3\\u0082\\u00c2\\u00a2\\u00c3\\u0083\\\\x83\\u00c3\\u0082\\\\x83\\u00c3\\u0083\\\\x82\\u00c3\\u0082\\\\x82\\u00c3\\u0083\\\\x83\\u00c3\\u0082\\\\x82\\u00c3\\u0083\\\\x82\\u00c3\\u0082\\\\x80\\u00c3\\u0083\\\\x83\\u00c3\\u0082\\\\x83\\u00c3\\u0083\\\\x82\\u00c3\\u0082\\\\x82\\u00c3\\u0083\\\\x83\\u00c3\\u0082\\\\x82\\u00c3\\u0083\\\\x82\\u00c3\\u0082\\\\x99s worth waiting for mouthwatering food. And yeah Zomato gold makes it perfect.'), ('Rated 5.0', 'RATED\\\\n  Awesome food and very good ambience.Even the service is also very good......Especially the sizzlers is amazing and worth for the money.......'), ('Rated 4.0', 'RATED\\\\n  Awesome ambience! Loved it. Food was equally delicious. We ordered cheesy macaroni sizzler and paneer charmouli sizzler. Both was up to the mark. Would like to visit again for trying out other dishes.'), ('Rated 3.0', 'RATED\\\\n  A decent place for sizzlers, they have got a nice ambience and music selection is good! My first visit was delightful, we ordered the chicken stroganoff sizzler and the malai tikka sizzler. Both were pretty great, wasn\\u00c3\\u0083\\\\x83\\u00c3\\u0082\\\\x83\\u00c3\\u0083\\\\x82\\u00c3\\u0082\\\\x83\\u00c3\\u0083\\\\x83\\u00c3\\u0082\\\\x82\\u00c3\\u0083\\\\x82\\u00c3\\u0082\\u00c2\\u00a2\\u00c3\\u0083\\\\x83\\u00c3\\u0082\\\\x83\\u00c3\\u0083\\\\x82\\u00c3\\u0082\\\\x82\\u00c3\\u0083\\\\x83\\u00c3\\u0082\\\\x82\\u00c3\\u0083\\\\x82\\u00c3\\u0082\\\\x80\\u00c3\\u0083\\\\x83\\u00c3\\u0082\\\\x83\\u00c3\\u0083\\\\x82\\u00c3\\u0082\\\\x82\\u00c3\\u0083\\\\x83\\u00c3\\u0082\\\\x82\\u00c3\\u0083\\\\x82\\u00c3\\u0082\\\\x99t a big fan of the veggies though. Another day, I ordered the grilled fish sizzler and didn\\u00c3\\u0083\\\\x83\\u00c3\\u0082\\\\x83\\u00c3\\u0083\\\\x82\\u00c3\\u0082\\\\x83\\u00c3\\u0083\\\\x83\\u00c3\\u0082\\\\x82\\u00c3\\u0083\\\\x82\\u00c3\\u0082\\u00c2\\u00a2\\u00c3\\u0083\\\\x83\\u00c3\\u0082\\\\x83\\u00c3\\u0083\\\\x82\\u00c3\\u0082\\\\x82\\u00c3\\u0083\\\\x83\\u00c3\\u0082\\\\x82\\u00c3\\u0083\\\\x82\\u00c3\\u0082\\\\x80\\u00c3\\u0083\\\\x83\\u00c3\\u0082\\\\x83\\u00c3\\u0083\\\\x82\\u00c3\\u0082\\\\x82\\u00c3\\u0083\\\\x83\\u00c3\\u0082\\\\x82\\u00c3\\u0083\\\\x82\\u00c3\\u0082\\\\x99t really like it. The fish didn\\u00c3\\u0083\\\\x83\\u00c3\\u0082\\\\x83\\u00c3\\u0083\\\\x82\\u00c3\\u0082\\\\x83\\u00c3\\u0083\\\\x83\\u00c3\\u0082\\\\x82\\u00c3\\u0083\\\\x82\\u00c3\\u0082\\u00c2\\u00a2\\u00c3\\u0083\\\\x83\\u00c3\\u0082\\\\x83\\u00c3\\u0083\\\\x82\\u00c3\\u0082\\\\x82\\u00c3\\u0083\\\\x83\\u00c3\\u0082\\\\x82\\u00c3\\u0083\\\\x82\\u00c3\\u0082\\\\x80\\u00c3\\u0083\\\\x83\\u00c3\\u0082\\\\x83\\u00c3\\u0083\\\\x82\\u00c3\\u0082\\\\x82\\u00c3\\u0083\\\\x83\\u00c3\\u0082\\\\x82\\u00c3\\u0083\\\\x82\\u00c3\\u0082\\\\x99t seem to be very fresh and that affected the whole meal. Overall, I\\u00c3\\u0083\\\\x83\\u00c3\\u0082\\\\x83\\u00c3\\u0083\\\\x82\\u00c3\\u0082\\\\x83\\u00c3\\u0083\\\\x83\\u00c3\\u0082\\\\x82\\u00c3\\u0083\\\\x82\\u00c3\\u0082\\u00c2\\u00a2\\u00c3\\u0083\\\\x83\\u00c3\\u0082\\\\x83\\u00c3\\u0083\\\\x82\\u00c3\\u0082\\\\x82\\u00c3\\u0083\\\\x83\\u00c3\\u0082\\\\x82\\u00c3\\u0083\\\\x82\\u00c3\\u0082\\\\x80\\u00c3\\u0083\\\\x83\\u00c3\\u0082\\\\x83\\u00c3\\u0083\\\\x82\\u00c3\\u0082\\\\x82\\u00c3\\u0083\\\\x83\\u00c3\\u0082\\\\x82\\u00c3\\u0083\\\\x82\\u00c3\\u0082\\\\x99d say this place is good.'), ('Rated 2.0', \\\"RATED\\\\n  Was here on my birthday with a bunch of friends.\\\\nNow I didn't like this place as much, neither did my friends. In all honesty the place was very good with it's decor and the layout - beautiful architecture! Points for that.\\\\nFood - okay. Nothing to die for. I liked one of the starter, Cajun cheese fingers, but that's it. They did get the basic buffalo wings terribly wrong though. I mean, how did that happen!? The price too is a little high for the satisfaction that is missing from their food.\\\\nI will probably give it another shot but only after a really long while.\\\\nAlthough if you want a quiet place to have drinks with your friends, you can go here.\\\"), ('Rated 4.0', 'RATED\\\\n  Perfect place to have smoke, smoking sizzler. Good combination of spices every time. Must visit place for sizzler lover from Bangalore. We reached there around 7:45 on Saturday restaurant was half full. Food took longer time, but it\\u00c3\\u0083\\\\x83\\u00c3\\u0082\\\\x83\\u00c3\\u0083\\\\x82\\u00c3\\u0082\\\\x83\\u00c3\\u0083\\\\x83\\u00c3\\u0082\\\\x82\\u00c3\\u0083\\\\x82\\u00c3\\u0082\\u00c2\\u00a2\\u00c3\\u0083\\\\x83\\u00c3\\u0082\\\\x83\\u00c3\\u0083\\\\x82\\u00c3\\u0082\\\\x82\\u00c3\\u0083\\\\x83\\u00c3\\u0082\\\\x82\\u00c3\\u0083\\\\x82\\u00c3\\u0082\\\\x80\\u00c3\\u0083\\\\x83\\u00c3\\u0082\\\\x83\\u00c3\\u0083\\\\x82\\u00c3\\u0082\\\\x82\\u00c3\\u0083\\\\x83\\u00c3\\u0082\\\\x82\\u00c3\\u0083\\\\x82\\u00c3\\u0082\\\\x99s worth waiting for mouthwatering food. And yeah Zomato gold makes it perfect.'), ('Rated 5.0', 'RATED\\\\n  Awesome food and very good ambience.Even the service is also very good......Especially the sizzlers is amazing and worth for the money.......'), ('Rated 4.0', 'RATED\\\\n  Awesome ambience! Loved it. Food was equally delicious. We ordered cheesy macaroni sizzler and paneer charmouli sizzler. Both was up to the mark. Would like to visit again for trying out other dishes.'), ('Rated 3.0', 'RATED\\\\n  A decent place for sizzlers, they have got a nice ambience and music selection is good! My first visit was delightful, we ordered the chicken stroganoff sizzler and the malai tikka sizzler. Both were pretty great, wasn\\u00c3\\u0083\\\\x83\\u00c3\\u0082\\\\x83\\u00c3\\u0083\\\\x82\\u00c3\\u0082\\\\x83\\u00c3\\u0083\\\\x83\\u00c3\\u0082\\\\x82\\u00c3\\u0083\\\\x82\\u00c3\\u0082\\u00c2\\u00a2\\u00c3\\u0083\\\\x83\\u00c3\\u0082\\\\x83\\u00c3\\u0083\\\\x82\\u00c3\\u0082\\\\x82\\u00c3\\u0083\\\\x83\\u00c3\\u0082\\\\x82\\u00c3\\u0083\\\\x82\\u00c3\\u0082\\\\x80\\u00c3\\u0083\\\\x83\\u00c3\\u0082\\\\x83\\u00c3\\u0083\\\\x82\\u00c3\\u0082\\\\x82\\u00c3\\u0083\\\\x83\\u00c3\\u0082\\\\x82\\u00c3\\u0083\\\\x82\\u00c3\\u0082\\\\x99t a big fan of the veggies though. Another day, I ordered the grilled fish sizzler and didn\\u00c3\\u0083\\\\x83\\u00c3\\u0082\\\\x83\\u00c3\\u0083\\\\x82\\u00c3\\u0082\\\\x83\\u00c3\\u0083\\\\x83\\u00c3\\u0082\\\\x82\\u00c3\\u0083\\\\x82\\u00c3\\u0082\\u00c2\\u00a2\\u00c3\\u0083\\\\x83\\u00c3\\u0082\\\\x83\\u00c3\\u0083\\\\x82\\u00c3\\u0082\\\\x82\\u00c3\\u0083\\\\x83\\u00c3\\u0082\\\\x82\\u00c3\\u0083\\\\x82\\u00c3\\u0082\\\\x80\\u00c3\\u0083\\\\x83\\u00c3\\u0082\\\\x83\\u00c3\\u0083\\\\x82\\u00c3\\u0082\\\\x82\\u00c3\\u0083\\\\x83\\u00c3\\u0082\\\\x82\\u00c3\\u0083\\\\x82\\u00c3\\u0082\\\\x99t really like it. The fish didn\\u00c3\\u0083\\\\x83\\u00c3\\u0082\\\\x83\\u00c3\\u0083\\\\x82\\u00c3\\u0082\\\\x83\\u00c3\\u0083\\\\x83\\u00c3\\u0082\\\\x82\\u00c3\\u0083\\\\x82\\u00c3\\u0082\\u00c2\\u00a2\\u00c3\\u0083\\\\x83\\u00c3\\u0082\\\\x83\\u00c3\\u0083\\\\x82\\u00c3\\u0082\\\\x82\\u00c3\\u0083\\\\x83\\u00c3\\u0082\\\\x82\\u00c3\\u0083\\\\x82\\u00c3\\u0082\\\\x80\\u00c3\\u0083\\\\x83\\u00c3\\u0082\\\\x83\\u00c3\\u0083\\\\x82\\u00c3\\u0082\\\\x82\\u00c3\\u0083\\\\x83\\u00c3\\u0082\\\\x82\\u00c3\\u0083\\\\x82\\u00c3\\u0082\\\\x99t seem to be very fresh and that affected the whole meal. Overall, I\\u00c3\\u0083\\\\x83\\u00c3\\u0082\\\\x83\\u00c3\\u0083\\\\x82\\u00c3\\u0082\\\\x83\\u00c3\\u0083\\\\x83\\u00c3\\u0082\\\\x82\\u00c3\\u0083\\\\x82\\u00c3\\u0082\\u00c2\\u00a2\\u00c3\\u0083\\\\x83\\u00c3\\u0082\\\\x83\\u00c3\\u0083\\\\x82\\u00c3\\u0082\\\\x82\\u00c3\\u0083\\\\x83\\u00c3\\u0082\\\\x82\\u00c3\\u0083\\\\x82\\u00c3\\u0082\\\\x80\\u00c3\\u0083\\\\x83\\u00c3\\u0082\\\\x83\\u00c3\\u0083\\\\x82\\u00c3\\u0082\\\\x82\\u00c3\\u0083\\\\x83\\u00c3\\u0082\\\\x82\\u00c3\\u0083\\\\x82\\u00c3\\u0082\\\\x99d say this place is good.'), ('Rated 2.0', \\\"RATED\\\\n  Was here on my birthday with a bunch of friends.\\\\nNow I didn't like this place as much, neither did my friends. In all honesty the place was very good with it's decor and the layout - beautiful architecture! Points for that.\\\\nFood - okay. Nothing to die for. I liked one of the starter, Cajun cheese fingers, but that's it. They did get the basic buffalo wings terribly wrong though. I mean, how did that happen!? The price too is a little high for the satisfaction that is missing from their food.\\\\nI will probably give it another shot but only after a really long while.\\\\nAlthough if you want a quiet place to have drinks with your friends, you can go here.\\\"), ('Rated 3.0', 'RATED\\\\n  Had been to this place on sunday night and it was not that crowded. Ambience was okay nothing special.We ordered Schezwan Chicken, Schezwan veg, Veg Manchurian and Fusion chilli chicken sizzlers.All the sizzlers were good though we felt they were bit salty. Coming to their service it was big let down as it was too damn slow.It took exactly 1 hour for our orders to arrive.They will have to work extensively in improving their services.\\\\n\\\\nFood 3/5\\\\nAmbience 3/5\\\\nService 0.5/5'), ('Rated 5.0', 'RATED\\\\n  Extremely good place for having sizzlers in Bangalore. Ordered a virgin Mary and a grilled fish sizzler along with chefs special mushrooms.\\\\n\\\\nThe place is extremely economical. All the dishes were very good. The sauce with grilled fish sizzler was amazing.\\\\n\\\\nThe flip side is, everything was very heavy.'), ('Rated 3.5', \\\"RATED\\\\n  The ambience is very nice and descent . We asked the staff the details of about few dishes but it seems either they don't have any clue about the preparation or it was language issue. We ordered two soups which came half an hr late. The lemon clear soup was very simple and tasty..it was very refreshing for start..we ordered two sizzlers , two starters...butter fried prawns was delicious ..The dishes were well cooked ..but the service is very slow..I really hope management should come up with some improvement as the other customers in the restaurant we're also complaining to waiters about same thing.. I can go for second time only if they improve the service ..\\\"), ('Rated 2.0', \\\"RATED\\\\n  I went to thus place as I heard the Food is good here...But even after waiting for half an hour after ordering a srarter, it didn't come. The staff were not able to explain the delay..but again they Lack in Service, which is tooooo Slow.\\\\nThe place was too smokey from the Sizzlers and there was no exhaust for the smoke to go Out. Waiting for the Starter itself killed my Appetite. I had to Walk out waiting for it to come for a never ending time..I would Never Ever go to this Place and not Recommend it to Any of my Friends. PATHETIC.\\\")]\",\n          \"[('Rated 4.0', \\\"RATED\\\\n  Wasn't here for a long time. Just here to pick a quick cup of coffee. I love the ambience, a good place to read a book or work with a decent menu. The takeaway service was quick. Would come over here sometime again.\\\"), ('Rated 3.0', 'RATED\\\\n  We went there after reading the positive reviews on Zomato but the place is not worth it. The service is no doubt really good but the food is not that good. There are many places which serve better food in that price!'), ('Rated 3.0', \\\"RATED\\\\n  are u looking for a cool place with a good ambiance I think this is u r place. Hanging out in this place for long hours might be fun way to spend u r day , but be aware this is one of those places were the ambiance supersedes the food . No I'm not saying food here is bad but certainly not as good as the ambiance, common problem I noticed was pizza base not baked properly to the fullest, sandwich not toasted to feel Fully crunchy. Chocolate shake was good though, I would say taste is subjective so I would say go form your own opinions. Visit to this place will not be a dissatisfaction for sure . Happy eating ?\\\"), ('Rated 4.0', \\\"RATED\\\\n  Cafe D'hide is located in Koramangala. I went there with my hubby.It was a nice Place to enjoy with your friends & family.\\\\nFood, Taste, and Quality is good. We ordered Fish Burger and Vegetarian Pizza.\\\\nThe fish burger was quite good. It was big and flavourful burger.\\\\nThe pizza base was readymade thin-crust base. Pizza mushtooms, broccoli, sweetcorn, bell peppers these toppings were good, but because of ready made dough pizza was not that much good.\\\\nThe service is good and the ambience is very nice with good & different decor.\\\"), ('Rated 4.0', \\\"RATED\\\\n  Cafe D'hide is a nice cozy place in Koramangala. The cafe offers a lot in terms of food, service and ambience. I went there with my family on an afternoon. It was a nice experience.\\\\n\\\\nFOOD, TASTE, AND QUALITY:\\\\n\\\\nWe had the English Mustard Fish Burger and D'hide Vegetarian Pizza. The pizza base was not made of in-house fresh dough and it was a readymade thin-crust base which didn't add any much excitement. The toppings were although good and it had mushtooms, broccoli, sweetcorn, bell peppers, and sun dried tomatoes. So, a thumbs down for the pizza base but the toppings were really good.\\\\n\\\\nThe mustard fish burger was quite good. It was big and filled with fresh mustard fish, lettuce, and sauces. It was flavourful.\\\\n\\\\nSERVICE AND AMBIENCE:\\\\nThe service is excellent and the ambience is very nice with good decor and interiors.\\\"), ('Rated 5.0', 'RATED\\\\n  If you love coffee, this is the place to be. In just 4 visits I have tried all their frappes and I absolutely am in love with them.\\\\nTheir food is equally good , especially the burgers.\\\\nThe ambience is just perfect!\\\\nVery polite and courteous staff.\\\\n\\\\nDefinately recommend this place to all the coffee lovers! :)'), ('Rated 3.0', 'RATED\\\\n  The cold coffee and milkshake was exceptional! The ambience is lovely very fresh and bright, the tuna salad was a little dry and we had to ask for sauces, the pizza was huge but tasted average! Nice place to click pics :)'), ('Rated 4.0', \\\"RATED\\\\n  Had been here with a friend, the place is lit up and beautifully decorated. It's a small restaurant but good enough for a group of 25-30friends to drop by.\\\\nThe ambience is amazing. We ordered shakes and juices. The staff was bit slow inspite of booking in advance but that's fine as long as the food is yum.\\\"), ('Rated 4.0', 'RATED\\\\n  The place in nice and cozy. I had the English breakfast here. There were smileys made on my sunny side up eggs. Loved it. The chicken sausage and chicken bacon was really nice. Fast service. Polite waiters. The baked beans was tasty. I would definitely recommend this place.'), ('Rated 4.0', 'RATED\\\\n  Tiny little cafe with absolutely beautiful interiors and good vibes. Not exactly a place to go with a large group of people- would be ideal for for groups of 2-4 people.\\\\n\\\\nWe tried A non veg pizza, a veg pizza and chilli garlic noodles(which came with a happy sunny side up).\\\\nFood was good, but nothing special about it. Totally worth the money.\\\\nDecent food for moderate prices!'), ('Rated 4.0', \\\"RATED\\\\n  It's a tiny cafe which is also a part of Tim Tai Restaurant. The food served was great. It was a little crowded and has very limited seats. If you visit on a weekend, may have to wait outside at the entrance until the table gets cleared.\\\"), ('Rated 4.0', \\\"RATED\\\\n  One of the most cutest cafe in Bangalore I have been to. Music that let's you talk. I am drollin over the ambiance. I am person who loves french fries, and peri peri is yum, must have.\\\"), ('Rated 4.0', 'RATED\\\\n  This cafe is located adjacent to Tim Thai restaurant. It\\u00c3\\u0083\\\\x83\\u00c3\\u0082\\\\x83\\u00c3\\u0083\\\\x82\\u00c3\\u0082\\\\x82\\u00c3\\u0083\\\\x83\\u00c3\\u0082\\\\x82\\u00c3\\u0083\\\\x82\\u00c3\\u0082\\\\x92s just a part of tim thai restaurant.\\\\nI am in love with the ambience of this place. It has pretty,cozy ambience. Lot of flower pots , decorative items can be seen on their wall.\\\\nAmbience I would say 5/5.\\\\nComing to the food , I had chicken egg fried burger and pop corn chicken from the starters.\\\\nBurger will be served with french fries and salad. Both were good.\\\\nService was quick and good.'), ('Rated 4.0', 'RATED\\\\n  A small and pretty cafe besides Tim tai I would rather say a unit of Tim tai. The wall paintings, ambience is pretty good with pots everywhere. We had ordered pop corn chicken, chicken patty fried egg burger. Both tasted good. Service was quick and good.'), ('Rated 5.0', 'RATED\\\\n  D\\u00c3\\u0083\\\\x83\\u00c3\\u0082\\\\x83\\u00c3\\u0083\\\\x82\\u00c3\\u0082\\\\x82\\u00c3\\u0083\\\\x83\\u00c3\\u0082\\\\x82\\u00c3\\u0083\\\\x82\\u00c3\\u0082\\\\x92hide is one of my favourite cafes! It has such a beautiful setting and such cosy, warm vibes, despite being in one of the most busy lanes of Koramangala! The USP of this place is it\\u00c3\\u0083\\\\x83\\u00c3\\u0082\\\\x83\\u00c3\\u0083\\\\x82\\u00c3\\u0082\\\\x82\\u00c3\\u0083\\\\x83\\u00c3\\u0082\\\\x82\\u00c3\\u0083\\\\x82\\u00c3\\u0082\\\\x92s shelf full of beautiful articles that forms a part of it right hand side wall, when you enter ?\\\\nThe staff is polite and professional and the food and beverages are up to the mark ?\\\\nDo visit to experience the cutesy ambience ??'), ('Rated 5.0', \\\"RATED\\\\n  First of all the ambience of this place is very well done and it's super cozy and perfect for morning breakfasts. After morning walk in cubbon park it was time for continental breakfast. So we decided to give this place a try. It surely did not disappoint even a bit. Great ambience and good music playlist ;) coming to the food we ordered Veggie omelette ( mushroom, olives & cheese ) which was awesome, Banana honey pancakes which was out of this world and is a must try. It's served with whipped cream on the side.Veg lasagna was cheesy and delicious. Definitely come back :)\\\"), ('Rated 5.0', 'RATED\\\\n  Nice and quite cafe, in the heart of the city. Good place for a quite evening. Tried there fries , Earl Grey Tea, Double Shot Espresso. Great service'), ('Rated 5.0', 'RATED\\\\n  Cute cafe with wonderful decorate on the streets of kormangla indeed place designed with lot of love ..COMING to the food they have recently change there menu so we have tried grill chicken with whole leg by rice on the side ,ckn steak burger was awesome and for drinks we have order The dark night and caffine shake both was amazing i would love to visit again???'), ('Rated 5.0', 'RATED\\\\n  I am literally in love with this cafe.. ??????\\\\nA small, cute, attractive place with a wonderful interior design. ?\\\\nStaffs are friendly, menu is rich in varieties, ambience is truly relaxing and awesome ? music.\\\\nA must must and very must place to be try out in Bengaluru.\\\\nLocation is easily accessible ?'), ('Rated 2.0', 'RATED\\\\n  The place looked pretty in pictures and so decided to pay a visit.\\\\n\\\\nSmall place, good ambience. The inside looks like an English railway station with street lights and a huge clock.\\\\n\\\\nOrdered an Irish frappe, a wild berry smoothie and a Cajun chicken pizza. The Irish frappe was nice, the smoothie tasted more like a milkshake and was very sweet. The pizza was below average. The base was cracker and not pizza base, so it crumbles when you take a bite.\\\\n\\\\nOverall average experience with a beautiful ambience.'), ('Rated 5.0', \\\"RATED\\\\n  First of all the ambience of this place is very well done and it's super cozy and perfect for morning breakfasts. After morning walk in cubbon park it was time for continental breakfast. So we decided to give this place a try. It surely did not disappoint even a bit. Great ambience and good music playlist ;) coming to the food we ordered Veggie omelette ( mushroom, olives & cheese ) which was awesome, Banana honey pancakes which was out of this world and is a must try. It's served with whipped cream on the side.Veg lasagna was cheesy and delicious. Definitely come back :)\\\"), ('Rated 5.0', 'RATED\\\\n  Nice and quite cafe, in the heart of the city. Good place for a quite evening. Tried there fries , Earl Grey Tea, Double Shot Espresso. Great service'), ('Rated 5.0', 'RATED\\\\n  Cute cafe with wonderful decorate on the streets of kormangla indeed place designed with lot of love ..COMING to the food they have recently change there menu so we have tried grill chicken with whole leg by rice on the side ,ckn steak burger was awesome and for drinks we have order The dark night and caffine shake both was amazing i would love to visit again???'), ('Rated 5.0', 'RATED\\\\n  I am literally in love with this cafe.. ??????\\\\nA small, cute, attractive place with a wonderful interior design. ?\\\\nStaffs are friendly, menu is rich in varieties, ambience is truly relaxing and awesome ? music.\\\\nA must must and very must place to be try out in Bengaluru.\\\\nLocation is easily accessible ?'), ('Rated 2.0', 'RATED\\\\n  The place looked pretty in pictures and so decided to pay a visit.\\\\n\\\\nSmall place, good ambience. The inside looks like an English railway station with street lights and a huge clock.\\\\n\\\\nOrdered an Irish frappe, a wild berry smoothie and a Cajun chicken pizza. The Irish frappe was nice, the smoothie tasted more like a milkshake and was very sweet. The pizza was below average. The base was cracker and not pizza base, so it crumbles when you take a bite.\\\\n\\\\nOverall average experience with a beautiful ambience.'), ('Rated 5.0', \\\"RATED\\\\n  First of all the ambience of this place is very well done and it's super cozy and perfect for morning breakfasts. After morning walk in cubbon park it was time for continental breakfast. So we decided to give this place a try. It surely did not disappoint even a bit. Great ambience and good music playlist ;) coming to the food we ordered Veggie omelette ( mushroom, olives & cheese ) which was awesome, Banana honey pancakes which was out of this world and is a must try. It's served with whipped cream on the side.Veg lasagna was cheesy and delicious. Definitely come back :)\\\"), ('Rated 5.0', 'RATED\\\\n  Nice and quite cafe, in the heart of the city. Good place for a quite evening. Tried there fries , Earl Grey Tea, Double Shot Espresso. Great service'), ('Rated 5.0', 'RATED\\\\n  Cute cafe with wonderful decorate on the streets of kormangla indeed place designed with lot of love ..COMING to the food they have recently change there menu so we have tried grill chicken with whole leg by rice on the side ,ckn steak burger was awesome and for drinks we have order The dark night and caffine shake both was amazing i would love to visit again???'), ('Rated 5.0', 'RATED\\\\n  I am literally in love with this cafe.. ??????\\\\nA small, cute, attractive place with a wonderful interior design. ?\\\\nStaffs are friendly, menu is rich in varieties, ambience is truly relaxing and awesome ? music.\\\\nA must must and very must place to be try out in Bengaluru.\\\\nLocation is easily accessible ?'), ('Rated 2.0', 'RATED\\\\n  The place looked pretty in pictures and so decided to pay a visit.\\\\n\\\\nSmall place, good ambience. The inside looks like an English railway station with street lights and a huge clock.\\\\n\\\\nOrdered an Irish frappe, a wild berry smoothie and a Cajun chicken pizza. The Irish frappe was nice, the smoothie tasted more like a milkshake and was very sweet. The pizza was below average. The base was cracker and not pizza base, so it crumbles when you take a bite.\\\\n\\\\nOverall average experience with a beautiful ambience.'), ('Rated 5.0', \\\"RATED\\\\n  First of all the ambience of this place is very well done and it's super cozy and perfect for morning breakfasts. After morning walk in cubbon park it was time for continental breakfast. So we decided to give this place a try. It surely did not disappoint even a bit. Great ambience and good music playlist ;) coming to the food we ordered Veggie omelette ( mushroom, olives & cheese ) which was awesome, Banana honey pancakes which was out of this world and is a must try. It's served with whipped cream on the side.Veg lasagna was cheesy and delicious. Definitely come back :)\\\"), ('Rated 5.0', 'RATED\\\\n  Nice and quite cafe, in the heart of the city. Good place for a quite evening. Tried there fries , Earl Grey Tea, Double Shot Espresso. Great service'), ('Rated 5.0', 'RATED\\\\n  Cute cafe with wonderful decorate on the streets of kormangla indeed place designed with lot of love ..COMING to the food they have recently change there menu so we have tried grill chicken with whole leg by rice on the side ,ckn steak burger was awesome and for drinks we have order The dark night and caffine shake both was amazing i would love to visit again???'), ('Rated 5.0', 'RATED\\\\n  I am literally in love with this cafe.. ??????\\\\nA small, cute, attractive place with a wonderful interior design. ?\\\\nStaffs are friendly, menu is rich in varieties, ambience is truly relaxing and awesome ? music.\\\\nA must must and very must place to be try out in Bengaluru.\\\\nLocation is easily accessible ?'), ('Rated 2.0', 'RATED\\\\n  The place looked pretty in pictures and so decided to pay a visit.\\\\n\\\\nSmall place, good ambience. The inside looks like an English railway station with street lights and a huge clock.\\\\n\\\\nOrdered an Irish frappe, a wild berry smoothie and a Cajun chicken pizza. The Irish frappe was nice, the smoothie tasted more like a milkshake and was very sweet. The pizza was below average. The base was cracker and not pizza base, so it crumbles when you take a bite.\\\\n\\\\nOverall average experience with a beautiful ambience.'), ('Rated 5.0', \\\"RATED\\\\n  First of all the ambience of this place is very well done and it's super cozy and perfect for morning breakfasts. After morning walk in cubbon park it was time for continental breakfast. So we decided to give this place a try. It surely did not disappoint even a bit. Great ambience and good music playlist ;) coming to the food we ordered Veggie omelette ( mushroom, olives & cheese ) which was awesome, Banana honey pancakes which was out of this world and is a must try. It's served with whipped cream on the side.Veg lasagna was cheesy and delicious. Definitely come back :)\\\"), ('Rated 5.0', 'RATED\\\\n  Nice and quite cafe, in the heart of the city. Good place for a quite evening. Tried there fries , Earl Grey Tea, Double Shot Espresso. Great service'), ('Rated 5.0', 'RATED\\\\n  Cute cafe with wonderful decorate on the streets of kormangla indeed place designed with lot of love ..COMING to the food they have recently change there menu so we have tried grill chicken with whole leg by rice on the side ,ckn steak burger was awesome and for drinks we have order The dark night and caffine shake both was amazing i would love to visit again???'), ('Rated 5.0', 'RATED\\\\n  I am literally in love with this cafe.. ??????\\\\nA small, cute, attractive place with a wonderful interior design. ?\\\\nStaffs are friendly, menu is rich in varieties, ambience is truly relaxing and awesome ? music.\\\\nA must must and very must place to be try out in Bengaluru.\\\\nLocation is easily accessible ?'), ('Rated 2.0', 'RATED\\\\n  The place looked pretty in pictures and so decided to pay a visit.\\\\n\\\\nSmall place, good ambience. The inside looks like an English railway station with street lights and a huge clock.\\\\n\\\\nOrdered an Irish frappe, a wild berry smoothie and a Cajun chicken pizza. The Irish frappe was nice, the smoothie tasted more like a milkshake and was very sweet. The pizza was below average. The base was cracker and not pizza base, so it crumbles when you take a bite.\\\\n\\\\nOverall average experience with a beautiful ambience.'), ('Rated 5.0', 'RATED\\\\n  Lovely food and good ambience. The food was absolutely value for money.\\\\nP.S. If you are low on budget and want to have tasty food then this is the place to go.'), ('Rated 4.0', 'RATED\\\\n  The ambience of the place is really lovely.\\\\nService is good.\\\\n\\\\nWe had ordered Penne Pasta, Margherita Pizza, Oreo milkshake, Virgin Mojito, Nachos, Potato Wedges. The food was really good and tasty.\\\\nMy favourite was the pasta. The sauce was delicious. But when it came to the quantity, it was very less. It can be quite expensive. But, the experience was amazing.'), ('Rated 4.5', \\\"RATED\\\\n  This is a cute little cafe with beautiful interiors. Love the tiny little pots used for decor here.\\\\n\\\\nWe tried mocktails, milk shakes and fries platter. Loved the fries and dinks.\\\\n\\\\nIt's a nice quiet place to have catch up with friends or family.\\\\n\\\\nBeautiful ambience. Service is good too.\\\"), ('Rated 4.0', 'RATED\\\\n  Wonderful place with some amazing food and nice decor is how can define Cafe D\\u00c3\\u0083\\\\x83\\u00c3\\u0082\\\\x83\\u00c3\\u0083\\\\x82\\u00c3\\u0082\\\\x82\\u00c3\\u0083\\\\x83\\u00c3\\u0082\\\\x82\\u00c3\\u0083\\\\x82\\u00c3\\u0082\\\\x92hide!!\\\\n\\\\nIt\\u00c3\\u0083\\\\x83\\u00c3\\u0082\\\\x83\\u00c3\\u0083\\\\x82\\u00c3\\u0082\\\\x82\\u00c3\\u0083\\\\x83\\u00c3\\u0082\\\\x82\\u00c3\\u0083\\\\x82\\u00c3\\u0082\\\\x92s been a long time since I visited this place and I\\u00c3\\u0083\\\\x83\\u00c3\\u0082\\\\x83\\u00c3\\u0083\\\\x82\\u00c3\\u0082\\\\x82\\u00c3\\u0083\\\\x83\\u00c3\\u0082\\\\x82\\u00c3\\u0083\\\\x82\\u00c3\\u0082\\\\x92m waiting to visit it sooon.. Well I had been here on a weekday evening and it wasn\\u00c3\\u0083\\\\x83\\u00c3\\u0082\\\\x83\\u00c3\\u0083\\\\x82\\u00c3\\u0082\\\\x82\\u00c3\\u0083\\\\x83\\u00c3\\u0082\\\\x82\\u00c3\\u0083\\\\x82\\u00c3\\u0082\\\\x92t too crowded nor too less crowd.\\\\n\\\\nI ordered a Pizzza along with cheesy fries and some potato wedges along with a dessert whose name I seriously do not remember.\\\\n\\\\nI loved every dish of theirs as it was not too oily or spicy and was made fresh and served exactly the way we wanted it to be!!\\\\n\\\\nIt\\u00c3\\u0083\\\\x83\\u00c3\\u0082\\\\x83\\u00c3\\u0083\\\\x82\\u00c3\\u0082\\\\x82\\u00c3\\u0083\\\\x83\\u00c3\\u0082\\\\x82\\u00c3\\u0083\\\\x82\\u00c3\\u0082\\\\x92s a place worth visiting and having a binge meal as it is not a big hole to any of our pockets with the right portions being served.')]\"\n        ],\n        \"semantic_type\": \"\",\n        \"description\": \"\"\n      }\n    },\n    {\n      \"column\": \"type\",\n      \"properties\": {\n        \"dtype\": \"category\",\n        \"num_unique_values\": 7,\n        \"samples\": [\n          \"Buffet\",\n          \"Cafes\"\n        ],\n        \"semantic_type\": \"\",\n        \"description\": \"\"\n      }\n    },\n    {\n      \"column\": \"city\",\n      \"properties\": {\n        \"dtype\": \"category\",\n        \"num_unique_values\": 30,\n        \"samples\": [\n          \"Residency Road\",\n          \"Kammanahalli\"\n        ],\n        \"semantic_type\": \"\",\n        \"description\": \"\"\n      }\n    }\n  ]\n}"
            }
          },
          "metadata": {},
          "execution_count": 11
        }
      ]
    },
    {
      "cell_type": "code",
      "source": [
        "data.isna().sum().sum()"
      ],
      "metadata": {
        "colab": {
          "base_uri": "https://localhost:8080/"
        },
        "id": "th0VZaGtbwLJ",
        "outputId": "3d8de818-c87f-45a1-e09f-4922ff45afe4"
      },
      "execution_count": null,
      "outputs": [
        {
          "output_type": "execute_result",
          "data": {
            "text/plain": [
              "np.int64(8414)"
            ]
          },
          "metadata": {},
          "execution_count": 12
        }
      ]
    },
    {
      "cell_type": "code",
      "source": [
        "data.dropna(inplace=True)"
      ],
      "metadata": {
        "id": "QHORN6BDb32D"
      },
      "execution_count": null,
      "outputs": []
    },
    {
      "cell_type": "code",
      "source": [
        "data.shape"
      ],
      "metadata": {
        "colab": {
          "base_uri": "https://localhost:8080/"
        },
        "id": "JT8niv23b_kx",
        "outputId": "b5311282-1777-40e0-927d-75ab6c3aee5b"
      },
      "execution_count": null,
      "outputs": [
        {
          "output_type": "execute_result",
          "data": {
            "text/plain": [
              "(43533, 12)"
            ]
          },
          "metadata": {},
          "execution_count": 14
        }
      ]
    },
    {
      "cell_type": "markdown",
      "source": [
        "**Clean Individual Columns**"
      ],
      "metadata": {
        "id": "rrknHfBZcPsu"
      }
    },
    {
      "cell_type": "code",
      "source": [
        "data.groupby('restaurent').count()"
      ],
      "metadata": {
        "colab": {
          "base_uri": "https://localhost:8080/",
          "height": 455
        },
        "id": "8TZT-4r8cFP5",
        "outputId": "372375a4-db0b-49d5-afcb-e6deb5e0ca09"
      },
      "execution_count": null,
      "outputs": [
        {
          "output_type": "execute_result",
          "data": {
            "text/plain": [
              "                                              online_order  book_table  \\\n",
              "restaurent                                                               \n",
              "#FeelTheROLL                                             2           2   \n",
              "#L-81 Cafe                                               9           9   \n",
              "#refuel                                                  3           3   \n",
              "1000 B.C                                                 6           6   \n",
              "100ÃÂÃÂÃÂÃÂÃÂÃÂÃÂÃÂ°C                     3           3   \n",
              "...                                                    ...         ...   \n",
              "i-Bar - The Park Bangalore                              11          11   \n",
              "iFruit Live Ice Creams                                   4           4   \n",
              "iSpice Resto Cafe                                        7           7   \n",
              "nu.tree                                                  7           7   \n",
              "re:cess - Hilton Bangalore Embassy GolfLinks             3           3   \n",
              "\n",
              "                                              rating  votes  location  \\\n",
              "restaurent                                                              \n",
              "#FeelTheROLL                                       2      2         2   \n",
              "#L-81 Cafe                                         9      9         9   \n",
              "#refuel                                            3      3         3   \n",
              "1000 B.C                                           6      6         6   \n",
              "100ÃÂÃÂÃÂÃÂÃÂÃÂÃÂÃÂ°C               3      3         3   \n",
              "...                                              ...    ...       ...   \n",
              "i-Bar - The Park Bangalore                        11     11        11   \n",
              "iFruit Live Ice Creams                             4      4         4   \n",
              "iSpice Resto Cafe                                  7      7         7   \n",
              "nu.tree                                            7      7         7   \n",
              "re:cess - Hilton Bangalore Embassy GolfLinks       3      3         3   \n",
              "\n",
              "                                              rest_type  food_type  cost  \\\n",
              "restaurent                                                                 \n",
              "#FeelTheROLL                                          2          2     2   \n",
              "#L-81 Cafe                                            9          9     9   \n",
              "#refuel                                               3          3     3   \n",
              "1000 B.C                                              6          6     6   \n",
              "100ÃÂÃÂÃÂÃÂÃÂÃÂÃÂÃÂ°C                  3          3     3   \n",
              "...                                                 ...        ...   ...   \n",
              "i-Bar - The Park Bangalore                           11         11    11   \n",
              "iFruit Live Ice Creams                                4          4     4   \n",
              "iSpice Resto Cafe                                     7          7     7   \n",
              "nu.tree                                               7          7     7   \n",
              "re:cess - Hilton Bangalore Embassy GolfLinks          3          3     3   \n",
              "\n",
              "                                              reviews_list  type  city  \n",
              "restaurent                                                              \n",
              "#FeelTheROLL                                             2     2     2  \n",
              "#L-81 Cafe                                               9     9     9  \n",
              "#refuel                                                  3     3     3  \n",
              "1000 B.C                                                 6     6     6  \n",
              "100ÃÂÃÂÃÂÃÂÃÂÃÂÃÂÃÂ°C                     3     3     3  \n",
              "...                                                    ...   ...   ...  \n",
              "i-Bar - The Park Bangalore                              11    11    11  \n",
              "iFruit Live Ice Creams                                   4     4     4  \n",
              "iSpice Resto Cafe                                        7     7     7  \n",
              "nu.tree                                                  7     7     7  \n",
              "re:cess - Hilton Bangalore Embassy GolfLinks             3     3     3  \n",
              "\n",
              "[7112 rows x 11 columns]"
            ],
            "text/html": [
              "\n",
              "  <div id=\"df-8e56da49-335f-4753-98f0-b3b8c7d29905\" class=\"colab-df-container\">\n",
              "    <div>\n",
              "<style scoped>\n",
              "    .dataframe tbody tr th:only-of-type {\n",
              "        vertical-align: middle;\n",
              "    }\n",
              "\n",
              "    .dataframe tbody tr th {\n",
              "        vertical-align: top;\n",
              "    }\n",
              "\n",
              "    .dataframe thead th {\n",
              "        text-align: right;\n",
              "    }\n",
              "</style>\n",
              "<table border=\"1\" class=\"dataframe\">\n",
              "  <thead>\n",
              "    <tr style=\"text-align: right;\">\n",
              "      <th></th>\n",
              "      <th>online_order</th>\n",
              "      <th>book_table</th>\n",
              "      <th>rating</th>\n",
              "      <th>votes</th>\n",
              "      <th>location</th>\n",
              "      <th>rest_type</th>\n",
              "      <th>food_type</th>\n",
              "      <th>cost</th>\n",
              "      <th>reviews_list</th>\n",
              "      <th>type</th>\n",
              "      <th>city</th>\n",
              "    </tr>\n",
              "    <tr>\n",
              "      <th>restaurent</th>\n",
              "      <th></th>\n",
              "      <th></th>\n",
              "      <th></th>\n",
              "      <th></th>\n",
              "      <th></th>\n",
              "      <th></th>\n",
              "      <th></th>\n",
              "      <th></th>\n",
              "      <th></th>\n",
              "      <th></th>\n",
              "      <th></th>\n",
              "    </tr>\n",
              "  </thead>\n",
              "  <tbody>\n",
              "    <tr>\n",
              "      <th>#FeelTheROLL</th>\n",
              "      <td>2</td>\n",
              "      <td>2</td>\n",
              "      <td>2</td>\n",
              "      <td>2</td>\n",
              "      <td>2</td>\n",
              "      <td>2</td>\n",
              "      <td>2</td>\n",
              "      <td>2</td>\n",
              "      <td>2</td>\n",
              "      <td>2</td>\n",
              "      <td>2</td>\n",
              "    </tr>\n",
              "    <tr>\n",
              "      <th>#L-81 Cafe</th>\n",
              "      <td>9</td>\n",
              "      <td>9</td>\n",
              "      <td>9</td>\n",
              "      <td>9</td>\n",
              "      <td>9</td>\n",
              "      <td>9</td>\n",
              "      <td>9</td>\n",
              "      <td>9</td>\n",
              "      <td>9</td>\n",
              "      <td>9</td>\n",
              "      <td>9</td>\n",
              "    </tr>\n",
              "    <tr>\n",
              "      <th>#refuel</th>\n",
              "      <td>3</td>\n",
              "      <td>3</td>\n",
              "      <td>3</td>\n",
              "      <td>3</td>\n",
              "      <td>3</td>\n",
              "      <td>3</td>\n",
              "      <td>3</td>\n",
              "      <td>3</td>\n",
              "      <td>3</td>\n",
              "      <td>3</td>\n",
              "      <td>3</td>\n",
              "    </tr>\n",
              "    <tr>\n",
              "      <th>1000 B.C</th>\n",
              "      <td>6</td>\n",
              "      <td>6</td>\n",
              "      <td>6</td>\n",
              "      <td>6</td>\n",
              "      <td>6</td>\n",
              "      <td>6</td>\n",
              "      <td>6</td>\n",
              "      <td>6</td>\n",
              "      <td>6</td>\n",
              "      <td>6</td>\n",
              "      <td>6</td>\n",
              "    </tr>\n",
              "    <tr>\n",
              "      <th>100ÃÂÃÂÃÂÃÂÃÂÃÂÃÂÃÂ°C</th>\n",
              "      <td>3</td>\n",
              "      <td>3</td>\n",
              "      <td>3</td>\n",
              "      <td>3</td>\n",
              "      <td>3</td>\n",
              "      <td>3</td>\n",
              "      <td>3</td>\n",
              "      <td>3</td>\n",
              "      <td>3</td>\n",
              "      <td>3</td>\n",
              "      <td>3</td>\n",
              "    </tr>\n",
              "    <tr>\n",
              "      <th>...</th>\n",
              "      <td>...</td>\n",
              "      <td>...</td>\n",
              "      <td>...</td>\n",
              "      <td>...</td>\n",
              "      <td>...</td>\n",
              "      <td>...</td>\n",
              "      <td>...</td>\n",
              "      <td>...</td>\n",
              "      <td>...</td>\n",
              "      <td>...</td>\n",
              "      <td>...</td>\n",
              "    </tr>\n",
              "    <tr>\n",
              "      <th>i-Bar - The Park Bangalore</th>\n",
              "      <td>11</td>\n",
              "      <td>11</td>\n",
              "      <td>11</td>\n",
              "      <td>11</td>\n",
              "      <td>11</td>\n",
              "      <td>11</td>\n",
              "      <td>11</td>\n",
              "      <td>11</td>\n",
              "      <td>11</td>\n",
              "      <td>11</td>\n",
              "      <td>11</td>\n",
              "    </tr>\n",
              "    <tr>\n",
              "      <th>iFruit Live Ice Creams</th>\n",
              "      <td>4</td>\n",
              "      <td>4</td>\n",
              "      <td>4</td>\n",
              "      <td>4</td>\n",
              "      <td>4</td>\n",
              "      <td>4</td>\n",
              "      <td>4</td>\n",
              "      <td>4</td>\n",
              "      <td>4</td>\n",
              "      <td>4</td>\n",
              "      <td>4</td>\n",
              "    </tr>\n",
              "    <tr>\n",
              "      <th>iSpice Resto Cafe</th>\n",
              "      <td>7</td>\n",
              "      <td>7</td>\n",
              "      <td>7</td>\n",
              "      <td>7</td>\n",
              "      <td>7</td>\n",
              "      <td>7</td>\n",
              "      <td>7</td>\n",
              "      <td>7</td>\n",
              "      <td>7</td>\n",
              "      <td>7</td>\n",
              "      <td>7</td>\n",
              "    </tr>\n",
              "    <tr>\n",
              "      <th>nu.tree</th>\n",
              "      <td>7</td>\n",
              "      <td>7</td>\n",
              "      <td>7</td>\n",
              "      <td>7</td>\n",
              "      <td>7</td>\n",
              "      <td>7</td>\n",
              "      <td>7</td>\n",
              "      <td>7</td>\n",
              "      <td>7</td>\n",
              "      <td>7</td>\n",
              "      <td>7</td>\n",
              "    </tr>\n",
              "    <tr>\n",
              "      <th>re:cess - Hilton Bangalore Embassy GolfLinks</th>\n",
              "      <td>3</td>\n",
              "      <td>3</td>\n",
              "      <td>3</td>\n",
              "      <td>3</td>\n",
              "      <td>3</td>\n",
              "      <td>3</td>\n",
              "      <td>3</td>\n",
              "      <td>3</td>\n",
              "      <td>3</td>\n",
              "      <td>3</td>\n",
              "      <td>3</td>\n",
              "    </tr>\n",
              "  </tbody>\n",
              "</table>\n",
              "<p>7112 rows × 11 columns</p>\n",
              "</div>\n",
              "    <div class=\"colab-df-buttons\">\n",
              "\n",
              "  <div class=\"colab-df-container\">\n",
              "    <button class=\"colab-df-convert\" onclick=\"convertToInteractive('df-8e56da49-335f-4753-98f0-b3b8c7d29905')\"\n",
              "            title=\"Convert this dataframe to an interactive table.\"\n",
              "            style=\"display:none;\">\n",
              "\n",
              "  <svg xmlns=\"http://www.w3.org/2000/svg\" height=\"24px\" viewBox=\"0 -960 960 960\">\n",
              "    <path d=\"M120-120v-720h720v720H120Zm60-500h600v-160H180v160Zm220 220h160v-160H400v160Zm0 220h160v-160H400v160ZM180-400h160v-160H180v160Zm440 0h160v-160H620v160ZM180-180h160v-160H180v160Zm440 0h160v-160H620v160Z\"/>\n",
              "  </svg>\n",
              "    </button>\n",
              "\n",
              "  <style>\n",
              "    .colab-df-container {\n",
              "      display:flex;\n",
              "      gap: 12px;\n",
              "    }\n",
              "\n",
              "    .colab-df-convert {\n",
              "      background-color: #E8F0FE;\n",
              "      border: none;\n",
              "      border-radius: 50%;\n",
              "      cursor: pointer;\n",
              "      display: none;\n",
              "      fill: #1967D2;\n",
              "      height: 32px;\n",
              "      padding: 0 0 0 0;\n",
              "      width: 32px;\n",
              "    }\n",
              "\n",
              "    .colab-df-convert:hover {\n",
              "      background-color: #E2EBFA;\n",
              "      box-shadow: 0px 1px 2px rgba(60, 64, 67, 0.3), 0px 1px 3px 1px rgba(60, 64, 67, 0.15);\n",
              "      fill: #174EA6;\n",
              "    }\n",
              "\n",
              "    .colab-df-buttons div {\n",
              "      margin-bottom: 4px;\n",
              "    }\n",
              "\n",
              "    [theme=dark] .colab-df-convert {\n",
              "      background-color: #3B4455;\n",
              "      fill: #D2E3FC;\n",
              "    }\n",
              "\n",
              "    [theme=dark] .colab-df-convert:hover {\n",
              "      background-color: #434B5C;\n",
              "      box-shadow: 0px 1px 3px 1px rgba(0, 0, 0, 0.15);\n",
              "      filter: drop-shadow(0px 1px 2px rgba(0, 0, 0, 0.3));\n",
              "      fill: #FFFFFF;\n",
              "    }\n",
              "  </style>\n",
              "\n",
              "    <script>\n",
              "      const buttonEl =\n",
              "        document.querySelector('#df-8e56da49-335f-4753-98f0-b3b8c7d29905 button.colab-df-convert');\n",
              "      buttonEl.style.display =\n",
              "        google.colab.kernel.accessAllowed ? 'block' : 'none';\n",
              "\n",
              "      async function convertToInteractive(key) {\n",
              "        const element = document.querySelector('#df-8e56da49-335f-4753-98f0-b3b8c7d29905');\n",
              "        const dataTable =\n",
              "          await google.colab.kernel.invokeFunction('convertToInteractive',\n",
              "                                                    [key], {});\n",
              "        if (!dataTable) return;\n",
              "\n",
              "        const docLinkHtml = 'Like what you see? Visit the ' +\n",
              "          '<a target=\"_blank\" href=https://colab.research.google.com/notebooks/data_table.ipynb>data table notebook</a>'\n",
              "          + ' to learn more about interactive tables.';\n",
              "        element.innerHTML = '';\n",
              "        dataTable['output_type'] = 'display_data';\n",
              "        await google.colab.output.renderOutput(dataTable, element);\n",
              "        const docLink = document.createElement('div');\n",
              "        docLink.innerHTML = docLinkHtml;\n",
              "        element.appendChild(docLink);\n",
              "      }\n",
              "    </script>\n",
              "  </div>\n",
              "\n",
              "\n",
              "    <div id=\"df-f2c455ab-ad6e-4d0d-8631-7bf5b4f2bef6\">\n",
              "      <button class=\"colab-df-quickchart\" onclick=\"quickchart('df-f2c455ab-ad6e-4d0d-8631-7bf5b4f2bef6')\"\n",
              "                title=\"Suggest charts\"\n",
              "                style=\"display:none;\">\n",
              "\n",
              "<svg xmlns=\"http://www.w3.org/2000/svg\" height=\"24px\"viewBox=\"0 0 24 24\"\n",
              "     width=\"24px\">\n",
              "    <g>\n",
              "        <path d=\"M19 3H5c-1.1 0-2 .9-2 2v14c0 1.1.9 2 2 2h14c1.1 0 2-.9 2-2V5c0-1.1-.9-2-2-2zM9 17H7v-7h2v7zm4 0h-2V7h2v10zm4 0h-2v-4h2v4z\"/>\n",
              "    </g>\n",
              "</svg>\n",
              "      </button>\n",
              "\n",
              "<style>\n",
              "  .colab-df-quickchart {\n",
              "      --bg-color: #E8F0FE;\n",
              "      --fill-color: #1967D2;\n",
              "      --hover-bg-color: #E2EBFA;\n",
              "      --hover-fill-color: #174EA6;\n",
              "      --disabled-fill-color: #AAA;\n",
              "      --disabled-bg-color: #DDD;\n",
              "  }\n",
              "\n",
              "  [theme=dark] .colab-df-quickchart {\n",
              "      --bg-color: #3B4455;\n",
              "      --fill-color: #D2E3FC;\n",
              "      --hover-bg-color: #434B5C;\n",
              "      --hover-fill-color: #FFFFFF;\n",
              "      --disabled-bg-color: #3B4455;\n",
              "      --disabled-fill-color: #666;\n",
              "  }\n",
              "\n",
              "  .colab-df-quickchart {\n",
              "    background-color: var(--bg-color);\n",
              "    border: none;\n",
              "    border-radius: 50%;\n",
              "    cursor: pointer;\n",
              "    display: none;\n",
              "    fill: var(--fill-color);\n",
              "    height: 32px;\n",
              "    padding: 0;\n",
              "    width: 32px;\n",
              "  }\n",
              "\n",
              "  .colab-df-quickchart:hover {\n",
              "    background-color: var(--hover-bg-color);\n",
              "    box-shadow: 0 1px 2px rgba(60, 64, 67, 0.3), 0 1px 3px 1px rgba(60, 64, 67, 0.15);\n",
              "    fill: var(--button-hover-fill-color);\n",
              "  }\n",
              "\n",
              "  .colab-df-quickchart-complete:disabled,\n",
              "  .colab-df-quickchart-complete:disabled:hover {\n",
              "    background-color: var(--disabled-bg-color);\n",
              "    fill: var(--disabled-fill-color);\n",
              "    box-shadow: none;\n",
              "  }\n",
              "\n",
              "  .colab-df-spinner {\n",
              "    border: 2px solid var(--fill-color);\n",
              "    border-color: transparent;\n",
              "    border-bottom-color: var(--fill-color);\n",
              "    animation:\n",
              "      spin 1s steps(1) infinite;\n",
              "  }\n",
              "\n",
              "  @keyframes spin {\n",
              "    0% {\n",
              "      border-color: transparent;\n",
              "      border-bottom-color: var(--fill-color);\n",
              "      border-left-color: var(--fill-color);\n",
              "    }\n",
              "    20% {\n",
              "      border-color: transparent;\n",
              "      border-left-color: var(--fill-color);\n",
              "      border-top-color: var(--fill-color);\n",
              "    }\n",
              "    30% {\n",
              "      border-color: transparent;\n",
              "      border-left-color: var(--fill-color);\n",
              "      border-top-color: var(--fill-color);\n",
              "      border-right-color: var(--fill-color);\n",
              "    }\n",
              "    40% {\n",
              "      border-color: transparent;\n",
              "      border-right-color: var(--fill-color);\n",
              "      border-top-color: var(--fill-color);\n",
              "    }\n",
              "    60% {\n",
              "      border-color: transparent;\n",
              "      border-right-color: var(--fill-color);\n",
              "    }\n",
              "    80% {\n",
              "      border-color: transparent;\n",
              "      border-right-color: var(--fill-color);\n",
              "      border-bottom-color: var(--fill-color);\n",
              "    }\n",
              "    90% {\n",
              "      border-color: transparent;\n",
              "      border-bottom-color: var(--fill-color);\n",
              "    }\n",
              "  }\n",
              "</style>\n",
              "\n",
              "      <script>\n",
              "        async function quickchart(key) {\n",
              "          const quickchartButtonEl =\n",
              "            document.querySelector('#' + key + ' button');\n",
              "          quickchartButtonEl.disabled = true;  // To prevent multiple clicks.\n",
              "          quickchartButtonEl.classList.add('colab-df-spinner');\n",
              "          try {\n",
              "            const charts = await google.colab.kernel.invokeFunction(\n",
              "                'suggestCharts', [key], {});\n",
              "          } catch (error) {\n",
              "            console.error('Error during call to suggestCharts:', error);\n",
              "          }\n",
              "          quickchartButtonEl.classList.remove('colab-df-spinner');\n",
              "          quickchartButtonEl.classList.add('colab-df-quickchart-complete');\n",
              "        }\n",
              "        (() => {\n",
              "          let quickchartButtonEl =\n",
              "            document.querySelector('#df-f2c455ab-ad6e-4d0d-8631-7bf5b4f2bef6 button');\n",
              "          quickchartButtonEl.style.display =\n",
              "            google.colab.kernel.accessAllowed ? 'block' : 'none';\n",
              "        })();\n",
              "      </script>\n",
              "    </div>\n",
              "\n",
              "    </div>\n",
              "  </div>\n"
            ],
            "application/vnd.google.colaboratory.intrinsic+json": {
              "type": "dataframe",
              "summary": "{\n  \"name\": \"data\",\n  \"rows\": 7112,\n  \"fields\": [\n    {\n      \"column\": \"restaurent\",\n      \"properties\": {\n        \"dtype\": \"string\",\n        \"num_unique_values\": 7112,\n        \"samples\": [\n          \"Hotel Salala\",\n          \"Kshathriya's Naati Junction\",\n          \"The Open Box\"\n        ],\n        \"semantic_type\": \"\",\n        \"description\": \"\"\n      }\n    },\n    {\n      \"column\": \"online_order\",\n      \"properties\": {\n        \"dtype\": \"number\",\n        \"std\": 6,\n        \"min\": 1,\n        \"max\": 89,\n        \"num_unique_values\": 65,\n        \"samples\": [\n          38,\n          85,\n          2\n        ],\n        \"semantic_type\": \"\",\n        \"description\": \"\"\n      }\n    },\n    {\n      \"column\": \"book_table\",\n      \"properties\": {\n        \"dtype\": \"number\",\n        \"std\": 6,\n        \"min\": 1,\n        \"max\": 89,\n        \"num_unique_values\": 65,\n        \"samples\": [\n          38,\n          85,\n          2\n        ],\n        \"semantic_type\": \"\",\n        \"description\": \"\"\n      }\n    },\n    {\n      \"column\": \"rating\",\n      \"properties\": {\n        \"dtype\": \"number\",\n        \"std\": 6,\n        \"min\": 1,\n        \"max\": 89,\n        \"num_unique_values\": 65,\n        \"samples\": [\n          38,\n          85,\n          2\n        ],\n        \"semantic_type\": \"\",\n        \"description\": \"\"\n      }\n    },\n    {\n      \"column\": \"votes\",\n      \"properties\": {\n        \"dtype\": \"number\",\n        \"std\": 6,\n        \"min\": 1,\n        \"max\": 89,\n        \"num_unique_values\": 65,\n        \"samples\": [\n          38,\n          85,\n          2\n        ],\n        \"semantic_type\": \"\",\n        \"description\": \"\"\n      }\n    },\n    {\n      \"column\": \"location\",\n      \"properties\": {\n        \"dtype\": \"number\",\n        \"std\": 6,\n        \"min\": 1,\n        \"max\": 89,\n        \"num_unique_values\": 65,\n        \"samples\": [\n          38,\n          85,\n          2\n        ],\n        \"semantic_type\": \"\",\n        \"description\": \"\"\n      }\n    },\n    {\n      \"column\": \"rest_type\",\n      \"properties\": {\n        \"dtype\": \"number\",\n        \"std\": 6,\n        \"min\": 1,\n        \"max\": 89,\n        \"num_unique_values\": 65,\n        \"samples\": [\n          38,\n          85,\n          2\n        ],\n        \"semantic_type\": \"\",\n        \"description\": \"\"\n      }\n    },\n    {\n      \"column\": \"food_type\",\n      \"properties\": {\n        \"dtype\": \"number\",\n        \"std\": 6,\n        \"min\": 1,\n        \"max\": 89,\n        \"num_unique_values\": 65,\n        \"samples\": [\n          38,\n          85,\n          2\n        ],\n        \"semantic_type\": \"\",\n        \"description\": \"\"\n      }\n    },\n    {\n      \"column\": \"cost\",\n      \"properties\": {\n        \"dtype\": \"number\",\n        \"std\": 6,\n        \"min\": 1,\n        \"max\": 89,\n        \"num_unique_values\": 65,\n        \"samples\": [\n          38,\n          85,\n          2\n        ],\n        \"semantic_type\": \"\",\n        \"description\": \"\"\n      }\n    },\n    {\n      \"column\": \"reviews_list\",\n      \"properties\": {\n        \"dtype\": \"number\",\n        \"std\": 6,\n        \"min\": 1,\n        \"max\": 89,\n        \"num_unique_values\": 65,\n        \"samples\": [\n          38,\n          85,\n          2\n        ],\n        \"semantic_type\": \"\",\n        \"description\": \"\"\n      }\n    },\n    {\n      \"column\": \"type\",\n      \"properties\": {\n        \"dtype\": \"number\",\n        \"std\": 6,\n        \"min\": 1,\n        \"max\": 89,\n        \"num_unique_values\": 65,\n        \"samples\": [\n          38,\n          85,\n          2\n        ],\n        \"semantic_type\": \"\",\n        \"description\": \"\"\n      }\n    },\n    {\n      \"column\": \"city\",\n      \"properties\": {\n        \"dtype\": \"number\",\n        \"std\": 6,\n        \"min\": 1,\n        \"max\": 89,\n        \"num_unique_values\": 65,\n        \"samples\": [\n          38,\n          85,\n          2\n        ],\n        \"semantic_type\": \"\",\n        \"description\": \"\"\n      }\n    }\n  ]\n}"
            }
          },
          "metadata": {},
          "execution_count": 15
        }
      ]
    },
    {
      "cell_type": "code",
      "source": [
        "data['restaurent'] = data['restaurent'].str.replace('[Ãx][^A-Za-z]+','',regex=True)"
      ],
      "metadata": {
        "id": "TZIZzNEhcq8X"
      },
      "execution_count": null,
      "outputs": []
    },
    {
      "cell_type": "code",
      "source": [
        "data.groupby('restaurent').count()"
      ],
      "metadata": {
        "colab": {
          "base_uri": "https://localhost:8080/",
          "height": 455
        },
        "id": "MGIxFaeSdHRS",
        "outputId": "f26018e4-9ce6-4176-da21-c00817cbf505"
      },
      "execution_count": null,
      "outputs": [
        {
          "output_type": "execute_result",
          "data": {
            "text/plain": [
              "                                              online_order  book_table  \\\n",
              "restaurent                                                               \n",
              "#FeelTheROLL                                             2           2   \n",
              "#L-81 Cafe                                               9           9   \n",
              "#refuel                                                  3           3   \n",
              "1000 B.C                                                 6           6   \n",
              "100C                                                     3           3   \n",
              "...                                                    ...         ...   \n",
              "i-Bar - The Park Bangalore                              11          11   \n",
              "iFruit Live Ice Creams                                   4           4   \n",
              "iSpice Resto Cafe                                        7           7   \n",
              "nu.tree                                                  7           7   \n",
              "re:cess - Hilton Bangalore Embassy GolfLinks             3           3   \n",
              "\n",
              "                                              rating  votes  location  \\\n",
              "restaurent                                                              \n",
              "#FeelTheROLL                                       2      2         2   \n",
              "#L-81 Cafe                                         9      9         9   \n",
              "#refuel                                            3      3         3   \n",
              "1000 B.C                                           6      6         6   \n",
              "100C                                               3      3         3   \n",
              "...                                              ...    ...       ...   \n",
              "i-Bar - The Park Bangalore                        11     11        11   \n",
              "iFruit Live Ice Creams                             4      4         4   \n",
              "iSpice Resto Cafe                                  7      7         7   \n",
              "nu.tree                                            7      7         7   \n",
              "re:cess - Hilton Bangalore Embassy GolfLinks       3      3         3   \n",
              "\n",
              "                                              rest_type  food_type  cost  \\\n",
              "restaurent                                                                 \n",
              "#FeelTheROLL                                          2          2     2   \n",
              "#L-81 Cafe                                            9          9     9   \n",
              "#refuel                                               3          3     3   \n",
              "1000 B.C                                              6          6     6   \n",
              "100C                                                  3          3     3   \n",
              "...                                                 ...        ...   ...   \n",
              "i-Bar - The Park Bangalore                           11         11    11   \n",
              "iFruit Live Ice Creams                                4          4     4   \n",
              "iSpice Resto Cafe                                     7          7     7   \n",
              "nu.tree                                               7          7     7   \n",
              "re:cess - Hilton Bangalore Embassy GolfLinks          3          3     3   \n",
              "\n",
              "                                              reviews_list  type  city  \n",
              "restaurent                                                              \n",
              "#FeelTheROLL                                             2     2     2  \n",
              "#L-81 Cafe                                               9     9     9  \n",
              "#refuel                                                  3     3     3  \n",
              "1000 B.C                                                 6     6     6  \n",
              "100C                                                     3     3     3  \n",
              "...                                                    ...   ...   ...  \n",
              "i-Bar - The Park Bangalore                              11    11    11  \n",
              "iFruit Live Ice Creams                                   4     4     4  \n",
              "iSpice Resto Cafe                                        7     7     7  \n",
              "nu.tree                                                  7     7     7  \n",
              "re:cess - Hilton Bangalore Embassy GolfLinks             3     3     3  \n",
              "\n",
              "[7084 rows x 11 columns]"
            ],
            "text/html": [
              "\n",
              "  <div id=\"df-ca8f80b7-4a99-48a6-9859-359dab29e831\" class=\"colab-df-container\">\n",
              "    <div>\n",
              "<style scoped>\n",
              "    .dataframe tbody tr th:only-of-type {\n",
              "        vertical-align: middle;\n",
              "    }\n",
              "\n",
              "    .dataframe tbody tr th {\n",
              "        vertical-align: top;\n",
              "    }\n",
              "\n",
              "    .dataframe thead th {\n",
              "        text-align: right;\n",
              "    }\n",
              "</style>\n",
              "<table border=\"1\" class=\"dataframe\">\n",
              "  <thead>\n",
              "    <tr style=\"text-align: right;\">\n",
              "      <th></th>\n",
              "      <th>online_order</th>\n",
              "      <th>book_table</th>\n",
              "      <th>rating</th>\n",
              "      <th>votes</th>\n",
              "      <th>location</th>\n",
              "      <th>rest_type</th>\n",
              "      <th>food_type</th>\n",
              "      <th>cost</th>\n",
              "      <th>reviews_list</th>\n",
              "      <th>type</th>\n",
              "      <th>city</th>\n",
              "    </tr>\n",
              "    <tr>\n",
              "      <th>restaurent</th>\n",
              "      <th></th>\n",
              "      <th></th>\n",
              "      <th></th>\n",
              "      <th></th>\n",
              "      <th></th>\n",
              "      <th></th>\n",
              "      <th></th>\n",
              "      <th></th>\n",
              "      <th></th>\n",
              "      <th></th>\n",
              "      <th></th>\n",
              "    </tr>\n",
              "  </thead>\n",
              "  <tbody>\n",
              "    <tr>\n",
              "      <th>#FeelTheROLL</th>\n",
              "      <td>2</td>\n",
              "      <td>2</td>\n",
              "      <td>2</td>\n",
              "      <td>2</td>\n",
              "      <td>2</td>\n",
              "      <td>2</td>\n",
              "      <td>2</td>\n",
              "      <td>2</td>\n",
              "      <td>2</td>\n",
              "      <td>2</td>\n",
              "      <td>2</td>\n",
              "    </tr>\n",
              "    <tr>\n",
              "      <th>#L-81 Cafe</th>\n",
              "      <td>9</td>\n",
              "      <td>9</td>\n",
              "      <td>9</td>\n",
              "      <td>9</td>\n",
              "      <td>9</td>\n",
              "      <td>9</td>\n",
              "      <td>9</td>\n",
              "      <td>9</td>\n",
              "      <td>9</td>\n",
              "      <td>9</td>\n",
              "      <td>9</td>\n",
              "    </tr>\n",
              "    <tr>\n",
              "      <th>#refuel</th>\n",
              "      <td>3</td>\n",
              "      <td>3</td>\n",
              "      <td>3</td>\n",
              "      <td>3</td>\n",
              "      <td>3</td>\n",
              "      <td>3</td>\n",
              "      <td>3</td>\n",
              "      <td>3</td>\n",
              "      <td>3</td>\n",
              "      <td>3</td>\n",
              "      <td>3</td>\n",
              "    </tr>\n",
              "    <tr>\n",
              "      <th>1000 B.C</th>\n",
              "      <td>6</td>\n",
              "      <td>6</td>\n",
              "      <td>6</td>\n",
              "      <td>6</td>\n",
              "      <td>6</td>\n",
              "      <td>6</td>\n",
              "      <td>6</td>\n",
              "      <td>6</td>\n",
              "      <td>6</td>\n",
              "      <td>6</td>\n",
              "      <td>6</td>\n",
              "    </tr>\n",
              "    <tr>\n",
              "      <th>100C</th>\n",
              "      <td>3</td>\n",
              "      <td>3</td>\n",
              "      <td>3</td>\n",
              "      <td>3</td>\n",
              "      <td>3</td>\n",
              "      <td>3</td>\n",
              "      <td>3</td>\n",
              "      <td>3</td>\n",
              "      <td>3</td>\n",
              "      <td>3</td>\n",
              "      <td>3</td>\n",
              "    </tr>\n",
              "    <tr>\n",
              "      <th>...</th>\n",
              "      <td>...</td>\n",
              "      <td>...</td>\n",
              "      <td>...</td>\n",
              "      <td>...</td>\n",
              "      <td>...</td>\n",
              "      <td>...</td>\n",
              "      <td>...</td>\n",
              "      <td>...</td>\n",
              "      <td>...</td>\n",
              "      <td>...</td>\n",
              "      <td>...</td>\n",
              "    </tr>\n",
              "    <tr>\n",
              "      <th>i-Bar - The Park Bangalore</th>\n",
              "      <td>11</td>\n",
              "      <td>11</td>\n",
              "      <td>11</td>\n",
              "      <td>11</td>\n",
              "      <td>11</td>\n",
              "      <td>11</td>\n",
              "      <td>11</td>\n",
              "      <td>11</td>\n",
              "      <td>11</td>\n",
              "      <td>11</td>\n",
              "      <td>11</td>\n",
              "    </tr>\n",
              "    <tr>\n",
              "      <th>iFruit Live Ice Creams</th>\n",
              "      <td>4</td>\n",
              "      <td>4</td>\n",
              "      <td>4</td>\n",
              "      <td>4</td>\n",
              "      <td>4</td>\n",
              "      <td>4</td>\n",
              "      <td>4</td>\n",
              "      <td>4</td>\n",
              "      <td>4</td>\n",
              "      <td>4</td>\n",
              "      <td>4</td>\n",
              "    </tr>\n",
              "    <tr>\n",
              "      <th>iSpice Resto Cafe</th>\n",
              "      <td>7</td>\n",
              "      <td>7</td>\n",
              "      <td>7</td>\n",
              "      <td>7</td>\n",
              "      <td>7</td>\n",
              "      <td>7</td>\n",
              "      <td>7</td>\n",
              "      <td>7</td>\n",
              "      <td>7</td>\n",
              "      <td>7</td>\n",
              "      <td>7</td>\n",
              "    </tr>\n",
              "    <tr>\n",
              "      <th>nu.tree</th>\n",
              "      <td>7</td>\n",
              "      <td>7</td>\n",
              "      <td>7</td>\n",
              "      <td>7</td>\n",
              "      <td>7</td>\n",
              "      <td>7</td>\n",
              "      <td>7</td>\n",
              "      <td>7</td>\n",
              "      <td>7</td>\n",
              "      <td>7</td>\n",
              "      <td>7</td>\n",
              "    </tr>\n",
              "    <tr>\n",
              "      <th>re:cess - Hilton Bangalore Embassy GolfLinks</th>\n",
              "      <td>3</td>\n",
              "      <td>3</td>\n",
              "      <td>3</td>\n",
              "      <td>3</td>\n",
              "      <td>3</td>\n",
              "      <td>3</td>\n",
              "      <td>3</td>\n",
              "      <td>3</td>\n",
              "      <td>3</td>\n",
              "      <td>3</td>\n",
              "      <td>3</td>\n",
              "    </tr>\n",
              "  </tbody>\n",
              "</table>\n",
              "<p>7084 rows × 11 columns</p>\n",
              "</div>\n",
              "    <div class=\"colab-df-buttons\">\n",
              "\n",
              "  <div class=\"colab-df-container\">\n",
              "    <button class=\"colab-df-convert\" onclick=\"convertToInteractive('df-ca8f80b7-4a99-48a6-9859-359dab29e831')\"\n",
              "            title=\"Convert this dataframe to an interactive table.\"\n",
              "            style=\"display:none;\">\n",
              "\n",
              "  <svg xmlns=\"http://www.w3.org/2000/svg\" height=\"24px\" viewBox=\"0 -960 960 960\">\n",
              "    <path d=\"M120-120v-720h720v720H120Zm60-500h600v-160H180v160Zm220 220h160v-160H400v160Zm0 220h160v-160H400v160ZM180-400h160v-160H180v160Zm440 0h160v-160H620v160ZM180-180h160v-160H180v160Zm440 0h160v-160H620v160Z\"/>\n",
              "  </svg>\n",
              "    </button>\n",
              "\n",
              "  <style>\n",
              "    .colab-df-container {\n",
              "      display:flex;\n",
              "      gap: 12px;\n",
              "    }\n",
              "\n",
              "    .colab-df-convert {\n",
              "      background-color: #E8F0FE;\n",
              "      border: none;\n",
              "      border-radius: 50%;\n",
              "      cursor: pointer;\n",
              "      display: none;\n",
              "      fill: #1967D2;\n",
              "      height: 32px;\n",
              "      padding: 0 0 0 0;\n",
              "      width: 32px;\n",
              "    }\n",
              "\n",
              "    .colab-df-convert:hover {\n",
              "      background-color: #E2EBFA;\n",
              "      box-shadow: 0px 1px 2px rgba(60, 64, 67, 0.3), 0px 1px 3px 1px rgba(60, 64, 67, 0.15);\n",
              "      fill: #174EA6;\n",
              "    }\n",
              "\n",
              "    .colab-df-buttons div {\n",
              "      margin-bottom: 4px;\n",
              "    }\n",
              "\n",
              "    [theme=dark] .colab-df-convert {\n",
              "      background-color: #3B4455;\n",
              "      fill: #D2E3FC;\n",
              "    }\n",
              "\n",
              "    [theme=dark] .colab-df-convert:hover {\n",
              "      background-color: #434B5C;\n",
              "      box-shadow: 0px 1px 3px 1px rgba(0, 0, 0, 0.15);\n",
              "      filter: drop-shadow(0px 1px 2px rgba(0, 0, 0, 0.3));\n",
              "      fill: #FFFFFF;\n",
              "    }\n",
              "  </style>\n",
              "\n",
              "    <script>\n",
              "      const buttonEl =\n",
              "        document.querySelector('#df-ca8f80b7-4a99-48a6-9859-359dab29e831 button.colab-df-convert');\n",
              "      buttonEl.style.display =\n",
              "        google.colab.kernel.accessAllowed ? 'block' : 'none';\n",
              "\n",
              "      async function convertToInteractive(key) {\n",
              "        const element = document.querySelector('#df-ca8f80b7-4a99-48a6-9859-359dab29e831');\n",
              "        const dataTable =\n",
              "          await google.colab.kernel.invokeFunction('convertToInteractive',\n",
              "                                                    [key], {});\n",
              "        if (!dataTable) return;\n",
              "\n",
              "        const docLinkHtml = 'Like what you see? Visit the ' +\n",
              "          '<a target=\"_blank\" href=https://colab.research.google.com/notebooks/data_table.ipynb>data table notebook</a>'\n",
              "          + ' to learn more about interactive tables.';\n",
              "        element.innerHTML = '';\n",
              "        dataTable['output_type'] = 'display_data';\n",
              "        await google.colab.output.renderOutput(dataTable, element);\n",
              "        const docLink = document.createElement('div');\n",
              "        docLink.innerHTML = docLinkHtml;\n",
              "        element.appendChild(docLink);\n",
              "      }\n",
              "    </script>\n",
              "  </div>\n",
              "\n",
              "\n",
              "    <div id=\"df-bf77543b-e318-4f47-a302-70d58d610c4f\">\n",
              "      <button class=\"colab-df-quickchart\" onclick=\"quickchart('df-bf77543b-e318-4f47-a302-70d58d610c4f')\"\n",
              "                title=\"Suggest charts\"\n",
              "                style=\"display:none;\">\n",
              "\n",
              "<svg xmlns=\"http://www.w3.org/2000/svg\" height=\"24px\"viewBox=\"0 0 24 24\"\n",
              "     width=\"24px\">\n",
              "    <g>\n",
              "        <path d=\"M19 3H5c-1.1 0-2 .9-2 2v14c0 1.1.9 2 2 2h14c1.1 0 2-.9 2-2V5c0-1.1-.9-2-2-2zM9 17H7v-7h2v7zm4 0h-2V7h2v10zm4 0h-2v-4h2v4z\"/>\n",
              "    </g>\n",
              "</svg>\n",
              "      </button>\n",
              "\n",
              "<style>\n",
              "  .colab-df-quickchart {\n",
              "      --bg-color: #E8F0FE;\n",
              "      --fill-color: #1967D2;\n",
              "      --hover-bg-color: #E2EBFA;\n",
              "      --hover-fill-color: #174EA6;\n",
              "      --disabled-fill-color: #AAA;\n",
              "      --disabled-bg-color: #DDD;\n",
              "  }\n",
              "\n",
              "  [theme=dark] .colab-df-quickchart {\n",
              "      --bg-color: #3B4455;\n",
              "      --fill-color: #D2E3FC;\n",
              "      --hover-bg-color: #434B5C;\n",
              "      --hover-fill-color: #FFFFFF;\n",
              "      --disabled-bg-color: #3B4455;\n",
              "      --disabled-fill-color: #666;\n",
              "  }\n",
              "\n",
              "  .colab-df-quickchart {\n",
              "    background-color: var(--bg-color);\n",
              "    border: none;\n",
              "    border-radius: 50%;\n",
              "    cursor: pointer;\n",
              "    display: none;\n",
              "    fill: var(--fill-color);\n",
              "    height: 32px;\n",
              "    padding: 0;\n",
              "    width: 32px;\n",
              "  }\n",
              "\n",
              "  .colab-df-quickchart:hover {\n",
              "    background-color: var(--hover-bg-color);\n",
              "    box-shadow: 0 1px 2px rgba(60, 64, 67, 0.3), 0 1px 3px 1px rgba(60, 64, 67, 0.15);\n",
              "    fill: var(--button-hover-fill-color);\n",
              "  }\n",
              "\n",
              "  .colab-df-quickchart-complete:disabled,\n",
              "  .colab-df-quickchart-complete:disabled:hover {\n",
              "    background-color: var(--disabled-bg-color);\n",
              "    fill: var(--disabled-fill-color);\n",
              "    box-shadow: none;\n",
              "  }\n",
              "\n",
              "  .colab-df-spinner {\n",
              "    border: 2px solid var(--fill-color);\n",
              "    border-color: transparent;\n",
              "    border-bottom-color: var(--fill-color);\n",
              "    animation:\n",
              "      spin 1s steps(1) infinite;\n",
              "  }\n",
              "\n",
              "  @keyframes spin {\n",
              "    0% {\n",
              "      border-color: transparent;\n",
              "      border-bottom-color: var(--fill-color);\n",
              "      border-left-color: var(--fill-color);\n",
              "    }\n",
              "    20% {\n",
              "      border-color: transparent;\n",
              "      border-left-color: var(--fill-color);\n",
              "      border-top-color: var(--fill-color);\n",
              "    }\n",
              "    30% {\n",
              "      border-color: transparent;\n",
              "      border-left-color: var(--fill-color);\n",
              "      border-top-color: var(--fill-color);\n",
              "      border-right-color: var(--fill-color);\n",
              "    }\n",
              "    40% {\n",
              "      border-color: transparent;\n",
              "      border-right-color: var(--fill-color);\n",
              "      border-top-color: var(--fill-color);\n",
              "    }\n",
              "    60% {\n",
              "      border-color: transparent;\n",
              "      border-right-color: var(--fill-color);\n",
              "    }\n",
              "    80% {\n",
              "      border-color: transparent;\n",
              "      border-right-color: var(--fill-color);\n",
              "      border-bottom-color: var(--fill-color);\n",
              "    }\n",
              "    90% {\n",
              "      border-color: transparent;\n",
              "      border-bottom-color: var(--fill-color);\n",
              "    }\n",
              "  }\n",
              "</style>\n",
              "\n",
              "      <script>\n",
              "        async function quickchart(key) {\n",
              "          const quickchartButtonEl =\n",
              "            document.querySelector('#' + key + ' button');\n",
              "          quickchartButtonEl.disabled = true;  // To prevent multiple clicks.\n",
              "          quickchartButtonEl.classList.add('colab-df-spinner');\n",
              "          try {\n",
              "            const charts = await google.colab.kernel.invokeFunction(\n",
              "                'suggestCharts', [key], {});\n",
              "          } catch (error) {\n",
              "            console.error('Error during call to suggestCharts:', error);\n",
              "          }\n",
              "          quickchartButtonEl.classList.remove('colab-df-spinner');\n",
              "          quickchartButtonEl.classList.add('colab-df-quickchart-complete');\n",
              "        }\n",
              "        (() => {\n",
              "          let quickchartButtonEl =\n",
              "            document.querySelector('#df-bf77543b-e318-4f47-a302-70d58d610c4f button');\n",
              "          quickchartButtonEl.style.display =\n",
              "            google.colab.kernel.accessAllowed ? 'block' : 'none';\n",
              "        })();\n",
              "      </script>\n",
              "    </div>\n",
              "\n",
              "    </div>\n",
              "  </div>\n"
            ],
            "application/vnd.google.colaboratory.intrinsic+json": {
              "type": "dataframe",
              "summary": "{\n  \"name\": \"data\",\n  \"rows\": 7084,\n  \"fields\": [\n    {\n      \"column\": \"restaurent\",\n      \"properties\": {\n        \"dtype\": \"string\",\n        \"num_unique_values\": 7084,\n        \"samples\": [\n          \"Jai Jinendra\",\n          \"Vinaya Coffee Moments\",\n          \"Berakah\"\n        ],\n        \"semantic_type\": \"\",\n        \"description\": \"\"\n      }\n    },\n    {\n      \"column\": \"online_order\",\n      \"properties\": {\n        \"dtype\": \"number\",\n        \"std\": 6,\n        \"min\": 1,\n        \"max\": 89,\n        \"num_unique_values\": 65,\n        \"samples\": [\n          38,\n          85,\n          2\n        ],\n        \"semantic_type\": \"\",\n        \"description\": \"\"\n      }\n    },\n    {\n      \"column\": \"book_table\",\n      \"properties\": {\n        \"dtype\": \"number\",\n        \"std\": 6,\n        \"min\": 1,\n        \"max\": 89,\n        \"num_unique_values\": 65,\n        \"samples\": [\n          38,\n          85,\n          2\n        ],\n        \"semantic_type\": \"\",\n        \"description\": \"\"\n      }\n    },\n    {\n      \"column\": \"rating\",\n      \"properties\": {\n        \"dtype\": \"number\",\n        \"std\": 6,\n        \"min\": 1,\n        \"max\": 89,\n        \"num_unique_values\": 65,\n        \"samples\": [\n          38,\n          85,\n          2\n        ],\n        \"semantic_type\": \"\",\n        \"description\": \"\"\n      }\n    },\n    {\n      \"column\": \"votes\",\n      \"properties\": {\n        \"dtype\": \"number\",\n        \"std\": 6,\n        \"min\": 1,\n        \"max\": 89,\n        \"num_unique_values\": 65,\n        \"samples\": [\n          38,\n          85,\n          2\n        ],\n        \"semantic_type\": \"\",\n        \"description\": \"\"\n      }\n    },\n    {\n      \"column\": \"location\",\n      \"properties\": {\n        \"dtype\": \"number\",\n        \"std\": 6,\n        \"min\": 1,\n        \"max\": 89,\n        \"num_unique_values\": 65,\n        \"samples\": [\n          38,\n          85,\n          2\n        ],\n        \"semantic_type\": \"\",\n        \"description\": \"\"\n      }\n    },\n    {\n      \"column\": \"rest_type\",\n      \"properties\": {\n        \"dtype\": \"number\",\n        \"std\": 6,\n        \"min\": 1,\n        \"max\": 89,\n        \"num_unique_values\": 65,\n        \"samples\": [\n          38,\n          85,\n          2\n        ],\n        \"semantic_type\": \"\",\n        \"description\": \"\"\n      }\n    },\n    {\n      \"column\": \"food_type\",\n      \"properties\": {\n        \"dtype\": \"number\",\n        \"std\": 6,\n        \"min\": 1,\n        \"max\": 89,\n        \"num_unique_values\": 65,\n        \"samples\": [\n          38,\n          85,\n          2\n        ],\n        \"semantic_type\": \"\",\n        \"description\": \"\"\n      }\n    },\n    {\n      \"column\": \"cost\",\n      \"properties\": {\n        \"dtype\": \"number\",\n        \"std\": 6,\n        \"min\": 1,\n        \"max\": 89,\n        \"num_unique_values\": 65,\n        \"samples\": [\n          38,\n          85,\n          2\n        ],\n        \"semantic_type\": \"\",\n        \"description\": \"\"\n      }\n    },\n    {\n      \"column\": \"reviews_list\",\n      \"properties\": {\n        \"dtype\": \"number\",\n        \"std\": 6,\n        \"min\": 1,\n        \"max\": 89,\n        \"num_unique_values\": 65,\n        \"samples\": [\n          38,\n          85,\n          2\n        ],\n        \"semantic_type\": \"\",\n        \"description\": \"\"\n      }\n    },\n    {\n      \"column\": \"type\",\n      \"properties\": {\n        \"dtype\": \"number\",\n        \"std\": 6,\n        \"min\": 1,\n        \"max\": 89,\n        \"num_unique_values\": 65,\n        \"samples\": [\n          38,\n          85,\n          2\n        ],\n        \"semantic_type\": \"\",\n        \"description\": \"\"\n      }\n    },\n    {\n      \"column\": \"city\",\n      \"properties\": {\n        \"dtype\": \"number\",\n        \"std\": 6,\n        \"min\": 1,\n        \"max\": 89,\n        \"num_unique_values\": 65,\n        \"samples\": [\n          38,\n          85,\n          2\n        ],\n        \"semantic_type\": \"\",\n        \"description\": \"\"\n      }\n    }\n  ]\n}"
            }
          },
          "metadata": {},
          "execution_count": 17
        }
      ]
    },
    {
      "cell_type": "code",
      "source": [
        "data['online_order'].unique()"
      ],
      "metadata": {
        "colab": {
          "base_uri": "https://localhost:8080/"
        },
        "id": "sz2lL-JJdLYT",
        "outputId": "6f677960-2467-40f4-b5db-21e756ac85f5"
      },
      "execution_count": null,
      "outputs": [
        {
          "output_type": "execute_result",
          "data": {
            "text/plain": [
              "array(['Yes', 'No'], dtype=object)"
            ]
          },
          "metadata": {},
          "execution_count": 18
        }
      ]
    },
    {
      "cell_type": "code",
      "source": [
        "data.book_table.unique()"
      ],
      "metadata": {
        "colab": {
          "base_uri": "https://localhost:8080/"
        },
        "id": "TxYiM0W2eRI9",
        "outputId": "a51fee81-854b-4796-fa22-ff9f2e0c97f5"
      },
      "execution_count": null,
      "outputs": [
        {
          "output_type": "execute_result",
          "data": {
            "text/plain": [
              "array(['Yes', 'No'], dtype=object)"
            ]
          },
          "metadata": {},
          "execution_count": 19
        }
      ]
    },
    {
      "cell_type": "code",
      "source": [
        "data.rating.unique()"
      ],
      "metadata": {
        "colab": {
          "base_uri": "https://localhost:8080/"
        },
        "id": "3PrNI_2aefoV",
        "outputId": "136d5d8b-2352-423f-bff9-1aab2992f7c0"
      },
      "execution_count": null,
      "outputs": [
        {
          "output_type": "execute_result",
          "data": {
            "text/plain": [
              "array(['4.1/5', '3.8/5', '3.7/5', '3.6/5', '4.6/5', '4.0/5', '4.2/5',\n",
              "       '3.9/5', '3.1/5', '3.0/5', '3.2/5', '3.3/5', '2.8/5', '4.4/5',\n",
              "       '4.3/5', 'NEW', '2.9/5', '3.5/5', '2.6/5', '3.8 /5', '3.4/5',\n",
              "       '4.5/5', '2.5/5', '2.7/5', '4.7/5', '2.4/5', '2.2/5', '2.3/5',\n",
              "       '3.4 /5', '-', '3.6 /5', '4.8/5', '3.9 /5', '4.2 /5', '4.0 /5',\n",
              "       '4.1 /5', '3.7 /5', '3.1 /5', '2.9 /5', '3.3 /5', '2.8 /5',\n",
              "       '3.5 /5', '2.7 /5', '2.5 /5', '3.2 /5', '2.6 /5', '4.5 /5',\n",
              "       '4.3 /5', '4.4 /5', '4.9/5', '2.1/5', '2.0/5', '1.8/5', '4.6 /5',\n",
              "       '4.9 /5', '3.0 /5', '4.8 /5', '2.3 /5', '4.7 /5', '2.4 /5',\n",
              "       '2.1 /5', '2.2 /5', '2.0 /5', '1.8 /5'], dtype=object)"
            ]
          },
          "metadata": {},
          "execution_count": 20
        }
      ]
    },
    {
      "cell_type": "code",
      "source": [
        "replace=lambda x : x.replace('/5',\"\")\n",
        "l=[]\n",
        "for val in map(replace,data['rating']):\n",
        "  if val!='NEW' and val!='-':\n",
        "    var=float(val)\n",
        "  l.append(var)\n",
        "data['rating']=l"
      ],
      "metadata": {
        "id": "6E8RtcYMeisN"
      },
      "execution_count": null,
      "outputs": []
    },
    {
      "cell_type": "code",
      "source": [
        "data.rating.unique()"
      ],
      "metadata": {
        "colab": {
          "base_uri": "https://localhost:8080/"
        },
        "id": "S2yUAG5MgJ-G",
        "outputId": "196b857f-6fd0-4199-82c8-0f2a2c2874f2"
      },
      "execution_count": null,
      "outputs": [
        {
          "output_type": "execute_result",
          "data": {
            "text/plain": [
              "array([4.1, 3.8, 3.7, 3.6, 4.6, 4. , 4.2, 3.9, 3.1, 3. , 3.2, 3.3, 2.8,\n",
              "       4.4, 4.3, 2.9, 3.5, 2.6, 3.4, 4.5, 2.5, 2.7, 4.7, 2.4, 2.2, 2.3,\n",
              "       4.8, 4.9, 2.1, 2. , 1.8])"
            ]
          },
          "metadata": {},
          "execution_count": 22
        }
      ]
    },
    {
      "cell_type": "code",
      "source": [
        "data['votes'].isnull().value_counts()"
      ],
      "metadata": {
        "colab": {
          "base_uri": "https://localhost:8080/",
          "height": 147
        },
        "id": "Jwci-d9LgMmM",
        "outputId": "74cf066c-0e7e-45ba-939f-8b55a31b074e"
      },
      "execution_count": null,
      "outputs": [
        {
          "output_type": "execute_result",
          "data": {
            "text/plain": [
              "votes\n",
              "False    43533\n",
              "Name: count, dtype: int64"
            ],
            "text/html": [
              "<div>\n",
              "<style scoped>\n",
              "    .dataframe tbody tr th:only-of-type {\n",
              "        vertical-align: middle;\n",
              "    }\n",
              "\n",
              "    .dataframe tbody tr th {\n",
              "        vertical-align: top;\n",
              "    }\n",
              "\n",
              "    .dataframe thead th {\n",
              "        text-align: right;\n",
              "    }\n",
              "</style>\n",
              "<table border=\"1\" class=\"dataframe\">\n",
              "  <thead>\n",
              "    <tr style=\"text-align: right;\">\n",
              "      <th></th>\n",
              "      <th>count</th>\n",
              "    </tr>\n",
              "    <tr>\n",
              "      <th>votes</th>\n",
              "      <th></th>\n",
              "    </tr>\n",
              "  </thead>\n",
              "  <tbody>\n",
              "    <tr>\n",
              "      <th>False</th>\n",
              "      <td>43533</td>\n",
              "    </tr>\n",
              "  </tbody>\n",
              "</table>\n",
              "</div><br><label><b>dtype:</b> int64</label>"
            ]
          },
          "metadata": {},
          "execution_count": 23
        }
      ]
    },
    {
      "cell_type": "code",
      "source": [
        "data['location'].unique()"
      ],
      "metadata": {
        "colab": {
          "base_uri": "https://localhost:8080/"
        },
        "id": "3TbCAJRDhhp8",
        "outputId": "97903673-fe9c-4bed-91df-aedb54e88293"
      },
      "execution_count": null,
      "outputs": [
        {
          "output_type": "execute_result",
          "data": {
            "text/plain": [
              "array(['Banashankari', 'Basavanagudi', 'Mysore Road', 'Jayanagar',\n",
              "       'Kumaraswamy Layout', 'Rajarajeshwari Nagar', 'Vijay Nagar',\n",
              "       'Uttarahalli', 'JP Nagar', 'South Bangalore', 'City Market',\n",
              "       'Bannerghatta Road', 'BTM', 'Kanakapura Road', 'Bommanahalli',\n",
              "       'CV Raman Nagar', 'Electronic City', 'Wilson Garden',\n",
              "       'Shanti Nagar', 'Koramangala 5th Block', 'Richmond Road', 'HSR',\n",
              "       'Marathahalli', 'Koramangala 7th Block', 'Bellandur',\n",
              "       'Sarjapur Road', 'Whitefield', 'East Bangalore',\n",
              "       'Old Airport Road', 'Indiranagar', 'Koramangala 1st Block',\n",
              "       'Frazer Town', 'MG Road', 'Brigade Road', 'Lavelle Road',\n",
              "       'Church Street', 'Ulsoor', 'Residency Road', 'Shivajinagar',\n",
              "       'Infantry Road', 'St. Marks Road', 'Cunningham Road',\n",
              "       'Race Course Road', 'Commercial Street', 'Vasanth Nagar', 'Domlur',\n",
              "       'Koramangala 8th Block', 'Ejipura', 'Jeevan Bhima Nagar',\n",
              "       'Old Madras Road', 'Seshadripuram', 'Kammanahalli',\n",
              "       'Koramangala 6th Block', 'Majestic', 'Langford Town',\n",
              "       'Central Bangalore', 'Sanjay Nagar', 'Brookefield',\n",
              "       'ITPL Main Road, Whitefield', 'Varthur Main Road, Whitefield',\n",
              "       'Koramangala 2nd Block', 'Koramangala 3rd Block',\n",
              "       'Koramangala 4th Block', 'Koramangala', 'Hosur Road',\n",
              "       'Rajajinagar', 'RT Nagar', 'Banaswadi', 'North Bangalore',\n",
              "       'Nagawara', 'Hennur', 'Kalyan Nagar', 'HBR Layout',\n",
              "       'Rammurthy Nagar', 'Thippasandra', 'Kaggadasapura', 'Hebbal',\n",
              "       'Kengeri', 'New BEL Road', 'Sankey Road', 'Malleshwaram',\n",
              "       'Sadashiv Nagar', 'Basaveshwara Nagar', 'Yeshwantpur',\n",
              "       'West Bangalore', 'Magadi Road', 'Yelahanka', 'Sahakara Nagar',\n",
              "       'Jalahalli', 'Nagarbhavi', 'Peenya', 'KR Puram'], dtype=object)"
            ]
          },
          "metadata": {},
          "execution_count": 24
        }
      ]
    },
    {
      "cell_type": "code",
      "source": [
        "data['rest_type'].unique()"
      ],
      "metadata": {
        "colab": {
          "base_uri": "https://localhost:8080/"
        },
        "id": "GpU49MJshrd9",
        "outputId": "21c739bf-5388-43ee-b244-aaa615055213"
      },
      "execution_count": null,
      "outputs": [
        {
          "output_type": "execute_result",
          "data": {
            "text/plain": [
              "array(['Casual Dining', 'Cafe, Casual Dining', 'Quick Bites',\n",
              "       'Casual Dining, Cafe', 'Cafe', 'Quick Bites, Cafe',\n",
              "       'Cafe, Quick Bites', 'Delivery', 'Mess', 'Dessert Parlor',\n",
              "       'Bakery, Dessert Parlor', 'Pub', 'Bakery', 'Takeaway, Delivery',\n",
              "       'Fine Dining', 'Beverage Shop', 'Sweet Shop', 'Bar',\n",
              "       'Dessert Parlor, Sweet Shop', 'Bakery, Quick Bites',\n",
              "       'Sweet Shop, Quick Bites', 'Kiosk', 'Food Truck',\n",
              "       'Quick Bites, Dessert Parlor', 'Beverage Shop, Quick Bites',\n",
              "       'Beverage Shop, Dessert Parlor', 'Takeaway', 'Pub, Casual Dining',\n",
              "       'Casual Dining, Bar', 'Dessert Parlor, Beverage Shop',\n",
              "       'Quick Bites, Bakery', 'Microbrewery, Casual Dining', 'Lounge',\n",
              "       'Bar, Casual Dining', 'Food Court', 'Cafe, Bakery', 'Dhaba',\n",
              "       'Quick Bites, Sweet Shop', 'Microbrewery',\n",
              "       'Food Court, Quick Bites', 'Quick Bites, Beverage Shop',\n",
              "       'Pub, Bar', 'Casual Dining, Pub', 'Lounge, Bar',\n",
              "       'Dessert Parlor, Quick Bites', 'Food Court, Dessert Parlor',\n",
              "       'Casual Dining, Sweet Shop', 'Food Court, Casual Dining',\n",
              "       'Casual Dining, Microbrewery', 'Lounge, Casual Dining',\n",
              "       'Cafe, Food Court', 'Beverage Shop, Cafe', 'Cafe, Dessert Parlor',\n",
              "       'Dessert Parlor, Cafe', 'Dessert Parlor, Bakery',\n",
              "       'Microbrewery, Pub', 'Bakery, Food Court', 'Club',\n",
              "       'Quick Bites, Food Court', 'Bakery, Cafe', 'Pub, Cafe',\n",
              "       'Casual Dining, Irani Cafee', 'Fine Dining, Lounge',\n",
              "       'Bar, Quick Bites', 'Confectionery', 'Pub, Microbrewery',\n",
              "       'Microbrewery, Lounge', 'Fine Dining, Microbrewery',\n",
              "       'Fine Dining, Bar', 'Dessert Parlor, Kiosk', 'Bhojanalya',\n",
              "       'Casual Dining, Quick Bites', 'Cafe, Bar', 'Casual Dining, Lounge',\n",
              "       'Bakery, Beverage Shop', 'Microbrewery, Bar', 'Cafe, Lounge',\n",
              "       'Bar, Pub', 'Lounge, Cafe', 'Club, Casual Dining',\n",
              "       'Quick Bites, Mess', 'Quick Bites, Meat Shop',\n",
              "       'Quick Bites, Kiosk', 'Lounge, Microbrewery',\n",
              "       'Food Court, Beverage Shop', 'Dessert Parlor, Food Court',\n",
              "       'Bar, Lounge'], dtype=object)"
            ]
          },
          "metadata": {},
          "execution_count": 25
        }
      ]
    },
    {
      "cell_type": "code",
      "source": [
        "data['food_type'].unique()"
      ],
      "metadata": {
        "colab": {
          "base_uri": "https://localhost:8080/"
        },
        "id": "GPr6DHY2h4hZ",
        "outputId": "ce37f823-f73f-407b-a37e-40d7fff6bc76"
      },
      "execution_count": null,
      "outputs": [
        {
          "output_type": "execute_result",
          "data": {
            "text/plain": [
              "array(['North Indian, Mughlai, Chinese', 'Chinese, North Indian, Thai',\n",
              "       'Cafe, Mexican, Italian', ..., 'Tibetan, Nepalese',\n",
              "       'North Indian, Street Food, Biryani',\n",
              "       'North Indian, Chinese, Arabian, Momos'], dtype=object)"
            ]
          },
          "metadata": {},
          "execution_count": 26
        }
      ]
    },
    {
      "cell_type": "code",
      "source": [
        "data['cost'].unique()"
      ],
      "metadata": {
        "colab": {
          "base_uri": "https://localhost:8080/"
        },
        "id": "siM4UylTh8W1",
        "outputId": "271ff4a0-6b6c-420a-8b7a-98bced6e9149"
      },
      "execution_count": null,
      "outputs": [
        {
          "output_type": "execute_result",
          "data": {
            "text/plain": [
              "array(['800', '300', '600', '700', '550', '500', '450', '650', '400',\n",
              "       '900', '200', '750', '150', '850', '100', '1,200', '350', '250',\n",
              "       '950', '1,000', '1,500', '1,300', '199', '80', '1,100', '160',\n",
              "       '1,600', '230', '130', '1,700', '1,400', '1,350', '2,200', '2,000',\n",
              "       '1,800', '1,900', '180', '330', '2,500', '2,100', '3,000', '2,800',\n",
              "       '3,400', '50', '40', '1,250', '3,500', '4,000', '2,400', '2,600',\n",
              "       '1,450', '70', '3,200', '560', '240', '360', '6,000', '1,050',\n",
              "       '2,300', '4,100', '120', '5,000', '3,700', '1,650', '2,700',\n",
              "       '4,500'], dtype=object)"
            ]
          },
          "metadata": {},
          "execution_count": 27
        }
      ]
    },
    {
      "cell_type": "code",
      "source": [
        "data['cost']=data['cost'].apply(lambda x:x.replace(',','')).astype(int)"
      ],
      "metadata": {
        "id": "Rb47Pc9Ch_Kg"
      },
      "execution_count": null,
      "outputs": []
    },
    {
      "cell_type": "code",
      "source": [
        "data['cost'].unique()"
      ],
      "metadata": {
        "colab": {
          "base_uri": "https://localhost:8080/"
        },
        "id": "ZmuT4DWUiRu4",
        "outputId": "47539bab-9d91-4cf6-bc20-ea4616a11d04"
      },
      "execution_count": null,
      "outputs": [
        {
          "output_type": "execute_result",
          "data": {
            "text/plain": [
              "array([ 800,  300,  600,  700,  550,  500,  450,  650,  400,  900,  200,\n",
              "        750,  150,  850,  100, 1200,  350,  250,  950, 1000, 1500, 1300,\n",
              "        199,   80, 1100,  160, 1600,  230,  130, 1700, 1400, 1350, 2200,\n",
              "       2000, 1800, 1900,  180,  330, 2500, 2100, 3000, 2800, 3400,   50,\n",
              "         40, 1250, 3500, 4000, 2400, 2600, 1450,   70, 3200,  560,  240,\n",
              "        360, 6000, 1050, 2300, 4100,  120, 5000, 3700, 1650, 2700, 4500])"
            ]
          },
          "metadata": {},
          "execution_count": 29
        }
      ]
    },
    {
      "cell_type": "code",
      "source": [
        "data.columns"
      ],
      "metadata": {
        "id": "TE3xKqTmicD3",
        "colab": {
          "base_uri": "https://localhost:8080/"
        },
        "outputId": "38713de4-3084-4ea4-f985-1a72e50d900b"
      },
      "execution_count": null,
      "outputs": [
        {
          "output_type": "execute_result",
          "data": {
            "text/plain": [
              "Index(['restaurent', 'online_order', 'book_table', 'rating', 'votes',\n",
              "       'location', 'rest_type', 'food_type', 'cost', 'reviews_list', 'type',\n",
              "       'city'],\n",
              "      dtype='object')"
            ]
          },
          "metadata": {},
          "execution_count": 30
        }
      ]
    },
    {
      "cell_type": "code",
      "source": [
        "data['type'].unique()"
      ],
      "metadata": {
        "colab": {
          "base_uri": "https://localhost:8080/"
        },
        "id": "iaIlrlBcVqiE",
        "outputId": "b51c89e1-ca99-4d4a-9a24-118c3d65799c"
      },
      "execution_count": null,
      "outputs": [
        {
          "output_type": "execute_result",
          "data": {
            "text/plain": [
              "array(['Buffet', 'Cafes', 'Delivery', 'Desserts', 'Dine-out',\n",
              "       'Drinks & nightlife', 'Pubs and bars'], dtype=object)"
            ]
          },
          "metadata": {},
          "execution_count": 31
        }
      ]
    },
    {
      "cell_type": "code",
      "source": [
        "data['city'].unique()"
      ],
      "metadata": {
        "colab": {
          "base_uri": "https://localhost:8080/"
        },
        "id": "DDifI9QkV9mW",
        "outputId": "8700754a-b25d-4665-c955-d1d2b158a15a"
      },
      "execution_count": null,
      "outputs": [
        {
          "output_type": "execute_result",
          "data": {
            "text/plain": [
              "array(['Banashankari', 'Bannerghatta Road', 'Basavanagudi', 'Bellandur',\n",
              "       'Brigade Road', 'Brookefield', 'BTM', 'Church Street',\n",
              "       'Electronic City', 'Frazer Town', 'HSR', 'Indiranagar',\n",
              "       'Jayanagar', 'JP Nagar', 'Kalyan Nagar', 'Kammanahalli',\n",
              "       'Koramangala 4th Block', 'Koramangala 5th Block',\n",
              "       'Koramangala 6th Block', 'Koramangala 7th Block', 'Lavelle Road',\n",
              "       'Malleshwaram', 'Marathahalli', 'MG Road', 'New BEL Road',\n",
              "       'Old Airport Road', 'Rajajinagar', 'Residency Road',\n",
              "       'Sarjapur Road', 'Whitefield'], dtype=object)"
            ]
          },
          "metadata": {},
          "execution_count": 32
        }
      ]
    },
    {
      "cell_type": "code",
      "source": [
        "data.duplicated().value_counts()"
      ],
      "metadata": {
        "colab": {
          "base_uri": "https://localhost:8080/",
          "height": 147
        },
        "id": "8cuGWcJsWABp",
        "outputId": "6fd6adc0-b70e-44bd-a0b9-81574dd53121"
      },
      "execution_count": null,
      "outputs": [
        {
          "output_type": "execute_result",
          "data": {
            "text/plain": [
              "False    43484\n",
              "True        49\n",
              "Name: count, dtype: int64"
            ],
            "text/html": [
              "<div>\n",
              "<style scoped>\n",
              "    .dataframe tbody tr th:only-of-type {\n",
              "        vertical-align: middle;\n",
              "    }\n",
              "\n",
              "    .dataframe tbody tr th {\n",
              "        vertical-align: top;\n",
              "    }\n",
              "\n",
              "    .dataframe thead th {\n",
              "        text-align: right;\n",
              "    }\n",
              "</style>\n",
              "<table border=\"1\" class=\"dataframe\">\n",
              "  <thead>\n",
              "    <tr style=\"text-align: right;\">\n",
              "      <th></th>\n",
              "      <th>count</th>\n",
              "    </tr>\n",
              "  </thead>\n",
              "  <tbody>\n",
              "    <tr>\n",
              "      <th>False</th>\n",
              "      <td>43484</td>\n",
              "    </tr>\n",
              "    <tr>\n",
              "      <th>True</th>\n",
              "      <td>49</td>\n",
              "    </tr>\n",
              "  </tbody>\n",
              "</table>\n",
              "</div><br><label><b>dtype:</b> int64</label>"
            ]
          },
          "metadata": {},
          "execution_count": 33
        }
      ]
    },
    {
      "cell_type": "code",
      "source": [
        "data.drop_duplicates(keep=\"last\",inplace=True)\n",
        "data.reset_index(drop=True,inplace=True)"
      ],
      "metadata": {
        "id": "rjXLFzpEWD5T"
      },
      "execution_count": null,
      "outputs": []
    },
    {
      "cell_type": "code",
      "source": [
        "data.duplicated().value_counts()"
      ],
      "metadata": {
        "colab": {
          "base_uri": "https://localhost:8080/",
          "height": 115
        },
        "id": "i5BFCHasWJoz",
        "outputId": "21ace620-da65-4605-d5e0-37c6b064c76e"
      },
      "execution_count": null,
      "outputs": [
        {
          "output_type": "execute_result",
          "data": {
            "text/plain": [
              "False    43484\n",
              "Name: count, dtype: int64"
            ],
            "text/html": [
              "<div>\n",
              "<style scoped>\n",
              "    .dataframe tbody tr th:only-of-type {\n",
              "        vertical-align: middle;\n",
              "    }\n",
              "\n",
              "    .dataframe tbody tr th {\n",
              "        vertical-align: top;\n",
              "    }\n",
              "\n",
              "    .dataframe thead th {\n",
              "        text-align: right;\n",
              "    }\n",
              "</style>\n",
              "<table border=\"1\" class=\"dataframe\">\n",
              "  <thead>\n",
              "    <tr style=\"text-align: right;\">\n",
              "      <th></th>\n",
              "      <th>count</th>\n",
              "    </tr>\n",
              "  </thead>\n",
              "  <tbody>\n",
              "    <tr>\n",
              "      <th>False</th>\n",
              "      <td>43484</td>\n",
              "    </tr>\n",
              "  </tbody>\n",
              "</table>\n",
              "</div><br><label><b>dtype:</b> int64</label>"
            ]
          },
          "metadata": {},
          "execution_count": 35
        }
      ]
    },
    {
      "cell_type": "code",
      "source": [
        "data.info()"
      ],
      "metadata": {
        "colab": {
          "base_uri": "https://localhost:8080/"
        },
        "id": "bkt0cfPkWZdX",
        "outputId": "51a190c7-b9d1-4963-99cd-7a31b46d70ff"
      },
      "execution_count": null,
      "outputs": [
        {
          "output_type": "stream",
          "name": "stdout",
          "text": [
            "<class 'pandas.core.frame.DataFrame'>\n",
            "RangeIndex: 43484 entries, 0 to 43483\n",
            "Data columns (total 12 columns):\n",
            " #   Column        Non-Null Count  Dtype  \n",
            "---  ------        --------------  -----  \n",
            " 0   restaurent    43484 non-null  object \n",
            " 1   online_order  43484 non-null  object \n",
            " 2   book_table    43484 non-null  object \n",
            " 3   rating        43484 non-null  float64\n",
            " 4   votes         43484 non-null  int64  \n",
            " 5   location      43484 non-null  object \n",
            " 6   rest_type     43484 non-null  object \n",
            " 7   food_type     43484 non-null  object \n",
            " 8   cost          43484 non-null  int64  \n",
            " 9   reviews_list  43484 non-null  object \n",
            " 10  type          43484 non-null  object \n",
            " 11  city          43484 non-null  object \n",
            "dtypes: float64(1), int64(2), object(9)\n",
            "memory usage: 4.0+ MB\n"
          ]
        }
      ]
    },
    {
      "cell_type": "markdown",
      "source": [
        "# Data Visulaisation"
      ],
      "metadata": {
        "id": "Psnr63lA8Zgo"
      }
    },
    {
      "cell_type": "code",
      "source": [
        "import seaborn as sns\n",
        "import matplotlib.pyplot as plt"
      ],
      "metadata": {
        "id": "IMAJ0cjBWdCo"
      },
      "execution_count": null,
      "outputs": []
    },
    {
      "cell_type": "code",
      "source": [
        "data.shape"
      ],
      "metadata": {
        "id": "KJue_pvwXnWg",
        "colab": {
          "base_uri": "https://localhost:8080/"
        },
        "outputId": "562950ce-ddda-4345-c224-6e06814c8ada"
      },
      "execution_count": null,
      "outputs": [
        {
          "output_type": "execute_result",
          "data": {
            "text/plain": [
              "(43484, 12)"
            ]
          },
          "metadata": {},
          "execution_count": 39
        }
      ]
    },
    {
      "cell_type": "markdown",
      "source": [
        "**1.How many restaurants accepting online orders for zomato?**"
      ],
      "metadata": {
        "id": "qNXwkxc0-zrd"
      }
    },
    {
      "cell_type": "code",
      "source": [
        "data.online_order.value_counts()"
      ],
      "metadata": {
        "colab": {
          "base_uri": "https://localhost:8080/",
          "height": 178
        },
        "id": "uIkKObIk-Sgb",
        "outputId": "faad3612-28f2-4dfe-e3de-b6fe175d27da"
      },
      "execution_count": null,
      "outputs": [
        {
          "output_type": "execute_result",
          "data": {
            "text/plain": [
              "online_order\n",
              "Yes    28163\n",
              "No     15321\n",
              "Name: count, dtype: int64"
            ],
            "text/html": [
              "<div>\n",
              "<style scoped>\n",
              "    .dataframe tbody tr th:only-of-type {\n",
              "        vertical-align: middle;\n",
              "    }\n",
              "\n",
              "    .dataframe tbody tr th {\n",
              "        vertical-align: top;\n",
              "    }\n",
              "\n",
              "    .dataframe thead th {\n",
              "        text-align: right;\n",
              "    }\n",
              "</style>\n",
              "<table border=\"1\" class=\"dataframe\">\n",
              "  <thead>\n",
              "    <tr style=\"text-align: right;\">\n",
              "      <th></th>\n",
              "      <th>count</th>\n",
              "    </tr>\n",
              "    <tr>\n",
              "      <th>online_order</th>\n",
              "      <th></th>\n",
              "    </tr>\n",
              "  </thead>\n",
              "  <tbody>\n",
              "    <tr>\n",
              "      <th>Yes</th>\n",
              "      <td>28163</td>\n",
              "    </tr>\n",
              "    <tr>\n",
              "      <th>No</th>\n",
              "      <td>15321</td>\n",
              "    </tr>\n",
              "  </tbody>\n",
              "</table>\n",
              "</div><br><label><b>dtype:</b> int64</label>"
            ]
          },
          "metadata": {},
          "execution_count": 43
        }
      ]
    },
    {
      "cell_type": "code",
      "source": [
        "data.online_order.value_counts().plot(kind=\"bar\")"
      ],
      "metadata": {
        "colab": {
          "base_uri": "https://localhost:8080/",
          "height": 476
        },
        "id": "wHEyxxqO8unI",
        "outputId": "d90e3ff2-5948-4b91-c120-c7f71433d516"
      },
      "execution_count": null,
      "outputs": [
        {
          "output_type": "execute_result",
          "data": {
            "text/plain": [
              "<Axes: xlabel='online_order'>"
            ]
          },
          "metadata": {},
          "execution_count": 40
        },
        {
          "output_type": "display_data",
          "data": {
            "text/plain": [
              "<Figure size 640x480 with 1 Axes>"
            ],
            "image/png": "[encoded data removed]"
          },
          "metadata": {}
        }
      ]
    },
    {
      "cell_type": "code",
      "source": [
        "plt.figure(figsize=(10,5))\n",
        "sns.countplot(x=\"online_order\",data=data)\n",
        "plt.show()"
      ],
      "metadata": {
        "colab": {
          "base_uri": "https://localhost:8080/",
          "height": 465
        },
        "id": "pYwXxQuI9EX4",
        "outputId": "f0c7f7cc-688d-4712-8fd7-07787dff5a0d"
      },
      "execution_count": null,
      "outputs": [
        {
          "output_type": "display_data",
          "data": {
            "text/plain": [
              "<Figure size 1000x500 with 1 Axes>"
            ],
            "image/png": "[encoded data removed]"
          },
          "metadata": {}
        }
      ]
    },
    {
      "cell_type": "markdown",
      "source": [
        "Given the dataset,there are 28163 restaurents which accepting online orders and remaining 15321 restaurents are not accepting online orders"
      ],
      "metadata": {
        "id": "RaJVNevu90sN"
      }
    },
    {
      "cell_type": "markdown",
      "source": [
        "**2.Find the best location by seeing the datase?**\n",
        "\n",
        "\n"
      ],
      "metadata": {
        "id": "6L_PUvZW-eHH"
      }
    },
    {
      "cell_type": "code",
      "source": [
        "plt.figure(figsize=(12,10))\n",
        "ax=plt.subplot(2,1,1)\n",
        "\n",
        "#sort location on avg of rating in descending order and reading first 5 values\n",
        "loc_rating=data.groupby('location').agg({'rating':'median'})\n",
        "rating_sorted_location=loc_rating.sort_values('rating',ascending=False).head(5).reset_index()\n",
        "sns.barplot(x=\"location\",y=\"rating\",data=rating_sorted_location)\n",
        "\n",
        "ax=plt.subplot(2,1,2)\n",
        "#sort location on avg of votes in descending order and reading first 5 values\n",
        "loc_votes=data.groupby('location').agg({'votes':'median'})\n",
        "votes_sorted_location=loc_votes.sort_values('votes',ascending=False).head(5).reset_index()\n",
        "sns.barplot(x=\"location\",y=\"votes\",data=votes_sorted_location)\n",
        "\n",
        "plt.show()"
      ],
      "metadata": {
        "colab": {
          "base_uri": "https://localhost:8080/",
          "height": 850
        },
        "id": "3Hep12pW9apx",
        "outputId": "d05ff495-f89c-41ad-b90f-75c4c05d8015"
      },
      "execution_count": null,
      "outputs": [
        {
          "output_type": "display_data",
          "data": {
            "text/plain": [
              "<Figure size 1200x1000 with 2 Axes>"
            ],
            "image/png": "[encoded data removed]"
          },
          "metadata": {}
        }
      ]
    },
    {
      "cell_type": "markdown",
      "source": [
        "**3.Find types of restaurents and their count**"
      ],
      "metadata": {
        "id": "Zgc73ZglA7Da"
      }
    },
    {
      "cell_type": "code",
      "source": [
        "plt.figure(figsize=(10,20))\n",
        "rest_types=data.groupby('rest_type')['restaurent'].count().reset_index()\n",
        "sorted_rest_types=rest_types.sort_values('restaurent',ascending=False).head(20)\n",
        "rest_types.rest_type.count(),sns.barplot(x=\"restaurent\",y=\"rest_type\",data=sorted_rest_types,orient='h')"
      ],
      "metadata": {
        "colab": {
          "base_uri": "https://localhost:8080/",
          "height": 1000
        },
        "id": "48iO0eit_9_R",
        "outputId": "4cc925ea-9295-49e9-ee46-288a4d3f1418"
      },
      "execution_count": null,
      "outputs": [
        {
          "output_type": "execute_result",
          "data": {
            "text/plain": [
              "(np.int64(87), <Axes: xlabel='restaurent', ylabel='rest_type'>)"
            ]
          },
          "metadata": {},
          "execution_count": 56
        },
        {
          "output_type": "display_data",
          "data": {
            "text/plain": [
              "<Figure size 1000x2000 with 1 Axes>"
            ],
            "image/png": "[encoded data removed]"
          },
          "metadata": {}
        }
      ]
    },
    {
      "cell_type": "markdown",
      "source": [
        "**4.Find Costs of Restaurents.**"
      ],
      "metadata": {
        "id": "G0jT4-sLGxjm"
      }
    },
    {
      "cell_type": "code",
      "source": [
        "plt.figure(figsize=(10,5))\n",
        "sns.kdeplot(x=\"cost\",data=data)\n",
        "plt.show()"
      ],
      "metadata": {
        "id": "jePbw4vbBqnd",
        "colab": {
          "base_uri": "https://localhost:8080/",
          "height": 465
        },
        "outputId": "217bcb79-d798-46da-9d79-e2ae005bdbe3"
      },
      "execution_count": null,
      "outputs": [
        {
          "output_type": "display_data",
          "data": {
            "text/plain": [
              "<Figure size 1000x500 with 1 Axes>"
            ],
            "image/png": "[encoded data removed]"
          },
          "metadata": {}
        }
      ]
    },
    {
      "cell_type": "markdown",
      "source": [
        "**5.Find the count of restaurents having table booking facility**"
      ],
      "metadata": {
        "id": "jmT0dk11Hp5B"
      }
    },
    {
      "cell_type": "code",
      "source": [
        "data['book_table'].value_counts()"
      ],
      "metadata": {
        "colab": {
          "base_uri": "https://localhost:8080/",
          "height": 178
        },
        "id": "sU81wX-BIODi",
        "outputId": "d5382c8c-bcb4-46a0-fb3f-1091cf1b7cd9"
      },
      "execution_count": null,
      "outputs": [
        {
          "output_type": "execute_result",
          "data": {
            "text/plain": [
              "book_table\n",
              "No     37062\n",
              "Yes     6422\n",
              "Name: count, dtype: int64"
            ],
            "text/html": [
              "<div>\n",
              "<style scoped>\n",
              "    .dataframe tbody tr th:only-of-type {\n",
              "        vertical-align: middle;\n",
              "    }\n",
              "\n",
              "    .dataframe tbody tr th {\n",
              "        vertical-align: top;\n",
              "    }\n",
              "\n",
              "    .dataframe thead th {\n",
              "        text-align: right;\n",
              "    }\n",
              "</style>\n",
              "<table border=\"1\" class=\"dataframe\">\n",
              "  <thead>\n",
              "    <tr style=\"text-align: right;\">\n",
              "      <th></th>\n",
              "      <th>count</th>\n",
              "    </tr>\n",
              "    <tr>\n",
              "      <th>book_table</th>\n",
              "      <th></th>\n",
              "    </tr>\n",
              "  </thead>\n",
              "  <tbody>\n",
              "    <tr>\n",
              "      <th>No</th>\n",
              "      <td>37062</td>\n",
              "    </tr>\n",
              "    <tr>\n",
              "      <th>Yes</th>\n",
              "      <td>6422</td>\n",
              "    </tr>\n",
              "  </tbody>\n",
              "</table>\n",
              "</div><br><label><b>dtype:</b> int64</label>"
            ]
          },
          "metadata": {},
          "execution_count": 58
        }
      ]
    },
    {
      "cell_type": "code",
      "source": [
        "plt.figure(figsize=(10,5))\n",
        "table_booking=data.groupby('book_table')['restaurent'].count().reset_index()\n",
        "sns.pointplot(x=\"book_table\",y=\"restaurent\",data=table_booking,color=\"b\")"
      ],
      "metadata": {
        "colab": {
          "base_uri": "https://localhost:8080/",
          "height": 483
        },
        "id": "VEftLBjlHpEZ",
        "outputId": "fbdb51e0-f3d4-470b-c7d5-f4e3dd4073cc"
      },
      "execution_count": null,
      "outputs": [
        {
          "output_type": "execute_result",
          "data": {
            "text/plain": [
              "<Axes: xlabel='book_table', ylabel='restaurent'>"
            ]
          },
          "metadata": {},
          "execution_count": 68
        },
        {
          "output_type": "display_data",
          "data": {
            "text/plain": [
              "<Figure size 1000x500 with 1 Axes>"
            ],
            "image/png": "[encoded data removed]"
          },
          "metadata": {}
        }
      ]
    },
    {
      "cell_type": "markdown",
      "source": [
        "**6.Find the number of restaurents at given location**\n",
        "\n",
        "\n",
        "\n",
        "*   BTM\n",
        "\n",
        "*   Basavangudi\n",
        "*   West Bangalore\n",
        "\n",
        "\n",
        "*   Whitefield\n",
        "* Yeshwantpur\n",
        "\n",
        "\n",
        "\n"
      ],
      "metadata": {
        "id": "UTCaW1K_JGD5"
      }
    },
    {
      "cell_type": "code",
      "source": [
        "df=pd.DataFrame(data.groupby('location')['restaurent'].count()).reset_index()\n",
        "criteria=df['location'].isin(['BTM','Basavanagudi','West Bangalore','Whitefield','Yeshwantpur'])\n",
        "sns.barplot(x=\"location\",y=\"restaurent\",data=df[criteria])\n",
        "plt.show()"
      ],
      "metadata": {
        "colab": {
          "base_uri": "https://localhost:8080/",
          "height": 449
        },
        "id": "Eqk9Vn9SHcrz",
        "outputId": "e787286d-7239-4eb5-e46a-51f9d5ca625a"
      },
      "execution_count": null,
      "outputs": [
        {
          "output_type": "display_data",
          "data": {
            "text/plain": [
              "<Figure size 640x480 with 1 Axes>"
            ],
            "image/png": "[encoded data removed]"
          },
          "metadata": {}
        }
      ]
    },
    {
      "cell_type": "code",
      "source": [],
      "metadata": {
        "id": "432VR6KvKNc0"
      },
      "execution_count": null,
      "outputs": []
    }
  ]
}